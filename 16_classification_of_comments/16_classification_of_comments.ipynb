{
 "cells": [
  {
   "cell_type": "markdown",
   "metadata": {},
   "source": [
    "# Проект для «Викишоп»"
   ]
  },
  {
   "cell_type": "markdown",
   "metadata": {},
   "source": [
    "Текущее исследование производится в интересах интернет-магазина «Викишоп», который запускает новый сервис.  \n",
    "Предполагается внедрение возможности редактирования и дополнения описания товаров. \n",
    "\n",
    "**Цель исследования:** построить модель, которая с достаточной точностью определяла бы, является ли пользовательское описание товаров токсичным, чтоб отправить его на модерацию.\n",
    "\n",
    "Предоставлен набор данных с разметкой о токсичности правок в файле `toxic_comments.csv`.\n",
    "\n",
    "**Ограничения исследования:**\n",
    "1. Значение метрики F1 должно быть не меньше 0.75\n",
    "\n",
    "**Ход исследования:**  \n",
    "Наше исследование будет проходить в шесть этапов:  \n",
    "1. Загрузка, обзор и предобработка данных\n",
    "2. Очистка, лемматизация и векторизация данных\n",
    "3. Обучение моделей и подбор гиперпараметров\n",
    "4. Тестирование выбранной модели\n",
    "5. Подготовка общего вывода\n",
    "\n",
    "\n",
    "**Описание данных**  \n",
    "* **Признаки**  \n",
    "    - **text** — текст комментария\n",
    "* **Целевой признак**  \n",
    "    - **toxic** — признак токсичности\n",
    "    \n",
    "    \n",
    "_______________________\n",
    "\n",
    "Для начала импортируем библиотеки и зафиксируем глобальные константы:"
   ]
  },
  {
   "cell_type": "code",
   "execution_count": 1,
   "metadata": {},
   "outputs": [],
   "source": [
    "import pandas as pd\n",
    "import numpy as np\n",
    "import warnings  \n",
    "import time  \n",
    "import re  # регулярки\n",
    "\n",
    "import seaborn as sns  \n",
    "import matplotlib.pyplot as plt  \n",
    "\n",
    "from sklearn.utils import shuffle\n",
    "\n",
    "from sklearn.metrics import f1_score, roc_curve, precision_recall_curve, roc_auc_score\n",
    "\n",
    "from sklearn.model_selection import train_test_split  # импортируем метод для выделения выборок\n",
    "\n",
    "# from nltk.stem import WordNetLemmatizer\n",
    "import sys\n",
    "import nltk\n",
    "import spacy\n",
    "from nltk.corpus import stopwords as nltk_stopwords\n",
    "from sklearn.feature_extraction.text import TfidfVectorizer\n",
    "\n",
    "from sklearn.linear_model import LogisticRegression\n",
    "from lightgbm import LGBMClassifier\n",
    "\n",
    "from sklearn.model_selection import RandomizedSearchCV  # Рандомизированный поиск модели по параметрам"
   ]
  },
  {
   "cell_type": "code",
   "execution_count": 2,
   "metadata": {},
   "outputs": [],
   "source": [
    "# Общие константы:\n",
    "MODE = '' \n",
    "MODE = 'check' \n",
    "# Константа-рычаг для проверки работы. Включает оптимальные гиперпараметры для моделей и выключает логирование. \n",
    "# Если закомментить, то будет включен перерасчет. \n",
    "# MODE = 'check' -- включено.\n",
    "# Всё остальное -- выключено.\n",
    "\n",
    "RAND_FIX = 12345 # Зафиксируем random_state"
   ]
  },
  {
   "cell_type": "code",
   "execution_count": 3,
   "metadata": {},
   "outputs": [],
   "source": [
    "warnings.filterwarnings('ignore') # отключаем предупреждения\n",
    "\n",
    "# !{sys.executable} -m pip install spacy\n",
    "# # Загружаем английский язык\n",
    "# !{sys.executable} -m spacy download en\n",
    "\n",
    "# nltk.download('stopwords');"
   ]
  },
  {
   "cell_type": "markdown",
   "metadata": {},
   "source": [
    "## Шаг 1 Подготовка данных"
   ]
  },
  {
   "cell_type": "markdown",
   "metadata": {},
   "source": [
    "### 1.1 Открыть и изучить данные"
   ]
  },
  {
   "cell_type": "markdown",
   "metadata": {},
   "source": [
    "Сразу закинем 'Unnamed: 0' в индекс:"
   ]
  },
  {
   "cell_type": "code",
   "execution_count": 4,
   "metadata": {},
   "outputs": [
    {
     "name": "stdout",
     "output_type": "stream",
     "text": [
      "Файл загружен из хранилища Яндекс\n",
      "**************************************************\n",
      "Набор комментариев\n"
     ]
    },
    {
     "data": {
      "text/html": [
       "<div>\n",
       "<style scoped>\n",
       "    .dataframe tbody tr th:only-of-type {\n",
       "        vertical-align: middle;\n",
       "    }\n",
       "\n",
       "    .dataframe tbody tr th {\n",
       "        vertical-align: top;\n",
       "    }\n",
       "\n",
       "    .dataframe thead th {\n",
       "        text-align: right;\n",
       "    }\n",
       "</style>\n",
       "<table border=\"1\" class=\"dataframe\">\n",
       "  <thead>\n",
       "    <tr style=\"text-align: right;\">\n",
       "      <th></th>\n",
       "      <th>text</th>\n",
       "      <th>toxic</th>\n",
       "    </tr>\n",
       "  </thead>\n",
       "  <tbody>\n",
       "    <tr>\n",
       "      <th>0</th>\n",
       "      <td>Explanation\\nWhy the edits made under my usern...</td>\n",
       "      <td>0</td>\n",
       "    </tr>\n",
       "    <tr>\n",
       "      <th>1</th>\n",
       "      <td>D'aww! He matches this background colour I'm s...</td>\n",
       "      <td>0</td>\n",
       "    </tr>\n",
       "    <tr>\n",
       "      <th>2</th>\n",
       "      <td>Hey man, I'm really not trying to edit war. It...</td>\n",
       "      <td>0</td>\n",
       "    </tr>\n",
       "    <tr>\n",
       "      <th>3</th>\n",
       "      <td>\"\\nMore\\nI can't make any real suggestions on ...</td>\n",
       "      <td>0</td>\n",
       "    </tr>\n",
       "    <tr>\n",
       "      <th>4</th>\n",
       "      <td>You, sir, are my hero. Any chance you remember...</td>\n",
       "      <td>0</td>\n",
       "    </tr>\n",
       "  </tbody>\n",
       "</table>\n",
       "</div>"
      ],
      "text/plain": [
       "                                                text  toxic\n",
       "0  Explanation\\nWhy the edits made under my usern...      0\n",
       "1  D'aww! He matches this background colour I'm s...      0\n",
       "2  Hey man, I'm really not trying to edit war. It...      0\n",
       "3  \"\\nMore\\nI can't make any real suggestions on ...      0\n",
       "4  You, sir, are my hero. Any chance you remember...      0"
      ]
     },
     "metadata": {},
     "output_type": "display_data"
    },
    {
     "name": "stdout",
     "output_type": "stream",
     "text": [
      "\n",
      "<class 'pandas.core.frame.DataFrame'>\n",
      "Index: 159292 entries, 0 to 159450\n",
      "Data columns (total 2 columns):\n",
      " #   Column  Non-Null Count   Dtype \n",
      "---  ------  --------------   ----- \n",
      " 0   text    159292 non-null  object\n",
      " 1   toxic   159292 non-null  int64 \n",
      "dtypes: int64(1), object(1)\n",
      "memory usage: 3.6+ MB\n"
     ]
    }
   ],
   "source": [
    "try:\n",
    "     # загружаем с локального хранилища\n",
    "    d_txt = pd.read_csv('datasets/toxic_comments.csv', sep=',', index_col='Unnamed: 0')\n",
    "    \n",
    "    print('*' * 50, 'Набор комментариев', sep='\\n')\n",
    "    display(d_txt.head(5))\n",
    "    print()\n",
    "    d_txt.info()\n",
    "\n",
    "except:\n",
    "     # загружаем из хранилища Яндекс\n",
    "    d_txt = pd.read_csv('https://code.s3.yandex.net/datasets/toxic_comments.csv', sep=',', index_col='Unnamed: 0')\n",
    "    \n",
    "    print('Файл загружен из хранилища Яндекс')\n",
    "    print('*' * 50, 'Набор комментариев', sep='\\n')\n",
    "    display(d_txt.head(5))\n",
    "    print()\n",
    "    d_txt.info()"
   ]
  },
  {
   "cell_type": "markdown",
   "metadata": {},
   "source": [
    "Посмотрим на дубликаты:"
   ]
  },
  {
   "cell_type": "code",
   "execution_count": 5,
   "metadata": {},
   "outputs": [
    {
     "data": {
      "text/plain": [
       "0"
      ]
     },
     "execution_count": 5,
     "metadata": {},
     "output_type": "execute_result"
    }
   ],
   "source": [
    "d_txt.duplicated().sum()"
   ]
  },
  {
   "cell_type": "markdown",
   "metadata": {},
   "source": [
    "Посмотрим на распределение целевого признака:"
   ]
  },
  {
   "cell_type": "code",
   "execution_count": 6,
   "metadata": {},
   "outputs": [
    {
     "data": {
      "image/png": "[encoded data removed]",
      "text/plain": [
       "<Figure size 800x400 with 1 Axes>"
      ]
     },
     "metadata": {},
     "output_type": "display_data"
    }
   ],
   "source": [
    "d_txt['toxic'].value_counts().plot(kind='pie', \\\n",
    "                                        autopct='%0.1f%%', \\\n",
    "                                        title='Распределение значений\\nпо toxic', \\\n",
    "                                        figsize=( 8 , 4 ));"
   ]
  },
  {
   "cell_type": "markdown",
   "metadata": {},
   "source": [
    "Посмотрим на первые десять комментариев:"
   ]
  },
  {
   "cell_type": "code",
   "execution_count": 7,
   "metadata": {},
   "outputs": [
    {
     "data": {
      "text/html": [
       "<div>\n",
       "<style scoped>\n",
       "    .dataframe tbody tr th:only-of-type {\n",
       "        vertical-align: middle;\n",
       "    }\n",
       "\n",
       "    .dataframe tbody tr th {\n",
       "        vertical-align: top;\n",
       "    }\n",
       "\n",
       "    .dataframe thead th {\n",
       "        text-align: right;\n",
       "    }\n",
       "</style>\n",
       "<table border=\"1\" class=\"dataframe\">\n",
       "  <thead>\n",
       "    <tr style=\"text-align: right;\">\n",
       "      <th></th>\n",
       "      <th>text</th>\n",
       "      <th>toxic</th>\n",
       "    </tr>\n",
       "  </thead>\n",
       "  <tbody>\n",
       "    <tr>\n",
       "      <th>0</th>\n",
       "      <td>Explanation\\nWhy the edits made under my username Hardcore Metallica Fan were reverted? They weren't vandalisms, just closure on some GAs after I voted at New York Dolls FAC. And please don't remo...</td>\n",
       "      <td>0</td>\n",
       "    </tr>\n",
       "    <tr>\n",
       "      <th>1</th>\n",
       "      <td>D'aww! He matches this background colour I'm seemingly stuck with. Thanks.  (talk) 21:51, January 11, 2016 (UTC)</td>\n",
       "      <td>0</td>\n",
       "    </tr>\n",
       "    <tr>\n",
       "      <th>2</th>\n",
       "      <td>Hey man, I'm really not trying to edit war. It's just that this guy is constantly removing relevant information and talking to me through edits instead of my talk page. He seems to care more about...</td>\n",
       "      <td>0</td>\n",
       "    </tr>\n",
       "    <tr>\n",
       "      <th>3</th>\n",
       "      <td>\"\\nMore\\nI can't make any real suggestions on improvement - I wondered if the section statistics should be later on, or a subsection of \"\"types of accidents\"\"  -I think the references may need tid...</td>\n",
       "      <td>0</td>\n",
       "    </tr>\n",
       "    <tr>\n",
       "      <th>4</th>\n",
       "      <td>You, sir, are my hero. Any chance you remember what page that's on?</td>\n",
       "      <td>0</td>\n",
       "    </tr>\n",
       "    <tr>\n",
       "      <th>5</th>\n",
       "      <td>\"\\n\\nCongratulations from me as well, use the tools well.  · talk \"</td>\n",
       "      <td>0</td>\n",
       "    </tr>\n",
       "    <tr>\n",
       "      <th>6</th>\n",
       "      <td>COCKSUCKER BEFORE YOU PISS AROUND ON MY WORK</td>\n",
       "      <td>1</td>\n",
       "    </tr>\n",
       "    <tr>\n",
       "      <th>7</th>\n",
       "      <td>Your vandalism to the Matt Shirvington article has been reverted.  Please don't do it again, or you will be banned.</td>\n",
       "      <td>0</td>\n",
       "    </tr>\n",
       "    <tr>\n",
       "      <th>8</th>\n",
       "      <td>Sorry if the word 'nonsense' was offensive to you. Anyway, I'm not intending to write anything in the article(wow they would jump on me for vandalism), I'm merely requesting that it be more encycl...</td>\n",
       "      <td>0</td>\n",
       "    </tr>\n",
       "    <tr>\n",
       "      <th>9</th>\n",
       "      <td>alignment on this subject and which are contrary to those of DuLithgow</td>\n",
       "      <td>0</td>\n",
       "    </tr>\n",
       "  </tbody>\n",
       "</table>\n",
       "</div>"
      ],
      "text/plain": [
       "                                                                                                                                                                                                      text  \\\n",
       "0  Explanation\\nWhy the edits made under my username Hardcore Metallica Fan were reverted? They weren't vandalisms, just closure on some GAs after I voted at New York Dolls FAC. And please don't remo...   \n",
       "1                                                                                         D'aww! He matches this background colour I'm seemingly stuck with. Thanks.  (talk) 21:51, January 11, 2016 (UTC)   \n",
       "2  Hey man, I'm really not trying to edit war. It's just that this guy is constantly removing relevant information and talking to me through edits instead of my talk page. He seems to care more about...   \n",
       "3  \"\\nMore\\nI can't make any real suggestions on improvement - I wondered if the section statistics should be later on, or a subsection of \"\"types of accidents\"\"  -I think the references may need tid...   \n",
       "4                                                                                                                                      You, sir, are my hero. Any chance you remember what page that's on?   \n",
       "5                                                                                                                                      \"\\n\\nCongratulations from me as well, use the tools well.  · talk \"   \n",
       "6                                                                                                                                                             COCKSUCKER BEFORE YOU PISS AROUND ON MY WORK   \n",
       "7                                                                                      Your vandalism to the Matt Shirvington article has been reverted.  Please don't do it again, or you will be banned.   \n",
       "8  Sorry if the word 'nonsense' was offensive to you. Anyway, I'm not intending to write anything in the article(wow they would jump on me for vandalism), I'm merely requesting that it be more encycl...   \n",
       "9                                                                                                                                   alignment on this subject and which are contrary to those of DuLithgow   \n",
       "\n",
       "   toxic  \n",
       "0      0  \n",
       "1      0  \n",
       "2      0  \n",
       "3      0  \n",
       "4      0  \n",
       "5      0  \n",
       "6      1  \n",
       "7      0  \n",
       "8      0  \n",
       "9      0  "
      ]
     },
     "metadata": {},
     "output_type": "display_data"
    }
   ],
   "source": [
    "with pd.option_context('display.max_colwidth', 200):\n",
    "    display(d_txt.head(10))"
   ]
  },
  {
   "cell_type": "markdown",
   "metadata": {},
   "source": [
    "**Промежуточные выводы.**\n",
    "\n",
    "1. Наименования колонок -- ОК\n",
    "2. Токсичных комментариев в девять раз меньше, чем нетоксичных -- нужно будет предусмотреть какой-либо вариант балансировки  \n",
    "3. Текст грязный:\n",
    "    * Капс\n",
    "    * Символы переноса\n",
    "    * Числа и спецсимволы\n",
    "4. Дубликатов нет  \n",
    "\n",
    "\n",
    "Итого: классическая предобработка данных не требуется, но текст нужно будет почистить перед лемматизацией."
   ]
  },
  {
   "cell_type": "markdown",
   "metadata": {},
   "source": [
    "## 2 Обработка корпуса текстов"
   ]
  },
  {
   "cell_type": "markdown",
   "metadata": {},
   "source": [
    "### 2.2 Чистка и лемматизация текстов"
   ]
  },
  {
   "cell_type": "markdown",
   "metadata": {},
   "source": [
    "Избавимся от переносов строки. После -- от всех символов кроме латиницы. И переведем все буквы в строчные."
   ]
  },
  {
   "cell_type": "code",
   "execution_count": 8,
   "metadata": {},
   "outputs": [],
   "source": [
    "d_txt['text'] = d_txt['text'].apply(lambda x: re.sub(r\"(?:\\n)\", \" \", re.sub(r\"[^a-zA-Z ]+\", \" \", x))).str.lower()"
   ]
  },
  {
   "cell_type": "markdown",
   "metadata": {},
   "source": [
    "Используем spaCy  для лемматизации.  \n",
    "Пробовал Mystem, но по прогнозам он выполнялся бы в районе пятидесяти часов."
   ]
  },
  {
   "cell_type": "code",
   "execution_count": 9,
   "metadata": {},
   "outputs": [
    {
     "data": {
      "text/html": [
       "<div>\n",
       "<style scoped>\n",
       "    .dataframe tbody tr th:only-of-type {\n",
       "        vertical-align: middle;\n",
       "    }\n",
       "\n",
       "    .dataframe tbody tr th {\n",
       "        vertical-align: top;\n",
       "    }\n",
       "\n",
       "    .dataframe thead th {\n",
       "        text-align: right;\n",
       "    }\n",
       "</style>\n",
       "<table border=\"1\" class=\"dataframe\">\n",
       "  <thead>\n",
       "    <tr style=\"text-align: right;\">\n",
       "      <th></th>\n",
       "      <th>text</th>\n",
       "      <th>toxic</th>\n",
       "    </tr>\n",
       "  </thead>\n",
       "  <tbody>\n",
       "    <tr>\n",
       "      <th>0</th>\n",
       "      <td>explanation why the edit make under my username hardcore metallica fan be revert   they weren t vandalisms   just closure on some gas after I vote at new york dolls fac   and please don t remove t...</td>\n",
       "      <td>0</td>\n",
       "    </tr>\n",
       "    <tr>\n",
       "      <th>1</th>\n",
       "      <td>d aww   he match this background colour I m seemingly stuck with   thank     talk     january       utc</td>\n",
       "      <td>0</td>\n",
       "    </tr>\n",
       "    <tr>\n",
       "      <th>2</th>\n",
       "      <td>hey man   I m really not try to edit war   it s just that this guy be constantly remove relevant information and talk to I through edit instead of my talk page   he seem to care more about the for...</td>\n",
       "      <td>0</td>\n",
       "    </tr>\n",
       "    <tr>\n",
       "      <th>3</th>\n",
       "      <td>more I can t make any real suggestion on improvement    I wonder if the section statistic should be later on   or a subsection of   type of accident     I think the reference may need tidying so...</td>\n",
       "      <td>0</td>\n",
       "    </tr>\n",
       "    <tr>\n",
       "      <th>4</th>\n",
       "      <td>you   sir   be my hero   any chance you remember what page that s on</td>\n",
       "      <td>0</td>\n",
       "    </tr>\n",
       "    <tr>\n",
       "      <th>5</th>\n",
       "      <td>congratulation from I as well   use the tool well     talk</td>\n",
       "      <td>0</td>\n",
       "    </tr>\n",
       "    <tr>\n",
       "      <th>6</th>\n",
       "      <td>cocksucker before you piss around on my work</td>\n",
       "      <td>1</td>\n",
       "    </tr>\n",
       "    <tr>\n",
       "      <th>7</th>\n",
       "      <td>your vandalism to the matt shirvington article have be revert    please don t do it again   or you will be ban</td>\n",
       "      <td>0</td>\n",
       "    </tr>\n",
       "    <tr>\n",
       "      <th>8</th>\n",
       "      <td>sorry if the word   nonsense   be offensive to you   anyway   I m not intend to write anything in the article wow they would jump on I for vandalism   I m merely request that it be more encycloped...</td>\n",
       "      <td>0</td>\n",
       "    </tr>\n",
       "    <tr>\n",
       "      <th>9</th>\n",
       "      <td>alignment on this subject and which be contrary to those of dulithgow</td>\n",
       "      <td>0</td>\n",
       "    </tr>\n",
       "  </tbody>\n",
       "</table>\n",
       "</div>"
      ],
      "text/plain": [
       "                                                                                                                                                                                                      text  \\\n",
       "0  explanation why the edit make under my username hardcore metallica fan be revert   they weren t vandalisms   just closure on some gas after I vote at new york dolls fac   and please don t remove t...   \n",
       "1                                                                                                  d aww   he match this background colour I m seemingly stuck with   thank     talk     january       utc   \n",
       "2  hey man   I m really not try to edit war   it s just that this guy be constantly remove relevant information and talk to I through edit instead of my talk page   he seem to care more about the for...   \n",
       "3    more I can t make any real suggestion on improvement    I wonder if the section statistic should be later on   or a subsection of   type of accident     I think the reference may need tidying so...   \n",
       "4                                                                                                                                     you   sir   be my hero   any chance you remember what page that s on   \n",
       "5                                                                                                                                             congratulation from I as well   use the tool well     talk     \n",
       "6                                                                                                                                                             cocksucker before you piss around on my work   \n",
       "7                                                                                           your vandalism to the matt shirvington article have be revert    please don t do it again   or you will be ban   \n",
       "8  sorry if the word   nonsense   be offensive to you   anyway   I m not intend to write anything in the article wow they would jump on I for vandalism   I m merely request that it be more encycloped...   \n",
       "9                                                                                                                                    alignment on this subject and which be contrary to those of dulithgow   \n",
       "\n",
       "   toxic  \n",
       "0      0  \n",
       "1      0  \n",
       "2      0  \n",
       "3      0  \n",
       "4      0  \n",
       "5      0  \n",
       "6      1  \n",
       "7      0  \n",
       "8      0  \n",
       "9      0  "
      ]
     },
     "metadata": {},
     "output_type": "display_data"
    }
   ],
   "source": [
    "nlp = spacy.load('en_core_web_sm', disable=['parser', 'ner'])\n",
    "\n",
    "d_txt['text'] = d_txt['text'].apply(lambda x: \" \".join([token.lemma_ for token in nlp(x)]))\n",
    " \n",
    "with pd.option_context('display.max_colwidth', 200):\n",
    "    display(d_txt.head(10))"
   ]
  },
  {
   "cell_type": "markdown",
   "metadata": {},
   "source": [
    "### 2.2 Подготовка выборок (разделение и векторизация)"
   ]
  },
  {
   "cell_type": "markdown",
   "metadata": {},
   "source": [
    "Выделим фичи и таргет, разобьем на train и test в соотношении 3:1."
   ]
  },
  {
   "cell_type": "code",
   "execution_count": 10,
   "metadata": {},
   "outputs": [],
   "source": [
    "target = d_txt.loc[:, 'toxic']\n",
    "features = d_txt.drop('toxic', axis=1)\n",
    "\n",
    "features_train, features_test, target_train, target_test = \\\n",
    "train_test_split(features, target, test_size=0.25, random_state=RAND_FIX)"
   ]
  },
  {
   "cell_type": "code",
   "execution_count": 11,
   "metadata": {},
   "outputs": [
    {
     "name": "stdout",
     "output_type": "stream",
     "text": [
      "Размер features_train: (119469, 1)\n",
      "Размер features_test: (39823, 1)\n"
     ]
    },
    {
     "data": {
      "image/png": "[encoded data removed]",
      "text/plain": [
       "<Figure size 800x400 with 2 Axes>"
      ]
     },
     "metadata": {},
     "output_type": "display_data"
    }
   ],
   "source": [
    "print('Размер features_train:', features_train.shape)\n",
    "print('Размер features_test:', features_test.shape)\n",
    "\n",
    "fig, axes = plt.subplots(nrows=1, ncols=2)\n",
    "plt.subplots_adjust(wspace=0.5)\n",
    "\n",
    "target_train.value_counts().plot(kind='pie', \\\n",
    "                                autopct='%0.1f%%', \\\n",
    "                                title='Распределение значений\\nпо toxic в train', \\\n",
    "                                figsize=( 8 , 4 ),\\\n",
    "                                ax=axes[0])\n",
    "\n",
    "target_test.value_counts().plot(kind='pie', \\\n",
    "                                autopct='%0.1f%%', \\\n",
    "                                title='Распределение значений\\nпо toxic в test', \\\n",
    "                                figsize=( 8 , 4 ), \\\n",
    "                                ax=axes[1]);"
   ]
  },
  {
   "cell_type": "markdown",
   "metadata": {},
   "source": [
    "Разделение прошло корректно -- размеры матриц и распределение таргета такое, как и предполагалось."
   ]
  },
  {
   "cell_type": "markdown",
   "metadata": {},
   "source": [
    "Обучим TfidfVectorizer на трейне и применим на трейне и тесте."
   ]
  },
  {
   "cell_type": "code",
   "execution_count": 12,
   "metadata": {},
   "outputs": [],
   "source": [
    "stopwords = list(nltk_stopwords.words('english'))\n",
    "\n",
    "count_tf_idf = TfidfVectorizer(stop_words=stopwords) \n",
    "\n",
    "features_train = count_tf_idf.fit_transform(features_train['text']) \n",
    "features_test = count_tf_idf.transform(features_test['text']) "
   ]
  },
  {
   "cell_type": "markdown",
   "metadata": {},
   "source": [
    "**Промежуточные выводы.**\n",
    "\n",
    "Выборки готовы к обучению."
   ]
  },
  {
   "cell_type": "markdown",
   "metadata": {},
   "source": [
    "## Шаг 2 Обучение моделей и подбор гиперпараметров\n"
   ]
  },
  {
   "cell_type": "markdown",
   "metadata": {},
   "source": [
    "Костыль для проверки работы:"
   ]
  },
  {
   "cell_type": "code",
   "execution_count": 13,
   "metadata": {},
   "outputs": [],
   "source": [
    "if MODE == 'check':\n",
    "    \n",
    "    lgb_iter_min, lgb_iter_max = 850, 851\n",
    "    lgb_depth_min, lgb_depth_max = 30, 31\n",
    "    lgb_leaves_min, lgb_leaves_max = 70, 71\n",
    "    learning_rate_gbm = [0.1]\n",
    "    \n",
    "    lgb_iter = 1\n",
    "    lgb_verb = -1\n",
    "    verb = 0\n",
    "    \n",
    "else:\n",
    "    \n",
    "    tree_depth_min, tree_depth_max = 3, 30\n",
    "    tree_iter = 30\n",
    "    \n",
    "    lgb_iter_min, lgb_iter_max = 50, 851\n",
    "    lgb_depth_min, lgb_depth_max = 30, 121\n",
    "    lgb_leaves_min, lgb_leaves_max = 20, 321\n",
    "    learning_rate_gbm = [0.01, 0.1, 0.5]\n",
    "    lgb_iter = 30\n",
    "    lgb_verb = -1\n",
    "    \n",
    "    verb = 10"
   ]
  },
  {
   "cell_type": "markdown",
   "metadata": {},
   "source": [
    "Подберем гиперпараметры моделей и измерим время на обучение:"
   ]
  },
  {
   "cell_type": "code",
   "execution_count": 14,
   "metadata": {
    "scrolled": true
   },
   "outputs": [
    {
     "data": {
      "text/html": [
       "<div>\n",
       "<style scoped>\n",
       "    .dataframe tbody tr th:only-of-type {\n",
       "        vertical-align: middle;\n",
       "    }\n",
       "\n",
       "    .dataframe tbody tr th {\n",
       "        vertical-align: top;\n",
       "    }\n",
       "\n",
       "    .dataframe thead th {\n",
       "        text-align: right;\n",
       "    }\n",
       "</style>\n",
       "<table border=\"1\" class=\"dataframe\">\n",
       "  <thead>\n",
       "    <tr style=\"text-align: right;\">\n",
       "      <th></th>\n",
       "      <th>depth/max_depth</th>\n",
       "      <th>iterations</th>\n",
       "      <th>leaves</th>\n",
       "      <th>fit_time</th>\n",
       "      <th>F1 score</th>\n",
       "    </tr>\n",
       "  </thead>\n",
       "  <tbody>\n",
       "    <tr>\n",
       "      <th>LogisticRegression</th>\n",
       "      <td>NaN</td>\n",
       "      <td>NaN</td>\n",
       "      <td>NaN</td>\n",
       "      <td>1.149466</td>\n",
       "      <td>0.746974</td>\n",
       "    </tr>\n",
       "    <tr>\n",
       "      <th>LightGBM</th>\n",
       "      <td>30.0</td>\n",
       "      <td>850.0</td>\n",
       "      <td>70.0</td>\n",
       "      <td>73.994396</td>\n",
       "      <td>0.776627</td>\n",
       "    </tr>\n",
       "  </tbody>\n",
       "</table>\n",
       "</div>"
      ],
      "text/plain": [
       "                    depth/max_depth  iterations  leaves   fit_time  F1 score\n",
       "LogisticRegression              NaN         NaN     NaN   1.149466  0.746974\n",
       "LightGBM                       30.0       850.0    70.0  73.994396  0.776627"
      ]
     },
     "metadata": {},
     "output_type": "display_data"
    }
   ],
   "source": [
    "best_result_for_l = 0\n",
    "best_result_for_gbm = 0\n",
    "\n",
    "#         Готовим параметры\n",
    "param_for_l = {'class_weight' : ['balanced']}\n",
    "param_for_gbm = {'class_weight' : ['balanced'], \\\n",
    "                 'num_iterations' : range(lgb_iter_min, lgb_iter_max, 200), \\\n",
    "                 'learning_rate': learning_rate_gbm, \\\n",
    "                 'max_depth' : range(lgb_depth_min, lgb_depth_max, 30), \\\n",
    "                 'num_leaves' : range(lgb_leaves_min, lgb_leaves_max, 50),\\\n",
    "                 'verbosity' : [lgb_verb]}\n",
    "\n",
    "#         Определяем рандомизаторы\n",
    "grid_model_l = RandomizedSearchCV(LogisticRegression(), param_distributions = param_for_l, \\\n",
    "                            n_iter=1, cv=5, scoring='f1', \\\n",
    "                                  random_state=RAND_FIX, verbose=verb)\n",
    "\n",
    "grid_model_gbm = RandomizedSearchCV(LGBMClassifier(), param_distributions = param_for_gbm, \\\n",
    "                                    n_iter=lgb_iter, cv=5, scoring='f1', \\\n",
    "                                    random_state=RAND_FIX, verbose=verb)\n",
    "\n",
    "#         Обучаем модели\n",
    "grid_model_l.fit(features_train, target_train)\n",
    "result = grid_model_l.best_score_\n",
    "if result > best_result_for_l:\n",
    "    best_result_for_l = result\n",
    "    best_model_for_l = grid_model_l\n",
    "    best_fit_time_for_l = grid_model_l.refit_time_\n",
    "\n",
    "\n",
    "grid_model_gbm.fit(features_train, target_train)  \n",
    "result = grid_model_gbm.best_score_\n",
    "if result > best_result_for_gbm:\n",
    "    best_result_for_gbm = result\n",
    "    best_num_iterations_for_gbm = grid_model_gbm.best_params_['num_iterations']\n",
    "    best_max_depth_for_gbm = grid_model_gbm.best_params_['max_depth']\n",
    "    best_num_leaves_for_gbm = grid_model_gbm.best_params_['num_leaves']\n",
    "    best_model_for_gbm = grid_model_gbm\n",
    "    best_fit_time_for_gbm = grid_model_gbm.refit_time_        \n",
    "\n",
    "                \n",
    "# Публикация результатов\n",
    "d_res = {'depth/max_depth':[np.nan, best_max_depth_for_gbm],\\\n",
    "         'iterations':[np.nan, best_num_iterations_for_gbm],\\\n",
    "         'leaves':[np.nan,  best_num_leaves_for_gbm],\\\n",
    "         'fit_time':[best_fit_time_for_l, best_fit_time_for_gbm],\\\n",
    "         'F1 score':[best_result_for_l, best_result_for_gbm]}\n",
    "df_res = pd.DataFrame(index=['LogisticRegression', 'LightGBM'], data=d_res)\n",
    "\n",
    "display(df_res)"
   ]
  },
  {
   "cell_type": "markdown",
   "metadata": {},
   "source": [
    "**Промежуточные выводы.**\n",
    "\n",
    "К тестированию готова модель LGBMClassifier с параметрами:  \n",
    "* num_iterations = 850  \n",
    "* max_depth = 30\n",
    "* num_leaves = 70  "
   ]
  },
  {
   "cell_type": "markdown",
   "metadata": {},
   "source": [
    "## Шаг 3 Тестирование выбранной модели"
   ]
  },
  {
   "cell_type": "code",
   "execution_count": 15,
   "metadata": {
    "scrolled": false
   },
   "outputs": [
    {
     "name": "stdout",
     "output_type": "stream",
     "text": [
      "F1 на тестовой выборке: 0.791\n",
      "ROC-AUC на тестовой выборке: 0.878\n"
     ]
    }
   ],
   "source": [
    "pred = best_model_for_gbm.predict(features_test)\n",
    "print('F1 на тестовой выборке:', round(f1_score(target_test, pred), 3))\n",
    "print('ROC-AUC на тестовой выборке:', round(roc_auc_score(target_test, pred), 3))"
   ]
  },
  {
   "cell_type": "markdown",
   "metadata": {},
   "source": [
    "Требуемое значение достигнуто, ROC-AUC тоже в приемлемых рамках.  \n",
    "Посмотрим на графике:"
   ]
  },
  {
   "cell_type": "code",
   "execution_count": 16,
   "metadata": {
    "scrolled": true
   },
   "outputs": [
    {
     "data": {
      "image/png": "[encoded data removed]",
      "text/plain": [
       "<Figure size 1000x300 with 2 Axes>"
      ]
     },
     "metadata": {},
     "output_type": "display_data"
    }
   ],
   "source": [
    "# Готовим данные для графиков\n",
    "probabilities_valid_gbm = best_model_for_gbm.predict_proba(features_test)\n",
    "probabilities_one_valid_gbm = probabilities_valid_gbm[:, 1]\n",
    "fpr_gbm, tpr_gbm, thresholds_gbm = roc_curve(target_test, probabilities_one_valid_gbm)\n",
    "precision_gbm, recall_gbm, thresholds_gbm = precision_recall_curve(target_test, probabilities_valid_gbm[:, 1])\n",
    "\n",
    "# LogisticRegression прост для красоты\n",
    "probabilities_valid_l = best_model_for_l.predict_proba(features_test)\n",
    "probabilities_one_valid_l = probabilities_valid_l[:, 1]\n",
    "fpr_l, tpr_l, thresholds_l = roc_curve(target_test, probabilities_one_valid_l)\n",
    "precision_l, recall_l, thresholds_l = precision_recall_curve(target_test, probabilities_valid_l[:, 1])\n",
    "\n",
    "# Рисуем графики:\n",
    "fig, axes = plt.subplots(nrows=1, ncols=2, figsize=(10, 3))\n",
    "plt.subplots_adjust(wspace=0.5)\n",
    "\n",
    "axes[0].set_title(\"ROC-кривые\") \n",
    "axes[0].plot(fpr_gbm, tpr_gbm, linestyle='-', label='LGBMClassifier')\n",
    "axes[0].plot(fpr_l, tpr_l, linestyle='-', label='LogisticRegression')\n",
    "axes[0].plot([0, 1], [0, 1], linestyle='--')\n",
    "axes[0].set_xlim(0, 1)\n",
    "axes[0].set_ylim(0, 1.05)\n",
    "axes[0].legend(loc='lower right')\n",
    "axes[0].set_xlabel(\"False Positive Rate\")\n",
    "axes[0].set_ylabel(\"True Positive Rate\")\n",
    "\n",
    "axes[1].set_title(\"Кривые Precision-Recall\") \n",
    "axes[1].step(recall_gbm, precision_gbm, where='post', label='LGBMClassifier')\n",
    "axes[1].step(recall_l, precision_l, where='post', label='LogisticRegression')\n",
    "axes[1].set_xlim(0, 1)\n",
    "axes[1].set_ylim(0, 1.05)\n",
    "axes[1].legend(loc='lower left')\n",
    "axes[1].set_xlabel(\"Recall\")\n",
    "axes[1].set_ylabel(\"Precision\");"
   ]
  },
  {
   "cell_type": "markdown",
   "metadata": {},
   "source": [
    "**Промежуточные выводы.**\n",
    "\n",
    "Модель LGBMClassifier с параметрами:  \n",
    "* num_iterations = 850  \n",
    "* max_depth = 30\n",
    "* num_leaves = 70  \n",
    "\n",
    "Успешно преодолела тестирование."
   ]
  },
  {
   "cell_type": "markdown",
   "metadata": {},
   "source": [
    "## Итоги исследования:"
   ]
  },
  {
   "cell_type": "markdown",
   "metadata": {},
   "source": [
    "В ходе исследования построена модель, которая с достаточной точностью определяла бы, является ли описание товаров токсичным, чтоб отправить его на модерацию.\n",
    "\n",
    "Таким образом, исследование состояло из следующих этапов, на каждом из которых формировались выводы, которые попали в итоги работы:  \n",
    "1. Загрузка, обзор и предобработка данных\n",
    "2. Очистка, лемматизация и векторизация данных\n",
    "3. Обучение моделей и подбор гиперпараметров\n",
    "4. Тестирование выбранной модели\n",
    "\n",
    "\n",
    "### Рекомендации в части данных\n",
    "В ходе исследования отметил высокое качество предоставленных данных, предобработка не потребовалась\n",
    "  \n",
    "### Результаты исследования\n",
    "\n",
    "Для определения токсичности пользовательского описания ко предлагаю использовать модель:\n",
    "\n",
    "* **LGBMClassifier** с параметрами:\n",
    "    * num_iterations = 850  \n",
    "    * max_depth = 30\n",
    "    * num_leaves = 70  \n",
    "    \n",
    "Показатели для модели:  \n",
    "\n",
    "- $F1\\ score = 0.79$\n",
    "- $ROC-AUC\\ score = 0.88$\n",
    "    "
   ]
  }
 ],
 "metadata": {
  "ExecuteTimeLog": [
   {
    "duration": 53,
    "start_time": "2024-02-22T06:51:39.179Z"
   }
  ],
  "kernelspec": {
   "display_name": "Python 3 (ipykernel)",
   "language": "python",
   "name": "python3"
  },
  "language_info": {
   "codemirror_mode": {
    "name": "ipython",
    "version": 3
   },
   "file_extension": ".py",
   "mimetype": "text/x-python",
   "name": "python",
   "nbconvert_exporter": "python",
   "pygments_lexer": "ipython3",
   "version": "3.11.5"
  },
  "toc": {
   "base_numbering": 1,
   "nav_menu": {},
   "number_sections": true,
   "sideBar": true,
   "skip_h1_title": true,
   "title_cell": "Содержание",
   "title_sidebar": "Contents",
   "toc_cell": true,
   "toc_position": {
    "height": "calc(100% - 180px)",
    "left": "10px",
    "top": "150px",
    "width": "302.391px"
   },
   "toc_section_display": true,
   "toc_window_display": false
  }
 },
 "nbformat": 4,
 "nbformat_minor": 2
}
