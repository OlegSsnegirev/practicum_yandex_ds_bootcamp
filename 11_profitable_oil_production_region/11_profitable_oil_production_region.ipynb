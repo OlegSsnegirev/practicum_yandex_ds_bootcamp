{
 "cells": [
  {
   "cell_type": "markdown",
   "metadata": {},
   "source": [
    "# Выбор локации для скважины"
   ]
  },
  {
   "cell_type": "markdown",
   "metadata": {},
   "source": [
    "Исследлование для добывающей компании «ГлавРосГосНефть». Нужно решить, где бурить новую скважину.\n",
    "\n",
    "Предоставлены пробы нефти в трёх регионах: в каждом 100 000 месторождений, где измерили качество нефти и объём её запасов. Постройте модель машинного обучения, которая поможет определить регион, где добыча принесёт наибольшую прибыль. Проанализируйте возможную прибыль и риски техникой *Bootstrap.*\n",
    "\n",
    "**Цель исследования:**  \n",
    "\n",
    "1. Проанализировать и обработать предложенные данные по трем регионам\n",
    "2. Исследовать результаты обучения модели по данным\n",
    "3. Расчитать достаточные условия для прибыльности мероприятия\n",
    "4. Оценить прибыльность и риски для трех предложенных регионов\n",
    "5. На основе проделанной работы предложить Компании регион с максимальной суммарной прибылью отобранных скважин\n",
    "\n",
    "**Дополнительные условия:**\n",
    " - Для обучения модели подходит только линейная регрессия (остальные — недостаточно предсказуемые).\n",
    " - При разведке региона исследуют **500 точек**, из которых с помощью машинного обучения выбирают **200 лучших** для разработки.\n",
    " - Бюджет на разработку скважин в регионе — **10 млрд рублей**.\n",
    " - При нынешних ценах один баррель сырья приносит **450 рублей** дохода. Доход с каждой единицы продукта составляет **450 тыс. рублей**, поскольку объём указан в тысячах баррелей.\n",
    " - После оценки рисков нужно оставить лишь те регионы, в которых вероятность убытков меньше **2.5%**. Среди них выбирают регион с наибольшей средней прибылью.\n",
    "\n",
    "**Ход исследования**\n",
    "\n",
    "Данные регионах в файлах \"geo_data_0.csv\", \"geo_data_1.csv\", \"geo_data_2.csv\". О качестве данных ничего не известно. Поэтому перед тем, как приступать к целям исследования, понадобится обзор данных\n",
    "\n",
    "Я проверю данные на ошибки и оценю их влияние на исследование. Затем, на этапе предобработки я поищу возможность исправить все ошибки данных, которые не приведут к искажению конечного результата. Далее, создам необходимое количество дополнительных колонок и таблиц, приступлю к проведению анализа\n",
    "\n",
    "Анализ в свою очередь пройдет в три этапа:\n",
    "\n",
    "1. Обучение модели для каждого региона\n",
    "2. Расчет достаточного объёма сырья для безубыточной разработки нового региона\n",
    "2. Расчет рисков и прибыли для каждого региона\n",
    "\n",
    "Завершающий этап -- выбор наиболее подходящего региона из трёх предложенных\n",
    "\n",
    "Таким образом, моё исследование пройдёт в восемь этапов:\n",
    "\n",
    "1. Обзор данных\n",
    "2. Предобработка данных\n",
    "3. Подготовка данных к обучению модели\n",
    "4. Обучение и проверка модели для каждого региона\n",
    "5. Подготовка к расчёту прибыли\n",
    "6. Расчёт прибыли и рисков\n",
    "7. Выбор региона\n",
    "8. Общий вывод\n",
    "\n",
    "**Описание данных:**\n",
    "* **Признаки:**  \n",
    "    - **id** — уникальный идентификатор скважины  \n",
    "    - **f0, f1, f2** — три признака точек (неважно, что они означают, но сами признаки значимы)  \n",
    "* **Целевой признак:**\n",
    "    - **product** — объём запасов в скважине (тыс. баррелей)  "
   ]
  },
  {
   "cell_type": "markdown",
   "metadata": {},
   "source": [
    "Для начала импортируем библиотеки и зафиксируем глобальные константы:"
   ]
  },
  {
   "cell_type": "code",
   "execution_count": 1,
   "metadata": {},
   "outputs": [],
   "source": [
    "import pandas as pd\n",
    "import numpy as np\n",
    "import warnings\n",
    "from math import ceil\n",
    "\n",
    "import matplotlib.pyplot as plt \n",
    "\n",
    "from sklearn.model_selection import train_test_split\n",
    "from sklearn.preprocessing import StandardScaler \n",
    "\n",
    "from sklearn.linear_model import LinearRegression \n",
    "\n",
    "from sklearn.metrics import mean_squared_error"
   ]
  },
  {
   "cell_type": "code",
   "execution_count": 2,
   "metadata": {},
   "outputs": [],
   "source": [
    "# Общие константы:\n",
    "\n",
    "RAND_FIX = 12345 # Зафиксируем random_state"
   ]
  },
  {
   "cell_type": "code",
   "execution_count": 3,
   "metadata": {},
   "outputs": [],
   "source": [
    "warnings.filterwarnings('ignore') # отключаем предупреждения"
   ]
  },
  {
   "cell_type": "markdown",
   "metadata": {},
   "source": [
    "## Шаг 1 Подготовка данных"
   ]
  },
  {
   "cell_type": "markdown",
   "metadata": {},
   "source": [
    "### 1.1 Открытие и изучение данные"
   ]
  },
  {
   "cell_type": "code",
   "execution_count": 4,
   "metadata": {},
   "outputs": [
    {
     "name": "stdout",
     "output_type": "stream",
     "text": [
      "**************************************************\n",
      "Месторождение \"Ноль\"\n"
     ]
    },
    {
     "data": {
      "text/html": [
       "<div>\n",
       "<style scoped>\n",
       "    .dataframe tbody tr th:only-of-type {\n",
       "        vertical-align: middle;\n",
       "    }\n",
       "\n",
       "    .dataframe tbody tr th {\n",
       "        vertical-align: top;\n",
       "    }\n",
       "\n",
       "    .dataframe thead th {\n",
       "        text-align: right;\n",
       "    }\n",
       "</style>\n",
       "<table border=\"1\" class=\"dataframe\">\n",
       "  <thead>\n",
       "    <tr style=\"text-align: right;\">\n",
       "      <th></th>\n",
       "      <th>id</th>\n",
       "      <th>f0</th>\n",
       "      <th>f1</th>\n",
       "      <th>f2</th>\n",
       "      <th>product</th>\n",
       "    </tr>\n",
       "  </thead>\n",
       "  <tbody>\n",
       "    <tr>\n",
       "      <th>0</th>\n",
       "      <td>txEyH</td>\n",
       "      <td>0.705745</td>\n",
       "      <td>-0.497823</td>\n",
       "      <td>1.221170</td>\n",
       "      <td>105.280062</td>\n",
       "    </tr>\n",
       "    <tr>\n",
       "      <th>1</th>\n",
       "      <td>2acmU</td>\n",
       "      <td>1.334711</td>\n",
       "      <td>-0.340164</td>\n",
       "      <td>4.365080</td>\n",
       "      <td>73.037750</td>\n",
       "    </tr>\n",
       "    <tr>\n",
       "      <th>2</th>\n",
       "      <td>409Wp</td>\n",
       "      <td>1.022732</td>\n",
       "      <td>0.151990</td>\n",
       "      <td>1.419926</td>\n",
       "      <td>85.265647</td>\n",
       "    </tr>\n",
       "    <tr>\n",
       "      <th>3</th>\n",
       "      <td>iJLyR</td>\n",
       "      <td>-0.032172</td>\n",
       "      <td>0.139033</td>\n",
       "      <td>2.978566</td>\n",
       "      <td>168.620776</td>\n",
       "    </tr>\n",
       "    <tr>\n",
       "      <th>4</th>\n",
       "      <td>Xdl7t</td>\n",
       "      <td>1.988431</td>\n",
       "      <td>0.155413</td>\n",
       "      <td>4.751769</td>\n",
       "      <td>154.036647</td>\n",
       "    </tr>\n",
       "  </tbody>\n",
       "</table>\n",
       "</div>"
      ],
      "text/plain": [
       "      id        f0        f1        f2     product\n",
       "0  txEyH  0.705745 -0.497823  1.221170  105.280062\n",
       "1  2acmU  1.334711 -0.340164  4.365080   73.037750\n",
       "2  409Wp  1.022732  0.151990  1.419926   85.265647\n",
       "3  iJLyR -0.032172  0.139033  2.978566  168.620776\n",
       "4  Xdl7t  1.988431  0.155413  4.751769  154.036647"
      ]
     },
     "metadata": {},
     "output_type": "display_data"
    },
    {
     "name": "stdout",
     "output_type": "stream",
     "text": [
      "\n",
      "<class 'pandas.core.frame.DataFrame'>\n",
      "RangeIndex: 100000 entries, 0 to 99999\n",
      "Data columns (total 5 columns):\n",
      " #   Column   Non-Null Count   Dtype  \n",
      "---  ------   --------------   -----  \n",
      " 0   id       100000 non-null  object \n",
      " 1   f0       100000 non-null  float64\n",
      " 2   f1       100000 non-null  float64\n",
      " 3   f2       100000 non-null  float64\n",
      " 4   product  100000 non-null  float64\n",
      "dtypes: float64(4), object(1)\n",
      "memory usage: 3.8+ MB\n",
      "**************************************************\n",
      "Месторождение \"Один\"\n"
     ]
    },
    {
     "data": {
      "text/html": [
       "<div>\n",
       "<style scoped>\n",
       "    .dataframe tbody tr th:only-of-type {\n",
       "        vertical-align: middle;\n",
       "    }\n",
       "\n",
       "    .dataframe tbody tr th {\n",
       "        vertical-align: top;\n",
       "    }\n",
       "\n",
       "    .dataframe thead th {\n",
       "        text-align: right;\n",
       "    }\n",
       "</style>\n",
       "<table border=\"1\" class=\"dataframe\">\n",
       "  <thead>\n",
       "    <tr style=\"text-align: right;\">\n",
       "      <th></th>\n",
       "      <th>id</th>\n",
       "      <th>f0</th>\n",
       "      <th>f1</th>\n",
       "      <th>f2</th>\n",
       "      <th>product</th>\n",
       "    </tr>\n",
       "  </thead>\n",
       "  <tbody>\n",
       "    <tr>\n",
       "      <th>0</th>\n",
       "      <td>kBEdx</td>\n",
       "      <td>-15.001348</td>\n",
       "      <td>-8.276000</td>\n",
       "      <td>-0.005876</td>\n",
       "      <td>3.179103</td>\n",
       "    </tr>\n",
       "    <tr>\n",
       "      <th>1</th>\n",
       "      <td>62mP7</td>\n",
       "      <td>14.272088</td>\n",
       "      <td>-3.475083</td>\n",
       "      <td>0.999183</td>\n",
       "      <td>26.953261</td>\n",
       "    </tr>\n",
       "    <tr>\n",
       "      <th>2</th>\n",
       "      <td>vyE1P</td>\n",
       "      <td>6.263187</td>\n",
       "      <td>-5.948386</td>\n",
       "      <td>5.001160</td>\n",
       "      <td>134.766305</td>\n",
       "    </tr>\n",
       "    <tr>\n",
       "      <th>3</th>\n",
       "      <td>KcrkZ</td>\n",
       "      <td>-13.081196</td>\n",
       "      <td>-11.506057</td>\n",
       "      <td>4.999415</td>\n",
       "      <td>137.945408</td>\n",
       "    </tr>\n",
       "    <tr>\n",
       "      <th>4</th>\n",
       "      <td>AHL4O</td>\n",
       "      <td>12.702195</td>\n",
       "      <td>-8.147433</td>\n",
       "      <td>5.004363</td>\n",
       "      <td>134.766305</td>\n",
       "    </tr>\n",
       "  </tbody>\n",
       "</table>\n",
       "</div>"
      ],
      "text/plain": [
       "      id         f0         f1        f2     product\n",
       "0  kBEdx -15.001348  -8.276000 -0.005876    3.179103\n",
       "1  62mP7  14.272088  -3.475083  0.999183   26.953261\n",
       "2  vyE1P   6.263187  -5.948386  5.001160  134.766305\n",
       "3  KcrkZ -13.081196 -11.506057  4.999415  137.945408\n",
       "4  AHL4O  12.702195  -8.147433  5.004363  134.766305"
      ]
     },
     "metadata": {},
     "output_type": "display_data"
    },
    {
     "name": "stdout",
     "output_type": "stream",
     "text": [
      "\n",
      "<class 'pandas.core.frame.DataFrame'>\n",
      "RangeIndex: 100000 entries, 0 to 99999\n",
      "Data columns (total 5 columns):\n",
      " #   Column   Non-Null Count   Dtype  \n",
      "---  ------   --------------   -----  \n",
      " 0   id       100000 non-null  object \n",
      " 1   f0       100000 non-null  float64\n",
      " 2   f1       100000 non-null  float64\n",
      " 3   f2       100000 non-null  float64\n",
      " 4   product  100000 non-null  float64\n",
      "dtypes: float64(4), object(1)\n",
      "memory usage: 3.8+ MB\n",
      "**************************************************\n",
      "Месторождение \"Два\"\n"
     ]
    },
    {
     "data": {
      "text/html": [
       "<div>\n",
       "<style scoped>\n",
       "    .dataframe tbody tr th:only-of-type {\n",
       "        vertical-align: middle;\n",
       "    }\n",
       "\n",
       "    .dataframe tbody tr th {\n",
       "        vertical-align: top;\n",
       "    }\n",
       "\n",
       "    .dataframe thead th {\n",
       "        text-align: right;\n",
       "    }\n",
       "</style>\n",
       "<table border=\"1\" class=\"dataframe\">\n",
       "  <thead>\n",
       "    <tr style=\"text-align: right;\">\n",
       "      <th></th>\n",
       "      <th>id</th>\n",
       "      <th>f0</th>\n",
       "      <th>f1</th>\n",
       "      <th>f2</th>\n",
       "      <th>product</th>\n",
       "    </tr>\n",
       "  </thead>\n",
       "  <tbody>\n",
       "    <tr>\n",
       "      <th>0</th>\n",
       "      <td>fwXo0</td>\n",
       "      <td>-1.146987</td>\n",
       "      <td>0.963328</td>\n",
       "      <td>-0.828965</td>\n",
       "      <td>27.758673</td>\n",
       "    </tr>\n",
       "    <tr>\n",
       "      <th>1</th>\n",
       "      <td>WJtFt</td>\n",
       "      <td>0.262778</td>\n",
       "      <td>0.269839</td>\n",
       "      <td>-2.530187</td>\n",
       "      <td>56.069697</td>\n",
       "    </tr>\n",
       "    <tr>\n",
       "      <th>2</th>\n",
       "      <td>ovLUW</td>\n",
       "      <td>0.194587</td>\n",
       "      <td>0.289035</td>\n",
       "      <td>-5.586433</td>\n",
       "      <td>62.871910</td>\n",
       "    </tr>\n",
       "    <tr>\n",
       "      <th>3</th>\n",
       "      <td>q6cA6</td>\n",
       "      <td>2.236060</td>\n",
       "      <td>-0.553760</td>\n",
       "      <td>0.930038</td>\n",
       "      <td>114.572842</td>\n",
       "    </tr>\n",
       "    <tr>\n",
       "      <th>4</th>\n",
       "      <td>WPMUX</td>\n",
       "      <td>-0.515993</td>\n",
       "      <td>1.716266</td>\n",
       "      <td>5.899011</td>\n",
       "      <td>149.600746</td>\n",
       "    </tr>\n",
       "  </tbody>\n",
       "</table>\n",
       "</div>"
      ],
      "text/plain": [
       "      id        f0        f1        f2     product\n",
       "0  fwXo0 -1.146987  0.963328 -0.828965   27.758673\n",
       "1  WJtFt  0.262778  0.269839 -2.530187   56.069697\n",
       "2  ovLUW  0.194587  0.289035 -5.586433   62.871910\n",
       "3  q6cA6  2.236060 -0.553760  0.930038  114.572842\n",
       "4  WPMUX -0.515993  1.716266  5.899011  149.600746"
      ]
     },
     "metadata": {},
     "output_type": "display_data"
    },
    {
     "name": "stdout",
     "output_type": "stream",
     "text": [
      "\n",
      "<class 'pandas.core.frame.DataFrame'>\n",
      "RangeIndex: 100000 entries, 0 to 99999\n",
      "Data columns (total 5 columns):\n",
      " #   Column   Non-Null Count   Dtype  \n",
      "---  ------   --------------   -----  \n",
      " 0   id       100000 non-null  object \n",
      " 1   f0       100000 non-null  float64\n",
      " 2   f1       100000 non-null  float64\n",
      " 3   f2       100000 non-null  float64\n",
      " 4   product  100000 non-null  float64\n",
      "dtypes: float64(4), object(1)\n",
      "memory usage: 3.8+ MB\n"
     ]
    }
   ],
   "source": [
    "try:\n",
    "    d_field_0 = pd.read_csv('datasets/geo_data_0.csv', sep=',') # загружаем с локального хранилища\n",
    "    d_field_1 = pd.read_csv('datasets/geo_data_1.csv', sep=',')\n",
    "    d_field_2 = pd.read_csv('datasets/geo_data_2.csv', sep=',')\n",
    "    \n",
    "    print('*' * 50, 'Месторождение \"Ноль\"', sep='\\n')\n",
    "    display(d_field_0.head(5))\n",
    "    print()\n",
    "    d_field_0.info()\n",
    "    print('*' * 50, 'Месторождение \"Один\"', sep='\\n')\n",
    "    display(d_field_1.head(5))\n",
    "    print()\n",
    "    d_field_1.info()\n",
    "    print('*' * 50, 'Месторождение \"Два\"', sep='\\n')\n",
    "    display(d_field_2.head(5))\n",
    "    print()\n",
    "    d_field_2.info()\n",
    "except:\n",
    "    d_field_0 = pd.read_csv('https://code.s3.yandex.net/datasets/geo_data_0.csv', sep=',') # если что-то не выходит, то с Яндекса\n",
    "    d_field_1 = pd.read_csv('https://code.s3.yandex.net/datasets/geo_data_1.csv', sep=',')\n",
    "    d_field_2 = pd.read_csv('https://code.s3.yandex.net/datasets/geo_data_2.csv', sep=',')\n",
    "    \n",
    "    print('Файл загружен из хранилища Яндекс')\n",
    "    print('*' * 50, 'Месторождение \"Ноль\"', sep='\\n')\n",
    "    display(d_field_0.head(5))\n",
    "    print()\n",
    "    d_field_0.info()\n",
    "    print('*' * 50, 'Месторождение \"Один\"', sep='\\n')\n",
    "    display(d_field_1.head(5))\n",
    "    print()\n",
    "    d_field_1.info()\n",
    "    print('*' * 50, 'Месторождение \"Два\"', sep='\\n')\n",
    "    display(d_field_2.head(5))\n",
    "    print()\n",
    "    d_field_2.info()"
   ]
  },
  {
   "cell_type": "markdown",
   "metadata": {},
   "source": [
    "1. Названия колонок -- ОК\n",
    "2. Пропусков нет\n",
    "3. Типы данных -- ОК\n",
    "4. ID скважин нужно будет удалить после проверки на дубликаты\n",
    "5. Все необходимые для обучения данные численные\n",
    "\n",
    "Посмотрим на распределение признаков для того, чтоб решить, нужно ли проводить масштабирование данных:"
   ]
  },
  {
   "cell_type": "code",
   "execution_count": 5,
   "metadata": {},
   "outputs": [
    {
     "data": {
      "image/png": "[encoded data removed]",
      "text/plain": [
       "<Figure size 2000x700 with 3 Axes>"
      ]
     },
     "metadata": {},
     "output_type": "display_data"
    }
   ],
   "source": [
    "fig, axes = plt.subplots(nrows=1, ncols=3, figsize=(20, 7))\n",
    "\n",
    "d_field_0[['f0', 'f1', 'f2']].boxplot(ax=axes[0])\n",
    "d_field_1[['f0', 'f1', 'f2']].boxplot(ax=axes[1])\n",
    "d_field_2[['f0', 'f1', 'f2']].boxplot(ax=axes[2])\n",
    "axes[0].set_title('Месторождение \"Ноль\"')\n",
    "axes[1].set_title('Месторождение \"Один\"')\n",
    "axes[2].set_title('Месторождение \"Два\"')\n",
    "axes[0].set_ylabel('Значения признаков')\n",
    "axes[0].set_xlabel('Признаки')\n",
    "axes[1].set_xlabel('Признаки')\n",
    "axes[2].set_xlabel('Признаки');"
   ]
  },
  {
   "cell_type": "markdown",
   "metadata": {},
   "source": [
    "Судя по графикам, масштабтрование полезно провести будет.\n",
    "\n",
    "**NB!** Обратим внимание, что распределение значений признаков для региона \"Один\" заметно отличается от регионов \"Ноль\" и \"Два\".\n",
    "\n",
    "Посмотрим на распределние целевого показателя:"
   ]
  },
  {
   "cell_type": "code",
   "execution_count": 6,
   "metadata": {},
   "outputs": [
    {
     "data": {
      "image/png": "[encoded data removed]",
      "text/plain": [
       "<Figure size 2000x1000 with 3 Axes>"
      ]
     },
     "metadata": {},
     "output_type": "display_data"
    }
   ],
   "source": [
    "fig, axes = plt.subplots(nrows=1, ncols=3, figsize=(20, 10))\n",
    "\n",
    "d_field_0['product'].hist(ax=axes[0], bins=30)\n",
    "d_field_1['product'].hist(ax=axes[1], bins=30)\n",
    "d_field_2['product'].hist(ax=axes[2], bins=30)\n",
    "axes[0].set_title('Регион \"Ноль\"')\n",
    "axes[1].set_title('Регион \"Один\"')\n",
    "axes[2].set_title('Регион \"Два\"')\n",
    "axes[0].set_ylabel('Частота встречающихся значений')\n",
    "axes[0].set_xlabel('Объём запасов в скважине (тыс. баррелей)')\n",
    "axes[1].set_xlabel('Объём запасов в скважине (тыс. баррелей)')\n",
    "axes[2].set_xlabel('Объём запасов в скважине (тыс. баррелей)');"
   ]
  },
  {
   "cell_type": "markdown",
   "metadata": {},
   "source": [
    "С регионом \"Один\" опять странности.\n",
    "Посмотрим, что на краях:"
   ]
  },
  {
   "cell_type": "code",
   "execution_count": 7,
   "metadata": {},
   "outputs": [
    {
     "data": {
      "text/plain": [
       "8.235000000000001"
      ]
     },
     "execution_count": 7,
     "metadata": {},
     "output_type": "execute_result"
    }
   ],
   "source": [
    "d_field_1.loc[d_field_1['product'] == 0, 'product'].count() / d_field_1.shape[0] * 100"
   ]
  },
  {
   "cell_type": "code",
   "execution_count": 8,
   "metadata": {},
   "outputs": [
    {
     "data": {
      "text/plain": [
       "8.233"
      ]
     },
     "execution_count": 8,
     "metadata": {},
     "output_type": "execute_result"
    }
   ],
   "source": [
    "d_field_1.loc[d_field_1['product'] == d_field_1['product'].max(), 'product'].count() / d_field_1.shape[0] * 100"
   ]
  },
  {
   "cell_type": "markdown",
   "metadata": {},
   "source": [
    "Интересно. 8.2 процента пустых скважин, 8.2 процента скважин с максимальной заполненностью, причем значения максимума совападают.\n",
    "Посмотрим еще более детально на значения целевого показателя:"
   ]
  },
  {
   "cell_type": "code",
   "execution_count": 9,
   "metadata": {},
   "outputs": [
    {
     "data": {
      "image/png": "[encoded data removed]",
      "text/plain": [
       "<Figure size 1500x500 with 1 Axes>"
      ]
     },
     "metadata": {},
     "output_type": "display_data"
    }
   ],
   "source": [
    "axes = d_field_1.groupby('product')['product'].count().plot(kind='barh', grid=True, figsize=(15, 5))\n",
    "axes.set_title('Регион \"Один\"')\n",
    "axes.set_ylabel('Объём запасов в скважине (тыс. баррелей)')\n",
    "axes.set_xlabel('Количество скважин');"
   ]
  },
  {
   "cell_type": "markdown",
   "metadata": {},
   "source": [
    "Очень странный регион.  \n",
    "На сто тысяч скважин взяли одиннадцать вариантов объема запасов нефти (плюс ноль), причем на каждое значение приходится от 8 200 до 8 500 скважин.  \n",
    "Не эксперт в нефредобыче, но даже поверхностное исследование по региону \"Один\" наводит на мысли о каком-то уж слишком синтетическом генезисе данных.  \n",
    "Я понимаю, что в условии задачи было сказано про синтетику, но это перебор, кмк.\n",
    "На мой взгляд, правильнее было бы сразу исключить регион \"Один\" из исследования, но так как у нас дальше будут разработаны универсальные функции, то не вижу проблем посмотреть, к каким выводам мы придем на таких удивительных данных.  \n",
    "\n",
    "Осталось проверить на утечку целевого признака:"
   ]
  },
  {
   "cell_type": "code",
   "execution_count": 10,
   "metadata": {},
   "outputs": [
    {
     "data": {
      "text/html": [
       "<div>\n",
       "<style scoped>\n",
       "    .dataframe tbody tr th:only-of-type {\n",
       "        vertical-align: middle;\n",
       "    }\n",
       "\n",
       "    .dataframe tbody tr th {\n",
       "        vertical-align: top;\n",
       "    }\n",
       "\n",
       "    .dataframe thead th {\n",
       "        text-align: right;\n",
       "    }\n",
       "</style>\n",
       "<table border=\"1\" class=\"dataframe\">\n",
       "  <thead>\n",
       "    <tr style=\"text-align: right;\">\n",
       "      <th></th>\n",
       "      <th>f0</th>\n",
       "      <th>f1</th>\n",
       "      <th>f2</th>\n",
       "      <th>product</th>\n",
       "    </tr>\n",
       "  </thead>\n",
       "  <tbody>\n",
       "    <tr>\n",
       "      <th>f0</th>\n",
       "      <td>1.000000</td>\n",
       "      <td>-0.440723</td>\n",
       "      <td>-0.003153</td>\n",
       "      <td>0.143536</td>\n",
       "    </tr>\n",
       "    <tr>\n",
       "      <th>f1</th>\n",
       "      <td>-0.440723</td>\n",
       "      <td>1.000000</td>\n",
       "      <td>0.001724</td>\n",
       "      <td>-0.192356</td>\n",
       "    </tr>\n",
       "    <tr>\n",
       "      <th>f2</th>\n",
       "      <td>-0.003153</td>\n",
       "      <td>0.001724</td>\n",
       "      <td>1.000000</td>\n",
       "      <td>0.483663</td>\n",
       "    </tr>\n",
       "    <tr>\n",
       "      <th>product</th>\n",
       "      <td>0.143536</td>\n",
       "      <td>-0.192356</td>\n",
       "      <td>0.483663</td>\n",
       "      <td>1.000000</td>\n",
       "    </tr>\n",
       "  </tbody>\n",
       "</table>\n",
       "</div>"
      ],
      "text/plain": [
       "               f0        f1        f2   product\n",
       "f0       1.000000 -0.440723 -0.003153  0.143536\n",
       "f1      -0.440723  1.000000  0.001724 -0.192356\n",
       "f2      -0.003153  0.001724  1.000000  0.483663\n",
       "product  0.143536 -0.192356  0.483663  1.000000"
      ]
     },
     "execution_count": 10,
     "metadata": {},
     "output_type": "execute_result"
    }
   ],
   "source": [
    "d_field_0.drop('id', axis=1).corr()"
   ]
  },
  {
   "cell_type": "code",
   "execution_count": 11,
   "metadata": {},
   "outputs": [
    {
     "data": {
      "text/html": [
       "<div>\n",
       "<style scoped>\n",
       "    .dataframe tbody tr th:only-of-type {\n",
       "        vertical-align: middle;\n",
       "    }\n",
       "\n",
       "    .dataframe tbody tr th {\n",
       "        vertical-align: top;\n",
       "    }\n",
       "\n",
       "    .dataframe thead th {\n",
       "        text-align: right;\n",
       "    }\n",
       "</style>\n",
       "<table border=\"1\" class=\"dataframe\">\n",
       "  <thead>\n",
       "    <tr style=\"text-align: right;\">\n",
       "      <th></th>\n",
       "      <th>f0</th>\n",
       "      <th>f1</th>\n",
       "      <th>f2</th>\n",
       "      <th>product</th>\n",
       "    </tr>\n",
       "  </thead>\n",
       "  <tbody>\n",
       "    <tr>\n",
       "      <th>f0</th>\n",
       "      <td>1.000000</td>\n",
       "      <td>0.182287</td>\n",
       "      <td>-0.001777</td>\n",
       "      <td>-0.030491</td>\n",
       "    </tr>\n",
       "    <tr>\n",
       "      <th>f1</th>\n",
       "      <td>0.182287</td>\n",
       "      <td>1.000000</td>\n",
       "      <td>-0.002595</td>\n",
       "      <td>-0.010155</td>\n",
       "    </tr>\n",
       "    <tr>\n",
       "      <th>f2</th>\n",
       "      <td>-0.001777</td>\n",
       "      <td>-0.002595</td>\n",
       "      <td>1.000000</td>\n",
       "      <td>0.999397</td>\n",
       "    </tr>\n",
       "    <tr>\n",
       "      <th>product</th>\n",
       "      <td>-0.030491</td>\n",
       "      <td>-0.010155</td>\n",
       "      <td>0.999397</td>\n",
       "      <td>1.000000</td>\n",
       "    </tr>\n",
       "  </tbody>\n",
       "</table>\n",
       "</div>"
      ],
      "text/plain": [
       "               f0        f1        f2   product\n",
       "f0       1.000000  0.182287 -0.001777 -0.030491\n",
       "f1       0.182287  1.000000 -0.002595 -0.010155\n",
       "f2      -0.001777 -0.002595  1.000000  0.999397\n",
       "product -0.030491 -0.010155  0.999397  1.000000"
      ]
     },
     "execution_count": 11,
     "metadata": {},
     "output_type": "execute_result"
    }
   ],
   "source": [
    "d_field_1.drop('id', axis=1).corr()"
   ]
  },
  {
   "cell_type": "code",
   "execution_count": 12,
   "metadata": {},
   "outputs": [
    {
     "data": {
      "text/html": [
       "<div>\n",
       "<style scoped>\n",
       "    .dataframe tbody tr th:only-of-type {\n",
       "        vertical-align: middle;\n",
       "    }\n",
       "\n",
       "    .dataframe tbody tr th {\n",
       "        vertical-align: top;\n",
       "    }\n",
       "\n",
       "    .dataframe thead th {\n",
       "        text-align: right;\n",
       "    }\n",
       "</style>\n",
       "<table border=\"1\" class=\"dataframe\">\n",
       "  <thead>\n",
       "    <tr style=\"text-align: right;\">\n",
       "      <th></th>\n",
       "      <th>f0</th>\n",
       "      <th>f1</th>\n",
       "      <th>f2</th>\n",
       "      <th>product</th>\n",
       "    </tr>\n",
       "  </thead>\n",
       "  <tbody>\n",
       "    <tr>\n",
       "      <th>f0</th>\n",
       "      <td>1.000000</td>\n",
       "      <td>0.000528</td>\n",
       "      <td>-0.000448</td>\n",
       "      <td>-0.001987</td>\n",
       "    </tr>\n",
       "    <tr>\n",
       "      <th>f1</th>\n",
       "      <td>0.000528</td>\n",
       "      <td>1.000000</td>\n",
       "      <td>0.000779</td>\n",
       "      <td>-0.001012</td>\n",
       "    </tr>\n",
       "    <tr>\n",
       "      <th>f2</th>\n",
       "      <td>-0.000448</td>\n",
       "      <td>0.000779</td>\n",
       "      <td>1.000000</td>\n",
       "      <td>0.445871</td>\n",
       "    </tr>\n",
       "    <tr>\n",
       "      <th>product</th>\n",
       "      <td>-0.001987</td>\n",
       "      <td>-0.001012</td>\n",
       "      <td>0.445871</td>\n",
       "      <td>1.000000</td>\n",
       "    </tr>\n",
       "  </tbody>\n",
       "</table>\n",
       "</div>"
      ],
      "text/plain": [
       "               f0        f1        f2   product\n",
       "f0       1.000000  0.000528 -0.000448 -0.001987\n",
       "f1       0.000528  1.000000  0.000779 -0.001012\n",
       "f2      -0.000448  0.000779  1.000000  0.445871\n",
       "product -0.001987 -0.001012  0.445871  1.000000"
      ]
     },
     "execution_count": 12,
     "metadata": {},
     "output_type": "execute_result"
    }
   ],
   "source": [
    "d_field_2.drop('id', axis=1).corr()"
   ]
  },
  {
   "cell_type": "markdown",
   "metadata": {},
   "source": [
    "Сильная зависимость наблюдается в регионе \"Один\" между f2 и product (к-т 0.999397), в регионах \"Ноль\" и \"Два\" -- средне-слабая зависимость (к-ты 0.483663 и 0.445871 соответственно).  \n",
    "К сожалению, мы ничего не знаем про то, что именно хранится в fi-тых значнеиях, поэтому удалять что-либо не будем, так как не можем интерпретировать должным образом результаты.  \n",
    "Но сразу предположим, что модель для региона \"Один\" будет ну очень хорошо обучаться."
   ]
  },
  {
   "cell_type": "markdown",
   "metadata": {},
   "source": [
    "Выводы по обзору данных:\n",
    "1. Трогать не будем:\n",
    "    * Типы данных\n",
    "    * Нзвания колонок\n",
    "    * Пропуски данных\n",
    "2. На предобработку:\n",
    "    * Проверка на дубликаты\n",
    "    * Удаление столбца ID\n",
    "    * Выделение обучающей и валидационной выборок\n",
    "    * Масштабирование признаков\n",
    "\n",
    "Также на этапе обзора данных обнаружили странности в данных по региону \"Один\"."
   ]
  },
  {
   "cell_type": "markdown",
   "metadata": {},
   "source": [
    "### 1.2 Предобработка"
   ]
  },
  {
   "cell_type": "markdown",
   "metadata": {},
   "source": [
    "#### 1.2.1 Проверка на дубликаты\n",
    "Проверим, есть ли полные дубликаты и дубли скважин по id"
   ]
  },
  {
   "cell_type": "code",
   "execution_count": 13,
   "metadata": {},
   "outputs": [
    {
     "name": "stdout",
     "output_type": "stream",
     "text": [
      "Количество полных дубликатов \"Ноль\": 0\n",
      "Количество полных дубликатов \"Один\": 0\n",
      "Количество полных дубликатов \"Два\": 0\n"
     ]
    }
   ],
   "source": [
    "print('Количество полных дубликатов \"Ноль\":', d_field_0.duplicated().sum())\n",
    "print('Количество полных дубликатов \"Один\":', d_field_1.duplicated().sum())\n",
    "print('Количество полных дубликатов \"Два\":', d_field_2.duplicated().sum())"
   ]
  },
  {
   "cell_type": "markdown",
   "metadata": {},
   "source": [
    "Полных дублей нет, проверим, что по ID:"
   ]
  },
  {
   "cell_type": "code",
   "execution_count": 14,
   "metadata": {},
   "outputs": [
    {
     "name": "stdout",
     "output_type": "stream",
     "text": [
      "\n",
      "\n",
      "**************************************************\n",
      "Дубликаты по id скважины для региона \"Ноль\":\n"
     ]
    },
    {
     "data": {
      "text/html": [
       "<div>\n",
       "<style scoped>\n",
       "    .dataframe tbody tr th:only-of-type {\n",
       "        vertical-align: middle;\n",
       "    }\n",
       "\n",
       "    .dataframe tbody tr th {\n",
       "        vertical-align: top;\n",
       "    }\n",
       "\n",
       "    .dataframe thead th {\n",
       "        text-align: right;\n",
       "    }\n",
       "</style>\n",
       "<table border=\"1\" class=\"dataframe\">\n",
       "  <thead>\n",
       "    <tr style=\"text-align: right;\">\n",
       "      <th></th>\n",
       "      <th>id</th>\n",
       "      <th>f0</th>\n",
       "      <th>f1</th>\n",
       "      <th>f2</th>\n",
       "      <th>product</th>\n",
       "    </tr>\n",
       "  </thead>\n",
       "  <tbody>\n",
       "    <tr>\n",
       "      <th>66136</th>\n",
       "      <td>74z30</td>\n",
       "      <td>1.084962</td>\n",
       "      <td>-0.312358</td>\n",
       "      <td>6.990771</td>\n",
       "      <td>127.643327</td>\n",
       "    </tr>\n",
       "    <tr>\n",
       "      <th>64022</th>\n",
       "      <td>74z30</td>\n",
       "      <td>0.741456</td>\n",
       "      <td>0.459229</td>\n",
       "      <td>5.153109</td>\n",
       "      <td>140.771492</td>\n",
       "    </tr>\n",
       "    <tr>\n",
       "      <th>51970</th>\n",
       "      <td>A5aEY</td>\n",
       "      <td>-0.180335</td>\n",
       "      <td>0.935548</td>\n",
       "      <td>-2.094773</td>\n",
       "      <td>33.020205</td>\n",
       "    </tr>\n",
       "    <tr>\n",
       "      <th>3389</th>\n",
       "      <td>A5aEY</td>\n",
       "      <td>-0.039949</td>\n",
       "      <td>0.156872</td>\n",
       "      <td>0.209861</td>\n",
       "      <td>89.249364</td>\n",
       "    </tr>\n",
       "    <tr>\n",
       "      <th>69163</th>\n",
       "      <td>AGS9W</td>\n",
       "      <td>-0.933795</td>\n",
       "      <td>0.116194</td>\n",
       "      <td>-3.655896</td>\n",
       "      <td>19.230453</td>\n",
       "    </tr>\n",
       "    <tr>\n",
       "      <th>42529</th>\n",
       "      <td>AGS9W</td>\n",
       "      <td>1.454747</td>\n",
       "      <td>-0.479651</td>\n",
       "      <td>0.683380</td>\n",
       "      <td>126.370504</td>\n",
       "    </tr>\n",
       "    <tr>\n",
       "      <th>931</th>\n",
       "      <td>HZww2</td>\n",
       "      <td>0.755284</td>\n",
       "      <td>0.368511</td>\n",
       "      <td>1.863211</td>\n",
       "      <td>30.681774</td>\n",
       "    </tr>\n",
       "    <tr>\n",
       "      <th>7530</th>\n",
       "      <td>HZww2</td>\n",
       "      <td>1.061194</td>\n",
       "      <td>-0.373969</td>\n",
       "      <td>10.430210</td>\n",
       "      <td>158.828695</td>\n",
       "    </tr>\n",
       "    <tr>\n",
       "      <th>63593</th>\n",
       "      <td>QcMuo</td>\n",
       "      <td>0.635635</td>\n",
       "      <td>-0.473422</td>\n",
       "      <td>0.862670</td>\n",
       "      <td>64.578675</td>\n",
       "    </tr>\n",
       "    <tr>\n",
       "      <th>1949</th>\n",
       "      <td>QcMuo</td>\n",
       "      <td>0.506563</td>\n",
       "      <td>-0.323775</td>\n",
       "      <td>-2.215583</td>\n",
       "      <td>75.496502</td>\n",
       "    </tr>\n",
       "    <tr>\n",
       "      <th>75715</th>\n",
       "      <td>Tdehs</td>\n",
       "      <td>0.112079</td>\n",
       "      <td>0.430296</td>\n",
       "      <td>3.218993</td>\n",
       "      <td>60.964018</td>\n",
       "    </tr>\n",
       "    <tr>\n",
       "      <th>21426</th>\n",
       "      <td>Tdehs</td>\n",
       "      <td>0.829407</td>\n",
       "      <td>0.298807</td>\n",
       "      <td>-0.049563</td>\n",
       "      <td>96.035308</td>\n",
       "    </tr>\n",
       "    <tr>\n",
       "      <th>92341</th>\n",
       "      <td>TtcGQ</td>\n",
       "      <td>0.110711</td>\n",
       "      <td>1.022689</td>\n",
       "      <td>0.911381</td>\n",
       "      <td>101.318008</td>\n",
       "    </tr>\n",
       "    <tr>\n",
       "      <th>60140</th>\n",
       "      <td>TtcGQ</td>\n",
       "      <td>0.569276</td>\n",
       "      <td>-0.104876</td>\n",
       "      <td>6.440215</td>\n",
       "      <td>85.350186</td>\n",
       "    </tr>\n",
       "    <tr>\n",
       "      <th>89582</th>\n",
       "      <td>bsk9y</td>\n",
       "      <td>0.398908</td>\n",
       "      <td>-0.400253</td>\n",
       "      <td>10.122376</td>\n",
       "      <td>163.433078</td>\n",
       "    </tr>\n",
       "    <tr>\n",
       "      <th>97785</th>\n",
       "      <td>bsk9y</td>\n",
       "      <td>0.378429</td>\n",
       "      <td>0.005837</td>\n",
       "      <td>0.160827</td>\n",
       "      <td>160.637302</td>\n",
       "    </tr>\n",
       "    <tr>\n",
       "      <th>41724</th>\n",
       "      <td>bxg6G</td>\n",
       "      <td>-0.823752</td>\n",
       "      <td>0.546319</td>\n",
       "      <td>3.630479</td>\n",
       "      <td>93.007798</td>\n",
       "    </tr>\n",
       "    <tr>\n",
       "      <th>1364</th>\n",
       "      <td>bxg6G</td>\n",
       "      <td>0.411645</td>\n",
       "      <td>0.856830</td>\n",
       "      <td>-3.653440</td>\n",
       "      <td>73.604260</td>\n",
       "    </tr>\n",
       "    <tr>\n",
       "      <th>16633</th>\n",
       "      <td>fiKDv</td>\n",
       "      <td>0.157341</td>\n",
       "      <td>1.028359</td>\n",
       "      <td>5.585586</td>\n",
       "      <td>95.817889</td>\n",
       "    </tr>\n",
       "    <tr>\n",
       "      <th>90815</th>\n",
       "      <td>fiKDv</td>\n",
       "      <td>0.049883</td>\n",
       "      <td>0.841313</td>\n",
       "      <td>6.394613</td>\n",
       "      <td>137.346586</td>\n",
       "    </tr>\n",
       "  </tbody>\n",
       "</table>\n",
       "</div>"
      ],
      "text/plain": [
       "          id        f0        f1         f2     product\n",
       "66136  74z30  1.084962 -0.312358   6.990771  127.643327\n",
       "64022  74z30  0.741456  0.459229   5.153109  140.771492\n",
       "51970  A5aEY -0.180335  0.935548  -2.094773   33.020205\n",
       "3389   A5aEY -0.039949  0.156872   0.209861   89.249364\n",
       "69163  AGS9W -0.933795  0.116194  -3.655896   19.230453\n",
       "42529  AGS9W  1.454747 -0.479651   0.683380  126.370504\n",
       "931    HZww2  0.755284  0.368511   1.863211   30.681774\n",
       "7530   HZww2  1.061194 -0.373969  10.430210  158.828695\n",
       "63593  QcMuo  0.635635 -0.473422   0.862670   64.578675\n",
       "1949   QcMuo  0.506563 -0.323775  -2.215583   75.496502\n",
       "75715  Tdehs  0.112079  0.430296   3.218993   60.964018\n",
       "21426  Tdehs  0.829407  0.298807  -0.049563   96.035308\n",
       "92341  TtcGQ  0.110711  1.022689   0.911381  101.318008\n",
       "60140  TtcGQ  0.569276 -0.104876   6.440215   85.350186\n",
       "89582  bsk9y  0.398908 -0.400253  10.122376  163.433078\n",
       "97785  bsk9y  0.378429  0.005837   0.160827  160.637302\n",
       "41724  bxg6G -0.823752  0.546319   3.630479   93.007798\n",
       "1364   bxg6G  0.411645  0.856830  -3.653440   73.604260\n",
       "16633  fiKDv  0.157341  1.028359   5.585586   95.817889\n",
       "90815  fiKDv  0.049883  0.841313   6.394613  137.346586"
      ]
     },
     "metadata": {},
     "output_type": "display_data"
    },
    {
     "name": "stdout",
     "output_type": "stream",
     "text": [
      "\n",
      "\n",
      "**************************************************\n",
      "Дубликаты по id скважины для региона \"Один\":\n"
     ]
    },
    {
     "data": {
      "text/html": [
       "<div>\n",
       "<style scoped>\n",
       "    .dataframe tbody tr th:only-of-type {\n",
       "        vertical-align: middle;\n",
       "    }\n",
       "\n",
       "    .dataframe tbody tr th {\n",
       "        vertical-align: top;\n",
       "    }\n",
       "\n",
       "    .dataframe thead th {\n",
       "        text-align: right;\n",
       "    }\n",
       "</style>\n",
       "<table border=\"1\" class=\"dataframe\">\n",
       "  <thead>\n",
       "    <tr style=\"text-align: right;\">\n",
       "      <th></th>\n",
       "      <th>id</th>\n",
       "      <th>f0</th>\n",
       "      <th>f1</th>\n",
       "      <th>f2</th>\n",
       "      <th>product</th>\n",
       "    </tr>\n",
       "  </thead>\n",
       "  <tbody>\n",
       "    <tr>\n",
       "      <th>5849</th>\n",
       "      <td>5ltQ6</td>\n",
       "      <td>-3.435401</td>\n",
       "      <td>-12.296043</td>\n",
       "      <td>1.999796</td>\n",
       "      <td>57.085625</td>\n",
       "    </tr>\n",
       "    <tr>\n",
       "      <th>84461</th>\n",
       "      <td>5ltQ6</td>\n",
       "      <td>18.213839</td>\n",
       "      <td>2.191999</td>\n",
       "      <td>3.993869</td>\n",
       "      <td>107.813044</td>\n",
       "    </tr>\n",
       "    <tr>\n",
       "      <th>1305</th>\n",
       "      <td>LHZR0</td>\n",
       "      <td>11.170835</td>\n",
       "      <td>-1.945066</td>\n",
       "      <td>3.002872</td>\n",
       "      <td>80.859783</td>\n",
       "    </tr>\n",
       "    <tr>\n",
       "      <th>41906</th>\n",
       "      <td>LHZR0</td>\n",
       "      <td>-8.989672</td>\n",
       "      <td>-4.286607</td>\n",
       "      <td>2.009139</td>\n",
       "      <td>57.085625</td>\n",
       "    </tr>\n",
       "    <tr>\n",
       "      <th>2721</th>\n",
       "      <td>bfPNe</td>\n",
       "      <td>-9.494442</td>\n",
       "      <td>-5.463692</td>\n",
       "      <td>4.006042</td>\n",
       "      <td>110.992147</td>\n",
       "    </tr>\n",
       "    <tr>\n",
       "      <th>82178</th>\n",
       "      <td>bfPNe</td>\n",
       "      <td>-6.202799</td>\n",
       "      <td>-4.820045</td>\n",
       "      <td>2.995107</td>\n",
       "      <td>84.038886</td>\n",
       "    </tr>\n",
       "    <tr>\n",
       "      <th>47591</th>\n",
       "      <td>wt4Uk</td>\n",
       "      <td>-9.091098</td>\n",
       "      <td>-8.109279</td>\n",
       "      <td>-0.002314</td>\n",
       "      <td>3.179103</td>\n",
       "    </tr>\n",
       "    <tr>\n",
       "      <th>82873</th>\n",
       "      <td>wt4Uk</td>\n",
       "      <td>10.259972</td>\n",
       "      <td>-9.376355</td>\n",
       "      <td>4.994297</td>\n",
       "      <td>134.766305</td>\n",
       "    </tr>\n",
       "  </tbody>\n",
       "</table>\n",
       "</div>"
      ],
      "text/plain": [
       "          id         f0         f1        f2     product\n",
       "5849   5ltQ6  -3.435401 -12.296043  1.999796   57.085625\n",
       "84461  5ltQ6  18.213839   2.191999  3.993869  107.813044\n",
       "1305   LHZR0  11.170835  -1.945066  3.002872   80.859783\n",
       "41906  LHZR0  -8.989672  -4.286607  2.009139   57.085625\n",
       "2721   bfPNe  -9.494442  -5.463692  4.006042  110.992147\n",
       "82178  bfPNe  -6.202799  -4.820045  2.995107   84.038886\n",
       "47591  wt4Uk  -9.091098  -8.109279 -0.002314    3.179103\n",
       "82873  wt4Uk  10.259972  -9.376355  4.994297  134.766305"
      ]
     },
     "metadata": {},
     "output_type": "display_data"
    },
    {
     "name": "stdout",
     "output_type": "stream",
     "text": [
      "\n",
      "\n",
      "**************************************************\n",
      "Дубликаты по id скважины для региона \"Два\":\n"
     ]
    },
    {
     "data": {
      "text/html": [
       "<div>\n",
       "<style scoped>\n",
       "    .dataframe tbody tr th:only-of-type {\n",
       "        vertical-align: middle;\n",
       "    }\n",
       "\n",
       "    .dataframe tbody tr th {\n",
       "        vertical-align: top;\n",
       "    }\n",
       "\n",
       "    .dataframe thead th {\n",
       "        text-align: right;\n",
       "    }\n",
       "</style>\n",
       "<table border=\"1\" class=\"dataframe\">\n",
       "  <thead>\n",
       "    <tr style=\"text-align: right;\">\n",
       "      <th></th>\n",
       "      <th>id</th>\n",
       "      <th>f0</th>\n",
       "      <th>f1</th>\n",
       "      <th>f2</th>\n",
       "      <th>product</th>\n",
       "    </tr>\n",
       "  </thead>\n",
       "  <tbody>\n",
       "    <tr>\n",
       "      <th>45404</th>\n",
       "      <td>KUPhW</td>\n",
       "      <td>0.231846</td>\n",
       "      <td>-1.698941</td>\n",
       "      <td>4.990775</td>\n",
       "      <td>11.716299</td>\n",
       "    </tr>\n",
       "    <tr>\n",
       "      <th>55967</th>\n",
       "      <td>KUPhW</td>\n",
       "      <td>1.211150</td>\n",
       "      <td>3.176408</td>\n",
       "      <td>5.543540</td>\n",
       "      <td>132.831802</td>\n",
       "    </tr>\n",
       "    <tr>\n",
       "      <th>11449</th>\n",
       "      <td>VF7Jo</td>\n",
       "      <td>2.122656</td>\n",
       "      <td>-0.858275</td>\n",
       "      <td>5.746001</td>\n",
       "      <td>181.716817</td>\n",
       "    </tr>\n",
       "    <tr>\n",
       "      <th>49564</th>\n",
       "      <td>VF7Jo</td>\n",
       "      <td>-0.883115</td>\n",
       "      <td>0.560537</td>\n",
       "      <td>0.723601</td>\n",
       "      <td>136.233420</td>\n",
       "    </tr>\n",
       "    <tr>\n",
       "      <th>44378</th>\n",
       "      <td>Vcm5J</td>\n",
       "      <td>-1.229484</td>\n",
       "      <td>-2.439204</td>\n",
       "      <td>1.222909</td>\n",
       "      <td>137.968290</td>\n",
       "    </tr>\n",
       "    <tr>\n",
       "      <th>95090</th>\n",
       "      <td>Vcm5J</td>\n",
       "      <td>2.587702</td>\n",
       "      <td>1.986875</td>\n",
       "      <td>2.482245</td>\n",
       "      <td>92.327572</td>\n",
       "    </tr>\n",
       "    <tr>\n",
       "      <th>28039</th>\n",
       "      <td>xCHr8</td>\n",
       "      <td>1.633027</td>\n",
       "      <td>0.368135</td>\n",
       "      <td>-2.378367</td>\n",
       "      <td>6.120525</td>\n",
       "    </tr>\n",
       "    <tr>\n",
       "      <th>43233</th>\n",
       "      <td>xCHr8</td>\n",
       "      <td>-0.847066</td>\n",
       "      <td>2.101796</td>\n",
       "      <td>5.597130</td>\n",
       "      <td>184.388641</td>\n",
       "    </tr>\n",
       "  </tbody>\n",
       "</table>\n",
       "</div>"
      ],
      "text/plain": [
       "          id        f0        f1        f2     product\n",
       "45404  KUPhW  0.231846 -1.698941  4.990775   11.716299\n",
       "55967  KUPhW  1.211150  3.176408  5.543540  132.831802\n",
       "11449  VF7Jo  2.122656 -0.858275  5.746001  181.716817\n",
       "49564  VF7Jo -0.883115  0.560537  0.723601  136.233420\n",
       "44378  Vcm5J -1.229484 -2.439204  1.222909  137.968290\n",
       "95090  Vcm5J  2.587702  1.986875  2.482245   92.327572\n",
       "28039  xCHr8  1.633027  0.368135 -2.378367    6.120525\n",
       "43233  xCHr8 -0.847066  2.101796  5.597130  184.388641"
      ]
     },
     "metadata": {},
     "output_type": "display_data"
    }
   ],
   "source": [
    "print('\\n', '*' * 50, 'Дубликаты по id скважины для региона \"Ноль\":', sep='\\n')\n",
    "display(d_field_0.loc[d_field_0.duplicated(subset='id', keep=False), :].sort_values('id'))\n",
    "print('\\n', '*' * 50, 'Дубликаты по id скважины для региона \"Один\":', sep='\\n')\n",
    "display(d_field_1.loc[d_field_1.duplicated(subset='id', keep=False), :].sort_values('id'))\n",
    "print('\\n', '*' * 50, 'Дубликаты по id скважины для региона \"Два\":', sep='\\n')\n",
    "display(d_field_2.loc[d_field_2.duplicated(subset='id', keep=False), :].sort_values('id'))"
   ]
  },
  {
   "cell_type": "markdown",
   "metadata": {},
   "source": [
    "Странно -- дубли по id скважин есть, но:\n",
    "1. Их изчезающе мало -- не более десяти пар на регион при ста тысячах строк\n",
    "2. fi-тые и целевой показатель у совпадающих id различны\n",
    "\n",
    "Какие-то закономерности найти не удалось, значения в пределах распределения, поэтому:\n",
    "1. Столбец id сносим\n",
    "2. Строчки-дубли не сносим"
   ]
  },
  {
   "cell_type": "markdown",
   "metadata": {},
   "source": [
    "В остальном процедура подготовки данных у нас единообразно проходить будет:\n",
    "1. Дропаем столбец id\n",
    "2. Выделим обучающую и валидационную выборки в соотношении 75:25\n",
    "3. Масштабируем данные"
   ]
  },
  {
   "cell_type": "code",
   "execution_count": 15,
   "metadata": {},
   "outputs": [],
   "source": [
    "def datenaufbereitung (data):\n",
    "\n",
    "# Дропаем id:\n",
    "    data = data.drop('id', axis=1)\n",
    "    \n",
    "# Выделяем целевой показатель:\n",
    "    target = data['product']\n",
    "    features = data.drop('product', axis=1)\n",
    "    \n",
    "# Выделяем тренировочную и валидационную выборки:\n",
    "    features_train, features_valid, target_train, target_valid =\\\n",
    "    train_test_split(features, target, test_size=0.25, random_state=RAND_FIX)\n",
    "    \n",
    "    print('features_train:', features_train.shape, ' target_train:', target_train.shape)\n",
    "    print('features_valid:', features_valid.shape, ' target_valid:', target_valid.shape, '\\n')\n",
    "\n",
    "# Проводим масштабирование:\n",
    "    numeric = ['f0', 'f1', 'f2']\n",
    "    scaler = StandardScaler()\n",
    "    scaler.fit(features_train.loc[:, numeric])\n",
    "    features_train.loc[:, numeric] = scaler.transform(features_train.loc[:, numeric])\n",
    "    features_valid.loc[:, numeric] = scaler.transform(features_valid.loc[:, numeric])\n",
    "    \n",
    "# Визуализация результатов\n",
    "    fig, axes = plt.subplots(nrows=1, ncols=4, figsize=(20, 5))\n",
    "\n",
    "    features_train.boxplot(ax=axes[0])\n",
    "    target_train.hist(ax=axes[1], bins=30)\n",
    "    features_valid.boxplot(ax=axes[2])\n",
    "    target_valid.hist(ax=axes[3], bins=30)\n",
    "    \n",
    "    axes[0].set_title('features_train')\n",
    "    axes[1].set_title('target_train')\n",
    "    axes[2].set_title('features_valid')\n",
    "    axes[3].set_title('target_valid')\n",
    "    axes[0].set_ylabel('Значения признаков')\n",
    "    axes[1].set_ylabel('Частота встречающихся значений')\n",
    "    axes[2].set_ylabel('Значения признаков')\n",
    "    axes[3].set_ylabel('Частота встречающихся значений')\n",
    "    axes[0].set_xlabel('Признаки')\n",
    "    axes[1].set_xlabel('Объём запасов в скважине (тыс. баррелей)')\n",
    "    axes[2].set_xlabel('Признаки')\n",
    "    axes[3].set_xlabel('Объём запасов в скважине (тыс. баррелей)')\n",
    "    \n",
    "    return features_train.reset_index(drop=True), features_valid.reset_index(drop=True), \\\n",
    "target_train.reset_index(drop=True), target_valid.reset_index(drop=True)"
   ]
  },
  {
   "cell_type": "markdown",
   "metadata": {},
   "source": [
    "#### 1.2.1 Подготовка данных к обучению модели"
   ]
  },
  {
   "cell_type": "code",
   "execution_count": 16,
   "metadata": {},
   "outputs": [
    {
     "name": "stdout",
     "output_type": "stream",
     "text": [
      "\n",
      "\n",
      "**************************************************\n",
      "Подготовка к обучению для региона \"Ноль\":\n",
      "\n",
      "\n",
      "features_train: (75000, 3)  target_train: (75000,)\n",
      "features_valid: (25000, 3)  target_valid: (25000,) \n",
      "\n"
     ]
    },
    {
     "data": {
      "image/png": "[encoded data removed]",
      "text/plain": [
       "<Figure size 2000x500 with 4 Axes>"
      ]
     },
     "metadata": {},
     "output_type": "display_data"
    }
   ],
   "source": [
    "print('\\n', '*' * 50, 'Подготовка к обучению для региона \"Ноль\":', '\\n', sep='\\n')\n",
    "features_train_0, features_valid_0, target_train_0, target_valid_0 = datenaufbereitung(d_field_0)"
   ]
  },
  {
   "cell_type": "code",
   "execution_count": 17,
   "metadata": {},
   "outputs": [
    {
     "name": "stdout",
     "output_type": "stream",
     "text": [
      "\n",
      "\n",
      "**************************************************\n",
      "Подготовка к обучению для региона \"Один\":\n",
      "\n",
      "\n",
      "features_train: (75000, 3)  target_train: (75000,)\n",
      "features_valid: (25000, 3)  target_valid: (25000,) \n",
      "\n"
     ]
    },
    {
     "data": {
      "image/png": "[encoded data removed]",
      "text/plain": [
       "<Figure size 2000x500 with 4 Axes>"
      ]
     },
     "metadata": {},
     "output_type": "display_data"
    }
   ],
   "source": [
    "print('\\n', '*' * 50, 'Подготовка к обучению для региона \"Один\":', '\\n', sep='\\n')\n",
    "features_train_1, features_valid_1, target_train_1, target_valid_1 = datenaufbereitung(d_field_1)"
   ]
  },
  {
   "cell_type": "code",
   "execution_count": 18,
   "metadata": {},
   "outputs": [
    {
     "name": "stdout",
     "output_type": "stream",
     "text": [
      "\n",
      "\n",
      "**************************************************\n",
      "Подготовка к обучению для региона \"Два\":\n",
      "\n",
      "\n",
      "features_train: (75000, 3)  target_train: (75000,)\n",
      "features_valid: (25000, 3)  target_valid: (25000,) \n",
      "\n"
     ]
    },
    {
     "data": {
      "image/png": "[encoded data removed]",
      "text/plain": [
       "<Figure size 2000x500 with 4 Axes>"
      ]
     },
     "metadata": {},
     "output_type": "display_data"
    }
   ],
   "source": [
    "print('\\n', '*' * 50, 'Подготовка к обучению для региона \"Два\":', '\\n', sep='\\n')\n",
    "features_train_2, features_valid_2, target_train_2, target_valid_2 = datenaufbereitung(d_field_2)"
   ]
  },
  {
   "cell_type": "markdown",
   "metadata": {},
   "source": [
    "Распределение на взгляд корректное, приступим к обучению."
   ]
  },
  {
   "cell_type": "markdown",
   "metadata": {},
   "source": [
    "## Шаг 2 Обучение и проверка модели для каждого региона"
   ]
  },
  {
   "cell_type": "markdown",
   "metadata": {},
   "source": [
    "По условию исследования обучим LinearRegression() и посчитаем:\n",
    "1. RMSE модели \n",
    "2. Средний предсказанный объем запаса нефти в скважине для каждого региона\n",
    "\n",
    "Определим функцию **training**, которая возвращает эти значения плюс предсказанные значения для валидационной выборки:"
   ]
  },
  {
   "cell_type": "code",
   "execution_count": 19,
   "metadata": {},
   "outputs": [],
   "source": [
    "def training (features_train, features_valid, target_train, target_valid):\n",
    "    model = LinearRegression()\n",
    "    model.fit(features_train,target_train)\n",
    "    predicted_valid = model.predict(features_valid)\n",
    "    mean = predicted_valid.mean()\n",
    "    rmse = mean_squared_error(predicted_valid, target_valid) ** 0.5\n",
    "    print('RMSE =', round(rmse, 2))\n",
    "    print('Средний предсказанный запас в скважине:', round(mean, 2), 'тысяч баррелей')\n",
    "    print('Средний действительный запас в скважине:', round(target_valid.mean(), 2), 'тысяч баррелей')\n",
    "    \n",
    "    return pd.Series(predicted_valid), mean, rmse"
   ]
  },
  {
   "cell_type": "code",
   "execution_count": 20,
   "metadata": {},
   "outputs": [
    {
     "name": "stdout",
     "output_type": "stream",
     "text": [
      "RMSE = 37.58\n",
      "Средний предсказанный запас в скважине: 92.59 тысяч баррелей\n",
      "Средний действительный запас в скважине: 92.08 тысяч баррелей\n"
     ]
    }
   ],
   "source": [
    "predicted_valid_0, mean_0, rmse_0 = training(features_train_0, features_valid_0, target_train_0, target_valid_0)"
   ]
  },
  {
   "cell_type": "code",
   "execution_count": 21,
   "metadata": {},
   "outputs": [
    {
     "name": "stdout",
     "output_type": "stream",
     "text": [
      "RMSE = 0.89\n",
      "Средний предсказанный запас в скважине: 68.73 тысяч баррелей\n",
      "Средний действительный запас в скважине: 68.72 тысяч баррелей\n"
     ]
    }
   ],
   "source": [
    "predicted_valid_1, mean_1, rmse_1 = training(features_train_1, features_valid_1, target_train_1, target_valid_1)"
   ]
  },
  {
   "cell_type": "code",
   "execution_count": 22,
   "metadata": {},
   "outputs": [
    {
     "name": "stdout",
     "output_type": "stream",
     "text": [
      "RMSE = 40.03\n",
      "Средний предсказанный запас в скважине: 94.97 тысяч баррелей\n",
      "Средний действительный запас в скважине: 94.88 тысяч баррелей\n"
     ]
    }
   ],
   "source": [
    "predicted_valid_2, mean_2, rmse_2 = training(features_train_2, features_valid_2, target_train_2, target_valid_2)"
   ]
  },
  {
   "cell_type": "markdown",
   "metadata": {},
   "source": [
    "По результатам обучения:\n",
    "1. Луший результат в части значения RMSE модели у региона \"Один\" (**0.89**), причем лучше примерно на два порядка, чем у регионов \"Ноль\" и \"Два\" (**37.58** и **40.03** соответственно)\n",
    "2. Лучший средний предсказанный запас у региона \"Два\" (**94.97 тысяч баррелей**) против **92.59 тысяч баррелей** и **68.73 тысяч баррелей** у регионов \"Ноль\" и \"Один\" соответственно  \n",
    "\n",
    "Визуализируем это:"
   ]
  },
  {
   "cell_type": "code",
   "execution_count": 23,
   "metadata": {},
   "outputs": [
    {
     "data": {
      "image/png": "[encoded data removed]",
      "text/plain": [
       "<Figure size 1500x300 with 2 Axes>"
      ]
     },
     "metadata": {},
     "output_type": "display_data"
    }
   ],
   "source": [
    "d_res = {'RMSE':[rmse_0, rmse_1, rmse_2],\\\n",
    "         'Средний запас в скважине':[mean_0, mean_1, mean_2]}\n",
    "data_res = pd.DataFrame(index=['\"Ноль\"', '\"Один\"', '\"Два\"'], data=d_res)\n",
    "\n",
    "fig, axes = plt.subplots(nrows=1, ncols=2, figsize=(15, 3))\n",
    "data_res['RMSE'].sort_values(ascending=False).plot(kind='barh', ax=axes[0], grid=True)\n",
    "data_res['Средний запас в скважине'].sort_values().plot(kind='barh', ax=axes[1], grid=True)\n",
    "axes[0].set_title('RMSE')\n",
    "axes[1].set_title('Средний запас в скважине')\n",
    "axes[0].set_ylabel('Регион')\n",
    "axes[0].set_xlabel('Значение коэффициента')\n",
    "axes[1].set_xlabel('Объём запасов в скважине (тыс. баррелей)');"
   ]
  },
  {
   "cell_type": "markdown",
   "metadata": {},
   "source": [
    "## Шаг 3 Подготовка к расчёту прибыли"
   ]
  },
  {
   "cell_type": "markdown",
   "metadata": {},
   "source": [
    "Зафиксируем бизнесовые параметры для расчета прибыли:"
   ]
  },
  {
   "cell_type": "code",
   "execution_count": 24,
   "metadata": {},
   "outputs": [],
   "source": [
    "# Константы для расчета прибыли и рисков\n",
    "\n",
    "BUDGET_FOR_DEVELOPMENT = 10 ** 10 # Бюджет на разработку скважин в регионе — BUDGET_FOR_DEVELOPMENT рублей\n",
    "INCOME_PER_THOUSAND_BARRELS = 450_000 # Доход с каждой единицы продукта составляет INCOME_PER_THOUSAND_BARRELS рублей\n",
    "RESEARCH_BOREHOLES_CNT = 500 # При разведке региона исследуют RESEARCH_BOREHOLES_CNT точек\n",
    "BEST_BOREHOLES_CNT = 200 # из RESEARCH_BOREHOLES_CNT точек выбирают BEST_BOREHOLES_CNT лучших для разработки\n",
    "DAMAGE_PROBABILITY_LIMIT = 0.025 # Нужно оставить лишь те регионы, в которых вероятность убытков меньше DAMAGE_PROBABILITY_LIMIT"
   ]
  },
  {
   "cell_type": "markdown",
   "metadata": {},
   "source": [
    "Рассчитаем достаточный объём сырья для безубыточной разработки новой скважины.  \n",
    "На разработку бюджет десять миллиардов рублей, разделим его на количество скважин, которые предполагается осваивать (200), получим бюджет на скважину.  \n",
    "После разделим бюджет на скважину на доход с тысячи баррелей (450 тыс. рублей), получим нижнюю границу достаточных запасов в скважине, чтоб отбить затраты:  "
   ]
  },
  {
   "cell_type": "code",
   "execution_count": 25,
   "metadata": {},
   "outputs": [
    {
     "data": {
      "text/plain": [
       "111.11111111111111"
      ]
     },
     "execution_count": 25,
     "metadata": {},
     "output_type": "execute_result"
    }
   ],
   "source": [
    "suff_amount = (BUDGET_FOR_DEVELOPMENT / BEST_BOREHOLES_CNT) / INCOME_PER_THOUSAND_BARRELS\n",
    "suff_amount"
   ]
  },
  {
   "cell_type": "markdown",
   "metadata": {},
   "source": [
    "Чтоб скважина была прибыльной ее объем должен привышать 111.(1) тысяч баррелей.  \n",
    "Сравним со средним по региону:"
   ]
  },
  {
   "cell_type": "code",
   "execution_count": 26,
   "metadata": {},
   "outputs": [
    {
     "data": {
      "image/png": "[encoded data removed]",
      "text/plain": [
       "<Figure size 1500x300 with 1 Axes>"
      ]
     },
     "metadata": {},
     "output_type": "display_data"
    }
   ],
   "source": [
    "pd.concat([pd.DataFrame(index=['Объём сырья для безубыточной разработки'], \\\n",
    "                        data={'RMSE':np.nan, 'Средний запас в скважине':suff_amount}), data_res])\\\n",
    ".loc[:, 'Средний запас в скважине'].sort_values().\\\n",
    "plot(kind='barh', figsize=(15, 3), grid=True, \\\n",
    "     title='Сравнение достаточного объема запасов в скважине для прибыльности со средним объемом по региону');"
   ]
  },
  {
   "cell_type": "markdown",
   "metadata": {},
   "source": [
    "Видим, что если мы будем брать в работу скважины вслепую, то прогорим почти наверняка -- среднее по региону нигде не превышает достаточного объема запасов в скважине для прибыльности.  \n",
    "Поэтому определим функцию **profit**, которая бедет эмулировать процесс получения ожиданий-реальности:\n",
    "\n",
    "1. Определим по предсказаниям BEST_BOREHOLES_CNT лучших скважин\n",
    "2. Для этих скважин просуммируем реальное значение объема\n",
    "3. Посчитаем по этому множеству прибыльность, то есть, умножим на прибыль с тысячи бареллей и сравним с затратами на разработку"
   ]
  },
  {
   "cell_type": "code",
   "execution_count": 27,
   "metadata": {},
   "outputs": [],
   "source": [
    "def profit (predicted_valid, target_valid):\n",
    "    predicted_valid = predicted_valid.reset_index(drop=True)\n",
    "    target_valid = target_valid.reset_index(drop=True)\n",
    "    sum_amount = target_valid.loc[predicted_valid.sort_values(ascending=False).head(BEST_BOREHOLES_CNT).index].sum()\n",
    "    return sum_amount * INCOME_PER_THOUSAND_BARRELS - BUDGET_FOR_DEVELOPMENT"
   ]
  },
  {
   "cell_type": "markdown",
   "metadata": {},
   "source": [
    "## Шаг 4 Расчёт прибыли и рисков "
   ]
  },
  {
   "cell_type": "markdown",
   "metadata": {},
   "source": [
    "Примените технику Bootstrap с 1000 выборок, чтобы найти распределение прибыли, по этому распределению зафиксировать:\n",
    "\n",
    "1. Среднюю прибыль\n",
    "2. 95-й доверительный интервал\n",
    "3. Риск убытков"
   ]
  },
  {
   "cell_type": "markdown",
   "metadata": {},
   "source": [
    "Для начала определим функцию **format_rub**, которая более наглядно выводила бы данные, которые касаются значений прибыли:"
   ]
  },
  {
   "cell_type": "code",
   "execution_count": 28,
   "metadata": {},
   "outputs": [],
   "source": [
    "def format_rub (n):\n",
    "    \n",
    "    n = str(round(n))\n",
    "    cnt = 0\n",
    "    for i in range(3, len(n), 3):\n",
    "        n = n[:-i - cnt] + ' ' + n[-i - cnt:]\n",
    "        cnt +=1\n",
    "    return n + ' руб.'"
   ]
  },
  {
   "cell_type": "markdown",
   "metadata": {},
   "source": [
    "Определим функцию **bootstrap_and_quantile**, которая получает на вход предсказанные и истинные значения по региону и выводит:\n",
    "\n",
    "1. Среднюю прибыль\n",
    "2. 95-й доверительный интервал\n",
    "3. Риск убытков"
   ]
  },
  {
   "cell_type": "code",
   "execution_count": 29,
   "metadata": {},
   "outputs": [],
   "source": [
    "def bootstrap_and_quantile (predicted_valid, target_valid):\n",
    "    values = []\n",
    "    state = np.random.RandomState(RAND_FIX)\n",
    "#     Применяем методику Bootstrap -- для тысячи вариантов вызываем функцию расчета прибыли, причем\n",
    "#     в каждом случае выбираем BEST_BOREHOLES_CNT (двести) лучших скважин из RESEARCH_BOREHOLES_CNT (пятьсот) случайных\n",
    "#     Результаты складываем последовательно  в values\n",
    "    for _ in range(1000):\n",
    "        subsample = target_valid.sample(n=RESEARCH_BOREHOLES_CNT, replace=True, random_state=state)\n",
    "        values.append(profit(predicted_valid[subsample.index], subsample))\n",
    "    values = pd.Series(values)\n",
    "#     Считаем среднюю прибыль\n",
    "    mean_profit = values.mean()\n",
    "    print('Средняя прибыль:', format_rub(mean_profit))\n",
    "#     95-й процентиль отрезает по два с половиной процента с краев распределения:\n",
    "    lower = values.quantile(0.025)\n",
    "    upper = values.quantile(0.975)\n",
    "    print('95-й доверительный интервал:', format_rub(lower), '--', format_rub(upper))\n",
    "#     Считаем вероятность убытка -- количество результатов с \"отрицательным доходом\" делим на общее количество\n",
    "    propability_of_fail = values.loc[values<0].count() / len(values)\n",
    "    print('Вероятность убытка', f'{propability_of_fail:.2%}')\n",
    "    return values"
   ]
  },
  {
   "cell_type": "markdown",
   "metadata": {},
   "source": [
    "Применим метод для каждого из наших трех регионов:"
   ]
  },
  {
   "cell_type": "code",
   "execution_count": 30,
   "metadata": {},
   "outputs": [
    {
     "name": "stdout",
     "output_type": "stream",
     "text": [
      "\n",
      "\n",
      "**********************************************************************\n",
      "Результаты расчета прибыли и рисков для региона \"Ноль\":\n",
      "\n",
      "\n",
      "Средняя прибыль: 396 164 985 руб.\n",
      "95-й доверительный интервал: - 111 215 546 руб. -- 909 766 942 руб.\n",
      "Вероятность убытка 6.90%\n",
      "\n",
      "\n",
      "**********************************************************************\n",
      "Результаты расчета прибыли и рисков для региона \"Один\":\n",
      "\n",
      "\n",
      "Средняя прибыль: 456 045 106 руб.\n",
      "95-й доверительный интервал: 33 820 509 руб. -- 852 289 454 руб.\n",
      "Вероятность убытка 1.50%\n",
      "\n",
      "\n",
      "**********************************************************************\n",
      "Результаты расчета прибыли и рисков для региона \"Два\":\n",
      "\n",
      "\n",
      "Средняя прибыль: 404 403 867 руб.\n",
      "95-й доверительный интервал: - 163 350 413 руб. -- 950 359 575 руб.\n",
      "Вероятность убытка 7.60%\n"
     ]
    }
   ],
   "source": [
    "print('\\n', '*' * 70, 'Результаты расчета прибыли и рисков для региона \"Ноль\":', '\\n', sep='\\n')\n",
    "values_0 = bootstrap_and_quantile(predicted_valid_0, target_valid_0)\n",
    "print('\\n', '*' * 70, 'Результаты расчета прибыли и рисков для региона \"Один\":', '\\n', sep='\\n')\n",
    "values_1 = bootstrap_and_quantile(predicted_valid_1, target_valid_1)\n",
    "print('\\n', '*' * 70, 'Результаты расчета прибыли и рисков для региона \"Два\":', '\\n', sep='\\n')\n",
    "values_2 = bootstrap_and_quantile(predicted_valid_2, target_valid_2)"
   ]
  },
  {
   "cell_type": "markdown",
   "metadata": {},
   "source": [
    "Наименьшая вероятность убытка у региона **\"Один\"** -- **1.5%**, далее идут регионы **\"Ноль\"** с вероятностью **6.9%** и **\"Два\"** со значением **7.6%**.\n",
    "Регионы **\"Ноль\"** и **\"Два\"** преодолели предел в 2.5% вероятности убытка, что по условиям задачи выводит их из дальнейшего сравнения.\n",
    "\n",
    "Так или иначе, посмотрим пристально на распределение прибыли для регионов \"Ноль\" и \"Один\":"
   ]
  },
  {
   "cell_type": "code",
   "execution_count": 31,
   "metadata": {},
   "outputs": [
    {
     "data": {
      "image/png": "[encoded data removed]",
      "text/plain": [
       "<Figure size 2000x500 with 1 Axes>"
      ]
     },
     "metadata": {},
     "output_type": "display_data"
    }
   ],
   "source": [
    "fig, ax = plt.subplots(figsize=(20,5))\n",
    "\n",
    "axes = ax.hist(values_0, bins=100, label='Регион \"Ноль\"', alpha=0.5)\n",
    "axes = ax.hist(values_1, bins=100, label='Регион \"Один\"', alpha=0.5)\n",
    "\n",
    "ax.set_title('Распределение прибыли для регионов') \n",
    "ax.set_xlabel('Прогнозируемая прибыль')\n",
    "ax.set_ylabel('Количество вариантов подмножеств') \n",
    "ax.legend(loc='upper left');"
   ]
  },
  {
   "cell_type": "markdown",
   "metadata": {},
   "source": [
    "На графике видим, что значения прибыли для региона \"Один\" более кучно сконцентрированы вокруг среднего по сравнению  с регионом \"Ноль\"."
   ]
  },
  {
   "cell_type": "markdown",
   "metadata": {},
   "source": [
    "## Общий вывод"
   ]
  },
  {
   "cell_type": "markdown",
   "metadata": {},
   "source": [
    "В ходе исследования:\n",
    "\n",
    "Получены данные о регионах в файлах \"geo_data_0.csv\", \"geo_data_1.csv\", \"geo_data_2.csv\". Проведен обзор данных.\n",
    "Данные проверены на ошибки, и оценено их влияние на исследование. Затем предложенные данные были преобразованы. Далее, создано необходимое количество дополнительных колонок и таблиц, для того, чтоб приступить к проведению анализа.\n",
    "\n",
    "Анализ в свою очередь прошел в три этапа:\n",
    "\n",
    "1. Обучение модели для каждого региона\n",
    "2. Расчет достаточного объёма сырья для безубыточной разработки нового региона\n",
    "2. Расчет рисков и прибыли для каждого региона\n",
    "\n",
    "Завершающий этап -- выбор наиболее подходящего региона из трёх предложенных\n",
    "\n",
    "Таким образом, исследование состояло из следующих этапов, на каждом из которых формировались выводы, которые попали в итоги работы:\n",
    "\n",
    "1. Обзор данных\n",
    "2. Предобработка данных\n",
    "3. Подготовка данных к обучению модели\n",
    "4. Обучение и проверка модели для каждого региона\n",
    "5. Подготовка к расчёту прибыли\n",
    "6. Расчёт прибыли и рисков\n",
    "\n",
    "### Итоги исследования:\n",
    "\n",
    "1. **Рекомендации в части данных**  \n",
    "На этапе обзора данных обнаружены странности в данных для региона \"Один\". Если кратко, то:\n",
    "    - Объемы доступных ресурсов для стат тысяч скважин представляет из себя равномерное распределение малого количества зафиксированных значений по всему множеству скважин\n",
    "    - Сильнейшая корреляция f2 и result -- к-т == 0.999397  \n",
    "Подробнее в П.1.1 Исследования.  \n",
    "Если подобное не было учтено до старта исследования, то рекомендую обсудить с владельцем источника данных по региону \"Один\" методику их формирования.\n",
    "  \n",
    "2. **Результаты исследования**\n",
    "    * Если данные по региону \"Один\" признать валидными, то наиболее предпочтительный регион будет \"**Один**\" с параметрами:\n",
    "        - RMSE модели == **0.89**\n",
    "        - Средний предсказанный запас в скважине == **68.73** тысяч баррелей\n",
    "        - Средний действительный запас в скважине == **68.72** тысяч баррелей\n",
    "        - Средняя прибыль == **456 045 106 руб.**\n",
    "        - 95-й доверительный интервал: **33 820 509 руб. -- 852 289 454 руб.**\n",
    "        - Вероятность убытка == **1.5%**\n",
    "        \n",
    "    * Если данные по региону \"Один\" отвергнуть, то не останется регионов, которые бы подошли по требованию:  \n",
    "    \"После оценки рисков нужно оставить лишь те регионы, в которых вероятность убытков меньше 2.5%.\"  \n",
    "    \n",
    "    * Так или иначе, среди аутсайдеров наиболее предпочтительный регион будет \"**Ноль**\" с параметрами:\n",
    "        - RMSE модели == **37.58**\n",
    "        - Средний предсказанный запас в скважине == **92.59** тысяч баррелей\n",
    "        - Средний действительный запас в скважине == **92.08** тысяч баррелей\n",
    "        - Средняя прибыль == **396 164 985 руб.**\n",
    "        - 95-й доверительный интервал: **-111 215 546 руб. -- 909 766 942 руб.**\n",
    "        - Вероятность убытка == **6.9%**\n",
    "        \n",
    "    * Ну и регион \"**Два**\" имеет наибольший риск убытка с параметрами:\n",
    "        - RMSE модели == **40.03**\n",
    "        - Средний предсказанный запас в скважине == **94.97** тысяч баррелей\n",
    "        - Средний действительный запас в скважине == **94.88** тысяч баррелей\n",
    "        - Средняя прибыль == **404 403 867 руб.**\n",
    "        - 95-й доверительный интервал: **-163 350 413 руб. -- 950 359 575 руб.**\n",
    "        - Вероятность убытка == **7.6%**  \n",
    "        \n"
   ]
  }
 ],
 "metadata": {
  "ExecuteTimeLog": [
   {
    "duration": 3859,
    "start_time": "2023-12-29T14:18:12.549Z"
   },
   {
    "duration": 3,
    "start_time": "2023-12-29T14:18:16.410Z"
   },
   {
    "duration": 8,
    "start_time": "2023-12-29T14:18:16.414Z"
   },
   {
    "duration": 971,
    "start_time": "2023-12-29T14:18:16.423Z"
   },
   {
    "duration": 1079,
    "start_time": "2023-12-29T14:18:17.397Z"
   },
   {
    "duration": 557,
    "start_time": "2023-12-29T14:18:18.478Z"
   },
   {
    "duration": 7,
    "start_time": "2023-12-29T14:18:19.036Z"
   },
   {
    "duration": 40,
    "start_time": "2023-12-29T14:18:19.045Z"
   },
   {
    "duration": 303,
    "start_time": "2023-12-29T14:18:19.087Z"
   },
   {
    "duration": 18,
    "start_time": "2023-12-29T14:18:19.392Z"
   },
   {
    "duration": 31,
    "start_time": "2023-12-29T14:18:19.411Z"
   },
   {
    "duration": 16,
    "start_time": "2023-12-29T14:18:19.444Z"
   },
   {
    "duration": 146,
    "start_time": "2023-12-29T14:18:19.461Z"
   },
   {
    "duration": 90,
    "start_time": "2023-12-29T14:18:19.610Z"
   },
   {
    "duration": 22,
    "start_time": "2023-12-29T14:18:19.702Z"
   },
   {
    "duration": 780,
    "start_time": "2023-12-29T14:18:19.725Z"
   },
   {
    "duration": 809,
    "start_time": "2023-12-29T14:18:20.507Z"
   },
   {
    "duration": 773,
    "start_time": "2023-12-29T14:18:21.318Z"
   },
   {
    "duration": 4,
    "start_time": "2023-12-29T14:18:22.093Z"
   },
   {
    "duration": 128,
    "start_time": "2023-12-29T14:18:22.099Z"
   },
   {
    "duration": 102,
    "start_time": "2023-12-29T14:18:22.229Z"
   },
   {
    "duration": 191,
    "start_time": "2023-12-29T14:18:22.333Z"
   },
   {
    "duration": 327,
    "start_time": "2023-12-29T14:18:22.527Z"
   },
   {
    "duration": 3,
    "start_time": "2023-12-29T14:18:22.855Z"
   },
   {
    "duration": 19,
    "start_time": "2023-12-29T14:18:22.860Z"
   },
   {
    "duration": 237,
    "start_time": "2023-12-29T14:18:22.881Z"
   },
   {
    "duration": 3,
    "start_time": "2023-12-29T14:18:23.122Z"
   },
   {
    "duration": 6,
    "start_time": "2023-12-29T14:18:23.127Z"
   },
   {
    "duration": 10,
    "start_time": "2023-12-29T14:18:23.135Z"
   },
   {
    "duration": 3481,
    "start_time": "2023-12-29T14:18:23.146Z"
   },
   {
    "duration": 470,
    "start_time": "2023-12-29T14:18:26.629Z"
   },
   {
    "duration": 6,
    "start_time": "2023-12-29T14:18:37.887Z"
   },
   {
    "duration": 3481,
    "start_time": "2023-12-29T14:18:38.297Z"
   },
   {
    "duration": 455,
    "start_time": "2023-12-29T14:18:41.780Z"
   },
   {
    "duration": 5,
    "start_time": "2023-12-29T14:18:44.883Z"
   },
   {
    "duration": 3465,
    "start_time": "2023-12-29T14:18:45.235Z"
   },
   {
    "duration": 6,
    "start_time": "2023-12-29T14:18:53.775Z"
   },
   {
    "duration": 3488,
    "start_time": "2023-12-29T14:18:54.099Z"
   },
   {
    "duration": 6,
    "start_time": "2023-12-29T14:19:56.413Z"
   },
   {
    "duration": 3509,
    "start_time": "2023-12-29T14:19:56.763Z"
   },
   {
    "duration": 471,
    "start_time": "2023-12-29T14:20:00.274Z"
   },
   {
    "duration": 5,
    "start_time": "2023-12-29T14:20:02.419Z"
   },
   {
    "duration": 3355,
    "start_time": "2023-12-29T14:20:03.357Z"
   },
   {
    "duration": 5,
    "start_time": "2023-12-29T14:20:08.668Z"
   },
   {
    "duration": 3515,
    "start_time": "2023-12-29T14:20:09.325Z"
   },
   {
    "duration": 560,
    "start_time": "2023-12-29T14:20:12.842Z"
   },
   {
    "duration": 4,
    "start_time": "2023-12-29T14:28:04.958Z"
   },
   {
    "duration": 10,
    "start_time": "2023-12-29T14:28:04.964Z"
   },
   {
    "duration": 4,
    "start_time": "2023-12-29T14:28:04.976Z"
   },
   {
    "duration": 741,
    "start_time": "2023-12-29T14:28:04.982Z"
   },
   {
    "duration": 1029,
    "start_time": "2023-12-29T14:28:05.726Z"
   },
   {
    "duration": 536,
    "start_time": "2023-12-29T14:28:06.757Z"
   },
   {
    "duration": 6,
    "start_time": "2023-12-29T14:28:07.294Z"
   },
   {
    "duration": 15,
    "start_time": "2023-12-29T14:28:07.301Z"
   },
   {
    "duration": 233,
    "start_time": "2023-12-29T14:28:07.322Z"
   },
   {
    "duration": 16,
    "start_time": "2023-12-29T14:28:07.556Z"
   },
   {
    "duration": 15,
    "start_time": "2023-12-29T14:28:07.573Z"
   },
   {
    "duration": 34,
    "start_time": "2023-12-29T14:28:07.590Z"
   },
   {
    "duration": 136,
    "start_time": "2023-12-29T14:28:07.625Z"
   },
   {
    "duration": 98,
    "start_time": "2023-12-29T14:28:07.764Z"
   },
   {
    "duration": 8,
    "start_time": "2023-12-29T14:28:07.864Z"
   },
   {
    "duration": 772,
    "start_time": "2023-12-29T14:28:07.874Z"
   },
   {
    "duration": 963,
    "start_time": "2023-12-29T14:28:08.647Z"
   },
   {
    "duration": 811,
    "start_time": "2023-12-29T14:28:09.611Z"
   },
   {
    "duration": 5,
    "start_time": "2023-12-29T14:28:10.424Z"
   },
   {
    "duration": 39,
    "start_time": "2023-12-29T14:28:10.430Z"
   },
   {
    "duration": 164,
    "start_time": "2023-12-29T14:28:10.471Z"
   },
   {
    "duration": 189,
    "start_time": "2023-12-29T14:28:10.638Z"
   },
   {
    "duration": 474,
    "start_time": "2023-12-29T14:28:10.830Z"
   },
   {
    "duration": 4,
    "start_time": "2023-12-29T14:28:11.305Z"
   },
   {
    "duration": 28,
    "start_time": "2023-12-29T14:28:11.310Z"
   },
   {
    "duration": 138,
    "start_time": "2023-12-29T14:28:11.340Z"
   },
   {
    "duration": 4,
    "start_time": "2023-12-29T14:28:11.480Z"
   },
   {
    "duration": 4,
    "start_time": "2023-12-29T14:28:11.486Z"
   },
   {
    "duration": 31,
    "start_time": "2023-12-29T14:28:11.492Z"
   },
   {
    "duration": 5038,
    "start_time": "2023-12-29T14:28:11.525Z"
   },
   {
    "duration": 447,
    "start_time": "2023-12-29T14:28:16.565Z"
   },
   {
    "duration": 4,
    "start_time": "2023-12-29T14:28:30.117Z"
   },
   {
    "duration": 65,
    "start_time": "2023-12-29T14:28:30.123Z"
   },
   {
    "duration": 42,
    "start_time": "2023-12-29T14:28:30.189Z"
   },
   {
    "duration": 1644,
    "start_time": "2023-12-29T14:28:30.234Z"
   },
   {
    "duration": 1190,
    "start_time": "2023-12-29T14:28:31.880Z"
   },
   {
    "duration": 527,
    "start_time": "2023-12-29T14:28:33.072Z"
   },
   {
    "duration": 5,
    "start_time": "2023-12-29T14:28:33.601Z"
   },
   {
    "duration": 15,
    "start_time": "2023-12-29T14:28:33.608Z"
   },
   {
    "duration": 237,
    "start_time": "2023-12-29T14:28:33.625Z"
   },
   {
    "duration": 17,
    "start_time": "2023-12-29T14:28:33.864Z"
   },
   {
    "duration": 36,
    "start_time": "2023-12-29T14:28:33.883Z"
   },
   {
    "duration": 18,
    "start_time": "2023-12-29T14:28:33.923Z"
   },
   {
    "duration": 126,
    "start_time": "2023-12-29T14:28:33.943Z"
   },
   {
    "duration": 89,
    "start_time": "2023-12-29T14:28:34.071Z"
   },
   {
    "duration": 8,
    "start_time": "2023-12-29T14:28:34.162Z"
   },
   {
    "duration": 793,
    "start_time": "2023-12-29T14:28:34.172Z"
   },
   {
    "duration": 784,
    "start_time": "2023-12-29T14:28:34.967Z"
   },
   {
    "duration": 921,
    "start_time": "2023-12-29T14:28:35.752Z"
   },
   {
    "duration": 4,
    "start_time": "2023-12-29T14:28:36.675Z"
   },
   {
    "duration": 48,
    "start_time": "2023-12-29T14:28:36.681Z"
   },
   {
    "duration": 105,
    "start_time": "2023-12-29T14:28:36.731Z"
   },
   {
    "duration": 104,
    "start_time": "2023-12-29T14:28:36.924Z"
   },
   {
    "duration": 407,
    "start_time": "2023-12-29T14:28:37.031Z"
   },
   {
    "duration": 4,
    "start_time": "2023-12-29T14:28:37.442Z"
   },
   {
    "duration": 8,
    "start_time": "2023-12-29T14:28:37.447Z"
   },
   {
    "duration": 175,
    "start_time": "2023-12-29T14:28:37.456Z"
   },
   {
    "duration": 3,
    "start_time": "2023-12-29T14:28:37.633Z"
   },
   {
    "duration": 16,
    "start_time": "2023-12-29T14:28:37.637Z"
   },
   {
    "duration": 18,
    "start_time": "2023-12-29T14:28:37.654Z"
   },
   {
    "duration": 3400,
    "start_time": "2023-12-29T14:28:37.674Z"
   },
   {
    "duration": 446,
    "start_time": "2023-12-29T14:28:41.076Z"
   },
   {
    "duration": 4,
    "start_time": "2023-12-29T14:28:46.498Z"
   },
   {
    "duration": 6,
    "start_time": "2023-12-29T14:28:46.504Z"
   },
   {
    "duration": 4,
    "start_time": "2023-12-29T14:28:46.512Z"
   },
   {
    "duration": 751,
    "start_time": "2023-12-29T14:28:46.518Z"
   },
   {
    "duration": 1064,
    "start_time": "2023-12-29T14:28:47.271Z"
   },
   {
    "duration": 508,
    "start_time": "2023-12-29T14:28:48.337Z"
   },
   {
    "duration": 6,
    "start_time": "2023-12-29T14:28:48.846Z"
   },
   {
    "duration": 14,
    "start_time": "2023-12-29T14:28:48.854Z"
   },
   {
    "duration": 232,
    "start_time": "2023-12-29T14:28:48.871Z"
   },
   {
    "duration": 27,
    "start_time": "2023-12-29T14:28:49.105Z"
   },
   {
    "duration": 16,
    "start_time": "2023-12-29T14:28:49.133Z"
   },
   {
    "duration": 18,
    "start_time": "2023-12-29T14:28:49.151Z"
   },
   {
    "duration": 144,
    "start_time": "2023-12-29T14:28:49.171Z"
   },
   {
    "duration": 82,
    "start_time": "2023-12-29T14:28:49.317Z"
   },
   {
    "duration": 26,
    "start_time": "2023-12-29T14:28:49.400Z"
   },
   {
    "duration": 758,
    "start_time": "2023-12-29T14:28:49.428Z"
   },
   {
    "duration": 991,
    "start_time": "2023-12-29T14:28:50.188Z"
   },
   {
    "duration": 730,
    "start_time": "2023-12-29T14:28:51.180Z"
   },
   {
    "duration": 11,
    "start_time": "2023-12-29T14:28:51.911Z"
   },
   {
    "duration": 18,
    "start_time": "2023-12-29T14:28:51.924Z"
   },
   {
    "duration": 185,
    "start_time": "2023-12-29T14:28:51.945Z"
   },
   {
    "duration": 103,
    "start_time": "2023-12-29T14:28:52.223Z"
   },
   {
    "duration": 315,
    "start_time": "2023-12-29T14:28:52.331Z"
   },
   {
    "duration": 3,
    "start_time": "2023-12-29T14:28:52.650Z"
   },
   {
    "duration": 8,
    "start_time": "2023-12-29T14:28:52.655Z"
   },
   {
    "duration": 160,
    "start_time": "2023-12-29T14:28:52.665Z"
   },
   {
    "duration": 3,
    "start_time": "2023-12-29T14:28:52.827Z"
   },
   {
    "duration": 12,
    "start_time": "2023-12-29T14:28:52.832Z"
   },
   {
    "duration": 8,
    "start_time": "2023-12-29T14:28:52.845Z"
   },
   {
    "duration": 3387,
    "start_time": "2023-12-29T14:28:52.855Z"
   },
   {
    "duration": 452,
    "start_time": "2023-12-29T14:28:56.244Z"
   },
   {
    "duration": 1404,
    "start_time": "2023-12-29T15:58:33.610Z"
   },
   {
    "duration": 2,
    "start_time": "2023-12-29T15:58:35.016Z"
   },
   {
    "duration": 4,
    "start_time": "2023-12-29T15:58:35.020Z"
   },
   {
    "duration": 1173,
    "start_time": "2023-12-29T15:58:35.025Z"
   },
   {
    "duration": 929,
    "start_time": "2023-12-29T15:58:36.201Z"
   },
   {
    "duration": 472,
    "start_time": "2023-12-29T15:58:37.131Z"
   },
   {
    "duration": 6,
    "start_time": "2023-12-29T15:58:37.605Z"
   },
   {
    "duration": 5,
    "start_time": "2023-12-29T15:58:37.613Z"
   },
   {
    "duration": 299,
    "start_time": "2023-12-29T15:58:37.619Z"
   },
   {
    "duration": 16,
    "start_time": "2023-12-29T15:58:37.920Z"
   },
   {
    "duration": 29,
    "start_time": "2023-12-29T15:58:37.938Z"
   },
   {
    "duration": 15,
    "start_time": "2023-12-29T15:58:37.968Z"
   },
   {
    "duration": 124,
    "start_time": "2023-12-29T15:58:37.984Z"
   },
   {
    "duration": 81,
    "start_time": "2023-12-29T15:58:38.111Z"
   },
   {
    "duration": 7,
    "start_time": "2023-12-29T15:58:38.194Z"
   },
   {
    "duration": 693,
    "start_time": "2023-12-29T15:58:38.202Z"
   },
   {
    "duration": 717,
    "start_time": "2023-12-29T15:58:38.897Z"
   },
   {
    "duration": 715,
    "start_time": "2023-12-29T15:58:39.616Z"
   },
   {
    "duration": 5,
    "start_time": "2023-12-29T15:58:40.333Z"
   },
   {
    "duration": 128,
    "start_time": "2023-12-29T15:58:40.340Z"
   },
   {
    "duration": 109,
    "start_time": "2023-12-29T15:58:40.469Z"
   },
   {
    "duration": 190,
    "start_time": "2023-12-29T15:58:40.582Z"
   },
   {
    "duration": 394,
    "start_time": "2023-12-29T15:58:40.776Z"
   },
   {
    "duration": 3,
    "start_time": "2023-12-29T15:58:41.172Z"
   },
   {
    "duration": 7,
    "start_time": "2023-12-29T15:58:41.177Z"
   },
   {
    "duration": 232,
    "start_time": "2023-12-29T15:58:41.185Z"
   },
   {
    "duration": 2,
    "start_time": "2023-12-29T15:58:41.419Z"
   },
   {
    "duration": 3,
    "start_time": "2023-12-29T15:58:41.423Z"
   },
   {
    "duration": 9,
    "start_time": "2023-12-29T15:58:41.427Z"
   },
   {
    "duration": 3127,
    "start_time": "2023-12-29T15:58:41.438Z"
   },
   {
    "duration": 398,
    "start_time": "2023-12-29T15:58:44.567Z"
   },
   {
    "duration": 1338,
    "start_time": "2023-12-29T16:05:50.740Z"
   },
   {
    "duration": 2,
    "start_time": "2023-12-29T16:05:52.079Z"
   },
   {
    "duration": 3,
    "start_time": "2023-12-29T16:05:52.083Z"
   },
   {
    "duration": 879,
    "start_time": "2023-12-29T16:05:52.087Z"
   },
   {
    "duration": 942,
    "start_time": "2023-12-29T16:05:52.968Z"
   },
   {
    "duration": 465,
    "start_time": "2023-12-29T16:05:53.912Z"
   },
   {
    "duration": 6,
    "start_time": "2023-12-29T16:05:54.379Z"
   },
   {
    "duration": 6,
    "start_time": "2023-12-29T16:05:54.386Z"
   },
   {
    "duration": 225,
    "start_time": "2023-12-29T16:05:54.393Z"
   },
   {
    "duration": 16,
    "start_time": "2023-12-29T16:05:54.619Z"
   },
   {
    "duration": 30,
    "start_time": "2023-12-29T16:05:54.636Z"
   },
   {
    "duration": 14,
    "start_time": "2023-12-29T16:05:54.668Z"
   },
   {
    "duration": 118,
    "start_time": "2023-12-29T16:05:54.684Z"
   },
   {
    "duration": 160,
    "start_time": "2023-12-29T16:05:54.805Z"
   },
   {
    "duration": 8,
    "start_time": "2023-12-29T16:05:54.967Z"
   },
   {
    "duration": 701,
    "start_time": "2023-12-29T16:05:54.976Z"
   },
   {
    "duration": 693,
    "start_time": "2023-12-29T16:05:55.679Z"
   },
   {
    "duration": 725,
    "start_time": "2023-12-29T16:05:56.374Z"
   },
   {
    "duration": 13,
    "start_time": "2023-12-29T16:05:57.100Z"
   },
   {
    "duration": 52,
    "start_time": "2023-12-29T16:05:57.115Z"
   },
   {
    "duration": 197,
    "start_time": "2023-12-29T16:05:57.169Z"
   },
   {
    "duration": 109,
    "start_time": "2023-12-29T16:05:57.368Z"
   },
   {
    "duration": 394,
    "start_time": "2023-12-29T16:05:57.481Z"
   },
   {
    "duration": 3,
    "start_time": "2023-12-29T16:05:57.876Z"
   },
   {
    "duration": 7,
    "start_time": "2023-12-29T16:05:57.881Z"
   },
   {
    "duration": 146,
    "start_time": "2023-12-29T16:05:57.889Z"
   },
   {
    "duration": 4,
    "start_time": "2023-12-29T16:05:58.037Z"
   },
   {
    "duration": 5,
    "start_time": "2023-12-29T16:05:58.042Z"
   },
   {
    "duration": 19,
    "start_time": "2023-12-29T16:05:58.048Z"
   },
   {
    "duration": 3060,
    "start_time": "2023-12-29T16:05:58.069Z"
   },
   {
    "duration": 439,
    "start_time": "2023-12-29T16:06:01.130Z"
   },
   {
    "duration": 1267,
    "start_time": "2023-12-29T16:07:07.688Z"
   },
   {
    "duration": 3,
    "start_time": "2023-12-29T16:07:08.956Z"
   },
   {
    "duration": 6,
    "start_time": "2023-12-29T16:07:08.960Z"
   },
   {
    "duration": 1148,
    "start_time": "2023-12-29T16:07:08.968Z"
   },
   {
    "duration": 965,
    "start_time": "2023-12-29T16:07:10.118Z"
   },
   {
    "duration": 499,
    "start_time": "2023-12-29T16:07:11.085Z"
   },
   {
    "duration": 8,
    "start_time": "2023-12-29T16:07:11.585Z"
   },
   {
    "duration": 5,
    "start_time": "2023-12-29T16:07:11.595Z"
   },
   {
    "duration": 228,
    "start_time": "2023-12-29T16:07:11.602Z"
   },
   {
    "duration": 17,
    "start_time": "2023-12-29T16:07:11.831Z"
   },
   {
    "duration": 24,
    "start_time": "2023-12-29T16:07:11.850Z"
   },
   {
    "duration": 14,
    "start_time": "2023-12-29T16:07:11.875Z"
   },
   {
    "duration": 122,
    "start_time": "2023-12-29T16:07:11.890Z"
   },
   {
    "duration": 152,
    "start_time": "2023-12-29T16:07:12.015Z"
   },
   {
    "duration": 8,
    "start_time": "2023-12-29T16:07:12.168Z"
   },
   {
    "duration": 704,
    "start_time": "2023-12-29T16:07:12.177Z"
   },
   {
    "duration": 688,
    "start_time": "2023-12-29T16:07:12.882Z"
   },
   {
    "duration": 678,
    "start_time": "2023-12-29T16:07:13.571Z"
   },
   {
    "duration": 5,
    "start_time": "2023-12-29T16:07:14.251Z"
   },
   {
    "duration": 21,
    "start_time": "2023-12-29T16:07:14.264Z"
   },
   {
    "duration": 103,
    "start_time": "2023-12-29T16:07:14.368Z"
   },
   {
    "duration": 196,
    "start_time": "2023-12-29T16:07:14.474Z"
   },
   {
    "duration": 404,
    "start_time": "2023-12-29T16:07:14.673Z"
   },
   {
    "duration": 3,
    "start_time": "2023-12-29T16:07:15.078Z"
   },
   {
    "duration": 57,
    "start_time": "2023-12-29T16:07:15.083Z"
   },
   {
    "duration": 153,
    "start_time": "2023-12-29T16:07:15.142Z"
   },
   {
    "duration": 4,
    "start_time": "2023-12-29T16:07:15.297Z"
   },
   {
    "duration": 10,
    "start_time": "2023-12-29T16:07:15.302Z"
   },
   {
    "duration": 29,
    "start_time": "2023-12-29T16:07:15.314Z"
   },
   {
    "duration": 3042,
    "start_time": "2023-12-29T16:07:15.344Z"
   },
   {
    "duration": 416,
    "start_time": "2023-12-29T16:07:18.388Z"
   },
   {
    "duration": 3,
    "start_time": "2023-12-29T16:09:44.158Z"
   },
   {
    "duration": 3,
    "start_time": "2023-12-29T16:10:44.805Z"
   },
   {
    "duration": 12,
    "start_time": "2023-12-29T16:10:46.185Z"
   },
   {
    "duration": 3,
    "start_time": "2023-12-29T16:11:00.011Z"
   },
   {
    "duration": 122,
    "start_time": "2023-12-29T16:11:01.952Z"
   },
   {
    "duration": 4,
    "start_time": "2023-12-29T16:11:14.597Z"
   },
   {
    "duration": 18,
    "start_time": "2023-12-29T16:11:16.142Z"
   },
   {
    "duration": 4,
    "start_time": "2023-12-29T16:11:25.227Z"
   },
   {
    "duration": 4,
    "start_time": "2023-12-29T16:11:27.708Z"
   },
   {
    "duration": 17,
    "start_time": "2023-12-29T16:11:29.608Z"
   },
   {
    "duration": 4,
    "start_time": "2023-12-29T16:11:39.565Z"
   },
   {
    "duration": 11,
    "start_time": "2023-12-29T16:11:41.018Z"
   },
   {
    "duration": 1334,
    "start_time": "2023-12-29T16:12:06.538Z"
   },
   {
    "duration": 2,
    "start_time": "2023-12-29T16:12:07.874Z"
   },
   {
    "duration": 6,
    "start_time": "2023-12-29T16:12:07.878Z"
   },
   {
    "duration": 852,
    "start_time": "2023-12-29T16:12:07.885Z"
   },
   {
    "duration": 965,
    "start_time": "2023-12-29T16:12:08.739Z"
   },
   {
    "duration": 483,
    "start_time": "2023-12-29T16:12:09.706Z"
   },
   {
    "duration": 6,
    "start_time": "2023-12-29T16:12:10.191Z"
   },
   {
    "duration": 5,
    "start_time": "2023-12-29T16:12:10.199Z"
   },
   {
    "duration": 215,
    "start_time": "2023-12-29T16:12:10.205Z"
   },
   {
    "duration": 15,
    "start_time": "2023-12-29T16:12:10.422Z"
   },
   {
    "duration": 29,
    "start_time": "2023-12-29T16:12:10.438Z"
   },
   {
    "duration": 14,
    "start_time": "2023-12-29T16:12:10.468Z"
   },
   {
    "duration": 115,
    "start_time": "2023-12-29T16:12:10.484Z"
   },
   {
    "duration": 138,
    "start_time": "2023-12-29T16:12:10.601Z"
   },
   {
    "duration": 25,
    "start_time": "2023-12-29T16:12:10.741Z"
   },
   {
    "duration": 702,
    "start_time": "2023-12-29T16:12:10.768Z"
   },
   {
    "duration": 714,
    "start_time": "2023-12-29T16:12:11.472Z"
   },
   {
    "duration": 718,
    "start_time": "2023-12-29T16:12:12.187Z"
   },
   {
    "duration": 4,
    "start_time": "2023-12-29T16:12:12.906Z"
   },
   {
    "duration": 58,
    "start_time": "2023-12-29T16:12:12.911Z"
   },
   {
    "duration": 106,
    "start_time": "2023-12-29T16:12:12.970Z"
   },
   {
    "duration": 191,
    "start_time": "2023-12-29T16:12:13.079Z"
   },
   {
    "duration": 396,
    "start_time": "2023-12-29T16:12:13.271Z"
   },
   {
    "duration": 3,
    "start_time": "2023-12-29T16:12:13.669Z"
   },
   {
    "duration": 7,
    "start_time": "2023-12-29T16:12:13.674Z"
   },
   {
    "duration": 148,
    "start_time": "2023-12-29T16:12:13.683Z"
   },
   {
    "duration": 3,
    "start_time": "2023-12-29T16:12:13.833Z"
   },
   {
    "duration": 30,
    "start_time": "2023-12-29T16:12:13.838Z"
   },
   {
    "duration": 4,
    "start_time": "2023-12-29T16:12:13.870Z"
   },
   {
    "duration": 7,
    "start_time": "2023-12-29T16:12:13.875Z"
   },
   {
    "duration": 24602,
    "start_time": "2023-12-29T16:12:13.883Z"
   },
   {
    "duration": 429,
    "start_time": "2023-12-29T16:12:38.487Z"
   },
   {
    "duration": 3,
    "start_time": "2023-12-29T16:12:53.044Z"
   },
   {
    "duration": 7,
    "start_time": "2023-12-29T16:12:55.836Z"
   },
   {
    "duration": 1243,
    "start_time": "2023-12-29T16:13:32.322Z"
   },
   {
    "duration": 2,
    "start_time": "2023-12-29T16:13:33.567Z"
   },
   {
    "duration": 8,
    "start_time": "2023-12-29T16:13:33.571Z"
   },
   {
    "duration": 1185,
    "start_time": "2023-12-29T16:13:33.581Z"
   },
   {
    "duration": 938,
    "start_time": "2023-12-29T16:13:34.767Z"
   },
   {
    "duration": 479,
    "start_time": "2023-12-29T16:13:35.706Z"
   },
   {
    "duration": 7,
    "start_time": "2023-12-29T16:13:36.186Z"
   },
   {
    "duration": 7,
    "start_time": "2023-12-29T16:13:36.194Z"
   },
   {
    "duration": 215,
    "start_time": "2023-12-29T16:13:36.203Z"
   },
   {
    "duration": 17,
    "start_time": "2023-12-29T16:13:36.421Z"
   },
   {
    "duration": 29,
    "start_time": "2023-12-29T16:13:36.439Z"
   },
   {
    "duration": 14,
    "start_time": "2023-12-29T16:13:36.469Z"
   },
   {
    "duration": 132,
    "start_time": "2023-12-29T16:13:36.484Z"
   },
   {
    "duration": 154,
    "start_time": "2023-12-29T16:13:36.617Z"
   },
   {
    "duration": 8,
    "start_time": "2023-12-29T16:13:36.773Z"
   },
   {
    "duration": 677,
    "start_time": "2023-12-29T16:13:36.782Z"
   },
   {
    "duration": 710,
    "start_time": "2023-12-29T16:13:37.461Z"
   },
   {
    "duration": 697,
    "start_time": "2023-12-29T16:13:38.173Z"
   },
   {
    "duration": 4,
    "start_time": "2023-12-29T16:13:38.872Z"
   },
   {
    "duration": 23,
    "start_time": "2023-12-29T16:13:38.878Z"
   },
   {
    "duration": 170,
    "start_time": "2023-12-29T16:13:38.902Z"
   },
   {
    "duration": 200,
    "start_time": "2023-12-29T16:13:39.075Z"
   },
   {
    "duration": 392,
    "start_time": "2023-12-29T16:13:39.277Z"
   },
   {
    "duration": 3,
    "start_time": "2023-12-29T16:13:39.670Z"
   },
   {
    "duration": 20,
    "start_time": "2023-12-29T16:13:39.675Z"
   },
   {
    "duration": 135,
    "start_time": "2023-12-29T16:13:39.696Z"
   },
   {
    "duration": 4,
    "start_time": "2023-12-29T16:13:39.833Z"
   },
   {
    "duration": 14,
    "start_time": "2023-12-29T16:13:39.841Z"
   },
   {
    "duration": 18,
    "start_time": "2023-12-29T16:13:39.857Z"
   },
   {
    "duration": 2945,
    "start_time": "2023-12-29T16:13:39.877Z"
   },
   {
    "duration": 489,
    "start_time": "2023-12-29T16:13:42.824Z"
   },
   {
    "duration": 1294,
    "start_time": "2023-12-29T16:17:25.419Z"
   },
   {
    "duration": 3,
    "start_time": "2023-12-29T16:17:26.714Z"
   },
   {
    "duration": 4,
    "start_time": "2023-12-29T16:17:26.719Z"
   },
   {
    "duration": 909,
    "start_time": "2023-12-29T16:17:26.724Z"
   },
   {
    "duration": 932,
    "start_time": "2023-12-29T16:17:27.635Z"
   },
   {
    "duration": 503,
    "start_time": "2023-12-29T16:17:28.569Z"
   },
   {
    "duration": 6,
    "start_time": "2023-12-29T16:17:29.074Z"
   },
   {
    "duration": 8,
    "start_time": "2023-12-29T16:17:29.081Z"
   },
   {
    "duration": 220,
    "start_time": "2023-12-29T16:17:29.090Z"
   },
   {
    "duration": 17,
    "start_time": "2023-12-29T16:17:29.311Z"
   },
   {
    "duration": 14,
    "start_time": "2023-12-29T16:17:29.329Z"
   },
   {
    "duration": 28,
    "start_time": "2023-12-29T16:17:29.344Z"
   },
   {
    "duration": 120,
    "start_time": "2023-12-29T16:17:29.373Z"
   },
   {
    "duration": 178,
    "start_time": "2023-12-29T16:17:29.495Z"
   },
   {
    "duration": 8,
    "start_time": "2023-12-29T16:17:29.675Z"
   },
   {
    "duration": 682,
    "start_time": "2023-12-29T16:17:29.684Z"
   },
   {
    "duration": 724,
    "start_time": "2023-12-29T16:17:30.367Z"
   },
   {
    "duration": 687,
    "start_time": "2023-12-29T16:17:31.092Z"
   },
   {
    "duration": 4,
    "start_time": "2023-12-29T16:17:31.781Z"
   },
   {
    "duration": 56,
    "start_time": "2023-12-29T16:17:31.786Z"
   },
   {
    "duration": 101,
    "start_time": "2023-12-29T16:17:31.869Z"
   },
   {
    "duration": 199,
    "start_time": "2023-12-29T16:17:31.972Z"
   },
   {
    "duration": 396,
    "start_time": "2023-12-29T16:17:32.173Z"
   },
   {
    "duration": 3,
    "start_time": "2023-12-29T16:17:32.571Z"
   },
   {
    "duration": 23,
    "start_time": "2023-12-29T16:17:32.575Z"
   },
   {
    "duration": 134,
    "start_time": "2023-12-29T16:17:32.599Z"
   },
   {
    "duration": 2,
    "start_time": "2023-12-29T16:17:32.735Z"
   },
   {
    "duration": 5,
    "start_time": "2023-12-29T16:17:32.739Z"
   },
   {
    "duration": 16,
    "start_time": "2023-12-29T16:17:32.745Z"
   },
   {
    "duration": 2982,
    "start_time": "2023-12-29T16:17:32.764Z"
   },
   {
    "duration": 387,
    "start_time": "2023-12-29T16:17:35.748Z"
   },
   {
    "duration": 1278,
    "start_time": "2023-12-29T16:17:57.324Z"
   },
   {
    "duration": 2,
    "start_time": "2023-12-29T16:17:58.604Z"
   },
   {
    "duration": 10,
    "start_time": "2023-12-29T16:17:58.607Z"
   },
   {
    "duration": 899,
    "start_time": "2023-12-29T16:17:58.618Z"
   },
   {
    "duration": 959,
    "start_time": "2023-12-29T16:17:59.519Z"
   },
   {
    "duration": 472,
    "start_time": "2023-12-29T16:18:00.480Z"
   },
   {
    "duration": 12,
    "start_time": "2023-12-29T16:18:00.953Z"
   },
   {
    "duration": 33,
    "start_time": "2023-12-29T16:18:00.967Z"
   },
   {
    "duration": 237,
    "start_time": "2023-12-29T16:18:01.002Z"
   },
   {
    "duration": 17,
    "start_time": "2023-12-29T16:18:01.240Z"
   },
   {
    "duration": 25,
    "start_time": "2023-12-29T16:18:01.265Z"
   },
   {
    "duration": 43,
    "start_time": "2023-12-29T16:18:01.292Z"
   },
   {
    "duration": 130,
    "start_time": "2023-12-29T16:18:01.336Z"
   },
   {
    "duration": 152,
    "start_time": "2023-12-29T16:18:01.469Z"
   },
   {
    "duration": 8,
    "start_time": "2023-12-29T16:18:01.623Z"
   },
   {
    "duration": 734,
    "start_time": "2023-12-29T16:18:01.633Z"
   },
   {
    "duration": 707,
    "start_time": "2023-12-29T16:18:02.368Z"
   },
   {
    "duration": 662,
    "start_time": "2023-12-29T16:18:03.076Z"
   },
   {
    "duration": 4,
    "start_time": "2023-12-29T16:18:03.740Z"
   },
   {
    "duration": 23,
    "start_time": "2023-12-29T16:18:03.746Z"
   },
   {
    "duration": 99,
    "start_time": "2023-12-29T16:18:03.772Z"
   },
   {
    "duration": 196,
    "start_time": "2023-12-29T16:18:03.874Z"
   },
   {
    "duration": 318,
    "start_time": "2023-12-29T16:18:04.074Z"
   },
   {
    "duration": 3,
    "start_time": "2023-12-29T16:18:04.393Z"
   },
   {
    "duration": 8,
    "start_time": "2023-12-29T16:18:04.397Z"
   },
   {
    "duration": 142,
    "start_time": "2023-12-29T16:18:04.406Z"
   },
   {
    "duration": 4,
    "start_time": "2023-12-29T16:18:04.550Z"
   },
   {
    "duration": 10,
    "start_time": "2023-12-29T16:18:04.555Z"
   },
   {
    "duration": 6,
    "start_time": "2023-12-29T16:18:04.566Z"
   },
   {
    "duration": 2946,
    "start_time": "2023-12-29T16:18:04.573Z"
   },
   {
    "duration": 416,
    "start_time": "2023-12-29T16:18:07.520Z"
   },
   {
    "duration": 1277,
    "start_time": "2023-12-29T16:18:34.979Z"
   },
   {
    "duration": 2,
    "start_time": "2023-12-29T16:18:36.258Z"
   },
   {
    "duration": 4,
    "start_time": "2023-12-29T16:18:36.262Z"
   },
   {
    "duration": 818,
    "start_time": "2023-12-29T16:18:36.267Z"
   },
   {
    "duration": 944,
    "start_time": "2023-12-29T16:18:37.088Z"
   },
   {
    "duration": 489,
    "start_time": "2023-12-29T16:18:38.034Z"
   },
   {
    "duration": 7,
    "start_time": "2023-12-29T16:18:38.525Z"
   },
   {
    "duration": 7,
    "start_time": "2023-12-29T16:18:38.533Z"
   },
   {
    "duration": 227,
    "start_time": "2023-12-29T16:18:38.542Z"
   },
   {
    "duration": 16,
    "start_time": "2023-12-29T16:18:38.771Z"
   },
   {
    "duration": 15,
    "start_time": "2023-12-29T16:18:38.789Z"
   },
   {
    "duration": 15,
    "start_time": "2023-12-29T16:18:38.805Z"
   },
   {
    "duration": 161,
    "start_time": "2023-12-29T16:18:38.821Z"
   },
   {
    "duration": 143,
    "start_time": "2023-12-29T16:18:38.985Z"
   },
   {
    "duration": 8,
    "start_time": "2023-12-29T16:18:39.130Z"
   },
   {
    "duration": 716,
    "start_time": "2023-12-29T16:18:39.164Z"
   },
   {
    "duration": 684,
    "start_time": "2023-12-29T16:18:39.881Z"
   },
   {
    "duration": 665,
    "start_time": "2023-12-29T16:18:40.566Z"
   },
   {
    "duration": 4,
    "start_time": "2023-12-29T16:18:41.233Z"
   },
   {
    "duration": 30,
    "start_time": "2023-12-29T16:18:41.238Z"
   },
   {
    "duration": 202,
    "start_time": "2023-12-29T16:18:41.269Z"
   },
   {
    "duration": 195,
    "start_time": "2023-12-29T16:18:41.473Z"
   },
   {
    "duration": 311,
    "start_time": "2023-12-29T16:18:41.670Z"
   },
   {
    "duration": 3,
    "start_time": "2023-12-29T16:18:41.982Z"
   },
   {
    "duration": 14,
    "start_time": "2023-12-29T16:18:41.987Z"
   },
   {
    "duration": 178,
    "start_time": "2023-12-29T16:18:42.002Z"
   },
   {
    "duration": 3,
    "start_time": "2023-12-29T16:18:42.182Z"
   },
   {
    "duration": 5,
    "start_time": "2023-12-29T16:18:42.186Z"
   },
   {
    "duration": 6,
    "start_time": "2023-12-29T16:18:42.192Z"
   },
   {
    "duration": 2963,
    "start_time": "2023-12-29T16:18:42.200Z"
   },
   {
    "duration": 415,
    "start_time": "2023-12-29T16:18:45.165Z"
   },
   {
    "duration": 1281,
    "start_time": "2023-12-29T16:19:04.087Z"
   },
   {
    "duration": 3,
    "start_time": "2023-12-29T16:19:05.369Z"
   },
   {
    "duration": 12,
    "start_time": "2023-12-29T16:19:05.373Z"
   },
   {
    "duration": 809,
    "start_time": "2023-12-29T16:19:05.387Z"
   },
   {
    "duration": 940,
    "start_time": "2023-12-29T16:19:06.198Z"
   },
   {
    "duration": 461,
    "start_time": "2023-12-29T16:19:07.140Z"
   },
   {
    "duration": 6,
    "start_time": "2023-12-29T16:19:07.603Z"
   },
   {
    "duration": 5,
    "start_time": "2023-12-29T16:19:07.610Z"
   },
   {
    "duration": 225,
    "start_time": "2023-12-29T16:19:07.616Z"
   },
   {
    "duration": 23,
    "start_time": "2023-12-29T16:19:07.842Z"
   },
   {
    "duration": 13,
    "start_time": "2023-12-29T16:19:07.867Z"
   },
   {
    "duration": 13,
    "start_time": "2023-12-29T16:19:07.881Z"
   },
   {
    "duration": 114,
    "start_time": "2023-12-29T16:19:07.895Z"
   },
   {
    "duration": 160,
    "start_time": "2023-12-29T16:19:08.011Z"
   },
   {
    "duration": 12,
    "start_time": "2023-12-29T16:19:08.172Z"
   },
   {
    "duration": 689,
    "start_time": "2023-12-29T16:19:08.185Z"
   },
   {
    "duration": 725,
    "start_time": "2023-12-29T16:19:08.875Z"
   },
   {
    "duration": 668,
    "start_time": "2023-12-29T16:19:09.601Z"
   },
   {
    "duration": 4,
    "start_time": "2023-12-29T16:19:10.271Z"
   },
   {
    "duration": 27,
    "start_time": "2023-12-29T16:19:10.276Z"
   },
   {
    "duration": 166,
    "start_time": "2023-12-29T16:19:10.304Z"
   },
   {
    "duration": 104,
    "start_time": "2023-12-29T16:19:10.472Z"
   },
   {
    "duration": 374,
    "start_time": "2023-12-29T16:19:10.578Z"
   },
   {
    "duration": 12,
    "start_time": "2023-12-29T16:19:10.953Z"
   },
   {
    "duration": 7,
    "start_time": "2023-12-29T16:19:10.967Z"
   },
   {
    "duration": 125,
    "start_time": "2023-12-29T16:19:10.975Z"
   },
   {
    "duration": 3,
    "start_time": "2023-12-29T16:19:11.102Z"
   },
   {
    "duration": 4,
    "start_time": "2023-12-29T16:19:11.106Z"
   },
   {
    "duration": 5,
    "start_time": "2023-12-29T16:19:11.111Z"
   },
   {
    "duration": 2987,
    "start_time": "2023-12-29T16:19:11.117Z"
   },
   {
    "duration": 383,
    "start_time": "2023-12-29T16:19:14.105Z"
   },
   {
    "duration": 1263,
    "start_time": "2023-12-29T16:19:40.493Z"
   },
   {
    "duration": 7,
    "start_time": "2023-12-29T16:19:41.758Z"
   },
   {
    "duration": 3,
    "start_time": "2023-12-29T16:19:41.766Z"
   },
   {
    "duration": 752,
    "start_time": "2023-12-29T16:19:41.770Z"
   },
   {
    "duration": 920,
    "start_time": "2023-12-29T16:19:42.524Z"
   },
   {
    "duration": 490,
    "start_time": "2023-12-29T16:19:43.446Z"
   },
   {
    "duration": 6,
    "start_time": "2023-12-29T16:19:43.937Z"
   },
   {
    "duration": 5,
    "start_time": "2023-12-29T16:19:43.945Z"
   },
   {
    "duration": 203,
    "start_time": "2023-12-29T16:19:43.964Z"
   },
   {
    "duration": 16,
    "start_time": "2023-12-29T16:19:44.168Z"
   },
   {
    "duration": 13,
    "start_time": "2023-12-29T16:19:44.186Z"
   },
   {
    "duration": 17,
    "start_time": "2023-12-29T16:19:44.200Z"
   },
   {
    "duration": 119,
    "start_time": "2023-12-29T16:19:44.218Z"
   },
   {
    "duration": 148,
    "start_time": "2023-12-29T16:19:44.339Z"
   },
   {
    "duration": 7,
    "start_time": "2023-12-29T16:19:44.489Z"
   },
   {
    "duration": 692,
    "start_time": "2023-12-29T16:19:44.497Z"
   },
   {
    "duration": 770,
    "start_time": "2023-12-29T16:19:45.190Z"
   },
   {
    "duration": 730,
    "start_time": "2023-12-29T16:19:45.962Z"
   },
   {
    "duration": 4,
    "start_time": "2023-12-29T16:19:46.694Z"
   },
   {
    "duration": 71,
    "start_time": "2023-12-29T16:19:46.699Z"
   },
   {
    "duration": 101,
    "start_time": "2023-12-29T16:19:46.772Z"
   },
   {
    "duration": 192,
    "start_time": "2023-12-29T16:19:46.875Z"
   },
   {
    "duration": 305,
    "start_time": "2023-12-29T16:19:47.069Z"
   },
   {
    "duration": 3,
    "start_time": "2023-12-29T16:19:47.376Z"
   },
   {
    "duration": 12,
    "start_time": "2023-12-29T16:19:47.380Z"
   },
   {
    "duration": 139,
    "start_time": "2023-12-29T16:19:47.393Z"
   },
   {
    "duration": 5,
    "start_time": "2023-12-29T16:19:47.533Z"
   },
   {
    "duration": 5,
    "start_time": "2023-12-29T16:19:47.539Z"
   },
   {
    "duration": 19,
    "start_time": "2023-12-29T16:19:47.546Z"
   },
   {
    "duration": 3120,
    "start_time": "2023-12-29T16:19:47.567Z"
   },
   {
    "duration": 396,
    "start_time": "2023-12-29T16:19:50.689Z"
   },
   {
    "duration": 1291,
    "start_time": "2023-12-29T16:20:15.052Z"
   },
   {
    "duration": 3,
    "start_time": "2023-12-29T16:20:16.345Z"
   },
   {
    "duration": 4,
    "start_time": "2023-12-29T16:20:16.349Z"
   },
   {
    "duration": 776,
    "start_time": "2023-12-29T16:20:16.354Z"
   },
   {
    "duration": 926,
    "start_time": "2023-12-29T16:20:17.131Z"
   },
   {
    "duration": 471,
    "start_time": "2023-12-29T16:20:18.059Z"
   },
   {
    "duration": 6,
    "start_time": "2023-12-29T16:20:18.532Z"
   },
   {
    "duration": 6,
    "start_time": "2023-12-29T16:20:18.540Z"
   },
   {
    "duration": 218,
    "start_time": "2023-12-29T16:20:18.547Z"
   },
   {
    "duration": 16,
    "start_time": "2023-12-29T16:20:18.766Z"
   },
   {
    "duration": 13,
    "start_time": "2023-12-29T16:20:18.783Z"
   },
   {
    "duration": 14,
    "start_time": "2023-12-29T16:20:18.798Z"
   },
   {
    "duration": 162,
    "start_time": "2023-12-29T16:20:18.813Z"
   },
   {
    "duration": 144,
    "start_time": "2023-12-29T16:20:18.979Z"
   },
   {
    "duration": 8,
    "start_time": "2023-12-29T16:20:19.124Z"
   },
   {
    "duration": 686,
    "start_time": "2023-12-29T16:20:19.133Z"
   },
   {
    "duration": 696,
    "start_time": "2023-12-29T16:20:19.821Z"
   },
   {
    "duration": 687,
    "start_time": "2023-12-29T16:20:20.519Z"
   },
   {
    "duration": 4,
    "start_time": "2023-12-29T16:20:21.207Z"
   },
   {
    "duration": 57,
    "start_time": "2023-12-29T16:20:21.212Z"
   },
   {
    "duration": 104,
    "start_time": "2023-12-29T16:20:21.271Z"
   },
   {
    "duration": 92,
    "start_time": "2023-12-29T16:20:21.378Z"
   },
   {
    "duration": 421,
    "start_time": "2023-12-29T16:20:21.472Z"
   },
   {
    "duration": 3,
    "start_time": "2023-12-29T16:20:21.895Z"
   },
   {
    "duration": 7,
    "start_time": "2023-12-29T16:20:21.899Z"
   },
   {
    "duration": 135,
    "start_time": "2023-12-29T16:20:21.907Z"
   },
   {
    "duration": 3,
    "start_time": "2023-12-29T16:20:22.044Z"
   },
   {
    "duration": 17,
    "start_time": "2023-12-29T16:20:22.049Z"
   },
   {
    "duration": 6,
    "start_time": "2023-12-29T16:20:22.067Z"
   },
   {
    "duration": 2983,
    "start_time": "2023-12-29T16:20:22.074Z"
   },
   {
    "duration": 410,
    "start_time": "2023-12-29T16:20:25.059Z"
   },
   {
    "duration": 1318,
    "start_time": "2023-12-29T16:20:57.724Z"
   },
   {
    "duration": 3,
    "start_time": "2023-12-29T16:20:59.044Z"
   },
   {
    "duration": 19,
    "start_time": "2023-12-29T16:20:59.048Z"
   },
   {
    "duration": 810,
    "start_time": "2023-12-29T16:20:59.068Z"
   },
   {
    "duration": 928,
    "start_time": "2023-12-29T16:20:59.880Z"
   },
   {
    "duration": 471,
    "start_time": "2023-12-29T16:21:00.809Z"
   },
   {
    "duration": 7,
    "start_time": "2023-12-29T16:21:01.281Z"
   },
   {
    "duration": 96,
    "start_time": "2023-12-29T16:21:01.289Z"
   },
   {
    "duration": 289,
    "start_time": "2023-12-29T16:21:01.386Z"
   },
   {
    "duration": 16,
    "start_time": "2023-12-29T16:21:01.677Z"
   },
   {
    "duration": 42,
    "start_time": "2023-12-29T16:21:01.694Z"
   },
   {
    "duration": 41,
    "start_time": "2023-12-29T16:21:01.738Z"
   },
   {
    "duration": 108,
    "start_time": "2023-12-29T16:21:01.781Z"
   },
   {
    "duration": 156,
    "start_time": "2023-12-29T16:21:01.893Z"
   },
   {
    "duration": 8,
    "start_time": "2023-12-29T16:21:02.065Z"
   },
   {
    "duration": 727,
    "start_time": "2023-12-29T16:21:02.074Z"
   },
   {
    "duration": 690,
    "start_time": "2023-12-29T16:21:02.803Z"
   },
   {
    "duration": 696,
    "start_time": "2023-12-29T16:21:03.494Z"
   },
   {
    "duration": 4,
    "start_time": "2023-12-29T16:21:04.191Z"
   },
   {
    "duration": 67,
    "start_time": "2023-12-29T16:21:04.197Z"
   },
   {
    "duration": 103,
    "start_time": "2023-12-29T16:21:04.270Z"
   },
   {
    "duration": 198,
    "start_time": "2023-12-29T16:21:04.376Z"
   },
   {
    "duration": 387,
    "start_time": "2023-12-29T16:21:04.578Z"
   },
   {
    "duration": 3,
    "start_time": "2023-12-29T16:21:04.966Z"
   },
   {
    "duration": 7,
    "start_time": "2023-12-29T16:21:04.971Z"
   },
   {
    "duration": 140,
    "start_time": "2023-12-29T16:21:04.980Z"
   },
   {
    "duration": 3,
    "start_time": "2023-12-29T16:21:05.121Z"
   },
   {
    "duration": 4,
    "start_time": "2023-12-29T16:21:05.125Z"
   },
   {
    "duration": 8,
    "start_time": "2023-12-29T16:21:05.131Z"
   },
   {
    "duration": 3063,
    "start_time": "2023-12-29T16:21:05.140Z"
   },
   {
    "duration": 419,
    "start_time": "2023-12-29T16:21:08.205Z"
   },
   {
    "duration": 1277,
    "start_time": "2023-12-29T16:21:39.765Z"
   },
   {
    "duration": 3,
    "start_time": "2023-12-29T16:21:41.044Z"
   },
   {
    "duration": 14,
    "start_time": "2023-12-29T16:21:41.051Z"
   },
   {
    "duration": 842,
    "start_time": "2023-12-29T16:21:41.067Z"
   },
   {
    "duration": 923,
    "start_time": "2023-12-29T16:21:41.911Z"
   },
   {
    "duration": 481,
    "start_time": "2023-12-29T16:21:42.836Z"
   },
   {
    "duration": 6,
    "start_time": "2023-12-29T16:21:43.318Z"
   },
   {
    "duration": 7,
    "start_time": "2023-12-29T16:21:43.326Z"
   },
   {
    "duration": 209,
    "start_time": "2023-12-29T16:21:43.335Z"
   },
   {
    "duration": 21,
    "start_time": "2023-12-29T16:21:43.545Z"
   },
   {
    "duration": 13,
    "start_time": "2023-12-29T16:21:43.568Z"
   },
   {
    "duration": 14,
    "start_time": "2023-12-29T16:21:43.582Z"
   },
   {
    "duration": 126,
    "start_time": "2023-12-29T16:21:43.598Z"
   },
   {
    "duration": 162,
    "start_time": "2023-12-29T16:21:43.725Z"
   },
   {
    "duration": 7,
    "start_time": "2023-12-29T16:21:43.888Z"
   },
   {
    "duration": 694,
    "start_time": "2023-12-29T16:21:43.897Z"
   },
   {
    "duration": 708,
    "start_time": "2023-12-29T16:21:44.592Z"
   },
   {
    "duration": 710,
    "start_time": "2023-12-29T16:21:45.302Z"
   },
   {
    "duration": 4,
    "start_time": "2023-12-29T16:21:46.013Z"
   },
   {
    "duration": 50,
    "start_time": "2023-12-29T16:21:46.018Z"
   },
   {
    "duration": 106,
    "start_time": "2023-12-29T16:21:46.070Z"
   },
   {
    "duration": 188,
    "start_time": "2023-12-29T16:21:46.178Z"
   },
   {
    "duration": 306,
    "start_time": "2023-12-29T16:21:46.369Z"
   },
   {
    "duration": 3,
    "start_time": "2023-12-29T16:21:46.678Z"
   },
   {
    "duration": 18,
    "start_time": "2023-12-29T16:21:46.682Z"
   },
   {
    "duration": 132,
    "start_time": "2023-12-29T16:21:46.702Z"
   },
   {
    "duration": 4,
    "start_time": "2023-12-29T16:21:46.836Z"
   },
   {
    "duration": 6,
    "start_time": "2023-12-29T16:21:46.841Z"
   },
   {
    "duration": 16,
    "start_time": "2023-12-29T16:21:46.849Z"
   },
   {
    "duration": 3013,
    "start_time": "2023-12-29T16:21:46.866Z"
   },
   {
    "duration": 405,
    "start_time": "2023-12-29T16:21:49.881Z"
   },
   {
    "duration": 1229,
    "start_time": "2023-12-29T16:22:04.125Z"
   },
   {
    "duration": 2,
    "start_time": "2023-12-29T16:22:05.356Z"
   },
   {
    "duration": 6,
    "start_time": "2023-12-29T16:22:05.359Z"
   },
   {
    "duration": 761,
    "start_time": "2023-12-29T16:22:05.366Z"
   },
   {
    "duration": 944,
    "start_time": "2023-12-29T16:22:06.129Z"
   },
   {
    "duration": 477,
    "start_time": "2023-12-29T16:22:07.075Z"
   },
   {
    "duration": 14,
    "start_time": "2023-12-29T16:22:07.554Z"
   },
   {
    "duration": 10,
    "start_time": "2023-12-29T16:22:07.569Z"
   },
   {
    "duration": 228,
    "start_time": "2023-12-29T16:22:07.580Z"
   },
   {
    "duration": 17,
    "start_time": "2023-12-29T16:22:07.809Z"
   },
   {
    "duration": 14,
    "start_time": "2023-12-29T16:22:07.827Z"
   },
   {
    "duration": 34,
    "start_time": "2023-12-29T16:22:07.843Z"
   },
   {
    "duration": 108,
    "start_time": "2023-12-29T16:22:07.878Z"
   },
   {
    "duration": 145,
    "start_time": "2023-12-29T16:22:07.989Z"
   },
   {
    "duration": 8,
    "start_time": "2023-12-29T16:22:08.135Z"
   },
   {
    "duration": 725,
    "start_time": "2023-12-29T16:22:08.144Z"
   },
   {
    "duration": 839,
    "start_time": "2023-12-29T16:22:08.870Z"
   },
   {
    "duration": 826,
    "start_time": "2023-12-29T16:22:09.711Z"
   },
   {
    "duration": 4,
    "start_time": "2023-12-29T16:22:10.538Z"
   },
   {
    "duration": 27,
    "start_time": "2023-12-29T16:22:10.543Z"
   },
   {
    "duration": 105,
    "start_time": "2023-12-29T16:22:10.665Z"
   },
   {
    "duration": 194,
    "start_time": "2023-12-29T16:22:10.772Z"
   },
   {
    "duration": 319,
    "start_time": "2023-12-29T16:22:10.968Z"
   },
   {
    "duration": 3,
    "start_time": "2023-12-29T16:22:11.288Z"
   },
   {
    "duration": 17,
    "start_time": "2023-12-29T16:22:11.293Z"
   },
   {
    "duration": 162,
    "start_time": "2023-12-29T16:22:11.312Z"
   },
   {
    "duration": 4,
    "start_time": "2023-12-29T16:22:11.475Z"
   },
   {
    "duration": 5,
    "start_time": "2023-12-29T16:22:11.481Z"
   },
   {
    "duration": 9,
    "start_time": "2023-12-29T16:22:11.487Z"
   },
   {
    "duration": 3150,
    "start_time": "2023-12-29T16:22:11.498Z"
   },
   {
    "duration": 428,
    "start_time": "2023-12-29T16:22:14.650Z"
   },
   {
    "duration": 1280,
    "start_time": "2023-12-29T16:22:28.687Z"
   },
   {
    "duration": 2,
    "start_time": "2023-12-29T16:22:29.969Z"
   },
   {
    "duration": 3,
    "start_time": "2023-12-29T16:22:29.973Z"
   },
   {
    "duration": 792,
    "start_time": "2023-12-29T16:22:29.977Z"
   },
   {
    "duration": 927,
    "start_time": "2023-12-29T16:22:30.771Z"
   },
   {
    "duration": 499,
    "start_time": "2023-12-29T16:22:31.700Z"
   },
   {
    "duration": 6,
    "start_time": "2023-12-29T16:22:32.200Z"
   },
   {
    "duration": 5,
    "start_time": "2023-12-29T16:22:32.208Z"
   },
   {
    "duration": 227,
    "start_time": "2023-12-29T16:22:32.215Z"
   },
   {
    "duration": 23,
    "start_time": "2023-12-29T16:22:32.443Z"
   },
   {
    "duration": 15,
    "start_time": "2023-12-29T16:22:32.467Z"
   },
   {
    "duration": 14,
    "start_time": "2023-12-29T16:22:32.483Z"
   },
   {
    "duration": 129,
    "start_time": "2023-12-29T16:22:32.498Z"
   },
   {
    "duration": 162,
    "start_time": "2023-12-29T16:22:32.630Z"
   },
   {
    "duration": 8,
    "start_time": "2023-12-29T16:22:32.793Z"
   },
   {
    "duration": 723,
    "start_time": "2023-12-29T16:22:32.803Z"
   },
   {
    "duration": 715,
    "start_time": "2023-12-29T16:22:33.528Z"
   },
   {
    "duration": 705,
    "start_time": "2023-12-29T16:22:34.244Z"
   },
   {
    "duration": 4,
    "start_time": "2023-12-29T16:22:34.951Z"
   },
   {
    "duration": 21,
    "start_time": "2023-12-29T16:22:34.964Z"
   },
   {
    "duration": 105,
    "start_time": "2023-12-29T16:22:35.066Z"
   },
   {
    "duration": 105,
    "start_time": "2023-12-29T16:22:35.172Z"
   },
   {
    "duration": 392,
    "start_time": "2023-12-29T16:22:35.279Z"
   },
   {
    "duration": 4,
    "start_time": "2023-12-29T16:22:35.672Z"
   },
   {
    "duration": 9,
    "start_time": "2023-12-29T16:22:35.677Z"
   },
   {
    "duration": 141,
    "start_time": "2023-12-29T16:22:35.687Z"
   },
   {
    "duration": 3,
    "start_time": "2023-12-29T16:22:35.830Z"
   },
   {
    "duration": 5,
    "start_time": "2023-12-29T16:22:35.834Z"
   },
   {
    "duration": 6,
    "start_time": "2023-12-29T16:22:35.840Z"
   },
   {
    "duration": 3027,
    "start_time": "2023-12-29T16:22:35.865Z"
   },
   {
    "duration": 453,
    "start_time": "2023-12-29T16:22:38.898Z"
   },
   {
    "duration": 1286,
    "start_time": "2023-12-29T16:23:32.401Z"
   },
   {
    "duration": 3,
    "start_time": "2023-12-29T16:23:33.689Z"
   },
   {
    "duration": 4,
    "start_time": "2023-12-29T16:23:33.693Z"
   },
   {
    "duration": 789,
    "start_time": "2023-12-29T16:23:33.698Z"
   },
   {
    "duration": 915,
    "start_time": "2023-12-29T16:23:34.489Z"
   },
   {
    "duration": 502,
    "start_time": "2023-12-29T16:23:35.406Z"
   },
   {
    "duration": 6,
    "start_time": "2023-12-29T16:23:35.910Z"
   },
   {
    "duration": 18,
    "start_time": "2023-12-29T16:23:35.917Z"
   },
   {
    "duration": 213,
    "start_time": "2023-12-29T16:23:35.937Z"
   },
   {
    "duration": 25,
    "start_time": "2023-12-29T16:23:36.152Z"
   },
   {
    "duration": 14,
    "start_time": "2023-12-29T16:23:36.178Z"
   },
   {
    "duration": 15,
    "start_time": "2023-12-29T16:23:36.194Z"
   },
   {
    "duration": 125,
    "start_time": "2023-12-29T16:23:36.210Z"
   },
   {
    "duration": 155,
    "start_time": "2023-12-29T16:23:36.338Z"
   },
   {
    "duration": 8,
    "start_time": "2023-12-29T16:23:36.494Z"
   },
   {
    "duration": 690,
    "start_time": "2023-12-29T16:23:36.504Z"
   },
   {
    "duration": 694,
    "start_time": "2023-12-29T16:23:37.195Z"
   },
   {
    "duration": 696,
    "start_time": "2023-12-29T16:23:37.890Z"
   },
   {
    "duration": 4,
    "start_time": "2023-12-29T16:23:38.587Z"
   },
   {
    "duration": 74,
    "start_time": "2023-12-29T16:23:38.593Z"
   },
   {
    "duration": 101,
    "start_time": "2023-12-29T16:23:38.669Z"
   },
   {
    "duration": 100,
    "start_time": "2023-12-29T16:23:38.772Z"
   },
   {
    "duration": 397,
    "start_time": "2023-12-29T16:23:38.875Z"
   },
   {
    "duration": 3,
    "start_time": "2023-12-29T16:23:39.273Z"
   },
   {
    "duration": 14,
    "start_time": "2023-12-29T16:23:39.278Z"
   },
   {
    "duration": 148,
    "start_time": "2023-12-29T16:23:39.293Z"
   },
   {
    "duration": 3,
    "start_time": "2023-12-29T16:23:39.443Z"
   },
   {
    "duration": 15,
    "start_time": "2023-12-29T16:23:39.448Z"
   },
   {
    "duration": 6,
    "start_time": "2023-12-29T16:23:39.464Z"
   },
   {
    "duration": 2994,
    "start_time": "2023-12-29T16:23:39.471Z"
   },
   {
    "duration": 399,
    "start_time": "2023-12-29T16:23:42.466Z"
   },
   {
    "duration": 3,
    "start_time": "2023-12-29T16:25:15.307Z"
   },
   {
    "duration": 396,
    "start_time": "2023-12-29T16:28:29.309Z"
   }
  ],
  "kernelspec": {
   "display_name": "Python 3 (ipykernel)",
   "language": "python",
   "name": "python3"
  },
  "language_info": {
   "codemirror_mode": {
    "name": "ipython",
    "version": 3
   },
   "file_extension": ".py",
   "mimetype": "text/x-python",
   "name": "python",
   "nbconvert_exporter": "python",
   "pygments_lexer": "ipython3",
   "version": "3.11.5"
  },
  "toc": {
   "base_numbering": 1,
   "nav_menu": {},
   "number_sections": true,
   "sideBar": true,
   "skip_h1_title": true,
   "title_cell": "Table of Contents",
   "title_sidebar": "Contents",
   "toc_cell": false,
   "toc_position": {},
   "toc_section_display": true,
   "toc_window_display": false
  }
 },
 "nbformat": 4,
 "nbformat_minor": 2
}
