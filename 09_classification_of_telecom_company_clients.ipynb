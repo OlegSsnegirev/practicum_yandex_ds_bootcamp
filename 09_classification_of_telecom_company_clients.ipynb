{
 "cells": [
  {
   "cell_type": "markdown",
   "metadata": {},
   "source": [
    "# Рекомендация тарифов"
   ]
  },
  {
   "cell_type": "markdown",
   "metadata": {},
   "source": [
    "В вашем распоряжении данные о поведении клиентов, которые уже перешли на эти тарифы. Нужно построить модель для задачи классификации, которая выберет подходящий тариф.\n",
    "\n",
    "**Цель исследования:**\n",
    "\n",
    "1. Подобрать модель и глобальные параметры с наилучшим качеством прогнозирования\n",
    "2. Проверить выводы на тестовой выборке\n",
    "\n",
    "**Ограничения**\n",
    "1. Доля правильных ответов должна быть не меньше 0.75\n",
    "2. В рамках текущего обучения я отрабатываю поиск оптимальной модели с помошью ручного перебора гиперпараметров с фиксированной валидационной выборкой, это значит, что пайплайны и методы автоматизиронного подбора гиперпараметров использованы не будут сознательно\n",
    "\n",
    "**Ход исследования**\n",
    "\n",
    "Данные о поведении клиентов на тмо или ином тарифе в файле users_behavior.csv. О качестве данных ничего не известно. Поэтому перед тем, как приступать к целям исследования, понадобится обзор данных\n",
    "\n",
    "Я проверю данные на ошибки и оценю их влияние на исследование. Затем, на этапе предобработки я поищу возможность исправить все ошибки данных, которые не приведут к искажению конечного результата. Далее разделю наш набор данных в соотношении 60 - 20 - 20 на обучающую, валидационную и тестовую выборки, выделю целевой признак. После этого подберу глобальные параметры для трех известных подходов:\n",
    "\n",
    "- дерево решений\n",
    "- случайный лес\n",
    "- логистическая регрессия\n",
    "\n",
    "определю вариант с наиболее качественным предсказанием. После этого проверю выводы на тестовой выборке и оформлю общий итог работы\n",
    "\n",
    "Таким образом, моё исследование пройдёт в шесть этапов:\n",
    "\n",
    "* Обзор данных\n",
    "* Предобработка данных\n",
    "* Разбиение данных на выборки\n",
    "* Исследование моделей\n",
    "* Проверка на тестовой выборке\n",
    "* Оформление общего вывода по работе"
   ]
  },
  {
   "cell_type": "code",
   "execution_count": 1,
   "metadata": {},
   "outputs": [],
   "source": [
    "import pandas as pd\n",
    "import numpy as np\n",
    "import warnings\n",
    "import matplotlib.pyplot as plt \n",
    "import time\n",
    "\n",
    "from sklearn.model_selection import train_test_split \n",
    "\n",
    "from sklearn.tree import DecisionTreeClassifier\n",
    "from sklearn.ensemble import RandomForestClassifier\n",
    "from sklearn.linear_model import LogisticRegression"
   ]
  },
  {
   "cell_type": "code",
   "execution_count": 2,
   "metadata": {},
   "outputs": [],
   "source": [
    "warnings.filterwarnings('ignore') # отключаем предупреждения\n",
    "RAND_FIX = 12345 # Зафиксируем random_state"
   ]
  },
  {
   "cell_type": "markdown",
   "metadata": {},
   "source": [
    "## Шаг 1. Откройте и изучите файл"
   ]
  },
  {
   "cell_type": "code",
   "execution_count": 3,
   "metadata": {},
   "outputs": [
    {
     "data": {
      "text/html": [
       "<div>\n",
       "<style scoped>\n",
       "    .dataframe tbody tr th:only-of-type {\n",
       "        vertical-align: middle;\n",
       "    }\n",
       "\n",
       "    .dataframe tbody tr th {\n",
       "        vertical-align: top;\n",
       "    }\n",
       "\n",
       "    .dataframe thead th {\n",
       "        text-align: right;\n",
       "    }\n",
       "</style>\n",
       "<table border=\"1\" class=\"dataframe\">\n",
       "  <thead>\n",
       "    <tr style=\"text-align: right;\">\n",
       "      <th></th>\n",
       "      <th>calls</th>\n",
       "      <th>minutes</th>\n",
       "      <th>messages</th>\n",
       "      <th>mb_used</th>\n",
       "      <th>is_ultra</th>\n",
       "    </tr>\n",
       "  </thead>\n",
       "  <tbody>\n",
       "    <tr>\n",
       "      <th>0</th>\n",
       "      <td>40.0</td>\n",
       "      <td>311.90</td>\n",
       "      <td>83.0</td>\n",
       "      <td>19915.42</td>\n",
       "      <td>0</td>\n",
       "    </tr>\n",
       "    <tr>\n",
       "      <th>1</th>\n",
       "      <td>85.0</td>\n",
       "      <td>516.75</td>\n",
       "      <td>56.0</td>\n",
       "      <td>22696.96</td>\n",
       "      <td>0</td>\n",
       "    </tr>\n",
       "    <tr>\n",
       "      <th>2</th>\n",
       "      <td>77.0</td>\n",
       "      <td>467.66</td>\n",
       "      <td>86.0</td>\n",
       "      <td>21060.45</td>\n",
       "      <td>0</td>\n",
       "    </tr>\n",
       "    <tr>\n",
       "      <th>3</th>\n",
       "      <td>106.0</td>\n",
       "      <td>745.53</td>\n",
       "      <td>81.0</td>\n",
       "      <td>8437.39</td>\n",
       "      <td>1</td>\n",
       "    </tr>\n",
       "    <tr>\n",
       "      <th>4</th>\n",
       "      <td>66.0</td>\n",
       "      <td>418.74</td>\n",
       "      <td>1.0</td>\n",
       "      <td>14502.75</td>\n",
       "      <td>0</td>\n",
       "    </tr>\n",
       "    <tr>\n",
       "      <th>5</th>\n",
       "      <td>58.0</td>\n",
       "      <td>344.56</td>\n",
       "      <td>21.0</td>\n",
       "      <td>15823.37</td>\n",
       "      <td>0</td>\n",
       "    </tr>\n",
       "    <tr>\n",
       "      <th>6</th>\n",
       "      <td>57.0</td>\n",
       "      <td>431.64</td>\n",
       "      <td>20.0</td>\n",
       "      <td>3738.90</td>\n",
       "      <td>1</td>\n",
       "    </tr>\n",
       "    <tr>\n",
       "      <th>7</th>\n",
       "      <td>15.0</td>\n",
       "      <td>132.40</td>\n",
       "      <td>6.0</td>\n",
       "      <td>21911.60</td>\n",
       "      <td>0</td>\n",
       "    </tr>\n",
       "    <tr>\n",
       "      <th>8</th>\n",
       "      <td>7.0</td>\n",
       "      <td>43.39</td>\n",
       "      <td>3.0</td>\n",
       "      <td>2538.67</td>\n",
       "      <td>1</td>\n",
       "    </tr>\n",
       "    <tr>\n",
       "      <th>9</th>\n",
       "      <td>90.0</td>\n",
       "      <td>665.41</td>\n",
       "      <td>38.0</td>\n",
       "      <td>17358.61</td>\n",
       "      <td>0</td>\n",
       "    </tr>\n",
       "  </tbody>\n",
       "</table>\n",
       "</div>"
      ],
      "text/plain": [
       "   calls  minutes  messages   mb_used  is_ultra\n",
       "0   40.0   311.90      83.0  19915.42         0\n",
       "1   85.0   516.75      56.0  22696.96         0\n",
       "2   77.0   467.66      86.0  21060.45         0\n",
       "3  106.0   745.53      81.0   8437.39         1\n",
       "4   66.0   418.74       1.0  14502.75         0\n",
       "5   58.0   344.56      21.0  15823.37         0\n",
       "6   57.0   431.64      20.0   3738.90         1\n",
       "7   15.0   132.40       6.0  21911.60         0\n",
       "8    7.0    43.39       3.0   2538.67         1\n",
       "9   90.0   665.41      38.0  17358.61         0"
      ]
     },
     "metadata": {},
     "output_type": "display_data"
    },
    {
     "name": "stdout",
     "output_type": "stream",
     "text": [
      "\n",
      "<class 'pandas.core.frame.DataFrame'>\n",
      "RangeIndex: 3214 entries, 0 to 3213\n",
      "Data columns (total 5 columns):\n",
      " #   Column    Non-Null Count  Dtype  \n",
      "---  ------    --------------  -----  \n",
      " 0   calls     3214 non-null   float64\n",
      " 1   minutes   3214 non-null   float64\n",
      " 2   messages  3214 non-null   float64\n",
      " 3   mb_used   3214 non-null   float64\n",
      " 4   is_ultra  3214 non-null   int64  \n",
      "dtypes: float64(4), int64(1)\n",
      "memory usage: 125.7 KB\n"
     ]
    }
   ],
   "source": [
    "try:\n",
    "    df = pd.read_csv('datasets/users_behavior.csv', sep=',') # загружаем с локального хранилища\n",
    "    display(df.head(10))\n",
    "    print()\n",
    "    df.info()\n",
    "except:\n",
    "    df = pd.read_csv('https://code.s3.yandex.net/datasets/users_behavior.csv', sep=',') # если что-то не выходит, то с Яндекса\n",
    "    print('Файл загружен из хранилища Яндекс')\n",
    "    display(df.head(10))\n",
    "    print()\n",
    "    df.info()"
   ]
  },
  {
   "cell_type": "code",
   "execution_count": 4,
   "metadata": {},
   "outputs": [
    {
     "data": {
      "image/png": "[encoded data removed]",
      "text/plain": [
       "<Figure size 1500x700 with 6 Axes>"
      ]
     },
     "metadata": {},
     "output_type": "display_data"
    }
   ],
   "source": [
    "df.hist(figsize=(15, 7));"
   ]
  },
  {
   "cell_type": "markdown",
   "metadata": {},
   "source": [
    "Предварительные выводы следующие:\n",
    "1. Распределения значений -- норм, отрицательных минут, например, не обнаруено, необъяснимо больших тоже\n",
    "2. Тип для calls и messages переделаем в int, но сначала проверим, все ли значения целые\n",
    "3. Нужно проверить на полные дубликаты. Если найдем, то будем уже думать, что с ними делать -- само по себе совпадение строк тут не является ошибкой\n",
    "4. Наименования столбцов вменяемые и в нужном формате, не трогаем\n",
    "5. Незаполненных значений не нашлось"
   ]
  },
  {
   "cell_type": "markdown",
   "metadata": {},
   "source": [
    "Проверим на дубликаты:"
   ]
  },
  {
   "cell_type": "code",
   "execution_count": 5,
   "metadata": {},
   "outputs": [
    {
     "data": {
      "text/plain": [
       "0"
      ]
     },
     "execution_count": 5,
     "metadata": {},
     "output_type": "execute_result"
    }
   ],
   "source": [
    "df.duplicated().sum()"
   ]
  },
  {
   "cell_type": "markdown",
   "metadata": {},
   "source": [
    "Полных дубликатов нет, проверим, все ли значения целые в calls и messages"
   ]
  },
  {
   "cell_type": "code",
   "execution_count": 6,
   "metadata": {},
   "outputs": [
    {
     "data": {
      "text/html": [
       "<div>\n",
       "<style scoped>\n",
       "    .dataframe tbody tr th:only-of-type {\n",
       "        vertical-align: middle;\n",
       "    }\n",
       "\n",
       "    .dataframe tbody tr th {\n",
       "        vertical-align: top;\n",
       "    }\n",
       "\n",
       "    .dataframe thead th {\n",
       "        text-align: right;\n",
       "    }\n",
       "</style>\n",
       "<table border=\"1\" class=\"dataframe\">\n",
       "  <thead>\n",
       "    <tr style=\"text-align: right;\">\n",
       "      <th></th>\n",
       "      <th>calls</th>\n",
       "      <th>minutes</th>\n",
       "      <th>messages</th>\n",
       "      <th>mb_used</th>\n",
       "      <th>is_ultra</th>\n",
       "    </tr>\n",
       "  </thead>\n",
       "  <tbody>\n",
       "  </tbody>\n",
       "</table>\n",
       "</div>"
      ],
      "text/plain": [
       "Empty DataFrame\n",
       "Columns: [calls, minutes, messages, mb_used, is_ultra]\n",
       "Index: []"
      ]
     },
     "metadata": {},
     "output_type": "display_data"
    },
    {
     "data": {
      "text/html": [
       "<div>\n",
       "<style scoped>\n",
       "    .dataframe tbody tr th:only-of-type {\n",
       "        vertical-align: middle;\n",
       "    }\n",
       "\n",
       "    .dataframe tbody tr th {\n",
       "        vertical-align: top;\n",
       "    }\n",
       "\n",
       "    .dataframe thead th {\n",
       "        text-align: right;\n",
       "    }\n",
       "</style>\n",
       "<table border=\"1\" class=\"dataframe\">\n",
       "  <thead>\n",
       "    <tr style=\"text-align: right;\">\n",
       "      <th></th>\n",
       "      <th>calls</th>\n",
       "      <th>minutes</th>\n",
       "      <th>messages</th>\n",
       "      <th>mb_used</th>\n",
       "      <th>is_ultra</th>\n",
       "    </tr>\n",
       "  </thead>\n",
       "  <tbody>\n",
       "  </tbody>\n",
       "</table>\n",
       "</div>"
      ],
      "text/plain": [
       "Empty DataFrame\n",
       "Columns: [calls, minutes, messages, mb_used, is_ultra]\n",
       "Index: []"
      ]
     },
     "metadata": {},
     "output_type": "display_data"
    }
   ],
   "source": [
    "display(df.loc[df['calls'] % 1 > 0, :])\n",
    "display(df.loc[df['messages'] % 1 > 0, :])"
   ]
  },
  {
   "cell_type": "markdown",
   "metadata": {},
   "source": [
    "Значения целые, спокойно меняем типы:"
   ]
  },
  {
   "cell_type": "code",
   "execution_count": 7,
   "metadata": {},
   "outputs": [
    {
     "name": "stdout",
     "output_type": "stream",
     "text": [
      "<class 'pandas.core.frame.DataFrame'>\n",
      "RangeIndex: 3214 entries, 0 to 3213\n",
      "Data columns (total 5 columns):\n",
      " #   Column    Non-Null Count  Dtype  \n",
      "---  ------    --------------  -----  \n",
      " 0   calls     3214 non-null   int32  \n",
      " 1   minutes   3214 non-null   float64\n",
      " 2   messages  3214 non-null   int32  \n",
      " 3   mb_used   3214 non-null   float64\n",
      " 4   is_ultra  3214 non-null   int64  \n",
      "dtypes: float64(2), int32(2), int64(1)\n",
      "memory usage: 100.6 KB\n"
     ]
    }
   ],
   "source": [
    "df['calls'] = df['calls'].astype('int')\n",
    "df['messages'] = df['messages'].astype('int')\n",
    "df.info()"
   ]
  },
  {
   "cell_type": "markdown",
   "metadata": {},
   "source": [
    "В рамках предобработки:\n",
    "- Поменяли типы на int в столбцах calls и messages"
   ]
  },
  {
   "cell_type": "markdown",
   "metadata": {},
   "source": [
    "## Шаг 02. Разбейте данные на выборки"
   ]
  },
  {
   "cell_type": "markdown",
   "metadata": {},
   "source": [
    "Отдельной тестовой выборки у нас нет, поэтому делим датасет на train, test и valid в пропорциях 60 - 20 - 20 соответственно."
   ]
  },
  {
   "cell_type": "code",
   "execution_count": 8,
   "metadata": {},
   "outputs": [
    {
     "data": {
      "text/plain": [
       "(1928, 5)"
      ]
     },
     "metadata": {},
     "output_type": "display_data"
    },
    {
     "data": {
      "text/plain": [
       "(643, 5)"
      ]
     },
     "metadata": {},
     "output_type": "display_data"
    },
    {
     "data": {
      "text/plain": [
       "(643, 5)"
      ]
     },
     "metadata": {},
     "output_type": "display_data"
    }
   ],
   "source": [
    "data_train, data_temp = train_test_split(df, test_size=0.4, random_state=RAND_FIX) \n",
    "data_test, data_valid = train_test_split(data_temp, test_size=0.5, random_state=RAND_FIX)\n",
    "\n",
    "display(data_train.shape)\n",
    "display(data_test.shape)\n",
    "display(data_valid.shape)"
   ]
  },
  {
   "cell_type": "markdown",
   "metadata": {},
   "source": [
    "643 + 643 + 1928 = 3214, все ок.\n",
    "\n",
    "Теперь выделяем и отрезаем целевой признак для каждой выборки:"
   ]
  },
  {
   "cell_type": "code",
   "execution_count": 9,
   "metadata": {},
   "outputs": [],
   "source": [
    "features_train = data_train.drop('is_ultra', axis=1)\n",
    "target_train = data_train.loc[:, 'is_ultra']\n",
    "\n",
    "features_valid = data_valid.drop('is_ultra', axis=1)\n",
    "target_valid = data_valid.loc[:, 'is_ultra']\n",
    "\n",
    "features_test = data_test.drop('is_ultra', axis=1)\n",
    "target_test = data_test.loc[:, 'is_ultra']"
   ]
  },
  {
   "cell_type": "markdown",
   "metadata": {},
   "source": [
    "## Шаг 03. Исследуйте модели"
   ]
  },
  {
   "cell_type": "markdown",
   "metadata": {},
   "source": [
    "Исследуем модели:\n",
    "- дерево решений\n",
    "- случайный лес\n",
    "- логистическую регрессию"
   ]
  },
  {
   "cell_type": "markdown",
   "metadata": {},
   "source": [
    "### 3.1 Дерево решений"
   ]
  },
  {
   "cell_type": "markdown",
   "metadata": {},
   "source": [
    "В цикле найдем оптимальную глубину, для нее сохраним модель в best_model_for_t и посмотрим на время выполнения"
   ]
  },
  {
   "cell_type": "code",
   "execution_count": 10,
   "metadata": {},
   "outputs": [
    {
     "name": "stdout",
     "output_type": "stream",
     "text": [
      "Глубина для лучшей модели: 7\n",
      "\n",
      "Время выполнения для лучшей модели: 0.004000425338745117\n",
      "Качество для лучшей модели: 0.7993779160186625\n"
     ]
    }
   ],
   "source": [
    "best_model_for_t = None\n",
    "best_result_for_t = 0\n",
    "\n",
    "# Цикл для подборки глубины:\n",
    "for depth in range(1, 10):\n",
    "    start_time = time.time()\n",
    "    model = DecisionTreeClassifier(max_depth=depth, random_state=RAND_FIX) # Инициируем модель\n",
    "    model.fit(features_train, target_train)    # Учим модель\n",
    "    end_time = time.time()\n",
    "    result = model.score(features_valid, target_valid) # Получаем уровень схожести предсказания с target_valid\n",
    "    if result > best_result_for_t:\n",
    "        best_result_for_t = result\n",
    "        est_time_for_t = end_time - start_time\n",
    "        depth_for_result_for_t = depth\n",
    "        best_model_for_t = model\n",
    "        \n",
    "print('Глубина для лучшей модели:', depth_for_result_for_t, end='\\n\\n')\n",
    "print('Время выполнения для лучшей модели:', est_time_for_t)\n",
    "print('Качество для лучшей модели:',best_result_for_t)"
   ]
  },
  {
   "cell_type": "markdown",
   "metadata": {},
   "source": [
    "### 3.2 Случайный лес"
   ]
  },
  {
   "cell_type": "markdown",
   "metadata": {},
   "source": [
    "В цикле найдем оптимальную глубину, количество деревьев, для этих параметров сохраним модель в best_model_for_f и посмотрим на время выполнения"
   ]
  },
  {
   "cell_type": "code",
   "execution_count": 11,
   "metadata": {},
   "outputs": [
    {
     "name": "stdout",
     "output_type": "stream",
     "text": [
      "Глубина для лучшей модели: 9\n",
      "Количество деревьев для лучшей модели: 14\n",
      "\n",
      "Время выполнения для лучшей модели: 0.03657245635986328\n",
      "Качество для лучшей модели: 0.8149300155520995\n"
     ]
    }
   ],
   "source": [
    "best_model_for_f = None\n",
    "best_result_for_f = 0\n",
    "best_est_for_f = 0\n",
    "best_depth_for_f = 0\n",
    "\n",
    "# Цикл для подборки глубины и количества деревьев:\n",
    "for est in range(10, 50):\n",
    "    for depth in range (1, 51):\n",
    "        start_time = time.time()\n",
    "        model = RandomForestClassifier(random_state=RAND_FIX, n_estimators=est, max_depth=depth)  # Инициируем модель\n",
    "        model.fit(features_train, target_train)     # Учим модель\n",
    "        end_time = time.time()\n",
    "        result = model.score(features_valid, target_valid) # Получаем уровень схожести предсказания с target_valid\n",
    "        if result > best_result_for_f:\n",
    "            best_model_for_f = model\n",
    "            best_result_for_f = result\n",
    "            best_est_for_f = est\n",
    "            best_depth_for_f = depth\n",
    "            est_time_for_f = end_time - start_time\n",
    "\n",
    "print('Глубина для лучшей модели:', best_depth_for_f)\n",
    "print('Количество деревьев для лучшей модели:', best_est_for_f, end='\\n\\n')\n",
    "print('Время выполнения для лучшей модели:', est_time_for_f)\n",
    "print('Качество для лучшей модели:',best_result_for_f)"
   ]
  },
  {
   "cell_type": "markdown",
   "metadata": {},
   "source": [
    "### 3.3 Логистическая регрессия"
   ]
  },
  {
   "cell_type": "markdown",
   "metadata": {},
   "source": [
    "В цикле найдем оптимальный алгоритм, для него сохраним модель в best_model_for_l и посмотрим на время выполнения"
   ]
  },
  {
   "cell_type": "code",
   "execution_count": 12,
   "metadata": {},
   "outputs": [
    {
     "name": "stdout",
     "output_type": "stream",
     "text": [
      "Алогритм: liblinear\n",
      "Качество: 0.6889580093312597\n",
      "Время выполнения: 0.005342960357666016\n",
      "\n",
      "Алогритм: newton-cg\n",
      "Качество: 0.7387247278382582\n",
      "Время выполнения: 0.03369760513305664\n",
      "\n",
      "Алогритм: lbfgs\n",
      "Качество: 0.7387247278382582\n",
      "Время выполнения: 0.014017581939697266\n",
      "\n",
      "Алогритм: sag\n",
      "Качество: 0.6842923794712286\n",
      "Время выполнения: 0.12914037704467773\n",
      "\n",
      "Алогритм: saga\n",
      "Качество: 0.6842923794712286\n",
      "Время выполнения: 0.13974213600158691\n",
      "\n",
      "Алгоритм для лучшей модели: newton-cg\n",
      "\n",
      "Время выполнения для лучшей модели: 0.03369760513305664\n",
      "Качество для лучшей модели: 0.7387247278382582\n"
     ]
    }
   ],
   "source": [
    "best_result_for_l = 0\n",
    "alg = ['liblinear', 'newton-cg', 'lbfgs', 'sag', 'saga']\n",
    "\n",
    "# Цикл для подборки алгоритма:\n",
    "for i in range(5):\n",
    "    start_time = time.time()\n",
    "    model = LogisticRegression(random_state=RAND_FIX, solver=alg[i], max_iter=1000)  # Инициируем модель\n",
    "    model.fit(features_train, target_train)        # Учим модель\n",
    "    end_time = time.time()    \n",
    "    result = model.score(features_valid, target_valid) # Получаем уровень схожести предсказания с target_valid\n",
    "    print('Алогритм:', alg[i])\n",
    "    print('Качество:', result)\n",
    "    print('Время выполнения:', end_time - start_time, end='\\n\\n')\n",
    "    if result > best_result_for_l:\n",
    "        best_result_for_l = result\n",
    "        est_time_for_l = end_time - start_time\n",
    "        best_alg = alg[i]\n",
    "        best_model_for_l = model\n",
    "        \n",
    "print('Алгоритм для лучшей модели:', best_alg, end='\\n\\n')\n",
    "print('Время выполнения для лучшей модели:', est_time_for_l)\n",
    "print('Качество для лучшей модели:',best_result_for_l)"
   ]
  },
  {
   "cell_type": "markdown",
   "metadata": {},
   "source": [
    "### 3.4 Итоги сравнения"
   ]
  },
  {
   "cell_type": "markdown",
   "metadata": {},
   "source": [
    "Во всех трех моделях время обучения незначительно, до 0.07 секунд.  \n",
    "Наилучшее качество модели **0.815** -- у **случайного леса** с \n",
    "- Глубиной **9**\n",
    "- Кочичеством деревьев **14**"
   ]
  },
  {
   "cell_type": "markdown",
   "metadata": {},
   "source": [
    "## Шаг 04. Проверьте модель на тестовой выборке"
   ]
  },
  {
   "cell_type": "markdown",
   "metadata": {},
   "source": [
    "Проверим модель-победитель на соответствующей тестовой выборке:"
   ]
  },
  {
   "cell_type": "code",
   "execution_count": 13,
   "metadata": {},
   "outputs": [
    {
     "name": "stdout",
     "output_type": "stream",
     "text": [
      "Случайный лес 0.7900466562986003\n"
     ]
    }
   ],
   "source": [
    "print('Случайный лес', best_model_for_f.score(features_test, target_test))"
   ]
  },
  {
   "cell_type": "markdown",
   "metadata": {},
   "source": [
    "На тестовой выборке мы получили значение accuracy:  \n",
    "**Случайный лес - 0.79**\n"
   ]
  },
  {
   "cell_type": "markdown",
   "metadata": {},
   "source": [
    "### Общий вывод"
   ]
  },
  {
   "cell_type": "markdown",
   "metadata": {},
   "source": [
    "В ходе исследования:\n",
    "\n",
    "Получены данные о поведении клиентов. Перед тем, как приступать к целям исследования, был проведен обзор данных\n",
    "\n",
    "Данные проверены на ошибки и оценю их влияние на исследование. Ошибок обнаружено не было, лишь только исправлены типы значений в двух колонках -- calls и messages.\n",
    "Далее набор данных был разделен в соотношении 60 - 20 - 20 на обучающую, валидационную и тестовую выборки, выделен целевой признак. После этого были подобраны глобальные параметры для трех известных подходов:\n",
    "\n",
    "- дерево решений\n",
    "- случайный лес\n",
    "- логистическая регрессия\n",
    "  \n",
    "Определен вариант с наибольшим качеством модели на валидационной выборке. После этого выводы были проверены на тестовой выборке.\n",
    "\n",
    "Таким образом, исследование состояло из следующих этапов, на каждом из которых формировались выводы, которые попали в итоги исследования:\n",
    "\n",
    "Обзор данных\n",
    "Предобработка данных\n",
    "Разбиение данных на выборки\n",
    "Исследование моделей\n",
    "Проверка на тестовой выборке"
   ]
  },
  {
   "cell_type": "markdown",
   "metadata": {},
   "source": [
    "### Итоги исследования:\n",
    "\n",
    "1. Лучшее качество модели было обнаружено в случае применения метода **\"Случайный лес\"** с \n",
    "- Глубиной **9**\n",
    "- Кочичеством деревьев **14**  \n",
    "На валидационной выборке к-т качества == **0.815**\n",
    "2. На тестовой выборке выводы подтвердились -- метод \"Случайный лес\" показал лучший результат -- 0.79, что превосходит требуемый (0.75)."
   ]
  },
  {
   "cell_type": "markdown",
   "metadata": {},
   "source": [
    "## Чек-лист готовности проекта"
   ]
  },
  {
   "cell_type": "markdown",
   "metadata": {},
   "source": [
    "Поставьте 'x' в выполненных пунктах. Далее нажмите Shift+Enter."
   ]
  },
  {
   "cell_type": "markdown",
   "metadata": {},
   "source": [
    "- [x] Jupyter Notebook открыт\n",
    "- [x] Весь код исполняется без ошибок\n",
    "- [x] Ячейки с кодом расположены в порядке исполнения\n",
    "- [x] Выполнено задание 1: данные загружены и изучены\n",
    "- [x] Выполнено задание 2: данные разбиты на три выборки\n",
    "- [x] Выполнено задание 3: проведено исследование моделей\n",
    "    - [x] Рассмотрено больше одной модели\n",
    "    - [x] Рассмотрено хотя бы 3 значения гипепараметров для какой-нибудь модели\n",
    "    - [x] Написаны выводы по результатам исследования\n",
    "- [x] Выполнено задание 4: Проведено тестирование\n",
    "- [x] Удалось достичь accuracy не меньше 0.75\n"
   ]
  },
  {
   "cell_type": "code",
   "execution_count": null,
   "metadata": {},
   "outputs": [],
   "source": []
  }
 ],
 "metadata": {
  "ExecuteTimeLog": [
   {
    "duration": 219,
    "start_time": "2023-12-13T19:39:49.347Z"
   },
   {
    "duration": 0,
    "start_time": "2023-12-13T19:39:49.567Z"
   },
   {
    "duration": 0,
    "start_time": "2023-12-13T19:39:49.568Z"
   },
   {
    "duration": 1417,
    "start_time": "2023-12-13T19:49:29.131Z"
   },
   {
    "duration": 3,
    "start_time": "2023-12-13T19:49:30.550Z"
   },
   {
    "duration": 474,
    "start_time": "2023-12-13T19:49:30.554Z"
   },
   {
    "duration": 518,
    "start_time": "2023-12-13T19:49:31.029Z"
   },
   {
    "duration": 5,
    "start_time": "2023-12-13T19:49:31.549Z"
   },
   {
    "duration": 51,
    "start_time": "2023-12-13T19:49:31.555Z"
   },
   {
    "duration": 42,
    "start_time": "2023-12-13T19:49:31.607Z"
   },
   {
    "duration": 40,
    "start_time": "2023-12-13T19:49:31.650Z"
   },
   {
    "duration": 42,
    "start_time": "2023-12-13T19:49:31.692Z"
   },
   {
    "duration": 75,
    "start_time": "2023-12-13T19:49:31.735Z"
   },
   {
    "duration": 31053,
    "start_time": "2023-12-13T19:49:31.812Z"
   },
   {
    "duration": 354,
    "start_time": "2023-12-13T19:50:02.866Z"
   },
   {
    "duration": 0,
    "start_time": "2023-12-13T19:50:03.221Z"
   },
   {
    "duration": 0,
    "start_time": "2023-12-13T19:50:03.222Z"
   },
   {
    "duration": 93533,
    "start_time": "2023-12-13T19:50:23.805Z"
   },
   {
    "duration": 558,
    "start_time": "2023-12-13T19:51:57.340Z"
   },
   {
    "duration": 502,
    "start_time": "2023-12-13T19:52:13.891Z"
   },
   {
    "duration": 729725,
    "start_time": "2023-12-13T20:11:52.361Z"
   },
   {
    "duration": 205853,
    "start_time": "2023-12-13T20:37:09.596Z"
   },
   {
    "duration": 1334,
    "start_time": "2023-12-13T20:42:21.280Z"
   },
   {
    "duration": 2,
    "start_time": "2023-12-13T20:42:22.616Z"
   },
   {
    "duration": 126,
    "start_time": "2023-12-13T20:42:22.619Z"
   },
   {
    "duration": 543,
    "start_time": "2023-12-13T20:42:22.747Z"
   },
   {
    "duration": 7,
    "start_time": "2023-12-13T20:42:23.293Z"
   },
   {
    "duration": 14,
    "start_time": "2023-12-13T20:42:23.301Z"
   },
   {
    "duration": 13,
    "start_time": "2023-12-13T20:42:23.316Z"
   },
   {
    "duration": 20,
    "start_time": "2023-12-13T20:42:23.330Z"
   },
   {
    "duration": 7,
    "start_time": "2023-12-13T20:42:23.381Z"
   },
   {
    "duration": 66,
    "start_time": "2023-12-13T20:42:23.390Z"
   },
   {
    "duration": 204692,
    "start_time": "2023-12-13T20:42:23.458Z"
   },
   {
    "duration": 509,
    "start_time": "2023-12-13T20:45:48.152Z"
   },
   {
    "duration": 112,
    "start_time": "2023-12-13T20:45:48.662Z"
   },
   {
    "duration": 0,
    "start_time": "2023-12-13T20:45:48.775Z"
   },
   {
    "duration": 110,
    "start_time": "2023-12-13T20:46:16.646Z"
   },
   {
    "duration": 15,
    "start_time": "2023-12-13T20:46:28.670Z"
   },
   {
    "duration": 1415,
    "start_time": "2023-12-13T20:47:42.753Z"
   },
   {
    "duration": 3,
    "start_time": "2023-12-13T20:47:44.170Z"
   },
   {
    "duration": 113,
    "start_time": "2023-12-13T20:47:44.174Z"
   },
   {
    "duration": 581,
    "start_time": "2023-12-13T20:47:44.289Z"
   },
   {
    "duration": 9,
    "start_time": "2023-12-13T20:47:44.873Z"
   },
   {
    "duration": 23,
    "start_time": "2023-12-13T20:47:44.883Z"
   },
   {
    "duration": 12,
    "start_time": "2023-12-13T20:47:44.908Z"
   },
   {
    "duration": 9,
    "start_time": "2023-12-13T20:47:44.922Z"
   },
   {
    "duration": 10,
    "start_time": "2023-12-13T20:47:44.932Z"
   },
   {
    "duration": 78,
    "start_time": "2023-12-13T20:47:44.943Z"
   },
   {
    "duration": 204441,
    "start_time": "2023-12-13T20:47:45.022Z"
   },
   {
    "duration": 513,
    "start_time": "2023-12-13T20:51:09.464Z"
   },
   {
    "duration": 2,
    "start_time": "2023-12-13T20:51:09.981Z"
   },
   {
    "duration": 38,
    "start_time": "2023-12-13T20:51:09.986Z"
   }
  ],
  "kernelspec": {
   "display_name": "Python 3 (ipykernel)",
   "language": "python",
   "name": "python3"
  },
  "language_info": {
   "codemirror_mode": {
    "name": "ipython",
    "version": 3
   },
   "file_extension": ".py",
   "mimetype": "text/x-python",
   "name": "python",
   "nbconvert_exporter": "python",
   "pygments_lexer": "ipython3",
   "version": "3.11.5"
  },
  "toc": {
   "base_numbering": 1,
   "nav_menu": {},
   "number_sections": true,
   "sideBar": true,
   "skip_h1_title": true,
   "title_cell": "Table of Contents",
   "title_sidebar": "Contents",
   "toc_cell": false,
   "toc_position": {
    "height": "calc(100% - 180px)",
    "left": "10px",
    "top": "150px",
    "width": "234px"
   },
   "toc_section_display": true,
   "toc_window_display": true
  }
 },
 "nbformat": 4,
 "nbformat_minor": 2
}
