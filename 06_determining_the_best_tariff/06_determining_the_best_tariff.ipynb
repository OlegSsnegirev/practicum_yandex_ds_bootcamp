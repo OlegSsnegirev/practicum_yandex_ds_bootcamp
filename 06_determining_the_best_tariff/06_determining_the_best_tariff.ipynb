{
 "cells": [
  {
   "cell_type": "markdown",
   "id": "3b26706a",
   "metadata": {},
   "source": [
    "# Статистический анализ данных"
   ]
  },
  {
   "cell_type": "markdown",
   "id": "a9d2efc0",
   "metadata": {},
   "source": [
    "В рамках исследования популярного сервиса аренды самокатов GoFast переданы данные о некоторых пользователях из нескольких городов, а также об их поездках. нам следует проанализировать данные и проверить некоторые гипотезы, которые могут помочь бизнесу вырасти.\n",
    "\n",
    "\n",
    "Чтобы совершать поездки по городу, пользователи сервиса GoFast пользуются мобильным приложением. \n",
    "\n",
    "Сервисом можно пользоваться:\n",
    "* без подписки\n",
    "     - абонентская плата отсутствует;\n",
    "     - стоимость одной минуты поездки — 8 рублей;\n",
    "     - стоимость старта (начала поездки) — 50 рублей;\n",
    "* с подпиской Ultra\n",
    "     - абонентская плата — 199 рублей в месяц;\n",
    "     - стоимость одной минуты поездки — 6 рублей;\n",
    "     - стоимость старта — бесплатно.\n",
    "     \n",
    "**Цель исследования:**\n",
    "\n",
    "1. Определить помесячную выручку по пользователям\n",
    "2. Проверить четыре основные гипотезы об использовании сервиса самокатов с подпиской и без\n",
    "3. Помочь оценить эффективность двух вариантов развития сервиса\n",
    "\n",
    "**Ход исследования**\n",
    "\n",
    "Данные о поездках, тарифах и пользователях в файлах \"rides_go.csv\", \"subscriptions_go.csv\" и \"users_go.csv\" соответственно. О качестве данных ничего не известно. Поэтому перед тем, как приступать к целям исследования, понадобится обзор данных\n",
    "\n",
    "Я проверю данные на ошибки и оценю их влияние на исследование. Затем, на этапе предобработки я поищу возможность исправить все ошибки данных, которые не приведут к искажению конечного результата. Далее, необходимое количество дополнительных таблиц, и приступлю к проведению анализа\n",
    "\n",
    "Таким образом, моё исследование пройдёт в семь этапов:\n",
    "\n",
    "* Обзор данных\n",
    "* Предобработка данных\n",
    "* Подготовка дополнительных для анализа датафреймов\n",
    "* Расчет и добавление еджемесячной выручки по пользователям\n",
    "* Проверка гипотез\n",
    "* Исследование вариантов развития\n",
    "* Оформление общего вывода по работе"
   ]
  },
  {
   "cell_type": "markdown",
   "id": "dd9ab016",
   "metadata": {},
   "source": [
    "_________\n",
    "Перед стартом исследования зададим глобальные переменные и подключим необходимые библиотеки:"
   ]
  },
  {
   "cell_type": "code",
   "execution_count": 1,
   "id": "642824ee",
   "metadata": {},
   "outputs": [],
   "source": [
    "import pandas as pd\n",
    "import numpy as np \n",
    "import scipy.stats as st  #№ подключааем баблиотеку для статистический исследований\n",
    "import warnings \n",
    "import matplotlib.pyplot as plt "
   ]
  },
  {
   "cell_type": "code",
   "execution_count": 2,
   "id": "904b3302",
   "metadata": {},
   "outputs": [],
   "source": [
    "warnings.filterwarnings('ignore')  # отключаем предупреждения"
   ]
  },
  {
   "cell_type": "code",
   "execution_count": 3,
   "id": "a4294b56",
   "metadata": {},
   "outputs": [],
   "source": [
    "ALPHA = 0.05  # Устанавливаем глобальный уровень статистической значимости"
   ]
  },
  {
   "cell_type": "markdown",
   "id": "dc8d3119",
   "metadata": {},
   "source": [
    "## Шаг 1. Загрузка данных"
   ]
  },
  {
   "cell_type": "markdown",
   "id": "cb1e5230",
   "metadata": {},
   "source": [
    "### 1.1 Загружаем данные из файлов последовательно:"
   ]
  },
  {
   "cell_type": "markdown",
   "id": "2b49eddc",
   "metadata": {},
   "source": [
    "#### 1.1.1 Данные по поездкам:\n",
    " - **user_id**\tуникальный идентификатор пользователя\n",
    " - **distance**\tрасстояние, которое пользователь проехал в текущей сессии (в метрах)\n",
    " - **duration**\tпродолжительность сессии (в минутах) — время с того момента, как пользователь нажал кнопку «Начать поездку» до момента, как он нажал кнопку «Завершить поездку»\n",
    " - **date**\tдата совершения поездки"
   ]
  },
  {
   "cell_type": "code",
   "execution_count": 4,
   "id": "6d7eab5c",
   "metadata": {},
   "outputs": [
    {
     "data": {
      "text/html": [
       "<div>\n",
       "<style scoped>\n",
       "    .dataframe tbody tr th:only-of-type {\n",
       "        vertical-align: middle;\n",
       "    }\n",
       "\n",
       "    .dataframe tbody tr th {\n",
       "        vertical-align: top;\n",
       "    }\n",
       "\n",
       "    .dataframe thead th {\n",
       "        text-align: right;\n",
       "    }\n",
       "</style>\n",
       "<table border=\"1\" class=\"dataframe\">\n",
       "  <thead>\n",
       "    <tr style=\"text-align: right;\">\n",
       "      <th></th>\n",
       "      <th>user_id</th>\n",
       "      <th>distance</th>\n",
       "      <th>duration</th>\n",
       "      <th>date</th>\n",
       "    </tr>\n",
       "  </thead>\n",
       "  <tbody>\n",
       "    <tr>\n",
       "      <th>0</th>\n",
       "      <td>1</td>\n",
       "      <td>4409.919140</td>\n",
       "      <td>25.599769</td>\n",
       "      <td>2021-01-01</td>\n",
       "    </tr>\n",
       "    <tr>\n",
       "      <th>1</th>\n",
       "      <td>1</td>\n",
       "      <td>2617.592153</td>\n",
       "      <td>15.816871</td>\n",
       "      <td>2021-01-18</td>\n",
       "    </tr>\n",
       "    <tr>\n",
       "      <th>2</th>\n",
       "      <td>1</td>\n",
       "      <td>754.159807</td>\n",
       "      <td>6.232113</td>\n",
       "      <td>2021-04-20</td>\n",
       "    </tr>\n",
       "    <tr>\n",
       "      <th>3</th>\n",
       "      <td>1</td>\n",
       "      <td>2694.783254</td>\n",
       "      <td>18.511000</td>\n",
       "      <td>2021-08-11</td>\n",
       "    </tr>\n",
       "    <tr>\n",
       "      <th>4</th>\n",
       "      <td>1</td>\n",
       "      <td>4028.687306</td>\n",
       "      <td>26.265803</td>\n",
       "      <td>2021-08-28</td>\n",
       "    </tr>\n",
       "  </tbody>\n",
       "</table>\n",
       "</div>"
      ],
      "text/plain": [
       "   user_id     distance   duration        date\n",
       "0        1  4409.919140  25.599769  2021-01-01\n",
       "1        1  2617.592153  15.816871  2021-01-18\n",
       "2        1   754.159807   6.232113  2021-04-20\n",
       "3        1  2694.783254  18.511000  2021-08-11\n",
       "4        1  4028.687306  26.265803  2021-08-28"
      ]
     },
     "metadata": {},
     "output_type": "display_data"
    },
    {
     "name": "stdout",
     "output_type": "stream",
     "text": [
      "\n",
      "<class 'pandas.core.frame.DataFrame'>\n",
      "RangeIndex: 18068 entries, 0 to 18067\n",
      "Data columns (total 4 columns):\n",
      " #   Column    Non-Null Count  Dtype  \n",
      "---  ------    --------------  -----  \n",
      " 0   user_id   18068 non-null  int64  \n",
      " 1   distance  18068 non-null  float64\n",
      " 2   duration  18068 non-null  float64\n",
      " 3   date      18068 non-null  object \n",
      "dtypes: float64(2), int64(1), object(1)\n",
      "memory usage: 564.8+ KB\n"
     ]
    }
   ],
   "source": [
    "try:\n",
    "    d_rides = pd.read_csv('datasets/rides_go.csv', sep=',')\n",
    "    display(d_rides.head(5))\n",
    "    print()\n",
    "    d_rides.info()\n",
    "except:\n",
    "    d_rides = pd.read_csv('https://code.s3.yandex.net/datasets/rides_go.csv', sep=',')\n",
    "    print('Файл загружен из хранилища Яндекс')\n",
    "    display(d_rides.head(5))\n",
    "    print()\n",
    "    d_rides.info()"
   ]
  },
  {
   "cell_type": "markdown",
   "id": "75879ae2",
   "metadata": {},
   "source": [
    "**Выводы:**\n",
    "- пропущенных значений нет\n",
    "- тип даты поправить следует\n",
    "- названия колонок вменяемые\n",
    "- в части дистанции и продолжительности нужно будет провести округление и/или изменение типов"
   ]
  },
  {
   "cell_type": "markdown",
   "id": "d1f5f288",
   "metadata": {},
   "source": [
    "#### 1.1.2 Справочник тарифов:\n",
    " - **subscription_type**\tтип подписки\n",
    " - **minute_price**\tстоимость одной минуты поездки по данной подписке\n",
    " - **start_ride_price**\tстоимость начала поездки\n",
    " - **subscription_fee**\tстоимость ежемесячного платежа"
   ]
  },
  {
   "cell_type": "code",
   "execution_count": 5,
   "id": "22ca5249",
   "metadata": {},
   "outputs": [
    {
     "data": {
      "text/html": [
       "<div>\n",
       "<style scoped>\n",
       "    .dataframe tbody tr th:only-of-type {\n",
       "        vertical-align: middle;\n",
       "    }\n",
       "\n",
       "    .dataframe tbody tr th {\n",
       "        vertical-align: top;\n",
       "    }\n",
       "\n",
       "    .dataframe thead th {\n",
       "        text-align: right;\n",
       "    }\n",
       "</style>\n",
       "<table border=\"1\" class=\"dataframe\">\n",
       "  <thead>\n",
       "    <tr style=\"text-align: right;\">\n",
       "      <th></th>\n",
       "      <th>subscription_type</th>\n",
       "      <th>minute_price</th>\n",
       "      <th>start_ride_price</th>\n",
       "      <th>subscription_fee</th>\n",
       "    </tr>\n",
       "  </thead>\n",
       "  <tbody>\n",
       "    <tr>\n",
       "      <th>0</th>\n",
       "      <td>free</td>\n",
       "      <td>8</td>\n",
       "      <td>50</td>\n",
       "      <td>0</td>\n",
       "    </tr>\n",
       "    <tr>\n",
       "      <th>1</th>\n",
       "      <td>ultra</td>\n",
       "      <td>6</td>\n",
       "      <td>0</td>\n",
       "      <td>199</td>\n",
       "    </tr>\n",
       "  </tbody>\n",
       "</table>\n",
       "</div>"
      ],
      "text/plain": [
       "  subscription_type  minute_price  start_ride_price  subscription_fee\n",
       "0              free             8                50                 0\n",
       "1             ultra             6                 0               199"
      ]
     },
     "metadata": {},
     "output_type": "display_data"
    },
    {
     "name": "stdout",
     "output_type": "stream",
     "text": [
      "\n",
      "<class 'pandas.core.frame.DataFrame'>\n",
      "RangeIndex: 2 entries, 0 to 1\n",
      "Data columns (total 4 columns):\n",
      " #   Column             Non-Null Count  Dtype \n",
      "---  ------             --------------  ----- \n",
      " 0   subscription_type  2 non-null      object\n",
      " 1   minute_price       2 non-null      int64 \n",
      " 2   start_ride_price   2 non-null      int64 \n",
      " 3   subscription_fee   2 non-null      int64 \n",
      "dtypes: int64(3), object(1)\n",
      "memory usage: 196.0+ bytes\n"
     ]
    }
   ],
   "source": [
    "try:\n",
    "    d_subscriptions = pd.read_csv('datasets/subscriptions_go.csv', sep=',')\n",
    "    display(d_subscriptions)\n",
    "    print()\n",
    "    d_subscriptions.info()\n",
    "except:\n",
    "    d_subscriptions = pd.read_csv('https://code.s3.yandex.net/datasets/subscriptions_go.csv', sep=',')\n",
    "    print('Файл загружен из хранилища Яндекс')\n",
    "    display(d_subscriptions)\n",
    "    print()\n",
    "    d_subscriptions.info()"
   ]
  },
  {
   "cell_type": "markdown",
   "id": "306d3bb0",
   "metadata": {},
   "source": [
    "**Выводы:**\n",
    "- пропущенных значений нет\n",
    "- названия колонок вменяемые\n",
    "- с типами все ОК\n",
    "- дубликатов, очевидно, нет"
   ]
  },
  {
   "cell_type": "markdown",
   "id": "093ee1b5",
   "metadata": {},
   "source": [
    "#### 1.1.3 Справочник пользователей:\n",
    "\n",
    " - **user_id**\tуникальный идентификатор пользователя\n",
    " - **name**\tимя пользователя\n",
    " - **age**\tвозраст\n",
    " - **city**\tгород\n",
    " - **subscription_type**\tтип подписки (free, ultra)"
   ]
  },
  {
   "cell_type": "code",
   "execution_count": 6,
   "id": "5c72be3f",
   "metadata": {},
   "outputs": [
    {
     "data": {
      "text/html": [
       "<div>\n",
       "<style scoped>\n",
       "    .dataframe tbody tr th:only-of-type {\n",
       "        vertical-align: middle;\n",
       "    }\n",
       "\n",
       "    .dataframe tbody tr th {\n",
       "        vertical-align: top;\n",
       "    }\n",
       "\n",
       "    .dataframe thead th {\n",
       "        text-align: right;\n",
       "    }\n",
       "</style>\n",
       "<table border=\"1\" class=\"dataframe\">\n",
       "  <thead>\n",
       "    <tr style=\"text-align: right;\">\n",
       "      <th></th>\n",
       "      <th>user_id</th>\n",
       "      <th>name</th>\n",
       "      <th>age</th>\n",
       "      <th>city</th>\n",
       "      <th>subscription_type</th>\n",
       "    </tr>\n",
       "  </thead>\n",
       "  <tbody>\n",
       "    <tr>\n",
       "      <th>0</th>\n",
       "      <td>1</td>\n",
       "      <td>Кира</td>\n",
       "      <td>22</td>\n",
       "      <td>Тюмень</td>\n",
       "      <td>ultra</td>\n",
       "    </tr>\n",
       "    <tr>\n",
       "      <th>1</th>\n",
       "      <td>2</td>\n",
       "      <td>Станислав</td>\n",
       "      <td>31</td>\n",
       "      <td>Омск</td>\n",
       "      <td>ultra</td>\n",
       "    </tr>\n",
       "    <tr>\n",
       "      <th>2</th>\n",
       "      <td>3</td>\n",
       "      <td>Алексей</td>\n",
       "      <td>20</td>\n",
       "      <td>Москва</td>\n",
       "      <td>ultra</td>\n",
       "    </tr>\n",
       "    <tr>\n",
       "      <th>3</th>\n",
       "      <td>4</td>\n",
       "      <td>Константин</td>\n",
       "      <td>26</td>\n",
       "      <td>Ростов-на-Дону</td>\n",
       "      <td>ultra</td>\n",
       "    </tr>\n",
       "    <tr>\n",
       "      <th>4</th>\n",
       "      <td>5</td>\n",
       "      <td>Адель</td>\n",
       "      <td>28</td>\n",
       "      <td>Омск</td>\n",
       "      <td>ultra</td>\n",
       "    </tr>\n",
       "  </tbody>\n",
       "</table>\n",
       "</div>"
      ],
      "text/plain": [
       "   user_id        name  age            city subscription_type\n",
       "0        1        Кира   22          Тюмень             ultra\n",
       "1        2   Станислав   31            Омск             ultra\n",
       "2        3     Алексей   20          Москва             ultra\n",
       "3        4  Константин   26  Ростов-на-Дону             ultra\n",
       "4        5       Адель   28            Омск             ultra"
      ]
     },
     "metadata": {},
     "output_type": "display_data"
    },
    {
     "name": "stdout",
     "output_type": "stream",
     "text": [
      "\n",
      "<class 'pandas.core.frame.DataFrame'>\n",
      "RangeIndex: 1565 entries, 0 to 1564\n",
      "Data columns (total 5 columns):\n",
      " #   Column             Non-Null Count  Dtype \n",
      "---  ------             --------------  ----- \n",
      " 0   user_id            1565 non-null   int64 \n",
      " 1   name               1565 non-null   object\n",
      " 2   age                1565 non-null   int64 \n",
      " 3   city               1565 non-null   object\n",
      " 4   subscription_type  1565 non-null   object\n",
      "dtypes: int64(2), object(3)\n",
      "memory usage: 61.3+ KB\n"
     ]
    }
   ],
   "source": [
    "try:\n",
    "    d_users = pd.read_csv('datasets/users_go.csv', sep=',')\n",
    "    display(d_users.head(5))\n",
    "    print()\n",
    "    d_users.info()\n",
    "except:\n",
    "    d_users = pd.read_csv('https://code.s3.yandex.net/datasets/users_go.csv', sep=',')\n",
    "    print('Файл загружен из хранилища Яндекс')\n",
    "    display(d_users.head(5))\n",
    "    print()\n",
    "    d_users.info()"
   ]
  },
  {
   "cell_type": "markdown",
   "id": "1ab4b300",
   "metadata": {},
   "source": [
    "**Выводы:**\n",
    "- пропущенных значений нет\n",
    "- названия колонок вменяемые\n",
    "- с типами все ОК\n",
    "- могут быть явные или неявные дубликаты"
   ]
  },
  {
   "cell_type": "markdown",
   "id": "03520fb9",
   "metadata": {},
   "source": [
    "## Шаг 2. Предобработка данных"
   ]
  },
  {
   "cell_type": "markdown",
   "id": "a3b2b326",
   "metadata": {},
   "source": [
    "### 2.1 Посмотрим на данные в таблицах с пользователями и поездками\n",
    "d_subscriptions выведена полностью, там две строки, к ним вопросов нет."
   ]
  },
  {
   "cell_type": "markdown",
   "id": "1e2d6853",
   "metadata": {},
   "source": [
    "#### 2.1.1 Поездки:"
   ]
  },
  {
   "cell_type": "code",
   "execution_count": 7,
   "id": "50abaa6d",
   "metadata": {},
   "outputs": [
    {
     "data": {
      "image/png": "[encoded data removed]",
      "text/plain": [
       "<Figure size 1500x900 with 4 Axes>"
      ]
     },
     "metadata": {},
     "output_type": "display_data"
    }
   ],
   "source": [
    "d_rides.hist(figsize=(15, 9), rwidth= .9, bins = 50);"
   ]
  },
  {
   "cell_type": "markdown",
   "id": "16ed4b41",
   "metadata": {},
   "source": [
    "Обратим внимание на всплеск в duration между 0 и 0,6 минут. Возможно, кто-то ошибочно активировал самокат, потом сразу возвращал на место.\n",
    "\n",
    "Рассмотрим расстояния вокруг этого значения длительности:"
   ]
  },
  {
   "cell_type": "code",
   "execution_count": 8,
   "id": "67f484f7",
   "metadata": {},
   "outputs": [
    {
     "data": {
      "image/png": "[encoded data removed]",
      "text/plain": [
       "<Figure size 1500x400 with 1 Axes>"
      ]
     },
     "metadata": {},
     "output_type": "display_data"
    }
   ],
   "source": [
    "d_rides[d_rides['duration'] < 0.6].hist('distance', bins = 30, figsize=(15, 4));"
   ]
  },
  {
   "cell_type": "markdown",
   "id": "c712334a",
   "metadata": {},
   "source": [
    "Судя по всему, некорректные данные. Поездка от четырех до семи километров за тридцать секунд на самокате -- выглядит через чур амбициозно. Строчек с такими данными не больше сотни, дропаем их."
   ]
  },
  {
   "cell_type": "code",
   "execution_count": 9,
   "id": "6e221495",
   "metadata": {},
   "outputs": [],
   "source": [
    "d_rides = d_rides.drop(d_rides.loc[d_rides['duration'] < 0.6, :].index)\n",
    "d_rides = d_rides.reset_index()"
   ]
  },
  {
   "cell_type": "markdown",
   "id": "81c807ab",
   "metadata": {},
   "source": [
    "#### 2.1.2 Пользователи:"
   ]
  },
  {
   "cell_type": "code",
   "execution_count": 10,
   "id": "0aa5dba4",
   "metadata": {},
   "outputs": [
    {
     "data": {
      "image/png": "[encoded data removed]",
      "text/plain": [
       "<Figure size 1500x400 with 2 Axes>"
      ]
     },
     "metadata": {},
     "output_type": "display_data"
    }
   ],
   "source": [
    "d_users.hist(figsize=(15, 4), rwidth= .9, bins = 30);"
   ]
  },
  {
   "cell_type": "markdown",
   "id": "f9bf50d2",
   "metadata": {},
   "source": [
    "Похоже на правду"
   ]
  },
  {
   "cell_type": "markdown",
   "id": "0a52bfe0",
   "metadata": {},
   "source": [
    "### 2.2 Проверим на пропущенные значения:"
   ]
  },
  {
   "cell_type": "markdown",
   "id": "d4947cac",
   "metadata": {},
   "source": [
    "При первоначальном анализе (п. 1.1) по каждой из таблиц был вывод об отсутствии пустых значений.\n",
    "\n",
    "Все заполнено, едем дальше"
   ]
  },
  {
   "cell_type": "markdown",
   "id": "67027d71",
   "metadata": {},
   "source": [
    "### 2.3 Проверим на дубликаты"
   ]
  },
  {
   "cell_type": "markdown",
   "id": "de3d91fd",
   "metadata": {},
   "source": [
    "#### 2.3.1 Пользователи:"
   ]
  },
  {
   "cell_type": "code",
   "execution_count": 11,
   "id": "00e4adfa",
   "metadata": {},
   "outputs": [
    {
     "data": {
      "text/plain": [
       "31"
      ]
     },
     "execution_count": 11,
     "metadata": {},
     "output_type": "execute_result"
    }
   ],
   "source": [
    "d_users.duplicated('user_id').sum()"
   ]
  },
  {
   "cell_type": "markdown",
   "id": "c28b6086",
   "metadata": {},
   "source": [
    "Дубли существуют, посмотрим на них:"
   ]
  },
  {
   "cell_type": "code",
   "execution_count": 12,
   "id": "f408043f",
   "metadata": {},
   "outputs": [
    {
     "data": {
      "text/html": [
       "<div>\n",
       "<style scoped>\n",
       "    .dataframe tbody tr th:only-of-type {\n",
       "        vertical-align: middle;\n",
       "    }\n",
       "\n",
       "    .dataframe tbody tr th {\n",
       "        vertical-align: top;\n",
       "    }\n",
       "\n",
       "    .dataframe thead th {\n",
       "        text-align: right;\n",
       "    }\n",
       "</style>\n",
       "<table border=\"1\" class=\"dataframe\">\n",
       "  <thead>\n",
       "    <tr style=\"text-align: right;\">\n",
       "      <th></th>\n",
       "      <th>user_id</th>\n",
       "      <th>name</th>\n",
       "      <th>age</th>\n",
       "      <th>city</th>\n",
       "      <th>subscription_type</th>\n",
       "    </tr>\n",
       "  </thead>\n",
       "  <tbody>\n",
       "    <tr>\n",
       "      <th>1534</th>\n",
       "      <td>293</td>\n",
       "      <td>Агата</td>\n",
       "      <td>26</td>\n",
       "      <td>Краснодар</td>\n",
       "      <td>ultra</td>\n",
       "    </tr>\n",
       "    <tr>\n",
       "      <th>1535</th>\n",
       "      <td>16</td>\n",
       "      <td>Амалия</td>\n",
       "      <td>27</td>\n",
       "      <td>Краснодар</td>\n",
       "      <td>ultra</td>\n",
       "    </tr>\n",
       "    <tr>\n",
       "      <th>1536</th>\n",
       "      <td>909</td>\n",
       "      <td>Константин</td>\n",
       "      <td>20</td>\n",
       "      <td>Екатеринбург</td>\n",
       "      <td>free</td>\n",
       "    </tr>\n",
       "    <tr>\n",
       "      <th>1537</th>\n",
       "      <td>403</td>\n",
       "      <td>Полина</td>\n",
       "      <td>19</td>\n",
       "      <td>Сочи</td>\n",
       "      <td>ultra</td>\n",
       "    </tr>\n",
       "    <tr>\n",
       "      <th>1538</th>\n",
       "      <td>908</td>\n",
       "      <td>Рустам</td>\n",
       "      <td>30</td>\n",
       "      <td>Тюмень</td>\n",
       "      <td>free</td>\n",
       "    </tr>\n",
       "    <tr>\n",
       "      <th>1539</th>\n",
       "      <td>43</td>\n",
       "      <td>Стефания</td>\n",
       "      <td>22</td>\n",
       "      <td>Омск</td>\n",
       "      <td>ultra</td>\n",
       "    </tr>\n",
       "    <tr>\n",
       "      <th>1540</th>\n",
       "      <td>127</td>\n",
       "      <td>Павел</td>\n",
       "      <td>25</td>\n",
       "      <td>Пятигорск</td>\n",
       "      <td>ultra</td>\n",
       "    </tr>\n",
       "    <tr>\n",
       "      <th>1541</th>\n",
       "      <td>659</td>\n",
       "      <td>Злата</td>\n",
       "      <td>27</td>\n",
       "      <td>Ростов-на-Дону</td>\n",
       "      <td>ultra</td>\n",
       "    </tr>\n",
       "    <tr>\n",
       "      <th>1542</th>\n",
       "      <td>204</td>\n",
       "      <td>Руслан</td>\n",
       "      <td>30</td>\n",
       "      <td>Пятигорск</td>\n",
       "      <td>ultra</td>\n",
       "    </tr>\n",
       "    <tr>\n",
       "      <th>1543</th>\n",
       "      <td>153</td>\n",
       "      <td>Герман</td>\n",
       "      <td>23</td>\n",
       "      <td>Москва</td>\n",
       "      <td>ultra</td>\n",
       "    </tr>\n",
       "    <tr>\n",
       "      <th>1544</th>\n",
       "      <td>1245</td>\n",
       "      <td>Регина</td>\n",
       "      <td>27</td>\n",
       "      <td>Пятигорск</td>\n",
       "      <td>free</td>\n",
       "    </tr>\n",
       "    <tr>\n",
       "      <th>1545</th>\n",
       "      <td>807</td>\n",
       "      <td>Александр</td>\n",
       "      <td>28</td>\n",
       "      <td>Екатеринбург</td>\n",
       "      <td>free</td>\n",
       "    </tr>\n",
       "    <tr>\n",
       "      <th>1546</th>\n",
       "      <td>924</td>\n",
       "      <td>Мария</td>\n",
       "      <td>23</td>\n",
       "      <td>Пятигорск</td>\n",
       "      <td>free</td>\n",
       "    </tr>\n",
       "    <tr>\n",
       "      <th>1547</th>\n",
       "      <td>635</td>\n",
       "      <td>Герман</td>\n",
       "      <td>21</td>\n",
       "      <td>Москва</td>\n",
       "      <td>ultra</td>\n",
       "    </tr>\n",
       "    <tr>\n",
       "      <th>1548</th>\n",
       "      <td>136</td>\n",
       "      <td>Марсель</td>\n",
       "      <td>25</td>\n",
       "      <td>Тюмень</td>\n",
       "      <td>ultra</td>\n",
       "    </tr>\n",
       "    <tr>\n",
       "      <th>1549</th>\n",
       "      <td>108</td>\n",
       "      <td>Влада</td>\n",
       "      <td>29</td>\n",
       "      <td>Тюмень</td>\n",
       "      <td>ultra</td>\n",
       "    </tr>\n",
       "    <tr>\n",
       "      <th>1550</th>\n",
       "      <td>737</td>\n",
       "      <td>Мелания</td>\n",
       "      <td>27</td>\n",
       "      <td>Ростов-на-Дону</td>\n",
       "      <td>free</td>\n",
       "    </tr>\n",
       "    <tr>\n",
       "      <th>1551</th>\n",
       "      <td>666</td>\n",
       "      <td>Зарина</td>\n",
       "      <td>29</td>\n",
       "      <td>Москва</td>\n",
       "      <td>ultra</td>\n",
       "    </tr>\n",
       "    <tr>\n",
       "      <th>1552</th>\n",
       "      <td>297</td>\n",
       "      <td>Егор</td>\n",
       "      <td>33</td>\n",
       "      <td>Пятигорск</td>\n",
       "      <td>ultra</td>\n",
       "    </tr>\n",
       "    <tr>\n",
       "      <th>1553</th>\n",
       "      <td>121</td>\n",
       "      <td>Алина</td>\n",
       "      <td>25</td>\n",
       "      <td>Пятигорск</td>\n",
       "      <td>ultra</td>\n",
       "    </tr>\n",
       "    <tr>\n",
       "      <th>1554</th>\n",
       "      <td>1198</td>\n",
       "      <td>Демид</td>\n",
       "      <td>29</td>\n",
       "      <td>Ростов-на-Дону</td>\n",
       "      <td>free</td>\n",
       "    </tr>\n",
       "    <tr>\n",
       "      <th>1555</th>\n",
       "      <td>72</td>\n",
       "      <td>Никита</td>\n",
       "      <td>25</td>\n",
       "      <td>Москва</td>\n",
       "      <td>ultra</td>\n",
       "    </tr>\n",
       "    <tr>\n",
       "      <th>1556</th>\n",
       "      <td>422</td>\n",
       "      <td>Кирилл</td>\n",
       "      <td>27</td>\n",
       "      <td>Сочи</td>\n",
       "      <td>ultra</td>\n",
       "    </tr>\n",
       "    <tr>\n",
       "      <th>1557</th>\n",
       "      <td>611</td>\n",
       "      <td>Владимир</td>\n",
       "      <td>28</td>\n",
       "      <td>Омск</td>\n",
       "      <td>ultra</td>\n",
       "    </tr>\n",
       "    <tr>\n",
       "      <th>1558</th>\n",
       "      <td>1237</td>\n",
       "      <td>Евгения</td>\n",
       "      <td>23</td>\n",
       "      <td>Тюмень</td>\n",
       "      <td>free</td>\n",
       "    </tr>\n",
       "    <tr>\n",
       "      <th>1559</th>\n",
       "      <td>209</td>\n",
       "      <td>Андрей</td>\n",
       "      <td>23</td>\n",
       "      <td>Омск</td>\n",
       "      <td>ultra</td>\n",
       "    </tr>\n",
       "    <tr>\n",
       "      <th>1560</th>\n",
       "      <td>829</td>\n",
       "      <td>Федор</td>\n",
       "      <td>29</td>\n",
       "      <td>Пятигорск</td>\n",
       "      <td>free</td>\n",
       "    </tr>\n",
       "    <tr>\n",
       "      <th>1561</th>\n",
       "      <td>809</td>\n",
       "      <td>Юрий</td>\n",
       "      <td>26</td>\n",
       "      <td>Сочи</td>\n",
       "      <td>free</td>\n",
       "    </tr>\n",
       "    <tr>\n",
       "      <th>1562</th>\n",
       "      <td>307</td>\n",
       "      <td>Ясмина</td>\n",
       "      <td>19</td>\n",
       "      <td>Краснодар</td>\n",
       "      <td>ultra</td>\n",
       "    </tr>\n",
       "    <tr>\n",
       "      <th>1563</th>\n",
       "      <td>47</td>\n",
       "      <td>Юрий</td>\n",
       "      <td>28</td>\n",
       "      <td>Тюмень</td>\n",
       "      <td>ultra</td>\n",
       "    </tr>\n",
       "    <tr>\n",
       "      <th>1564</th>\n",
       "      <td>1045</td>\n",
       "      <td>Артемий</td>\n",
       "      <td>28</td>\n",
       "      <td>Ростов-на-Дону</td>\n",
       "      <td>free</td>\n",
       "    </tr>\n",
       "  </tbody>\n",
       "</table>\n",
       "</div>"
      ],
      "text/plain": [
       "      user_id        name  age            city subscription_type\n",
       "1534      293       Агата   26       Краснодар             ultra\n",
       "1535       16      Амалия   27       Краснодар             ultra\n",
       "1536      909  Константин   20    Екатеринбург              free\n",
       "1537      403      Полина   19            Сочи             ultra\n",
       "1538      908      Рустам   30          Тюмень              free\n",
       "1539       43    Стефания   22            Омск             ultra\n",
       "1540      127       Павел   25       Пятигорск             ultra\n",
       "1541      659       Злата   27  Ростов-на-Дону             ultra\n",
       "1542      204      Руслан   30       Пятигорск             ultra\n",
       "1543      153      Герман   23          Москва             ultra\n",
       "1544     1245      Регина   27       Пятигорск              free\n",
       "1545      807   Александр   28    Екатеринбург              free\n",
       "1546      924       Мария   23       Пятигорск              free\n",
       "1547      635      Герман   21          Москва             ultra\n",
       "1548      136     Марсель   25          Тюмень             ultra\n",
       "1549      108       Влада   29          Тюмень             ultra\n",
       "1550      737     Мелания   27  Ростов-на-Дону              free\n",
       "1551      666      Зарина   29          Москва             ultra\n",
       "1552      297        Егор   33       Пятигорск             ultra\n",
       "1553      121       Алина   25       Пятигорск             ultra\n",
       "1554     1198       Демид   29  Ростов-на-Дону              free\n",
       "1555       72      Никита   25          Москва             ultra\n",
       "1556      422      Кирилл   27            Сочи             ultra\n",
       "1557      611    Владимир   28            Омск             ultra\n",
       "1558     1237     Евгения   23          Тюмень              free\n",
       "1559      209      Андрей   23            Омск             ultra\n",
       "1560      829       Федор   29       Пятигорск              free\n",
       "1561      809        Юрий   26            Сочи              free\n",
       "1562      307      Ясмина   19       Краснодар             ultra\n",
       "1563       47        Юрий   28          Тюмень             ultra\n",
       "1564     1045     Артемий   28  Ростов-на-Дону              free"
      ]
     },
     "execution_count": 12,
     "metadata": {},
     "output_type": "execute_result"
    }
   ],
   "source": [
    "d_users.loc[d_users.duplicated('user_id') == True, :]"
   ]
  },
  {
   "cell_type": "markdown",
   "id": "1649530e",
   "metadata": {},
   "source": [
    "Ничего необычного, дропаем строки"
   ]
  },
  {
   "cell_type": "code",
   "execution_count": 13,
   "id": "42c33873",
   "metadata": {},
   "outputs": [],
   "source": [
    "d_users = d_users.drop_duplicates(subset='user_id', ignore_index=False)"
   ]
  },
  {
   "cell_type": "markdown",
   "id": "ff5cccad",
   "metadata": {},
   "source": [
    "#### 2.3.2 Поездки:"
   ]
  },
  {
   "cell_type": "code",
   "execution_count": 14,
   "id": "a6f57969",
   "metadata": {},
   "outputs": [
    {
     "data": {
      "text/plain": [
       "0"
      ]
     },
     "execution_count": 14,
     "metadata": {},
     "output_type": "execute_result"
    }
   ],
   "source": [
    "d_rides.duplicated().sum()"
   ]
  },
  {
   "cell_type": "markdown",
   "id": "830663eb",
   "metadata": {},
   "source": [
    "Дубликаты в поездках не нашлись"
   ]
  },
  {
   "cell_type": "markdown",
   "id": "35fd7f2d",
   "metadata": {},
   "source": [
    "### 2.4 Проверим на неявные дубликаты"
   ]
  },
  {
   "cell_type": "markdown",
   "id": "a401f51b",
   "metadata": {},
   "source": [
    "Нас интересует датафрейм d_users, так как неявные дубликаты могут найтись только там"
   ]
  },
  {
   "cell_type": "markdown",
   "id": "02de1824",
   "metadata": {},
   "source": [
    "#### 2.4.1 Города"
   ]
  },
  {
   "cell_type": "code",
   "execution_count": 15,
   "id": "8409196a",
   "metadata": {},
   "outputs": [
    {
     "data": {
      "text/plain": [
       "array(['Тюмень', 'Омск', 'Москва', 'Ростов-на-Дону', 'Краснодар',\n",
       "       'Пятигорск', 'Екатеринбург', 'Сочи'], dtype=object)"
      ]
     },
     "execution_count": 15,
     "metadata": {},
     "output_type": "execute_result"
    }
   ],
   "source": [
    "d_users.city.unique()"
   ]
  },
  {
   "cell_type": "markdown",
   "id": "8b06653b",
   "metadata": {},
   "source": [
    "#### 2.4.2 Имена"
   ]
  },
  {
   "cell_type": "code",
   "execution_count": 16,
   "id": "7b935d00",
   "metadata": {
    "scrolled": true
   },
   "outputs": [
    {
     "data": {
      "text/plain": [
       "array(['Агата', 'Аделина', 'Адель', 'Айдар', 'Александр', 'Александра',\n",
       "       'Алексей', 'Алина', 'Алиса', 'Алия', 'Алла', 'Альберт', 'Альбина',\n",
       "       'Алёна', 'Амалия', 'Амина', 'Амир', 'Анастасия', 'Анатолий',\n",
       "       'Ангелина', 'Андрей', 'Анжелика', 'Анна', 'Антон', 'Антонина',\n",
       "       'Ариана', 'Арина', 'Арсен', 'Арсений', 'Артемий', 'Артур', 'Артём',\n",
       "       'Богдан', 'Борис', 'Вадим', 'Валентина', 'Валерий', 'Валерия',\n",
       "       'Варвара', 'Василий', 'Василина', 'Василиса', 'Вера', 'Вероника',\n",
       "       'Виктор', 'Виктория', 'Виолетта', 'Виталий', 'Виталина', 'Влад',\n",
       "       'Влада', 'Владимир', 'Владислав', 'Владислава', 'Всеволод',\n",
       "       'Вячеслав', 'Галина', 'Георгий', 'Герман', 'Глеб', 'Гордей',\n",
       "       'Григорий', 'Давид', 'Дамир', 'Даниил', 'Данил', 'Данила',\n",
       "       'Даниэль', 'Дарина', 'Дарья', 'Демид', 'Денис', 'Диана', 'Дмитрий',\n",
       "       'Ева', 'Евгений', 'Евгения', 'Егор', 'Екатерина', 'Елена',\n",
       "       'Елизавета', 'Елисей', 'Есения', 'Жанна', 'Зарина', 'Захар',\n",
       "       'Злата', 'Иван', 'Игнат', 'Игорь', 'Ильдар', 'Илья', 'Инна',\n",
       "       'Ирина', 'Камилла', 'Карина', 'Каролина', 'Кира', 'Кирилл',\n",
       "       'Константин', 'Кристина', 'Ксения', 'Лариса', 'Лев', 'Леонид',\n",
       "       'Лиана', 'Лидия', 'Лилия', 'Любовь', 'Людмила', 'Мадина', 'Майя',\n",
       "       'Макар', 'Максим', 'Марат', 'Маргарита', 'Марина', 'Мария', 'Марк',\n",
       "       'Марсель', 'Матвей', 'Мелания', 'Милана', 'Милена', 'Мирон',\n",
       "       'Мирослав', 'Мирослава', 'Михаил', 'Назар', 'Наталия', 'Наталья',\n",
       "       'Наташа', 'Нелли', 'Ника', 'Никита', 'Николай', 'Нина', 'Одиссей',\n",
       "       'Оксана', 'Олег', 'Олеся', 'Ольга', 'Павел', 'Петр', 'Платон',\n",
       "       'Полина', 'Радмир', 'Рамиль', 'Регина', 'Роберт', 'Родион',\n",
       "       'Роман', 'Ростислав', 'Руслан', 'Рустам', 'Савелий', 'Самир',\n",
       "       'Самира', 'Светлана', 'Святогор', 'Святослав', 'Семен', 'Сергей',\n",
       "       'Снежана', 'София', 'Софья', 'Станислав', 'Степан', 'Стефания',\n",
       "       'Таисия', 'Тамара', 'Тамерлан', 'Татьяна', 'Тимофей', 'Тимур',\n",
       "       'Тихон', 'Ульяна', 'Федор', 'Эвелина', 'Эдуард', 'Элина',\n",
       "       'Эльвира', 'Эльмира', 'Эмилия', 'Эмиль', 'Юлиана', 'Юлия', 'Юрий',\n",
       "       'Ян', 'Яна', 'Яромир', 'Ярослав', 'Ярослава', 'Ясмина'],\n",
       "      dtype=object)"
      ]
     },
     "execution_count": 16,
     "metadata": {},
     "output_type": "execute_result"
    }
   ],
   "source": [
    "d_users.name.sort_values().unique()"
   ]
  },
  {
   "cell_type": "markdown",
   "id": "b2effa3f",
   "metadata": {},
   "source": [
    "Неявные дубли отсутствуют"
   ]
  },
  {
   "cell_type": "markdown",
   "id": "a6befabd",
   "metadata": {},
   "source": [
    "### 2.5 Приведение типов"
   ]
  },
  {
   "cell_type": "markdown",
   "id": "72330b07",
   "metadata": {},
   "source": [
    "В пункте 2.2 \"Проверим на пропущенные значения:\" мы внимательно посмотрели на типы данных, предлагается:\n",
    "\n",
    "1. d_rides.distance -> int (округлить до метра)\n",
    "2. d_rides.duration - оставить float (округлить до мтера)\n",
    "3. d_rides.date -> datetime\n",
    "\n",
    "Также добавим столбец d_rides.month с номером месяца, но сначала проверим, за сколько лет выгрузка"
   ]
  },
  {
   "cell_type": "markdown",
   "id": "ff1739ec",
   "metadata": {},
   "source": [
    "Округляем, меняем типы:"
   ]
  },
  {
   "cell_type": "code",
   "execution_count": 17,
   "id": "5b2d0d32",
   "metadata": {},
   "outputs": [],
   "source": [
    "# 1. d_rides.distance -> int (округлить до метра)\n",
    "d_rides['distance'] = d_rides['distance'].round()\n",
    "d_rides['distance'] = d_rides['distance'].astype('int')\n",
    "\n",
    "# 2. d_rides.duration - оставить float (округлить до мтера)\n",
    "d_rides['duration'] = d_rides['duration'].round(2)\n",
    "\n",
    "# 3. d_rides.date -> datetime\n",
    "d_rides.date = pd.to_datetime(d_rides.date, format='%Y-%m-%d')"
   ]
  },
  {
   "cell_type": "markdown",
   "id": "2a965cdf",
   "metadata": {},
   "source": [
    "Проверим, за сколько лет выгрузка"
   ]
  },
  {
   "cell_type": "code",
   "execution_count": 18,
   "id": "3b8669db",
   "metadata": {},
   "outputs": [
    {
     "name": "stdout",
     "output_type": "stream",
     "text": [
      "Index([2021], dtype='int32', name='date')\n"
     ]
    }
   ],
   "source": [
    "print(pd.DatetimeIndex(d_rides.date).year.unique())"
   ]
  },
  {
   "cell_type": "markdown",
   "id": "ffb071da",
   "metadata": {},
   "source": [
    "Только один год -- 2021, спокойно добавляем столбец с месяцем, неприятностей не будет."
   ]
  },
  {
   "cell_type": "code",
   "execution_count": 19,
   "id": "0ff7cf35",
   "metadata": {},
   "outputs": [],
   "source": [
    "d_rides['month'] = pd.DatetimeIndex(d_rides.date).month"
   ]
  },
  {
   "cell_type": "markdown",
   "id": "26eef16a",
   "metadata": {},
   "source": [
    "Проверим, что у нас получилось в плане типов:"
   ]
  },
  {
   "cell_type": "code",
   "execution_count": 20,
   "id": "e91e9b36",
   "metadata": {},
   "outputs": [
    {
     "name": "stdout",
     "output_type": "stream",
     "text": [
      "<class 'pandas.core.frame.DataFrame'>\n",
      "RangeIndex: 17973 entries, 0 to 17972\n",
      "Data columns (total 6 columns):\n",
      " #   Column    Non-Null Count  Dtype         \n",
      "---  ------    --------------  -----         \n",
      " 0   index     17973 non-null  int64         \n",
      " 1   user_id   17973 non-null  int64         \n",
      " 2   distance  17973 non-null  int32         \n",
      " 3   duration  17973 non-null  float64       \n",
      " 4   date      17973 non-null  datetime64[ns]\n",
      " 5   month     17973 non-null  int32         \n",
      "dtypes: datetime64[ns](1), float64(1), int32(2), int64(2)\n",
      "memory usage: 702.2 KB\n"
     ]
    },
    {
     "data": {
      "text/html": [
       "<div>\n",
       "<style scoped>\n",
       "    .dataframe tbody tr th:only-of-type {\n",
       "        vertical-align: middle;\n",
       "    }\n",
       "\n",
       "    .dataframe tbody tr th {\n",
       "        vertical-align: top;\n",
       "    }\n",
       "\n",
       "    .dataframe thead th {\n",
       "        text-align: right;\n",
       "    }\n",
       "</style>\n",
       "<table border=\"1\" class=\"dataframe\">\n",
       "  <thead>\n",
       "    <tr style=\"text-align: right;\">\n",
       "      <th></th>\n",
       "      <th>index</th>\n",
       "      <th>user_id</th>\n",
       "      <th>distance</th>\n",
       "      <th>duration</th>\n",
       "      <th>date</th>\n",
       "      <th>month</th>\n",
       "    </tr>\n",
       "  </thead>\n",
       "  <tbody>\n",
       "    <tr>\n",
       "      <th>0</th>\n",
       "      <td>0</td>\n",
       "      <td>1</td>\n",
       "      <td>4410</td>\n",
       "      <td>25.60</td>\n",
       "      <td>2021-01-01</td>\n",
       "      <td>1</td>\n",
       "    </tr>\n",
       "    <tr>\n",
       "      <th>1</th>\n",
       "      <td>1</td>\n",
       "      <td>1</td>\n",
       "      <td>2618</td>\n",
       "      <td>15.82</td>\n",
       "      <td>2021-01-18</td>\n",
       "      <td>1</td>\n",
       "    </tr>\n",
       "    <tr>\n",
       "      <th>2</th>\n",
       "      <td>2</td>\n",
       "      <td>1</td>\n",
       "      <td>754</td>\n",
       "      <td>6.23</td>\n",
       "      <td>2021-04-20</td>\n",
       "      <td>4</td>\n",
       "    </tr>\n",
       "    <tr>\n",
       "      <th>3</th>\n",
       "      <td>3</td>\n",
       "      <td>1</td>\n",
       "      <td>2695</td>\n",
       "      <td>18.51</td>\n",
       "      <td>2021-08-11</td>\n",
       "      <td>8</td>\n",
       "    </tr>\n",
       "    <tr>\n",
       "      <th>4</th>\n",
       "      <td>4</td>\n",
       "      <td>1</td>\n",
       "      <td>4029</td>\n",
       "      <td>26.27</td>\n",
       "      <td>2021-08-28</td>\n",
       "      <td>8</td>\n",
       "    </tr>\n",
       "  </tbody>\n",
       "</table>\n",
       "</div>"
      ],
      "text/plain": [
       "   index  user_id  distance  duration       date  month\n",
       "0      0        1      4410     25.60 2021-01-01      1\n",
       "1      1        1      2618     15.82 2021-01-18      1\n",
       "2      2        1       754      6.23 2021-04-20      4\n",
       "3      3        1      2695     18.51 2021-08-11      8\n",
       "4      4        1      4029     26.27 2021-08-28      8"
      ]
     },
     "execution_count": 20,
     "metadata": {},
     "output_type": "execute_result"
    }
   ],
   "source": [
    "d_rides.info()\n",
    "d_rides.head(5)"
   ]
  },
  {
   "cell_type": "markdown",
   "id": "8e0fafba",
   "metadata": {},
   "source": [
    "Все ОК, с предобработкой можно закончить.\n",
    "В ходе работ:\n",
    "\n",
    "1. в d_rides\n",
    " - distance перевел в int (округлил до метра)\n",
    " - duration - оставил float (округлил до мтера)\n",
    " - date перевел в datetime\n",
    " - Удалил строки в duration == 0.5 (95 строк)\n",
    " \n",
    "2. в d_users\n",
    " - удалил 31 строки -- полные дубликаты"
   ]
  },
  {
   "cell_type": "markdown",
   "id": "f8918ec1",
   "metadata": {},
   "source": [
    "## Шаг 3. Исследовательский анализ данных"
   ]
  },
  {
   "cell_type": "markdown",
   "id": "8f525450",
   "metadata": {},
   "source": [
    "### 3.1 Опишите и визуализируйте общую информацию о пользователях и поездках:"
   ]
  },
  {
   "cell_type": "markdown",
   "id": "b737b074",
   "metadata": {},
   "source": [
    "#### 3.1.1 Частота встречаемости городов"
   ]
  },
  {
   "cell_type": "markdown",
   "id": "a2086726",
   "metadata": {},
   "source": [
    "Посмотрим, как распределены пользователи и объем поездок по городам:"
   ]
  },
  {
   "cell_type": "code",
   "execution_count": 21,
   "id": "7e06e6b6",
   "metadata": {},
   "outputs": [
    {
     "data": {
      "image/png": "[encoded data removed]",
      "text/plain": [
       "<Figure size 1500x400 with 1 Axes>"
      ]
     },
     "metadata": {},
     "output_type": "display_data"
    }
   ],
   "source": [
    "d_users.groupby('city')['city'].count().sort_values().plot(kind='barh', \\\n",
    "                                                                title='Города по количеству пользователей', \\\n",
    "                                                                xlabel='Количество пользователей', \\\n",
    "                                                                ylabel='Название города', \\\n",
    "                                                                figsize=(15, 4));"
   ]
  },
  {
   "cell_type": "markdown",
   "id": "81e3ac0b",
   "metadata": {},
   "source": [
    "И пользователи, и поездки сравнительно равномерно распределены по городам в рамках выборки.\n",
    " - Больше всего пользователей в Пятигорске 204 человека\n",
    " - Меньше всего пользователей в Москве 168 человека"
   ]
  },
  {
   "cell_type": "markdown",
   "id": "57b53292",
   "metadata": {},
   "source": [
    "#### 3.1.2 Соотношение пользователей с подпиской и без подписки"
   ]
  },
  {
   "cell_type": "markdown",
   "id": "5fb17471",
   "metadata": {},
   "source": [
    "Посмотрим, как рапределны пользоветели с подпиской Ultra и без подписки в рамках выборки:"
   ]
  },
  {
   "cell_type": "code",
   "execution_count": 22,
   "id": "96ca7620",
   "metadata": {},
   "outputs": [
    {
     "data": {
      "image/png": "[encoded data removed]",
      "text/plain": [
       "<Figure size 640x480 with 1 Axes>"
      ]
     },
     "metadata": {},
     "output_type": "display_data"
    }
   ],
   "source": [
    "d_users.groupby('subscription_type')['user_id'].count().plot(kind='pie', \\\n",
    "                                                                  autopct=lambda p:f'{p:.2f}%', \\\n",
    "                                                                  title='Пользователи по подпискам', \\\n",
    "                                                                  ylabel='');"
   ]
  },
  {
   "cell_type": "markdown",
   "id": "9616ffdf",
   "metadata": {},
   "source": [
    " - Пользователи без подписки и пользователи с Ultra распределны примерно поровну -- 54% против 46%, но все же с доминированием пользователей без подписки"
   ]
  },
  {
   "cell_type": "markdown",
   "id": "5b8c5769",
   "metadata": {},
   "source": [
    "_______________________\n",
    "Далее у нас сравнительно однообразные по механике исследования по распределению возраста, дистанции и продолжительности.\n",
    "\n",
    "Поэтому, определим функцию diagramm_hist_boxplot:"
   ]
  },
  {
   "cell_type": "code",
   "execution_count": 23,
   "id": "9ac66e9b",
   "metadata": {},
   "outputs": [],
   "source": [
    "def diagramm_hist_boxplot (data_loc, series_loc, bins_loc, title_loc, x_loc, y_loc):\n",
    "    \n",
    "    fig, axs = plt.subplots(nrows=1, ncols=2, figsize=(15,5)) \n",
    "    plt.subplots_adjust(wspace=0.3) \n",
    "    \n",
    "    print(data_loc[series_loc].describe())\n",
    "    \n",
    "    axs[0].hist(data_loc[series_loc], bins=bins_loc)  # Вывожу гистограмму\n",
    "    axs[0].set_title(title_loc + ' hist') \n",
    "    axs[0].set_xlabel(x_loc) \n",
    "    axs[0].set_ylabel(y_loc) \n",
    "    \n",
    "    axs[1].boxplot(data_loc[series_loc])  # Вывожу boxplot\n",
    "    axs[1].set_title(title_loc + ' boxplot')\n",
    "    axs[1].set_ylabel(y_loc)"
   ]
  },
  {
   "cell_type": "markdown",
   "id": "833ddc1c",
   "metadata": {},
   "source": [
    "#### 3.1.3 Возраст пользователей"
   ]
  },
  {
   "cell_type": "markdown",
   "id": "ee2eaf01",
   "metadata": {},
   "source": [
    "Посмотрим, как рапределен возраст пользоветелей в рамках выборки:"
   ]
  },
  {
   "cell_type": "code",
   "execution_count": 24,
   "id": "48cce51f",
   "metadata": {},
   "outputs": [
    {
     "name": "stdout",
     "output_type": "stream",
     "text": [
      "count    1534.000000\n",
      "mean       24.903520\n",
      "std         4.572367\n",
      "min        12.000000\n",
      "25%        22.000000\n",
      "50%        25.000000\n",
      "75%        28.000000\n",
      "max        43.000000\n",
      "Name: age, dtype: float64\n"
     ]
    },
    {
     "data": {
      "image/png": "[encoded data removed]",
      "text/plain": [
       "<Figure size 1500x500 with 2 Axes>"
      ]
     },
     "metadata": {},
     "output_type": "display_data"
    }
   ],
   "source": [
    "diagramm_hist_boxplot(d_users, 'age', 60, 'Возраст по user_id', 'Распределение пользователей', 'Количество пользователей')"
   ]
  },
  {
   "cell_type": "markdown",
   "id": "075bf295",
   "metadata": {},
   "source": [
    "Большинство пользователей сервиса в пределах 22 и 28-и лет, особых выбросов нет."
   ]
  },
  {
   "cell_type": "markdown",
   "id": "f793dc7d",
   "metadata": {},
   "source": [
    "#### 3.1.4 Расстояние, которое пользователь преодолел за одну поездку"
   ]
  },
  {
   "cell_type": "markdown",
   "id": "ec87db58",
   "metadata": {},
   "source": [
    "Посмотрим, как рапределено преодолеваемое расстояние в рамках выборки:"
   ]
  },
  {
   "cell_type": "code",
   "execution_count": 25,
   "id": "8fc371bc",
   "metadata": {},
   "outputs": [
    {
     "name": "stdout",
     "output_type": "stream",
     "text": [
      "count    17973.000000\n",
      "mean      3059.862905\n",
      "std       1108.815513\n",
      "min          1.000000\n",
      "25%       2539.000000\n",
      "50%       3129.000000\n",
      "75%       3763.000000\n",
      "max       7066.000000\n",
      "Name: distance, dtype: float64\n"
     ]
    },
    {
     "data": {
      "image/png": "[encoded data removed]",
      "text/plain": [
       "<Figure size 1500x500 with 2 Axes>"
      ]
     },
     "metadata": {},
     "output_type": "display_data"
    }
   ],
   "source": [
    "diagramm_hist_boxplot(d_rides, 'distance', 100, 'Расстояние', 'Распределение расстояния', 'Преодоленное расстояние')"
   ]
  },
  {
   "cell_type": "markdown",
   "id": "39cab48a",
   "metadata": {},
   "source": [
    " - Большинство поездок от 2,5км до 3.1км\n",
    " - Наблюдаем логичные выбросы до семи километров, тут вопросов особых нет -- ингода на самокате проезжаешь сравнительно внушительное расстояние, но случаи такие редки\n",
    " - Наблюдается локальный максимум до 1,5км, похоже на поездки по территории достопримечательностей -- они короче, но длительнее обычно"
   ]
  },
  {
   "cell_type": "markdown",
   "id": "5ba8563d",
   "metadata": {},
   "source": [
    "#### 3.1.5 Продолжительность поездок"
   ]
  },
  {
   "cell_type": "markdown",
   "id": "e1b685d3",
   "metadata": {},
   "source": [
    "Посмотрим, как распределена продолжительность поездок в рамках выборки:"
   ]
  },
  {
   "cell_type": "code",
   "execution_count": 26,
   "id": "06346f7c",
   "metadata": {},
   "outputs": [
    {
     "name": "stdout",
     "output_type": "stream",
     "text": [
      "count    17973.000000\n",
      "mean        17.896486\n",
      "std          5.975444\n",
      "min          2.040000\n",
      "25%         13.670000\n",
      "50%         17.710000\n",
      "75%         21.750000\n",
      "max         40.820000\n",
      "Name: duration, dtype: float64\n"
     ]
    },
    {
     "data": {
      "image/png": "[encoded data removed]",
      "text/plain": [
       "<Figure size 1500x500 with 2 Axes>"
      ]
     },
     "metadata": {},
     "output_type": "display_data"
    }
   ],
   "source": [
    "diagramm_hist_boxplot(d_rides, 'duration', 100, 'Продолжительность поездки', \\\n",
    "                      'Распределение продолжительности', 'Продолжительность поездки')"
   ]
  },
  {
   "cell_type": "markdown",
   "id": "c188abf4",
   "metadata": {},
   "source": [
    " - Большинство поездок длятся от 14 до 22-х минут\n",
    " - Существуют выбросы -- длительные поездки больше получаса, но это нормально сходится со вторым выводом по распределению расстояния"
   ]
  },
  {
   "cell_type": "markdown",
   "id": "f58fc9c3",
   "metadata": {},
   "source": [
    "## Шаг 4. Объединение данных"
   ]
  },
  {
   "cell_type": "markdown",
   "id": "08911540",
   "metadata": {},
   "source": [
    "### 4.1 Объедините данные о пользователях, поездках и подписках в один датафрейм\n",
    "\n",
    "Объединим в df датафреймы d_users, d_subscriptions и d_rides, добавим округленную до минуты (вверх) продолжиетльность поездки"
   ]
  },
  {
   "cell_type": "code",
   "execution_count": 27,
   "id": "32884b8e",
   "metadata": {},
   "outputs": [],
   "source": [
    "# Объединим в df датафреймы d_users, d_subscriptions и d_rides\n",
    "df = d_rides.merge(right=d_users, how='left', left_on='user_id', right_on='user_id')\n",
    "df = df.merge(right=d_subscriptions, how='left', left_on='subscription_type', right_on='subscription_type')\n",
    "df = df.drop(columns='index')\n",
    "\n",
    "# Добавляем округленную до минуты (вверх) продолжиетльность поездки\n",
    "df['duration_for_gain'] = np.ceil(df['duration']).astype('int')"
   ]
  },
  {
   "cell_type": "markdown",
   "id": "76326c8b",
   "metadata": {},
   "source": [
    "Посмотрим на итоговую таблицу, сравним количество строк с d_rides:"
   ]
  },
  {
   "cell_type": "code",
   "execution_count": 28,
   "id": "f4503854",
   "metadata": {},
   "outputs": [
    {
     "data": {
      "text/html": [
       "<div>\n",
       "<style scoped>\n",
       "    .dataframe tbody tr th:only-of-type {\n",
       "        vertical-align: middle;\n",
       "    }\n",
       "\n",
       "    .dataframe tbody tr th {\n",
       "        vertical-align: top;\n",
       "    }\n",
       "\n",
       "    .dataframe thead th {\n",
       "        text-align: right;\n",
       "    }\n",
       "</style>\n",
       "<table border=\"1\" class=\"dataframe\">\n",
       "  <thead>\n",
       "    <tr style=\"text-align: right;\">\n",
       "      <th></th>\n",
       "      <th>user_id</th>\n",
       "      <th>distance</th>\n",
       "      <th>duration</th>\n",
       "      <th>date</th>\n",
       "      <th>month</th>\n",
       "      <th>name</th>\n",
       "      <th>age</th>\n",
       "      <th>city</th>\n",
       "      <th>subscription_type</th>\n",
       "      <th>minute_price</th>\n",
       "      <th>start_ride_price</th>\n",
       "      <th>subscription_fee</th>\n",
       "      <th>duration_for_gain</th>\n",
       "    </tr>\n",
       "  </thead>\n",
       "  <tbody>\n",
       "    <tr>\n",
       "      <th>0</th>\n",
       "      <td>1</td>\n",
       "      <td>4410</td>\n",
       "      <td>25.60</td>\n",
       "      <td>2021-01-01</td>\n",
       "      <td>1</td>\n",
       "      <td>Кира</td>\n",
       "      <td>22</td>\n",
       "      <td>Тюмень</td>\n",
       "      <td>ultra</td>\n",
       "      <td>6</td>\n",
       "      <td>0</td>\n",
       "      <td>199</td>\n",
       "      <td>26</td>\n",
       "    </tr>\n",
       "    <tr>\n",
       "      <th>1</th>\n",
       "      <td>1</td>\n",
       "      <td>2618</td>\n",
       "      <td>15.82</td>\n",
       "      <td>2021-01-18</td>\n",
       "      <td>1</td>\n",
       "      <td>Кира</td>\n",
       "      <td>22</td>\n",
       "      <td>Тюмень</td>\n",
       "      <td>ultra</td>\n",
       "      <td>6</td>\n",
       "      <td>0</td>\n",
       "      <td>199</td>\n",
       "      <td>16</td>\n",
       "    </tr>\n",
       "    <tr>\n",
       "      <th>2</th>\n",
       "      <td>1</td>\n",
       "      <td>754</td>\n",
       "      <td>6.23</td>\n",
       "      <td>2021-04-20</td>\n",
       "      <td>4</td>\n",
       "      <td>Кира</td>\n",
       "      <td>22</td>\n",
       "      <td>Тюмень</td>\n",
       "      <td>ultra</td>\n",
       "      <td>6</td>\n",
       "      <td>0</td>\n",
       "      <td>199</td>\n",
       "      <td>7</td>\n",
       "    </tr>\n",
       "    <tr>\n",
       "      <th>3</th>\n",
       "      <td>1</td>\n",
       "      <td>2695</td>\n",
       "      <td>18.51</td>\n",
       "      <td>2021-08-11</td>\n",
       "      <td>8</td>\n",
       "      <td>Кира</td>\n",
       "      <td>22</td>\n",
       "      <td>Тюмень</td>\n",
       "      <td>ultra</td>\n",
       "      <td>6</td>\n",
       "      <td>0</td>\n",
       "      <td>199</td>\n",
       "      <td>19</td>\n",
       "    </tr>\n",
       "    <tr>\n",
       "      <th>4</th>\n",
       "      <td>1</td>\n",
       "      <td>4029</td>\n",
       "      <td>26.27</td>\n",
       "      <td>2021-08-28</td>\n",
       "      <td>8</td>\n",
       "      <td>Кира</td>\n",
       "      <td>22</td>\n",
       "      <td>Тюмень</td>\n",
       "      <td>ultra</td>\n",
       "      <td>6</td>\n",
       "      <td>0</td>\n",
       "      <td>199</td>\n",
       "      <td>27</td>\n",
       "    </tr>\n",
       "    <tr>\n",
       "      <th>...</th>\n",
       "      <td>...</td>\n",
       "      <td>...</td>\n",
       "      <td>...</td>\n",
       "      <td>...</td>\n",
       "      <td>...</td>\n",
       "      <td>...</td>\n",
       "      <td>...</td>\n",
       "      <td>...</td>\n",
       "      <td>...</td>\n",
       "      <td>...</td>\n",
       "      <td>...</td>\n",
       "      <td>...</td>\n",
       "      <td>...</td>\n",
       "    </tr>\n",
       "    <tr>\n",
       "      <th>17968</th>\n",
       "      <td>1534</td>\n",
       "      <td>3781</td>\n",
       "      <td>19.82</td>\n",
       "      <td>2021-11-04</td>\n",
       "      <td>11</td>\n",
       "      <td>Альберт</td>\n",
       "      <td>25</td>\n",
       "      <td>Краснодар</td>\n",
       "      <td>free</td>\n",
       "      <td>8</td>\n",
       "      <td>50</td>\n",
       "      <td>0</td>\n",
       "      <td>20</td>\n",
       "    </tr>\n",
       "    <tr>\n",
       "      <th>17969</th>\n",
       "      <td>1534</td>\n",
       "      <td>2840</td>\n",
       "      <td>21.41</td>\n",
       "      <td>2021-11-16</td>\n",
       "      <td>11</td>\n",
       "      <td>Альберт</td>\n",
       "      <td>25</td>\n",
       "      <td>Краснодар</td>\n",
       "      <td>free</td>\n",
       "      <td>8</td>\n",
       "      <td>50</td>\n",
       "      <td>0</td>\n",
       "      <td>22</td>\n",
       "    </tr>\n",
       "    <tr>\n",
       "      <th>17970</th>\n",
       "      <td>1534</td>\n",
       "      <td>3826</td>\n",
       "      <td>18.44</td>\n",
       "      <td>2021-11-18</td>\n",
       "      <td>11</td>\n",
       "      <td>Альберт</td>\n",
       "      <td>25</td>\n",
       "      <td>Краснодар</td>\n",
       "      <td>free</td>\n",
       "      <td>8</td>\n",
       "      <td>50</td>\n",
       "      <td>0</td>\n",
       "      <td>19</td>\n",
       "    </tr>\n",
       "    <tr>\n",
       "      <th>17971</th>\n",
       "      <td>1534</td>\n",
       "      <td>2902</td>\n",
       "      <td>16.67</td>\n",
       "      <td>2021-11-27</td>\n",
       "      <td>11</td>\n",
       "      <td>Альберт</td>\n",
       "      <td>25</td>\n",
       "      <td>Краснодар</td>\n",
       "      <td>free</td>\n",
       "      <td>8</td>\n",
       "      <td>50</td>\n",
       "      <td>0</td>\n",
       "      <td>17</td>\n",
       "    </tr>\n",
       "    <tr>\n",
       "      <th>17972</th>\n",
       "      <td>1534</td>\n",
       "      <td>2372</td>\n",
       "      <td>15.89</td>\n",
       "      <td>2021-12-29</td>\n",
       "      <td>12</td>\n",
       "      <td>Альберт</td>\n",
       "      <td>25</td>\n",
       "      <td>Краснодар</td>\n",
       "      <td>free</td>\n",
       "      <td>8</td>\n",
       "      <td>50</td>\n",
       "      <td>0</td>\n",
       "      <td>16</td>\n",
       "    </tr>\n",
       "  </tbody>\n",
       "</table>\n",
       "<p>17973 rows × 13 columns</p>\n",
       "</div>"
      ],
      "text/plain": [
       "       user_id  distance  duration       date  month     name  age       city  \\\n",
       "0            1      4410     25.60 2021-01-01      1     Кира   22     Тюмень   \n",
       "1            1      2618     15.82 2021-01-18      1     Кира   22     Тюмень   \n",
       "2            1       754      6.23 2021-04-20      4     Кира   22     Тюмень   \n",
       "3            1      2695     18.51 2021-08-11      8     Кира   22     Тюмень   \n",
       "4            1      4029     26.27 2021-08-28      8     Кира   22     Тюмень   \n",
       "...        ...       ...       ...        ...    ...      ...  ...        ...   \n",
       "17968     1534      3781     19.82 2021-11-04     11  Альберт   25  Краснодар   \n",
       "17969     1534      2840     21.41 2021-11-16     11  Альберт   25  Краснодар   \n",
       "17970     1534      3826     18.44 2021-11-18     11  Альберт   25  Краснодар   \n",
       "17971     1534      2902     16.67 2021-11-27     11  Альберт   25  Краснодар   \n",
       "17972     1534      2372     15.89 2021-12-29     12  Альберт   25  Краснодар   \n",
       "\n",
       "      subscription_type  minute_price  start_ride_price  subscription_fee  \\\n",
       "0                 ultra             6                 0               199   \n",
       "1                 ultra             6                 0               199   \n",
       "2                 ultra             6                 0               199   \n",
       "3                 ultra             6                 0               199   \n",
       "4                 ultra             6                 0               199   \n",
       "...                 ...           ...               ...               ...   \n",
       "17968              free             8                50                 0   \n",
       "17969              free             8                50                 0   \n",
       "17970              free             8                50                 0   \n",
       "17971              free             8                50                 0   \n",
       "17972              free             8                50                 0   \n",
       "\n",
       "       duration_for_gain  \n",
       "0                     26  \n",
       "1                     16  \n",
       "2                      7  \n",
       "3                     19  \n",
       "4                     27  \n",
       "...                  ...  \n",
       "17968                 20  \n",
       "17969                 22  \n",
       "17970                 19  \n",
       "17971                 17  \n",
       "17972                 16  \n",
       "\n",
       "[17973 rows x 13 columns]"
      ]
     },
     "execution_count": 28,
     "metadata": {},
     "output_type": "execute_result"
    }
   ],
   "source": [
    "df"
   ]
  },
  {
   "cell_type": "markdown",
   "id": "5e13c11f",
   "metadata": {},
   "source": [
    "17973 -- все сходится."
   ]
  },
  {
   "cell_type": "markdown",
   "id": "c0192bcb",
   "metadata": {},
   "source": [
    "Посмотрим сразу на распределение количества поездок по подпискам:"
   ]
  },
  {
   "cell_type": "code",
   "execution_count": 29,
   "id": "203439aa",
   "metadata": {},
   "outputs": [
    {
     "data": {
      "image/png": "[encoded data removed]",
      "text/plain": [
       "<Figure size 640x480 with 1 Axes>"
      ]
     },
     "metadata": {},
     "output_type": "display_data"
    }
   ],
   "source": [
    "df.groupby('subscription_type')['user_id'].count().plot(kind='pie', \\\n",
    "                                                             autopct=lambda p:f'{p:.2f}%', \\\n",
    "                                                             title='Поездки по подпискам', \\\n",
    "                                                             ylabel='');"
   ]
  },
  {
   "cell_type": "markdown",
   "id": "88976013",
   "metadata": {},
   "source": [
    "Заметим, что поездки по подпискам распределены иначе, чем пользователи, разрыв между \"Без подписки\" и \"С Ultra\" вырос -- 64% против 36% (для пользователей было 54% против 46%)"
   ]
  },
  {
   "cell_type": "markdown",
   "id": "30fcaea7",
   "metadata": {},
   "source": [
    "### 4.2 Создайте ещё два датафрейма из датафрейма, созданного на этапе 4.1:\n",
    " - c данными о пользователях без подписки (df_free)\n",
    " - с данными о пользователях с подпиской (df_ultra)"
   ]
  },
  {
   "cell_type": "code",
   "execution_count": 30,
   "id": "5a8871e7",
   "metadata": {},
   "outputs": [
    {
     "data": {
      "text/html": [
       "<div>\n",
       "<style scoped>\n",
       "    .dataframe tbody tr th:only-of-type {\n",
       "        vertical-align: middle;\n",
       "    }\n",
       "\n",
       "    .dataframe tbody tr th {\n",
       "        vertical-align: top;\n",
       "    }\n",
       "\n",
       "    .dataframe thead th {\n",
       "        text-align: right;\n",
       "    }\n",
       "</style>\n",
       "<table border=\"1\" class=\"dataframe\">\n",
       "  <thead>\n",
       "    <tr style=\"text-align: right;\">\n",
       "      <th></th>\n",
       "      <th>user_id</th>\n",
       "      <th>distance</th>\n",
       "      <th>duration</th>\n",
       "      <th>date</th>\n",
       "      <th>month</th>\n",
       "      <th>name</th>\n",
       "      <th>age</th>\n",
       "      <th>city</th>\n",
       "      <th>subscription_type</th>\n",
       "      <th>minute_price</th>\n",
       "      <th>start_ride_price</th>\n",
       "      <th>subscription_fee</th>\n",
       "      <th>duration_for_gain</th>\n",
       "    </tr>\n",
       "  </thead>\n",
       "  <tbody>\n",
       "    <tr>\n",
       "      <th>6500</th>\n",
       "      <td>700</td>\n",
       "      <td>2516</td>\n",
       "      <td>14.94</td>\n",
       "      <td>2021-01-02</td>\n",
       "      <td>1</td>\n",
       "      <td>Айдар</td>\n",
       "      <td>22</td>\n",
       "      <td>Омск</td>\n",
       "      <td>free</td>\n",
       "      <td>8</td>\n",
       "      <td>50</td>\n",
       "      <td>0</td>\n",
       "      <td>15</td>\n",
       "    </tr>\n",
       "    <tr>\n",
       "      <th>6501</th>\n",
       "      <td>700</td>\n",
       "      <td>847</td>\n",
       "      <td>16.23</td>\n",
       "      <td>2021-02-01</td>\n",
       "      <td>2</td>\n",
       "      <td>Айдар</td>\n",
       "      <td>22</td>\n",
       "      <td>Омск</td>\n",
       "      <td>free</td>\n",
       "      <td>8</td>\n",
       "      <td>50</td>\n",
       "      <td>0</td>\n",
       "      <td>17</td>\n",
       "    </tr>\n",
       "    <tr>\n",
       "      <th>6502</th>\n",
       "      <td>700</td>\n",
       "      <td>4004</td>\n",
       "      <td>20.02</td>\n",
       "      <td>2021-02-04</td>\n",
       "      <td>2</td>\n",
       "      <td>Айдар</td>\n",
       "      <td>22</td>\n",
       "      <td>Омск</td>\n",
       "      <td>free</td>\n",
       "      <td>8</td>\n",
       "      <td>50</td>\n",
       "      <td>0</td>\n",
       "      <td>21</td>\n",
       "    </tr>\n",
       "    <tr>\n",
       "      <th>6503</th>\n",
       "      <td>700</td>\n",
       "      <td>1206</td>\n",
       "      <td>9.78</td>\n",
       "      <td>2021-02-10</td>\n",
       "      <td>2</td>\n",
       "      <td>Айдар</td>\n",
       "      <td>22</td>\n",
       "      <td>Омск</td>\n",
       "      <td>free</td>\n",
       "      <td>8</td>\n",
       "      <td>50</td>\n",
       "      <td>0</td>\n",
       "      <td>10</td>\n",
       "    </tr>\n",
       "    <tr>\n",
       "      <th>6504</th>\n",
       "      <td>700</td>\n",
       "      <td>3047</td>\n",
       "      <td>17.43</td>\n",
       "      <td>2021-02-14</td>\n",
       "      <td>2</td>\n",
       "      <td>Айдар</td>\n",
       "      <td>22</td>\n",
       "      <td>Омск</td>\n",
       "      <td>free</td>\n",
       "      <td>8</td>\n",
       "      <td>50</td>\n",
       "      <td>0</td>\n",
       "      <td>18</td>\n",
       "    </tr>\n",
       "  </tbody>\n",
       "</table>\n",
       "</div>"
      ],
      "text/plain": [
       "      user_id  distance  duration       date  month   name  age  city  \\\n",
       "6500      700      2516     14.94 2021-01-02      1  Айдар   22  Омск   \n",
       "6501      700       847     16.23 2021-02-01      2  Айдар   22  Омск   \n",
       "6502      700      4004     20.02 2021-02-04      2  Айдар   22  Омск   \n",
       "6503      700      1206      9.78 2021-02-10      2  Айдар   22  Омск   \n",
       "6504      700      3047     17.43 2021-02-14      2  Айдар   22  Омск   \n",
       "\n",
       "     subscription_type  minute_price  start_ride_price  subscription_fee  \\\n",
       "6500              free             8                50                 0   \n",
       "6501              free             8                50                 0   \n",
       "6502              free             8                50                 0   \n",
       "6503              free             8                50                 0   \n",
       "6504              free             8                50                 0   \n",
       "\n",
       "      duration_for_gain  \n",
       "6500                 15  \n",
       "6501                 17  \n",
       "6502                 21  \n",
       "6503                 10  \n",
       "6504                 18  "
      ]
     },
     "execution_count": 30,
     "metadata": {},
     "output_type": "execute_result"
    }
   ],
   "source": [
    "df_free = df.loc[df['subscription_type'] == 'free', :]\n",
    "df_free.head(5)"
   ]
  },
  {
   "cell_type": "code",
   "execution_count": 31,
   "id": "0e2d633a",
   "metadata": {},
   "outputs": [
    {
     "data": {
      "text/html": [
       "<div>\n",
       "<style scoped>\n",
       "    .dataframe tbody tr th:only-of-type {\n",
       "        vertical-align: middle;\n",
       "    }\n",
       "\n",
       "    .dataframe tbody tr th {\n",
       "        vertical-align: top;\n",
       "    }\n",
       "\n",
       "    .dataframe thead th {\n",
       "        text-align: right;\n",
       "    }\n",
       "</style>\n",
       "<table border=\"1\" class=\"dataframe\">\n",
       "  <thead>\n",
       "    <tr style=\"text-align: right;\">\n",
       "      <th></th>\n",
       "      <th>user_id</th>\n",
       "      <th>distance</th>\n",
       "      <th>duration</th>\n",
       "      <th>date</th>\n",
       "      <th>month</th>\n",
       "      <th>name</th>\n",
       "      <th>age</th>\n",
       "      <th>city</th>\n",
       "      <th>subscription_type</th>\n",
       "      <th>minute_price</th>\n",
       "      <th>start_ride_price</th>\n",
       "      <th>subscription_fee</th>\n",
       "      <th>duration_for_gain</th>\n",
       "    </tr>\n",
       "  </thead>\n",
       "  <tbody>\n",
       "    <tr>\n",
       "      <th>0</th>\n",
       "      <td>1</td>\n",
       "      <td>4410</td>\n",
       "      <td>25.60</td>\n",
       "      <td>2021-01-01</td>\n",
       "      <td>1</td>\n",
       "      <td>Кира</td>\n",
       "      <td>22</td>\n",
       "      <td>Тюмень</td>\n",
       "      <td>ultra</td>\n",
       "      <td>6</td>\n",
       "      <td>0</td>\n",
       "      <td>199</td>\n",
       "      <td>26</td>\n",
       "    </tr>\n",
       "    <tr>\n",
       "      <th>1</th>\n",
       "      <td>1</td>\n",
       "      <td>2618</td>\n",
       "      <td>15.82</td>\n",
       "      <td>2021-01-18</td>\n",
       "      <td>1</td>\n",
       "      <td>Кира</td>\n",
       "      <td>22</td>\n",
       "      <td>Тюмень</td>\n",
       "      <td>ultra</td>\n",
       "      <td>6</td>\n",
       "      <td>0</td>\n",
       "      <td>199</td>\n",
       "      <td>16</td>\n",
       "    </tr>\n",
       "    <tr>\n",
       "      <th>2</th>\n",
       "      <td>1</td>\n",
       "      <td>754</td>\n",
       "      <td>6.23</td>\n",
       "      <td>2021-04-20</td>\n",
       "      <td>4</td>\n",
       "      <td>Кира</td>\n",
       "      <td>22</td>\n",
       "      <td>Тюмень</td>\n",
       "      <td>ultra</td>\n",
       "      <td>6</td>\n",
       "      <td>0</td>\n",
       "      <td>199</td>\n",
       "      <td>7</td>\n",
       "    </tr>\n",
       "    <tr>\n",
       "      <th>3</th>\n",
       "      <td>1</td>\n",
       "      <td>2695</td>\n",
       "      <td>18.51</td>\n",
       "      <td>2021-08-11</td>\n",
       "      <td>8</td>\n",
       "      <td>Кира</td>\n",
       "      <td>22</td>\n",
       "      <td>Тюмень</td>\n",
       "      <td>ultra</td>\n",
       "      <td>6</td>\n",
       "      <td>0</td>\n",
       "      <td>199</td>\n",
       "      <td>19</td>\n",
       "    </tr>\n",
       "    <tr>\n",
       "      <th>4</th>\n",
       "      <td>1</td>\n",
       "      <td>4029</td>\n",
       "      <td>26.27</td>\n",
       "      <td>2021-08-28</td>\n",
       "      <td>8</td>\n",
       "      <td>Кира</td>\n",
       "      <td>22</td>\n",
       "      <td>Тюмень</td>\n",
       "      <td>ultra</td>\n",
       "      <td>6</td>\n",
       "      <td>0</td>\n",
       "      <td>199</td>\n",
       "      <td>27</td>\n",
       "    </tr>\n",
       "  </tbody>\n",
       "</table>\n",
       "</div>"
      ],
      "text/plain": [
       "   user_id  distance  duration       date  month  name  age    city  \\\n",
       "0        1      4410     25.60 2021-01-01      1  Кира   22  Тюмень   \n",
       "1        1      2618     15.82 2021-01-18      1  Кира   22  Тюмень   \n",
       "2        1       754      6.23 2021-04-20      4  Кира   22  Тюмень   \n",
       "3        1      2695     18.51 2021-08-11      8  Кира   22  Тюмень   \n",
       "4        1      4029     26.27 2021-08-28      8  Кира   22  Тюмень   \n",
       "\n",
       "  subscription_type  minute_price  start_ride_price  subscription_fee  \\\n",
       "0             ultra             6                 0               199   \n",
       "1             ultra             6                 0               199   \n",
       "2             ultra             6                 0               199   \n",
       "3             ultra             6                 0               199   \n",
       "4             ultra             6                 0               199   \n",
       "\n",
       "   duration_for_gain  \n",
       "0                 26  \n",
       "1                 16  \n",
       "2                  7  \n",
       "3                 19  \n",
       "4                 27  "
      ]
     },
     "execution_count": 31,
     "metadata": {},
     "output_type": "execute_result"
    }
   ],
   "source": [
    "df_ultra = df.loc[df['subscription_type'] == 'ultra', :]\n",
    "df_ultra.head(5)"
   ]
  },
  {
   "cell_type": "markdown",
   "id": "4b0fd5d1",
   "metadata": {},
   "source": [
    "### 4.3 Визуализируйте информацию о расстоянии и времени поездок для пользователей обеих категорий\n",
    "Повторим шаги 3.2.4 и 3.2.5, но для каждой части датафреймов df_free и df_ultra отдельно:"
   ]
  },
  {
   "cell_type": "markdown",
   "id": "6f35c24c",
   "metadata": {},
   "source": [
    "#### 4.3.1 Расстояние"
   ]
  },
  {
   "cell_type": "code",
   "execution_count": 32,
   "id": "be755288",
   "metadata": {},
   "outputs": [
    {
     "data": {
      "image/png": "[encoded data removed]",
      "text/plain": [
       "<Figure size 1500x1000 with 4 Axes>"
      ]
     },
     "metadata": {},
     "output_type": "display_data"
    }
   ],
   "source": [
    "fig, axs = plt.subplots(nrows=2, ncols=2, figsize=(15, 10)) \n",
    "plt.subplots_adjust(wspace=0.3, hspace=0.3)\n",
    "\n",
    "axs[0, 0].hist(df_free['distance'], bins=100) # Вывожу гистограмму\n",
    "axs[0, 0].set_title('Расстояние без подписки' + ' hist') \n",
    "axs[0, 0].set_xlabel('Распределение расстояния') \n",
    "axs[0, 0].set_ylabel('Расстояние') \n",
    "\n",
    "axs[0, 1].boxplot(df_free['distance']) # Вывожу boxplot\n",
    "axs[0, 1].set_title('Расстояние без подписки' + ' boxplot') \n",
    "axs[0, 1].set_ylabel('Расстояние') \n",
    "\n",
    "axs[1, 0].hist(df_ultra['distance'], bins=100) # Вывожу гистограмму\n",
    "axs[1, 0].set_title('Расстояние по тарифу Ultra' + ' hist') \n",
    "axs[1, 0].set_xlabel('Распределение расстояния') \n",
    "axs[1, 0].set_ylabel('Расстояние') \n",
    "\n",
    "axs[1, 1].boxplot(df_ultra['distance']) # Вывожу boxplot\n",
    "axs[1, 1].set_title('Расстояние по тарифу Ultra' + ' boxplot') \n",
    "axs[1, 1].set_ylabel('Расстояние'); "
   ]
  },
  {
   "cell_type": "markdown",
   "id": "c5a75738",
   "metadata": {},
   "source": [
    "#### 4.3.2 Продолжительность поездки"
   ]
  },
  {
   "cell_type": "code",
   "execution_count": 33,
   "id": "7a2f4272",
   "metadata": {},
   "outputs": [
    {
     "data": {
      "image/png": "[encoded data removed]",
      "text/plain": [
       "<Figure size 1500x1000 with 4 Axes>"
      ]
     },
     "metadata": {},
     "output_type": "display_data"
    }
   ],
   "source": [
    "fig, axs = plt.subplots(nrows=2, ncols=2, figsize=(15, 10))\n",
    "plt.subplots_adjust(wspace=0.3, hspace=0.3) \n",
    "\n",
    "axs[0, 0].hist(df_free['duration'], bins=100) # Вывожу гистограмму\n",
    "axs[0, 0].set_title('Расстояние без подписки' + ' hist') \n",
    "axs[0, 0].set_xlabel('Распределение расстояния')\n",
    "axs[0, 0].set_ylabel('Расстояние') \n",
    "\n",
    "axs[0, 1].boxplot(df_free['duration']) # Вывожу boxplot\n",
    "axs[0, 1].set_title('Расстояние без подписки' + ' boxplot') \n",
    "axs[0, 1].set_ylabel('Расстояние')\n",
    "\n",
    "axs[1, 0].hist(df_ultra['duration'], bins=100) # Вывожу гистограмму\n",
    "axs[1, 0].set_title('Расстояние по тарифу Ultra' + ' hist') \n",
    "axs[1, 0].set_xlabel('Распределение расстояния') \n",
    "axs[1, 0].set_ylabel('Расстояние') \n",
    "\n",
    "axs[1, 1].boxplot(df_ultra['duration']) # Вывожу boxplot\n",
    "axs[1, 1].set_title('Расстояние по тарифу Ultra' + ' boxplot') \n",
    "axs[1, 1].set_ylabel('Расстояние'); "
   ]
  },
  {
   "cell_type": "markdown",
   "id": "2844397a",
   "metadata": {},
   "source": [
    "Основная наблюдаемая тенденция -- разброс значений и по продолжительности, и по дистанции у пользователей с подпиской меньше -- значения сильнее сфокусированы вокруг медианы  \n",
    "\n",
    "||**free**|**Ultra**|\n",
    "|----------|----------|----------|\n",
    "| **distance**|1523|776|\n",
    "|**duration**|8.55|7.35|\n"
   ]
  },
  {
   "cell_type": "markdown",
   "id": "50885073",
   "metadata": {},
   "source": [
    "## Шаг 5. Подсчёт выручки"
   ]
  },
  {
   "cell_type": "markdown",
   "id": "9dda2301",
   "metadata": {},
   "source": [
    "### 5.1 Создайте датафрейм с агрегированными данными о поездках"
   ]
  },
  {
   "cell_type": "code",
   "execution_count": 34,
   "id": "6a1ea32e",
   "metadata": {},
   "outputs": [],
   "source": [
    "# создаем df_cost_p_m на основе сводной таблицы\n",
    "df_cost_p_m = df.pivot_table(index=['user_id', 'month'], aggfunc=['sum', 'count'], values=['distance', 'duration_for_gain'])\n",
    "# выравниваем названия колонок\n",
    "df_cost_p_m.columns = ['sum_distance', 'sum_duration', 'count_rides', 'count']\n",
    "# добавляем тариф\n",
    "df_cost_p_m = df_cost_p_m.merge(right=d_users[['user_id', 'subscription_type']], \\\n",
    "                                how='left', left_on='user_id', right_on='user_id')\n",
    "# добавляем инфу по тарифу\n",
    "df_cost_p_m = df_cost_p_m.merge(right=d_subscriptions, \\\n",
    "                                how='left', left_on='subscription_type', right_on='subscription_type')\n",
    "# кладем многомерный индекс в колонки\n",
    "df_cost_p_m.reset_index(inplace=True)\n",
    "# удаляем лишнее\n",
    "df_cost_p_m = df_cost_p_m.drop(columns=['index', 'count'])"
   ]
  },
  {
   "cell_type": "code",
   "execution_count": 35,
   "id": "06d29b9b",
   "metadata": {},
   "outputs": [
    {
     "data": {
      "text/html": [
       "<div>\n",
       "<style scoped>\n",
       "    .dataframe tbody tr th:only-of-type {\n",
       "        vertical-align: middle;\n",
       "    }\n",
       "\n",
       "    .dataframe tbody tr th {\n",
       "        vertical-align: top;\n",
       "    }\n",
       "\n",
       "    .dataframe thead th {\n",
       "        text-align: right;\n",
       "    }\n",
       "</style>\n",
       "<table border=\"1\" class=\"dataframe\">\n",
       "  <thead>\n",
       "    <tr style=\"text-align: right;\">\n",
       "      <th></th>\n",
       "      <th>user_id</th>\n",
       "      <th>sum_distance</th>\n",
       "      <th>sum_duration</th>\n",
       "      <th>count_rides</th>\n",
       "      <th>subscription_type</th>\n",
       "      <th>minute_price</th>\n",
       "      <th>start_ride_price</th>\n",
       "      <th>subscription_fee</th>\n",
       "    </tr>\n",
       "  </thead>\n",
       "  <tbody>\n",
       "    <tr>\n",
       "      <th>0</th>\n",
       "      <td>1</td>\n",
       "      <td>7028</td>\n",
       "      <td>42</td>\n",
       "      <td>2</td>\n",
       "      <td>ultra</td>\n",
       "      <td>6</td>\n",
       "      <td>0</td>\n",
       "      <td>199</td>\n",
       "    </tr>\n",
       "    <tr>\n",
       "      <th>1</th>\n",
       "      <td>1</td>\n",
       "      <td>754</td>\n",
       "      <td>7</td>\n",
       "      <td>1</td>\n",
       "      <td>ultra</td>\n",
       "      <td>6</td>\n",
       "      <td>0</td>\n",
       "      <td>199</td>\n",
       "    </tr>\n",
       "    <tr>\n",
       "      <th>2</th>\n",
       "      <td>1</td>\n",
       "      <td>6724</td>\n",
       "      <td>46</td>\n",
       "      <td>2</td>\n",
       "      <td>ultra</td>\n",
       "      <td>6</td>\n",
       "      <td>0</td>\n",
       "      <td>199</td>\n",
       "    </tr>\n",
       "    <tr>\n",
       "      <th>3</th>\n",
       "      <td>1</td>\n",
       "      <td>5810</td>\n",
       "      <td>32</td>\n",
       "      <td>2</td>\n",
       "      <td>ultra</td>\n",
       "      <td>6</td>\n",
       "      <td>0</td>\n",
       "      <td>199</td>\n",
       "    </tr>\n",
       "    <tr>\n",
       "      <th>4</th>\n",
       "      <td>1</td>\n",
       "      <td>7004</td>\n",
       "      <td>56</td>\n",
       "      <td>3</td>\n",
       "      <td>ultra</td>\n",
       "      <td>6</td>\n",
       "      <td>0</td>\n",
       "      <td>199</td>\n",
       "    </tr>\n",
       "    <tr>\n",
       "      <th>5</th>\n",
       "      <td>1</td>\n",
       "      <td>6752</td>\n",
       "      <td>28</td>\n",
       "      <td>2</td>\n",
       "      <td>ultra</td>\n",
       "      <td>6</td>\n",
       "      <td>0</td>\n",
       "      <td>199</td>\n",
       "    </tr>\n",
       "    <tr>\n",
       "      <th>6</th>\n",
       "      <td>2</td>\n",
       "      <td>10188</td>\n",
       "      <td>63</td>\n",
       "      <td>3</td>\n",
       "      <td>ultra</td>\n",
       "      <td>6</td>\n",
       "      <td>0</td>\n",
       "      <td>199</td>\n",
       "    </tr>\n",
       "    <tr>\n",
       "      <th>7</th>\n",
       "      <td>2</td>\n",
       "      <td>6165</td>\n",
       "      <td>40</td>\n",
       "      <td>2</td>\n",
       "      <td>ultra</td>\n",
       "      <td>6</td>\n",
       "      <td>0</td>\n",
       "      <td>199</td>\n",
       "    </tr>\n",
       "    <tr>\n",
       "      <th>8</th>\n",
       "      <td>2</td>\n",
       "      <td>3255</td>\n",
       "      <td>14</td>\n",
       "      <td>1</td>\n",
       "      <td>ultra</td>\n",
       "      <td>6</td>\n",
       "      <td>0</td>\n",
       "      <td>199</td>\n",
       "    </tr>\n",
       "    <tr>\n",
       "      <th>9</th>\n",
       "      <td>2</td>\n",
       "      <td>6781</td>\n",
       "      <td>48</td>\n",
       "      <td>2</td>\n",
       "      <td>ultra</td>\n",
       "      <td>6</td>\n",
       "      <td>0</td>\n",
       "      <td>199</td>\n",
       "    </tr>\n",
       "  </tbody>\n",
       "</table>\n",
       "</div>"
      ],
      "text/plain": [
       "   user_id  sum_distance  sum_duration  count_rides subscription_type  \\\n",
       "0        1          7028            42            2             ultra   \n",
       "1        1           754             7            1             ultra   \n",
       "2        1          6724            46            2             ultra   \n",
       "3        1          5810            32            2             ultra   \n",
       "4        1          7004            56            3             ultra   \n",
       "5        1          6752            28            2             ultra   \n",
       "6        2         10188            63            3             ultra   \n",
       "7        2          6165            40            2             ultra   \n",
       "8        2          3255            14            1             ultra   \n",
       "9        2          6781            48            2             ultra   \n",
       "\n",
       "   minute_price  start_ride_price  subscription_fee  \n",
       "0             6                 0               199  \n",
       "1             6                 0               199  \n",
       "2             6                 0               199  \n",
       "3             6                 0               199  \n",
       "4             6                 0               199  \n",
       "5             6                 0               199  \n",
       "6             6                 0               199  \n",
       "7             6                 0               199  \n",
       "8             6                 0               199  \n",
       "9             6                 0               199  "
      ]
     },
     "execution_count": 35,
     "metadata": {},
     "output_type": "execute_result"
    }
   ],
   "source": [
    "# смотрим, что получилось:\n",
    "df_cost_p_m.head(10)"
   ]
  },
  {
   "cell_type": "markdown",
   "id": "2a9c6238",
   "metadata": {},
   "source": [
    "### 5.2 В этот же датафрейм добавьте столбец с помесячной выручкой, которую принёс каждый пользователь"
   ]
  },
  {
   "cell_type": "markdown",
   "id": "8da5a96a",
   "metadata": {},
   "source": [
    "Заполняем столбик profit_p_m:"
   ]
  },
  {
   "cell_type": "code",
   "execution_count": 36,
   "id": "3f0ee0da",
   "metadata": {},
   "outputs": [
    {
     "name": "stdout",
     "output_type": "stream",
     "text": [
      "Общая выручка по выборке: 3872383 рублей\n"
     ]
    },
    {
     "data": {
      "text/html": [
       "<div>\n",
       "<style scoped>\n",
       "    .dataframe tbody tr th:only-of-type {\n",
       "        vertical-align: middle;\n",
       "    }\n",
       "\n",
       "    .dataframe tbody tr th {\n",
       "        vertical-align: top;\n",
       "    }\n",
       "\n",
       "    .dataframe thead th {\n",
       "        text-align: right;\n",
       "    }\n",
       "</style>\n",
       "<table border=\"1\" class=\"dataframe\">\n",
       "  <thead>\n",
       "    <tr style=\"text-align: right;\">\n",
       "      <th></th>\n",
       "      <th>user_id</th>\n",
       "      <th>sum_distance</th>\n",
       "      <th>sum_duration</th>\n",
       "      <th>count_rides</th>\n",
       "      <th>subscription_type</th>\n",
       "      <th>minute_price</th>\n",
       "      <th>start_ride_price</th>\n",
       "      <th>subscription_fee</th>\n",
       "      <th>profit_p_m</th>\n",
       "    </tr>\n",
       "  </thead>\n",
       "  <tbody>\n",
       "    <tr>\n",
       "      <th>0</th>\n",
       "      <td>1</td>\n",
       "      <td>7028</td>\n",
       "      <td>42</td>\n",
       "      <td>2</td>\n",
       "      <td>ultra</td>\n",
       "      <td>6</td>\n",
       "      <td>0</td>\n",
       "      <td>199</td>\n",
       "      <td>451</td>\n",
       "    </tr>\n",
       "    <tr>\n",
       "      <th>1</th>\n",
       "      <td>1</td>\n",
       "      <td>754</td>\n",
       "      <td>7</td>\n",
       "      <td>1</td>\n",
       "      <td>ultra</td>\n",
       "      <td>6</td>\n",
       "      <td>0</td>\n",
       "      <td>199</td>\n",
       "      <td>241</td>\n",
       "    </tr>\n",
       "    <tr>\n",
       "      <th>2</th>\n",
       "      <td>1</td>\n",
       "      <td>6724</td>\n",
       "      <td>46</td>\n",
       "      <td>2</td>\n",
       "      <td>ultra</td>\n",
       "      <td>6</td>\n",
       "      <td>0</td>\n",
       "      <td>199</td>\n",
       "      <td>475</td>\n",
       "    </tr>\n",
       "    <tr>\n",
       "      <th>3</th>\n",
       "      <td>1</td>\n",
       "      <td>5810</td>\n",
       "      <td>32</td>\n",
       "      <td>2</td>\n",
       "      <td>ultra</td>\n",
       "      <td>6</td>\n",
       "      <td>0</td>\n",
       "      <td>199</td>\n",
       "      <td>391</td>\n",
       "    </tr>\n",
       "    <tr>\n",
       "      <th>4</th>\n",
       "      <td>1</td>\n",
       "      <td>7004</td>\n",
       "      <td>56</td>\n",
       "      <td>3</td>\n",
       "      <td>ultra</td>\n",
       "      <td>6</td>\n",
       "      <td>0</td>\n",
       "      <td>199</td>\n",
       "      <td>535</td>\n",
       "    </tr>\n",
       "    <tr>\n",
       "      <th>5</th>\n",
       "      <td>1</td>\n",
       "      <td>6752</td>\n",
       "      <td>28</td>\n",
       "      <td>2</td>\n",
       "      <td>ultra</td>\n",
       "      <td>6</td>\n",
       "      <td>0</td>\n",
       "      <td>199</td>\n",
       "      <td>367</td>\n",
       "    </tr>\n",
       "    <tr>\n",
       "      <th>6</th>\n",
       "      <td>2</td>\n",
       "      <td>10188</td>\n",
       "      <td>63</td>\n",
       "      <td>3</td>\n",
       "      <td>ultra</td>\n",
       "      <td>6</td>\n",
       "      <td>0</td>\n",
       "      <td>199</td>\n",
       "      <td>577</td>\n",
       "    </tr>\n",
       "    <tr>\n",
       "      <th>7</th>\n",
       "      <td>2</td>\n",
       "      <td>6165</td>\n",
       "      <td>40</td>\n",
       "      <td>2</td>\n",
       "      <td>ultra</td>\n",
       "      <td>6</td>\n",
       "      <td>0</td>\n",
       "      <td>199</td>\n",
       "      <td>439</td>\n",
       "    </tr>\n",
       "    <tr>\n",
       "      <th>8</th>\n",
       "      <td>2</td>\n",
       "      <td>3255</td>\n",
       "      <td>14</td>\n",
       "      <td>1</td>\n",
       "      <td>ultra</td>\n",
       "      <td>6</td>\n",
       "      <td>0</td>\n",
       "      <td>199</td>\n",
       "      <td>283</td>\n",
       "    </tr>\n",
       "    <tr>\n",
       "      <th>9</th>\n",
       "      <td>2</td>\n",
       "      <td>6781</td>\n",
       "      <td>48</td>\n",
       "      <td>2</td>\n",
       "      <td>ultra</td>\n",
       "      <td>6</td>\n",
       "      <td>0</td>\n",
       "      <td>199</td>\n",
       "      <td>487</td>\n",
       "    </tr>\n",
       "  </tbody>\n",
       "</table>\n",
       "</div>"
      ],
      "text/plain": [
       "   user_id  sum_distance  sum_duration  count_rides subscription_type  \\\n",
       "0        1          7028            42            2             ultra   \n",
       "1        1           754             7            1             ultra   \n",
       "2        1          6724            46            2             ultra   \n",
       "3        1          5810            32            2             ultra   \n",
       "4        1          7004            56            3             ultra   \n",
       "5        1          6752            28            2             ultra   \n",
       "6        2         10188            63            3             ultra   \n",
       "7        2          6165            40            2             ultra   \n",
       "8        2          3255            14            1             ultra   \n",
       "9        2          6781            48            2             ultra   \n",
       "\n",
       "   minute_price  start_ride_price  subscription_fee  profit_p_m  \n",
       "0             6                 0               199         451  \n",
       "1             6                 0               199         241  \n",
       "2             6                 0               199         475  \n",
       "3             6                 0               199         391  \n",
       "4             6                 0               199         535  \n",
       "5             6                 0               199         367  \n",
       "6             6                 0               199         577  \n",
       "7             6                 0               199         439  \n",
       "8             6                 0               199         283  \n",
       "9             6                 0               199         487  "
      ]
     },
     "execution_count": 36,
     "metadata": {},
     "output_type": "execute_result"
    }
   ],
   "source": [
    "df_cost_p_m['profit_p_m'] = df_cost_p_m['minute_price'] * df_cost_p_m['sum_duration'] + \\\n",
    "df_cost_p_m['count_rides'] * df_cost_p_m['start_ride_price'] + df_cost_p_m['subscription_fee']\n",
    "\n",
    "# смотрим, что получилось:\n",
    "print('Общая выручка по выборке:', df_cost_p_m['profit_p_m'].sum(), 'рублей')\n",
    "df_cost_p_m.head(10)"
   ]
  },
  {
   "cell_type": "markdown",
   "id": "1b043e8c",
   "metadata": {},
   "source": [
    "## Шаг 6. Проверка гипотез"
   ]
  },
  {
   "cell_type": "markdown",
   "id": "d91eb3d4",
   "metadata": {},
   "source": [
    "### 6.1 Подписка -> больше продолжительность?"
   ]
  },
  {
   "cell_type": "markdown",
   "id": "bcddf99c",
   "metadata": {},
   "source": [
    "Важно понять, тратят ли пользователи с подпиской больше времени на поездки? Если да, то пользователи с подпиской могут быть «выгоднее» для компании.\n",
    "\n",
    "**Нулевая гипотеза:**\n",
    "\n",
    "Среднее время одной поездки пользователя с подпиской и без примерно равно\n",
    "\n",
    "**Альтернативная гипотеза:**\n",
    "\n",
    "Среднее время одной поездки пользователя с подпиской боольше среднего времени без подписки\n",
    "\n",
    "**Метод:**\n",
    "\n",
    "scipy.stats.ttest_ind() -- выборки df_ultra и df_free независимы\n",
    "\n",
    "alternative='greater'"
   ]
  },
  {
   "cell_type": "code",
   "execution_count": 37,
   "id": "ec76e1de",
   "metadata": {},
   "outputs": [
    {
     "name": "stdout",
     "output_type": "stream",
     "text": [
      "p-value: 4.68327274119323e-28\n",
      "Средняя продолжительность по тарифу Ultra: 18.54\n",
      "Средняя продолжительность без тарифа: 17.53\n",
      "Отвергаем нулевую гипотезу\n"
     ]
    }
   ],
   "source": [
    "results = st.ttest_ind(df_ultra['duration'], df_free['duration'], alternative='greater')\n",
    "print(f'p-value: {results.pvalue}')\n",
    "print(f'Средняя продолжительность по тарифу Ultra: {df_ultra.duration.mean():.2f}')\n",
    "print(f'Средняя продолжительность без тарифа: {df_free.duration.mean():.2f}')\n",
    "\n",
    "# проверяем p-value\n",
    "if results.pvalue < ALPHA:\n",
    "    print('Отвергаем нулевую гипотезу')\n",
    "else:\n",
    "    print('Нет оснований отвергнуть нулевую гипотезу')"
   ]
  },
  {
   "cell_type": "markdown",
   "id": "1cc2e26e",
   "metadata": {},
   "source": [
    "**Вывод:** Есть основания говорить, что пользователи с подпиской имеют большую продолжительность поездки"
   ]
  },
  {
   "cell_type": "markdown",
   "id": "f63e7609",
   "metadata": {},
   "source": [
    "### 6.2 Подписка => (distance < 3130)?"
   ]
  },
  {
   "cell_type": "markdown",
   "id": "64cf83f7",
   "metadata": {},
   "source": [
    "Расстояние одной поездки в 3130 метров — оптимальное с точки зрения износа самоката. Можно ли сказать, что среднее расстояние, которое проезжают пользователи с подпиской за одну поездку, не превышает 3130 метров? Проверьте гипотезу и сделайте выводы.\n",
    "\n",
    "**Нулевая гипотеза:**\n",
    "\n",
    "Среднее расстояние одной поездки с подпиской соответствует рекомендованному 3130 метров\n",
    "\n",
    "**Альтернативная гипотеза:**\n",
    "\n",
    "Среднее расстояние одной поездки с подпиской превышает рекомендованное 3130 метров\n",
    "\n",
    "**Метод:**\n",
    "\n",
    "scipy.stats.ttest_1samp() -- проверка односторонней гипотезы\n",
    "\n",
    "alternative='greater'"
   ]
  },
  {
   "cell_type": "code",
   "execution_count": 38,
   "id": "2cee03bb",
   "metadata": {},
   "outputs": [
    {
     "name": "stdout",
     "output_type": "stream",
     "text": [
      "p-value: 0.9195649894697724\n",
      "Нет оснований отвергнуть нулевую гипотезу\n"
     ]
    }
   ],
   "source": [
    "scooter_wear = 3130\n",
    "\n",
    "results = st.ttest_1samp(df_ultra['distance'], scooter_wear, alternative='greater')\n",
    "print(f'p-value: {results.pvalue}')\n",
    "\n",
    "# проверяем p-value\n",
    "if results.pvalue < ALPHA:\n",
    "    print('Отвергаем нулевую гипотезу')\n",
    "else:\n",
    "    print('Нет оснований отвергнуть нулевую гипотезу')"
   ]
  },
  {
   "cell_type": "markdown",
   "id": "6af7a3d5",
   "metadata": {},
   "source": [
    "**Вывод:** Нет оснований говорить, что пользователи с подпиской проезжают больше рекомендованного расстояния"
   ]
  },
  {
   "cell_type": "markdown",
   "id": "8d779edb",
   "metadata": {},
   "source": [
    "### 6.3 profit_p_m для ultra > profit_p_m для free?"
   ]
  },
  {
   "cell_type": "markdown",
   "id": "86d597b9",
   "metadata": {},
   "source": [
    "Проверьте гипотезу о том, будет ли помесячная выручка от пользователей с подпиской по месяцам выше, чем выручка от пользователей без подписки. \n",
    "\n",
    "**Нулевая гипотеза:**\n",
    "\n",
    "Средняя ежемесячная выручка без подписки равна средней ежемесячной выручке для пользователей ultra\n",
    "\n",
    "**Альтернативная гипотеза:**\n",
    "\n",
    "Средняя ежемесячная выручка для пользователей ultra больше, чтем для пользователей без подписки\n",
    "\n",
    "**Метод:**\n",
    "\n",
    "scipy.stats.ttest_ind() -- выборки ultra и free независимы\n",
    "\n",
    "alternative='greater'"
   ]
  },
  {
   "cell_type": "markdown",
   "id": "9dea7808",
   "metadata": {},
   "source": [
    "Проверяем гипотезу:"
   ]
  },
  {
   "cell_type": "code",
   "execution_count": 39,
   "id": "2f2aa5c2",
   "metadata": {},
   "outputs": [
    {
     "name": "stdout",
     "output_type": "stream",
     "text": [
      "p-value: 1.957394033609321e-30\n",
      "Средняя выручка по тарифу Ultra: 362.7260092653872\n",
      "Средняя выручка без тарифа: 329.2664400768435\n",
      "Отвергаем нулевую гипотезу\n"
     ]
    }
   ],
   "source": [
    "results = st.ttest_ind(df_cost_p_m.loc[df_cost_p_m['subscription_type'] == 'ultra', 'profit_p_m'],\\\n",
    "                       df_cost_p_m.loc[df_cost_p_m['subscription_type'] == 'free', 'profit_p_m'], alternative='greater')\n",
    "\n",
    "print(f'p-value: {results.pvalue}')\n",
    "print('Средняя выручка по тарифу Ultra:', df_cost_p_m.loc[df_cost_p_m['subscription_type'] == 'ultra', 'profit_p_m'].mean())\n",
    "print('Средняя выручка без тарифа:', df_cost_p_m.loc[df_cost_p_m['subscription_type'] == 'free', 'profit_p_m'].mean())\n",
    "\n",
    "# проверяем p-value\n",
    "if results.pvalue < ALPHA:\n",
    "    print('Отвергаем нулевую гипотезу')\n",
    "else:\n",
    "    print('Нет оснований отвергнуть нулевую гипотезу')"
   ]
  },
  {
   "cell_type": "markdown",
   "id": "c3973443",
   "metadata": {},
   "source": [
    "**Вывод:** Есть основания говорить, что пользователи с подпиской приносят бОльшую ежемесячную выручку"
   ]
  },
  {
   "cell_type": "markdown",
   "id": "f7b79621",
   "metadata": {},
   "source": [
    "### 6.4 Обновление сервера -> снижение количества обращений?"
   ]
  },
  {
   "cell_type": "markdown",
   "id": "08e36637",
   "metadata": {},
   "source": [
    "Представьте такую ситуацию: техническая команда сервиса обновила сервера, с которыми взаимодействует мобильное приложение. Она надеется, что из-за этого количество обращений в техподдержку значимо снизилось. Некоторый файл содержит для каждого пользователя данные о количестве обращений до обновления и после него. Какой тест вам понадобился бы для проверки этой гипотезы?"
   ]
  },
  {
   "cell_type": "markdown",
   "id": "9966f97b",
   "metadata": {},
   "source": [
    "**Нулевая гипотеза:**\n",
    "\n",
    "Количество обращений осталось прежним\n",
    "\n",
    "**Альтернативная гипотеза:**\n",
    "\n",
    "Количество обращений уменьшилось\n",
    "\n",
    "**Метод:**\n",
    "\n",
    "scipy.stats.ttest_rel() -- **NB!** Выборку \"после\" следует подготовить по тем же пользователям, что и \"до\"\n",
    "\n",
    "alternative='greater'"
   ]
  },
  {
   "cell_type": "markdown",
   "id": "323114d7",
   "metadata": {},
   "source": [
    "## 7. Итоги:\n",
    "В ходе исследования предоставленной выборки поездок с помощью сервиса аренды самокатов GoFast:\n",
    "1. Получены и загружены файл с данными о поездках, справчоник пользователей и справочник тарифов\n",
    "2. Данные были предобработаны -- устранены дубликаты, устранены противоречивые значения, типы данных скорректированы\n",
    "3. Исследованы атрибуты пользователей и поездок\n",
    "4. Расчитана ежемесячная выручка по пользователям\n",
    "5. Исследованы гипотезы, что поможет в выборе путей развития сервиса\n",
    "\n",
    "**Основные выводы:**\n",
    "\n",
    "1. **Рекомендации в части данных**\n",
    "* **users_go**\n",
    "    - Следует определить причины задвоения данных в справочнике пользователей\n",
    "* **rides_go**\n",
    "    - Обнаружено 95 записей с длительностью 0,5 минут, но с расстоянием от четырех километров, следует определить причину некорректных значений в колонке \"duration\"\n",
    "        \n",
    "2. **Результаты исследования:**\n",
    "* **Исследования параметров выборки**\n",
    "    - **Частота встречаемости городов**  \n",
    "    И пользователи, и поездки сравнительно равномерно распределены по городам в рамках выборки\n",
    "        + Больше всего пользователей в Пятигорске -- 204 человека\n",
    "        + Меньше всего пользователей в Москве --  168 человека  \n",
    "    - **Соотношение пользователей с подпиской и без подписки**  \n",
    "        + Пользователи без подписки и пользователи с Ultra распределны примерно поровну -- 54% против 46%, но все же с доминированием пользователей без подписки\n",
    "    - **Возраст пользователей**\n",
    "        + Большинство пользователей сервиса в пределах 22 и 28-и лет, особых выбросов нет\n",
    "    - **Расстояние, которое пользователь преодолел за одну поездку**\n",
    "        + Большинство поездок от 2,5км до 3.1км\n",
    "        + Наблюдаются логичные выбросы до семи километров, тут вопросов особых нет -- ингода на самокате проезжаешь сравнительно внушительное расстояние, но случаи такие редки\n",
    "        + Наблюдается локальный максимум до 1,5км, похоже на поездки по территории достопримечательностей -- они короче, но длительнее обычно\n",
    "    - **Продолжительность поездок**\n",
    "        + Большинство поездок длятся от 14 до 22-х минут\n",
    "        + Существуют выбросы -- длительные поездки больше получаса, но это нормально сходится со вторым выводом по распределению расстояния\n",
    "        \n",
    "* **Исследования параметров выборки (отдельно -- с подпиской и без)**\n",
    "    - Поездки по подпискам распределены иначе, чем пользователи, разрыв между \"Без подписки\" и \"С Ultra\" вырос -- 64% против 36%\n",
    "    - Основная наблюдаемая тенденция -- разброс значений и по продолжительности, и по дистанции меньше у пользователей с подпиской -- значения сильнее сфокусированы вокруг медианы:  \n",
    "    \n",
    "||**free**|**Ultra**|\n",
    "|---|---|---|\n",
    "| **distance**|1523|776|\n",
    "|**duration**|8.55|7.35|\n",
    "    \n",
    "\n",
    "3. **Проверка гипотез**\n",
    "* **Тратят ли пользователи с подпиской больше времени на поездки?**  \n",
    "    **Вывод:** Есть основания говорить, что пользователи с подпиской имеют большую продолжительность поездки  \n",
    "* **Можно ли сказать, что среднее расстояние, которое проезжают пользователи с подпиской за одну поездку, не превышает 3130 метров?**  \n",
    "    **Вывод:** Нет оснований говорить, что пользователи с подпиской проезжают больше рекомендованного расстояния  \n",
    "* **Будет ли помесячная выручка от пользователей с подпиской по месяцам выше, чем выручка от пользователей без подписки?**  \n",
    "    **Вывод:** Есть основания говорить, что пользователи с подпиской приносят бОльшую ежемесячную выручку"
   ]
  }
 ],
 "metadata": {
  "kernelspec": {
   "display_name": "Python 3 (ipykernel)",
   "language": "python",
   "name": "python3"
  },
  "language_info": {
   "codemirror_mode": {
    "name": "ipython",
    "version": 3
   },
   "file_extension": ".py",
   "mimetype": "text/x-python",
   "name": "python",
   "nbconvert_exporter": "python",
   "pygments_lexer": "ipython3",
   "version": "3.11.5"
  },
  "toc": {
   "base_numbering": 1,
   "nav_menu": {},
   "number_sections": true,
   "sideBar": true,
   "skip_h1_title": true,
   "title_cell": "Table of Contents",
   "title_sidebar": "Contents",
   "toc_cell": false,
   "toc_position": {},
   "toc_section_display": true,
   "toc_window_display": false
  }
 },
 "nbformat": 4,
 "nbformat_minor": 5
}
