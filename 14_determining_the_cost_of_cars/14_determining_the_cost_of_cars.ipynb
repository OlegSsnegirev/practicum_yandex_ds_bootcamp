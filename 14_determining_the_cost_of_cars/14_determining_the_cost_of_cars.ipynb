{
 "cells": [
  {
   "cell_type": "markdown",
   "metadata": {},
   "source": [
    "# Определение стоимости автомобилей"
   ]
  },
  {
   "cell_type": "markdown",
   "metadata": {},
   "source": [
    "Текущее исследование производится в интересах сервиса по продаже автомобиля, где идет разработка приложения с функцией определения рыночной стоимости автомобиля.\n",
    "\n",
    "**Цель исследования:** построить модель, которая с достаточной точностью предсказывала бы для клиентов стоимость автомобиля по предложенным параметрам\n",
    "\n",
    "Предоставлена выгрузка объявлений из сервиса по продвжи автомобиля, где содержатся данные о технических характеристиках, комплектации и ценах других автомобилей.\n",
    "\n",
    "**Ограничения исследования:**\n",
    "1. Заказчику важны:\n",
    "    - качество предсказания\n",
    "    - скорость предсказания\n",
    "    - время обучения\n",
    "2. Следует использовать несколько различных моделей одна из которых — LightGBM, как минимум одна — не бустинг\n",
    "3. Значение метрики RMSE должно быть меньше 2500\n",
    "\n",
    "**Ход исследования:**  \n",
    "Наше исследование будет проходить в шесть этапов:  \n",
    "1. Загрузка, обзор и предобработка данных\n",
    "2. Подготовка выборок под различные модели\n",
    "3. Обучение моделей и подбор гиперпараметров\n",
    "4. Выбор модели исходя из значения RMSE и скорости обучения и предсказания\n",
    "5. Тестирование выбранной модели и проверка ее на адексатность\n",
    "6. Подготовка общего вывода\n",
    "\n",
    "\n",
    "**Описание данных**  \n",
    "* **Признаки**  \n",
    "    - **DateCrawled** — дата скачивания анкеты из базы  \n",
    "    - **VehicleType** — тип автомобильного кузова  \n",
    "    - **RegistrationYear** — год регистрации автомобиля  \n",
    "    - **Gearbox** — тип коробки передач  \n",
    "    - **Power** — мощность (л.с.)  \n",
    "    - **Model** — модель автомобиля  \n",
    "    - **Kilometer** — пробег (км)  \n",
    "    - **RegistrationMonth** — месяц регистрации автомобиля  \n",
    "    - **FuelType** — тип топлива  \n",
    "    - **Brand** — марка автомобиля  \n",
    "    - **Repaired** — была машина в ремонте или нет  \n",
    "    - **DateCreated** — дата создания анкеты  \n",
    "    - **NumberOfPictures** — количество фотографий автомобиля  \n",
    "    - **PostalCode** — почтовый индекс владельца анкеты (пользователя)  \n",
    "    - **LastSeen** — дата последней активности пользователя  \n",
    "* **Целевой признак**  \n",
    "    - **Price** — цена (евро)  "
   ]
  },
  {
   "cell_type": "markdown",
   "metadata": {},
   "source": [
    "Для начала импортируем библиотеки и зафиксируем глобальные константы:"
   ]
  },
  {
   "cell_type": "code",
   "execution_count": 1,
   "metadata": {},
   "outputs": [],
   "source": [
    "# pip install catboost"
   ]
  },
  {
   "cell_type": "code",
   "execution_count": 2,
   "metadata": {},
   "outputs": [],
   "source": [
    "# pip install lightgbm"
   ]
  },
  {
   "cell_type": "code",
   "execution_count": 3,
   "metadata": {},
   "outputs": [],
   "source": [
    "# ! pip install -Uq scikit-learn\n",
    "# ! pip install phik -q"
   ]
  },
  {
   "cell_type": "code",
   "execution_count": 4,
   "metadata": {},
   "outputs": [],
   "source": [
    "import pandas as pd\n",
    "import numpy as np\n",
    "import warnings  \n",
    "import time \n",
    "import re  # регулярки\n",
    "import phik\n",
    "\n",
    "import seaborn as sns  \n",
    "import matplotlib.pyplot as plt  \n",
    "\n",
    "from sklearn.metrics import mean_squared_error\n",
    "from sklearn.metrics import r2_score\n",
    "from sklearn.metrics import make_scorer  \n",
    "\n",
    "from sklearn.model_selection import train_test_split \n",
    "from sklearn.preprocessing import StandardScaler\n",
    "from sklearn.preprocessing import OrdinalEncoder \n",
    "from sklearn.preprocessing import OneHotEncoder \n",
    "\n",
    "from sklearn.tree import DecisionTreeRegressor  \n",
    "from sklearn.linear_model import LinearRegression \n",
    "from catboost import CatBoostRegressor \n",
    "from lightgbm import LGBMRegressor\n",
    "\n",
    "from sklearn.model_selection import RandomizedSearchCV\n",
    "from sklearn.dummy import DummyRegressor"
   ]
  },
  {
   "cell_type": "code",
   "execution_count": 5,
   "metadata": {},
   "outputs": [],
   "source": [
    "# Общие константы:\n",
    "MODE = '' \n",
    "MODE = 'check' \n",
    "# Константа-рычаг для проверки работы. Включает оптимальные гиперпараметры для моделей и выключает логирование. \n",
    "# Если закомментить, то будет включен перерасчет. \n",
    "# MODE = 'check' -- включено.\n",
    "# Всё остальное -- выключено.\n",
    "\n",
    "RAND_FIX = 12345 # Зафиксируем random_state"
   ]
  },
  {
   "cell_type": "code",
   "execution_count": 6,
   "metadata": {},
   "outputs": [],
   "source": [
    "warnings.filterwarnings('ignore') # отключаем предупреждения"
   ]
  },
  {
   "cell_type": "markdown",
   "metadata": {},
   "source": [
    "## Шаг 1 Подготовка данных"
   ]
  },
  {
   "cell_type": "markdown",
   "metadata": {},
   "source": [
    "### 1.1 Открыть и изучить данные"
   ]
  },
  {
   "cell_type": "code",
   "execution_count": 7,
   "metadata": {},
   "outputs": [
    {
     "name": "stdout",
     "output_type": "stream",
     "text": [
      "**************************************************\n",
      "Данные о катрочтках продажи автомобилей\n"
     ]
    },
    {
     "data": {
      "text/html": [
       "<div>\n",
       "<style scoped>\n",
       "    .dataframe tbody tr th:only-of-type {\n",
       "        vertical-align: middle;\n",
       "    }\n",
       "\n",
       "    .dataframe tbody tr th {\n",
       "        vertical-align: top;\n",
       "    }\n",
       "\n",
       "    .dataframe thead th {\n",
       "        text-align: right;\n",
       "    }\n",
       "</style>\n",
       "<table border=\"1\" class=\"dataframe\">\n",
       "  <thead>\n",
       "    <tr style=\"text-align: right;\">\n",
       "      <th></th>\n",
       "      <th>DateCrawled</th>\n",
       "      <th>Price</th>\n",
       "      <th>VehicleType</th>\n",
       "      <th>RegistrationYear</th>\n",
       "      <th>Gearbox</th>\n",
       "      <th>Power</th>\n",
       "      <th>Model</th>\n",
       "      <th>Kilometer</th>\n",
       "      <th>RegistrationMonth</th>\n",
       "      <th>FuelType</th>\n",
       "      <th>Brand</th>\n",
       "      <th>Repaired</th>\n",
       "      <th>DateCreated</th>\n",
       "      <th>NumberOfPictures</th>\n",
       "      <th>PostalCode</th>\n",
       "      <th>LastSeen</th>\n",
       "    </tr>\n",
       "  </thead>\n",
       "  <tbody>\n",
       "    <tr>\n",
       "      <th>0</th>\n",
       "      <td>2016-03-24 11:52:17</td>\n",
       "      <td>480</td>\n",
       "      <td>NaN</td>\n",
       "      <td>1993</td>\n",
       "      <td>manual</td>\n",
       "      <td>0</td>\n",
       "      <td>golf</td>\n",
       "      <td>150000</td>\n",
       "      <td>0</td>\n",
       "      <td>petrol</td>\n",
       "      <td>volkswagen</td>\n",
       "      <td>NaN</td>\n",
       "      <td>2016-03-24 00:00:00</td>\n",
       "      <td>0</td>\n",
       "      <td>70435</td>\n",
       "      <td>2016-04-07 03:16:57</td>\n",
       "    </tr>\n",
       "    <tr>\n",
       "      <th>1</th>\n",
       "      <td>2016-03-24 10:58:45</td>\n",
       "      <td>18300</td>\n",
       "      <td>coupe</td>\n",
       "      <td>2011</td>\n",
       "      <td>manual</td>\n",
       "      <td>190</td>\n",
       "      <td>NaN</td>\n",
       "      <td>125000</td>\n",
       "      <td>5</td>\n",
       "      <td>gasoline</td>\n",
       "      <td>audi</td>\n",
       "      <td>yes</td>\n",
       "      <td>2016-03-24 00:00:00</td>\n",
       "      <td>0</td>\n",
       "      <td>66954</td>\n",
       "      <td>2016-04-07 01:46:50</td>\n",
       "    </tr>\n",
       "    <tr>\n",
       "      <th>2</th>\n",
       "      <td>2016-03-14 12:52:21</td>\n",
       "      <td>9800</td>\n",
       "      <td>suv</td>\n",
       "      <td>2004</td>\n",
       "      <td>auto</td>\n",
       "      <td>163</td>\n",
       "      <td>grand</td>\n",
       "      <td>125000</td>\n",
       "      <td>8</td>\n",
       "      <td>gasoline</td>\n",
       "      <td>jeep</td>\n",
       "      <td>NaN</td>\n",
       "      <td>2016-03-14 00:00:00</td>\n",
       "      <td>0</td>\n",
       "      <td>90480</td>\n",
       "      <td>2016-04-05 12:47:46</td>\n",
       "    </tr>\n",
       "    <tr>\n",
       "      <th>3</th>\n",
       "      <td>2016-03-17 16:54:04</td>\n",
       "      <td>1500</td>\n",
       "      <td>small</td>\n",
       "      <td>2001</td>\n",
       "      <td>manual</td>\n",
       "      <td>75</td>\n",
       "      <td>golf</td>\n",
       "      <td>150000</td>\n",
       "      <td>6</td>\n",
       "      <td>petrol</td>\n",
       "      <td>volkswagen</td>\n",
       "      <td>no</td>\n",
       "      <td>2016-03-17 00:00:00</td>\n",
       "      <td>0</td>\n",
       "      <td>91074</td>\n",
       "      <td>2016-03-17 17:40:17</td>\n",
       "    </tr>\n",
       "    <tr>\n",
       "      <th>4</th>\n",
       "      <td>2016-03-31 17:25:20</td>\n",
       "      <td>3600</td>\n",
       "      <td>small</td>\n",
       "      <td>2008</td>\n",
       "      <td>manual</td>\n",
       "      <td>69</td>\n",
       "      <td>fabia</td>\n",
       "      <td>90000</td>\n",
       "      <td>7</td>\n",
       "      <td>gasoline</td>\n",
       "      <td>skoda</td>\n",
       "      <td>no</td>\n",
       "      <td>2016-03-31 00:00:00</td>\n",
       "      <td>0</td>\n",
       "      <td>60437</td>\n",
       "      <td>2016-04-06 10:17:21</td>\n",
       "    </tr>\n",
       "  </tbody>\n",
       "</table>\n",
       "</div>"
      ],
      "text/plain": [
       "           DateCrawled  Price VehicleType  RegistrationYear Gearbox  Power  \\\n",
       "0  2016-03-24 11:52:17    480         NaN              1993  manual      0   \n",
       "1  2016-03-24 10:58:45  18300       coupe              2011  manual    190   \n",
       "2  2016-03-14 12:52:21   9800         suv              2004    auto    163   \n",
       "3  2016-03-17 16:54:04   1500       small              2001  manual     75   \n",
       "4  2016-03-31 17:25:20   3600       small              2008  manual     69   \n",
       "\n",
       "   Model  Kilometer  RegistrationMonth  FuelType       Brand Repaired  \\\n",
       "0   golf     150000                  0    petrol  volkswagen      NaN   \n",
       "1    NaN     125000                  5  gasoline        audi      yes   \n",
       "2  grand     125000                  8  gasoline        jeep      NaN   \n",
       "3   golf     150000                  6    petrol  volkswagen       no   \n",
       "4  fabia      90000                  7  gasoline       skoda       no   \n",
       "\n",
       "           DateCreated  NumberOfPictures  PostalCode             LastSeen  \n",
       "0  2016-03-24 00:00:00                 0       70435  2016-04-07 03:16:57  \n",
       "1  2016-03-24 00:00:00                 0       66954  2016-04-07 01:46:50  \n",
       "2  2016-03-14 00:00:00                 0       90480  2016-04-05 12:47:46  \n",
       "3  2016-03-17 00:00:00                 0       91074  2016-03-17 17:40:17  \n",
       "4  2016-03-31 00:00:00                 0       60437  2016-04-06 10:17:21  "
      ]
     },
     "metadata": {},
     "output_type": "display_data"
    },
    {
     "name": "stdout",
     "output_type": "stream",
     "text": [
      "\n",
      "<class 'pandas.core.frame.DataFrame'>\n",
      "RangeIndex: 354369 entries, 0 to 354368\n",
      "Data columns (total 16 columns):\n",
      " #   Column             Non-Null Count   Dtype \n",
      "---  ------             --------------   ----- \n",
      " 0   DateCrawled        354369 non-null  object\n",
      " 1   Price              354369 non-null  int64 \n",
      " 2   VehicleType        316879 non-null  object\n",
      " 3   RegistrationYear   354369 non-null  int64 \n",
      " 4   Gearbox            334536 non-null  object\n",
      " 5   Power              354369 non-null  int64 \n",
      " 6   Model              334664 non-null  object\n",
      " 7   Kilometer          354369 non-null  int64 \n",
      " 8   RegistrationMonth  354369 non-null  int64 \n",
      " 9   FuelType           321474 non-null  object\n",
      " 10  Brand              354369 non-null  object\n",
      " 11  Repaired           283215 non-null  object\n",
      " 12  DateCreated        354369 non-null  object\n",
      " 13  NumberOfPictures   354369 non-null  int64 \n",
      " 14  PostalCode         354369 non-null  int64 \n",
      " 15  LastSeen           354369 non-null  object\n",
      "dtypes: int64(7), object(9)\n",
      "memory usage: 43.3+ MB\n"
     ]
    }
   ],
   "source": [
    "try:\n",
    "    d_auto = pd.read_csv('datasets/autos.csv', sep=',') # загружаем с локального хранилища\n",
    "    \n",
    "    print('*' * 50, 'Данные о катрочтках продажи автомобилей', sep='\\n')\n",
    "    display(d_auto.head(5))\n",
    "    print()\n",
    "    d_auto.info()\n",
    "\n",
    "except:\n",
    "    d_auto = pd.read_csv('https://code.s3.yandex.net/datasets/autos.csv', sep=',') # загружаем из хранилища Яндекс\n",
    "    \n",
    "    print('Файл загружен из хранилища Яндекс')\n",
    "    print('*' * 50, 'Данные о катрочтках продажи автомобилей', sep='\\n')\n",
    "    display(d_auto.head(5))\n",
    "    print()\n",
    "    d_auto.info()"
   ]
  },
  {
   "cell_type": "markdown",
   "metadata": {},
   "source": [
    "Обзорно взглянем на распределения:"
   ]
  },
  {
   "cell_type": "code",
   "execution_count": 8,
   "metadata": {},
   "outputs": [
    {
     "data": {
      "image/png": "[encoded data removed]",
      "text/plain": [
       "<Figure size 2000x600 with 8 Axes>"
      ]
     },
     "metadata": {},
     "output_type": "display_data"
    }
   ],
   "source": [
    "ax = d_auto.hist(bins=55, figsize=(20, 6), layout=(2, 4))"
   ]
  },
  {
   "cell_type": "markdown",
   "metadata": {},
   "source": [
    "Посмотрим на коэффициенты корреляции:"
   ]
  },
  {
   "cell_type": "code",
   "execution_count": 9,
   "metadata": {},
   "outputs": [
    {
     "name": "stdout",
     "output_type": "stream",
     "text": [
      "interval columns not set, guessing: ['Price', 'RegistrationYear', 'Power', 'Kilometer', 'RegistrationMonth', 'NumberOfPictures', 'PostalCode']\n"
     ]
    },
    {
     "data": {
      "text/html": [
       "<div>\n",
       "<style scoped>\n",
       "    .dataframe tbody tr th:only-of-type {\n",
       "        vertical-align: middle;\n",
       "    }\n",
       "\n",
       "    .dataframe tbody tr th {\n",
       "        vertical-align: top;\n",
       "    }\n",
       "\n",
       "    .dataframe thead th {\n",
       "        text-align: right;\n",
       "    }\n",
       "</style>\n",
       "<table border=\"1\" class=\"dataframe\">\n",
       "  <thead>\n",
       "    <tr style=\"text-align: right;\">\n",
       "      <th></th>\n",
       "      <th>Price</th>\n",
       "      <th>RegistrationYear</th>\n",
       "      <th>Power</th>\n",
       "      <th>Kilometer</th>\n",
       "      <th>RegistrationMonth</th>\n",
       "      <th>PostalCode</th>\n",
       "    </tr>\n",
       "  </thead>\n",
       "  <tbody>\n",
       "    <tr>\n",
       "      <th>Price</th>\n",
       "      <td>1.000000</td>\n",
       "      <td>0.016816</td>\n",
       "      <td>0.005752</td>\n",
       "      <td>0.307892</td>\n",
       "      <td>0.185828</td>\n",
       "      <td>0.096123</td>\n",
       "    </tr>\n",
       "    <tr>\n",
       "      <th>RegistrationYear</th>\n",
       "      <td>0.016816</td>\n",
       "      <td>1.000000</td>\n",
       "      <td>0.088713</td>\n",
       "      <td>0.107644</td>\n",
       "      <td>0.036900</td>\n",
       "      <td>0.003015</td>\n",
       "    </tr>\n",
       "    <tr>\n",
       "      <th>Power</th>\n",
       "      <td>0.005752</td>\n",
       "      <td>0.088713</td>\n",
       "      <td>1.000000</td>\n",
       "      <td>0.008440</td>\n",
       "      <td>0.000000</td>\n",
       "      <td>0.000000</td>\n",
       "    </tr>\n",
       "    <tr>\n",
       "      <th>Kilometer</th>\n",
       "      <td>0.307892</td>\n",
       "      <td>0.107644</td>\n",
       "      <td>0.008440</td>\n",
       "      <td>1.000000</td>\n",
       "      <td>0.103169</td>\n",
       "      <td>0.042001</td>\n",
       "    </tr>\n",
       "    <tr>\n",
       "      <th>RegistrationMonth</th>\n",
       "      <td>0.185828</td>\n",
       "      <td>0.036900</td>\n",
       "      <td>0.000000</td>\n",
       "      <td>0.103169</td>\n",
       "      <td>1.000000</td>\n",
       "      <td>0.050215</td>\n",
       "    </tr>\n",
       "    <tr>\n",
       "      <th>PostalCode</th>\n",
       "      <td>0.096123</td>\n",
       "      <td>0.003015</td>\n",
       "      <td>0.000000</td>\n",
       "      <td>0.042001</td>\n",
       "      <td>0.050215</td>\n",
       "      <td>1.000000</td>\n",
       "    </tr>\n",
       "  </tbody>\n",
       "</table>\n",
       "</div>"
      ],
      "text/plain": [
       "                      Price  RegistrationYear     Power  Kilometer  \\\n",
       "Price              1.000000          0.016816  0.005752   0.307892   \n",
       "RegistrationYear   0.016816          1.000000  0.088713   0.107644   \n",
       "Power              0.005752          0.088713  1.000000   0.008440   \n",
       "Kilometer          0.307892          0.107644  0.008440   1.000000   \n",
       "RegistrationMonth  0.185828          0.036900  0.000000   0.103169   \n",
       "PostalCode         0.096123          0.003015  0.000000   0.042001   \n",
       "\n",
       "                   RegistrationMonth  PostalCode  \n",
       "Price                       0.185828    0.096123  \n",
       "RegistrationYear            0.036900    0.003015  \n",
       "Power                       0.000000    0.000000  \n",
       "Kilometer                   0.103169    0.042001  \n",
       "RegistrationMonth           1.000000    0.050215  \n",
       "PostalCode                  0.050215    1.000000  "
      ]
     },
     "execution_count": 9,
     "metadata": {},
     "output_type": "execute_result"
    }
   ],
   "source": [
    "d_auto[['Price', 'RegistrationYear', 'Power', 'Kilometer', 'RegistrationMonth', 'NumberOfPictures', 'PostalCode']].\\\n",
    "phik_matrix()"
   ]
  },
  {
   "cell_type": "markdown",
   "metadata": {},
   "source": [
    "Проверим, есть ли полные дубликаты:"
   ]
  },
  {
   "cell_type": "code",
   "execution_count": 10,
   "metadata": {},
   "outputs": [
    {
     "data": {
      "text/html": [
       "<div>\n",
       "<style scoped>\n",
       "    .dataframe tbody tr th:only-of-type {\n",
       "        vertical-align: middle;\n",
       "    }\n",
       "\n",
       "    .dataframe tbody tr th {\n",
       "        vertical-align: top;\n",
       "    }\n",
       "\n",
       "    .dataframe thead th {\n",
       "        text-align: right;\n",
       "    }\n",
       "</style>\n",
       "<table border=\"1\" class=\"dataframe\">\n",
       "  <thead>\n",
       "    <tr style=\"text-align: right;\">\n",
       "      <th></th>\n",
       "      <th>DateCrawled</th>\n",
       "      <th>Price</th>\n",
       "      <th>VehicleType</th>\n",
       "      <th>RegistrationYear</th>\n",
       "      <th>Gearbox</th>\n",
       "      <th>Power</th>\n",
       "      <th>Model</th>\n",
       "      <th>Kilometer</th>\n",
       "      <th>RegistrationMonth</th>\n",
       "      <th>FuelType</th>\n",
       "      <th>Brand</th>\n",
       "      <th>Repaired</th>\n",
       "      <th>DateCreated</th>\n",
       "      <th>NumberOfPictures</th>\n",
       "      <th>PostalCode</th>\n",
       "      <th>LastSeen</th>\n",
       "    </tr>\n",
       "  </thead>\n",
       "  <tbody>\n",
       "    <tr>\n",
       "      <th>171088</th>\n",
       "      <td>2016-03-08 18:42:48</td>\n",
       "      <td>1799</td>\n",
       "      <td>coupe</td>\n",
       "      <td>1999</td>\n",
       "      <td>auto</td>\n",
       "      <td>193</td>\n",
       "      <td>clk</td>\n",
       "      <td>20000</td>\n",
       "      <td>7</td>\n",
       "      <td>petrol</td>\n",
       "      <td>mercedes_benz</td>\n",
       "      <td>no</td>\n",
       "      <td>2016-03-08 00:00:00</td>\n",
       "      <td>0</td>\n",
       "      <td>89518</td>\n",
       "      <td>2016-03-09 09:46:57</td>\n",
       "    </tr>\n",
       "    <tr>\n",
       "      <th>231258</th>\n",
       "      <td>2016-03-28 00:56:10</td>\n",
       "      <td>1000</td>\n",
       "      <td>small</td>\n",
       "      <td>2002</td>\n",
       "      <td>manual</td>\n",
       "      <td>83</td>\n",
       "      <td>other</td>\n",
       "      <td>150000</td>\n",
       "      <td>1</td>\n",
       "      <td>petrol</td>\n",
       "      <td>suzuki</td>\n",
       "      <td>no</td>\n",
       "      <td>2016-03-28 00:00:00</td>\n",
       "      <td>0</td>\n",
       "      <td>66589</td>\n",
       "      <td>2016-03-28 08:46:21</td>\n",
       "    </tr>\n",
       "    <tr>\n",
       "      <th>258109</th>\n",
       "      <td>2016-04-03 09:01:15</td>\n",
       "      <td>4699</td>\n",
       "      <td>coupe</td>\n",
       "      <td>2003</td>\n",
       "      <td>auto</td>\n",
       "      <td>218</td>\n",
       "      <td>clk</td>\n",
       "      <td>125000</td>\n",
       "      <td>6</td>\n",
       "      <td>petrol</td>\n",
       "      <td>mercedes_benz</td>\n",
       "      <td>yes</td>\n",
       "      <td>2016-04-03 00:00:00</td>\n",
       "      <td>0</td>\n",
       "      <td>75196</td>\n",
       "      <td>2016-04-07 09:44:54</td>\n",
       "    </tr>\n",
       "    <tr>\n",
       "      <th>325651</th>\n",
       "      <td>2016-03-18 18:46:15</td>\n",
       "      <td>1999</td>\n",
       "      <td>wagon</td>\n",
       "      <td>2001</td>\n",
       "      <td>manual</td>\n",
       "      <td>131</td>\n",
       "      <td>passat</td>\n",
       "      <td>150000</td>\n",
       "      <td>7</td>\n",
       "      <td>gasoline</td>\n",
       "      <td>volkswagen</td>\n",
       "      <td>no</td>\n",
       "      <td>2016-03-18 00:00:00</td>\n",
       "      <td>0</td>\n",
       "      <td>36391</td>\n",
       "      <td>2016-03-18 18:46:15</td>\n",
       "    </tr>\n",
       "  </tbody>\n",
       "</table>\n",
       "</div>"
      ],
      "text/plain": [
       "                DateCrawled  Price VehicleType  RegistrationYear Gearbox  \\\n",
       "171088  2016-03-08 18:42:48   1799       coupe              1999    auto   \n",
       "231258  2016-03-28 00:56:10   1000       small              2002  manual   \n",
       "258109  2016-04-03 09:01:15   4699       coupe              2003    auto   \n",
       "325651  2016-03-18 18:46:15   1999       wagon              2001  manual   \n",
       "\n",
       "        Power   Model  Kilometer  RegistrationMonth  FuelType          Brand  \\\n",
       "171088    193     clk      20000                  7    petrol  mercedes_benz   \n",
       "231258     83   other     150000                  1    petrol         suzuki   \n",
       "258109    218     clk     125000                  6    petrol  mercedes_benz   \n",
       "325651    131  passat     150000                  7  gasoline     volkswagen   \n",
       "\n",
       "       Repaired          DateCreated  NumberOfPictures  PostalCode  \\\n",
       "171088       no  2016-03-08 00:00:00                 0       89518   \n",
       "231258       no  2016-03-28 00:00:00                 0       66589   \n",
       "258109      yes  2016-04-03 00:00:00                 0       75196   \n",
       "325651       no  2016-03-18 00:00:00                 0       36391   \n",
       "\n",
       "                   LastSeen  \n",
       "171088  2016-03-09 09:46:57  \n",
       "231258  2016-03-28 08:46:21  \n",
       "258109  2016-04-07 09:44:54  \n",
       "325651  2016-03-18 18:46:15  "
      ]
     },
     "execution_count": 10,
     "metadata": {},
     "output_type": "execute_result"
    }
   ],
   "source": [
    "d_auto.loc[d_auto.duplicated() == 1, :]"
   ]
  },
  {
   "cell_type": "markdown",
   "metadata": {},
   "source": [
    "Проверим категориалные признаки на неявные дубликаты и отобразим долю пропусков:"
   ]
  },
  {
   "cell_type": "code",
   "execution_count": 11,
   "metadata": {},
   "outputs": [
    {
     "name": "stdout",
     "output_type": "stream",
     "text": [
      "****************************************************************************************************\n",
      "Уникальные значения по колонке VehicleType == ['bus' 'convertible' 'coupe' 'other' 'sedan' 'small' 'suv' 'wagon' nan]\n",
      "\n",
      "Процент пропусков по колонке VehicleType == 10.58 %\n",
      "\n",
      "\n",
      "****************************************************************************************************\n",
      "Уникальные значения по колонке Gearbox == ['auto' 'manual' nan]\n",
      "\n",
      "Процент пропусков по колонке Gearbox == 5.6 %\n",
      "\n",
      "\n",
      "****************************************************************************************************\n",
      "Уникальные значения по колонке Model == ['100' '145' '147' '156' '159' '1_reihe' '1er' '200' '2_reihe' '300c'\n",
      " '3_reihe' '3er' '4_reihe' '500' '5_reihe' '5er' '601' '6_reihe' '6er'\n",
      " '7er' '80' '850' '90' '900' '9000' '911' 'a1' 'a2' 'a3' 'a4' 'a5' 'a6'\n",
      " 'a8' 'a_klasse' 'accord' 'agila' 'alhambra' 'almera' 'altea' 'amarok'\n",
      " 'antara' 'arosa' 'astra' 'auris' 'avensis' 'aveo' 'aygo' 'b_klasse'\n",
      " 'b_max' 'beetle' 'berlingo' 'bora' 'boxster' 'bravo' 'c1' 'c2' 'c3' 'c4'\n",
      " 'c5' 'c_klasse' 'c_max' 'c_reihe' 'caddy' 'calibra' 'captiva' 'carisma'\n",
      " 'carnival' 'cayenne' 'cc' 'ceed' 'charade' 'cherokee' 'citigo' 'civic'\n",
      " 'cl' 'clio' 'clk' 'clubman' 'colt' 'combo' 'cooper' 'cordoba' 'corolla'\n",
      " 'corsa' 'cr_reihe' 'croma' 'crossfire' 'cuore' 'cx_reihe' 'defender'\n",
      " 'delta' 'discovery' 'doblo' 'ducato' 'duster' 'e_klasse' 'elefantino'\n",
      " 'eos' 'escort' 'espace' 'exeo' 'fabia' 'fiesta' 'focus' 'forester'\n",
      " 'forfour' 'fortwo' 'fox' 'freelander' 'fusion' 'g_klasse' 'galant'\n",
      " 'galaxy' 'getz' 'gl' 'glk' 'golf' 'grand' 'i3' 'i_reihe' 'ibiza'\n",
      " 'impreza' 'insignia' 'jazz' 'jetta' 'jimny' 'juke' 'justy' 'ka' 'kadett'\n",
      " 'kaefer' 'kalina' 'kalos' 'kangoo' 'kappa' 'kuga' 'laguna' 'lancer'\n",
      " 'lanos' 'legacy' 'leon' 'lodgy' 'logan' 'lupo' 'lybra' 'm_klasse'\n",
      " 'm_reihe' 'materia' 'matiz' 'megane' 'meriva' 'micra' 'mii' 'modus'\n",
      " 'mondeo' 'move' 'musa' 'mustang' 'mx_reihe' 'navara' 'niva' 'note'\n",
      " 'nubira' 'octavia' 'omega' 'one' 'other' 'outlander' 'pajero' 'panda'\n",
      " 'passat' 'phaeton' 'picanto' 'polo' 'primera' 'ptcruiser' 'punto' 'q3'\n",
      " 'q5' 'q7' 'qashqai' 'r19' 'range_rover' 'range_rover_evoque'\n",
      " 'range_rover_sport' 'rangerover' 'rav' 'rio' 'roadster' 'roomster'\n",
      " 'rx_reihe' 's60' 's_klasse' 's_max' 's_type' 'samara' 'sandero' 'santa'\n",
      " 'scenic' 'scirocco' 'seicento' 'serie_1' 'serie_2' 'serie_3' 'sharan'\n",
      " 'signum' 'sirion' 'sl' 'slk' 'sorento' 'spark' 'spider' 'sportage'\n",
      " 'sprinter' 'stilo' 'superb' 'swift' 'terios' 'tigra' 'tiguan' 'toledo'\n",
      " 'touareg' 'touran' 'transit' 'transporter' 'tt' 'tucson' 'twingo' 'up'\n",
      " 'v40' 'v50' 'v60' 'v70' 'v_klasse' 'vectra' 'verso' 'viano' 'vito'\n",
      " 'vivaro' 'voyager' 'wrangler' 'x_reihe' 'x_trail' 'x_type' 'xc_reihe'\n",
      " 'yaris' 'yeti' 'ypsilon' 'z_reihe' 'zafira' nan]\n",
      "\n",
      "Процент пропусков по колонке Model == 5.56 %\n",
      "\n",
      "\n",
      "****************************************************************************************************\n",
      "Уникальные значения по колонке FuelType == ['cng' 'electric' 'gasoline' 'hybrid' 'lpg' 'other' 'petrol' nan]\n",
      "\n",
      "Процент пропусков по колонке FuelType == 9.28 %\n",
      "\n",
      "\n",
      "****************************************************************************************************\n",
      "Уникальные значения по колонке RegistrationMonth == [ 0  1  2  3  4  5  6  7  8  9 10 11 12]\n",
      "\n",
      "Процент пропусков по колонке RegistrationMonth == 0.0 %\n",
      "\n",
      "\n",
      "****************************************************************************************************\n",
      "Уникальные значения по колонке Brand == ['alfa_romeo' 'audi' 'bmw' 'chevrolet' 'chrysler' 'citroen' 'dacia'\n",
      " 'daewoo' 'daihatsu' 'fiat' 'ford' 'honda' 'hyundai' 'jaguar' 'jeep' 'kia'\n",
      " 'lada' 'lancia' 'land_rover' 'mazda' 'mercedes_benz' 'mini' 'mitsubishi'\n",
      " 'nissan' 'opel' 'peugeot' 'porsche' 'renault' 'rover' 'saab' 'seat'\n",
      " 'skoda' 'smart' 'sonstige_autos' 'subaru' 'suzuki' 'toyota' 'trabant'\n",
      " 'volkswagen' 'volvo']\n",
      "\n",
      "Процент пропусков по колонке Brand == 0.0 %\n",
      "\n",
      "\n",
      "****************************************************************************************************\n",
      "Уникальные значения по колонке Repaired == ['no' 'yes' nan]\n",
      "\n",
      "Процент пропусков по колонке Repaired == 20.08 %\n",
      "\n",
      "\n"
     ]
    }
   ],
   "source": [
    "for col in ['VehicleType', 'Gearbox', 'Model', 'FuelType', 'RegistrationMonth', 'Brand', 'Repaired']:\n",
    "    print('*'*100)\n",
    "    print('Уникальные значения по колонке', col, '==', d_auto[col].sort_values().unique())\n",
    "    print()\n",
    "    print('Процент пропусков по колонке', col, '==', round(d_auto[col].isna().sum()/d_auto.shape[0] * 100, 2), '%')\n",
    "    print('\\n')"
   ]
  },
  {
   "cell_type": "markdown",
   "metadata": {},
   "source": [
    "Посмотрим на распределение значений количественных признаков:"
   ]
  },
  {
   "cell_type": "code",
   "execution_count": 12,
   "metadata": {},
   "outputs": [
    {
     "data": {
      "image/png": "[encoded data removed]",
      "text/plain": [
       "<Figure size 2000x50 with 1 Axes>"
      ]
     },
     "metadata": {},
     "output_type": "display_data"
    },
    {
     "data": {
      "image/png": "[encoded data removed]",
      "text/plain": [
       "<Figure size 2000x50 with 1 Axes>"
      ]
     },
     "metadata": {},
     "output_type": "display_data"
    },
    {
     "data": {
      "image/png": "[encoded data removed]",
      "text/plain": [
       "<Figure size 2000x50 with 1 Axes>"
      ]
     },
     "metadata": {},
     "output_type": "display_data"
    },
    {
     "data": {
      "image/png": "[encoded data removed]",
      "text/plain": [
       "<Figure size 2000x50 with 1 Axes>"
      ]
     },
     "metadata": {},
     "output_type": "display_data"
    }
   ],
   "source": [
    "for col in ['Price', 'RegistrationYear', 'Power', 'Kilometer']:\n",
    "    fig, ax = plt.subplots(figsize=(20, 0.5))\n",
    "    sns.boxplot(data=d_auto.loc[:, col], orient='h')\n",
    "    label = 'Значение признака ' + col\n",
    "    ax.set_xlabel(label, fontsize=12)\n",
    "    title = '\\n\\nРаспределение по столбцу ' + col\n",
    "    ax.set_title(title, fontsize=14)"
   ]
  },
  {
   "cell_type": "markdown",
   "metadata": {},
   "source": [
    " "
   ]
  },
  {
   "cell_type": "markdown",
   "metadata": {},
   "source": [
    "### 1.2 Предобработка"
   ]
  },
  {
   "cell_type": "markdown",
   "metadata": {},
   "source": [
    "#### 1.2.1 Наименования колонок"
   ]
  },
  {
   "cell_type": "markdown",
   "metadata": {},
   "source": [
    "Переводим наименования в snake_case формат:"
   ]
  },
  {
   "cell_type": "code",
   "execution_count": 13,
   "metadata": {},
   "outputs": [
    {
     "data": {
      "text/plain": [
       "Index(['date_crawled', 'price', 'vehicle_type', 'registration_year', 'gearbox',\n",
       "       'power', 'model', 'kilometer', 'registration_month', 'fuel_type',\n",
       "       'brand', 'repaired', 'date_created', 'number_of_pictures',\n",
       "       'postal_code', 'last_seen'],\n",
       "      dtype='object')"
      ]
     },
     "execution_count": 13,
     "metadata": {},
     "output_type": "execute_result"
    }
   ],
   "source": [
    "col_new=[]\n",
    "for col in d_auto.columns:\n",
    "    col_new.append(re.sub(r'(?<!^)(?=[A-Z])', '_', col).lower())\n",
    "\n",
    "d_auto.columns = col_new\n",
    "d_auto.columns"
   ]
  },
  {
   "cell_type": "markdown",
   "metadata": {},
   "source": [
    "#### 1.2.2 Удаление полных дубликатов"
   ]
  },
  {
   "cell_type": "code",
   "execution_count": 14,
   "metadata": {},
   "outputs": [
    {
     "data": {
      "text/plain": [
       "(354365, 16)"
      ]
     },
     "execution_count": 14,
     "metadata": {},
     "output_type": "execute_result"
    }
   ],
   "source": [
    "d_auto = d_auto.drop_duplicates()\n",
    "d_auto.shape"
   ]
  },
  {
   "cell_type": "markdown",
   "metadata": {},
   "source": [
    "#### 1.2.3 Обработка неявных дублей"
   ]
  },
  {
   "cell_type": "markdown",
   "metadata": {},
   "source": [
    "##### 1.2.3.1 Обработка fuel_type"
   ]
  },
  {
   "cell_type": "markdown",
   "metadata": {},
   "source": [
    "В столбце \"fuel_type\" встречаются значения-синонимы: gasoline и petrol, объединим их:"
   ]
  },
  {
   "cell_type": "code",
   "execution_count": 15,
   "metadata": {},
   "outputs": [
    {
     "data": {
      "text/plain": [
       "fuel_type\n",
       "electric        90\n",
       "other          204\n",
       "hybrid         233\n",
       "cng            565\n",
       "lpg           5310\n",
       "gasoline     98719\n",
       "petrol      216349\n",
       "Name: fuel_type, dtype: int64"
      ]
     },
     "execution_count": 15,
     "metadata": {},
     "output_type": "execute_result"
    }
   ],
   "source": [
    "d_auto.groupby('fuel_type')['fuel_type'].count().sort_values()"
   ]
  },
  {
   "cell_type": "code",
   "execution_count": 16,
   "metadata": {},
   "outputs": [],
   "source": [
    "d_auto.loc[d_auto['fuel_type'] == 'gasoline', 'fuel_type'] = 'petrol'"
   ]
  },
  {
   "cell_type": "code",
   "execution_count": 17,
   "metadata": {},
   "outputs": [
    {
     "data": {
      "text/plain": [
       "fuel_type\n",
       "electric        90\n",
       "other          204\n",
       "hybrid         233\n",
       "cng            565\n",
       "lpg           5310\n",
       "petrol      315068\n",
       "Name: fuel_type, dtype: int64"
      ]
     },
     "execution_count": 17,
     "metadata": {},
     "output_type": "execute_result"
    }
   ],
   "source": [
    "d_auto.groupby('fuel_type')['fuel_type'].count().sort_values()"
   ]
  },
  {
   "cell_type": "markdown",
   "metadata": {},
   "source": [
    "##### 1.2.3.2 Обработка brand"
   ]
  },
  {
   "cell_type": "markdown",
   "metadata": {},
   "source": [
    "В столбце \"brand\" встречается значение \"sonstige_autos\", которое, очевидно, не является брендом. Однако, sonstige_autos -- другие автомобили на немецком языке, причем, если пристально посмотреть на значения \"postal_code\", то можно заметить, что они относятся к адресам преимущественно на территории Германии. Так что, заменим \"sonstige_autos\" на \"other\", как в столбцах \"vehicle_type\", \"fuel_type\" и \"model\"."
   ]
  },
  {
   "cell_type": "code",
   "execution_count": 18,
   "metadata": {},
   "outputs": [
    {
     "data": {
      "text/plain": [
       "brand\n",
       "sonstige_autos    3374\n",
       "Name: brand, dtype: int64"
      ]
     },
     "execution_count": 18,
     "metadata": {},
     "output_type": "execute_result"
    }
   ],
   "source": [
    "d_auto.loc[(d_auto['brand'] == 'sonstige_autos') | ((d_auto['brand'] == 'other'))].groupby('brand')['brand'].count()"
   ]
  },
  {
   "cell_type": "code",
   "execution_count": 19,
   "metadata": {},
   "outputs": [
    {
     "data": {
      "text/plain": [
       "brand\n",
       "other    3374\n",
       "Name: brand, dtype: int64"
      ]
     },
     "execution_count": 19,
     "metadata": {},
     "output_type": "execute_result"
    }
   ],
   "source": [
    "d_auto.loc[d_auto['brand'] == 'sonstige_autos', 'brand'] = 'other'\n",
    "d_auto.loc[(d_auto['brand'] == 'sonstige_autos') | ((d_auto['brand'] == 'other'))].groupby('brand')['brand'].count()"
   ]
  },
  {
   "cell_type": "code",
   "execution_count": 20,
   "metadata": {},
   "outputs": [
    {
     "data": {
      "text/html": [
       "<div>\n",
       "<style scoped>\n",
       "    .dataframe tbody tr th:only-of-type {\n",
       "        vertical-align: middle;\n",
       "    }\n",
       "\n",
       "    .dataframe tbody tr th {\n",
       "        vertical-align: top;\n",
       "    }\n",
       "\n",
       "    .dataframe thead th {\n",
       "        text-align: right;\n",
       "    }\n",
       "</style>\n",
       "<table border=\"1\" class=\"dataframe\">\n",
       "  <thead>\n",
       "    <tr style=\"text-align: right;\">\n",
       "      <th></th>\n",
       "      <th></th>\n",
       "    </tr>\n",
       "    <tr>\n",
       "      <th>brand</th>\n",
       "      <th>model</th>\n",
       "    </tr>\n",
       "  </thead>\n",
       "  <tbody>\n",
       "    <tr>\n",
       "      <th rowspan=\"6\" valign=\"top\">alfa_romeo</th>\n",
       "      <th>145</th>\n",
       "    </tr>\n",
       "    <tr>\n",
       "      <th>147</th>\n",
       "    </tr>\n",
       "    <tr>\n",
       "      <th>156</th>\n",
       "    </tr>\n",
       "    <tr>\n",
       "      <th>159</th>\n",
       "    </tr>\n",
       "    <tr>\n",
       "      <th>other</th>\n",
       "    </tr>\n",
       "    <tr>\n",
       "      <th>spider</th>\n",
       "    </tr>\n",
       "    <tr>\n",
       "      <th rowspan=\"16\" valign=\"top\">audi</th>\n",
       "      <th>100</th>\n",
       "    </tr>\n",
       "    <tr>\n",
       "      <th>200</th>\n",
       "    </tr>\n",
       "    <tr>\n",
       "      <th>80</th>\n",
       "    </tr>\n",
       "    <tr>\n",
       "      <th>90</th>\n",
       "    </tr>\n",
       "    <tr>\n",
       "      <th>a1</th>\n",
       "    </tr>\n",
       "    <tr>\n",
       "      <th>a2</th>\n",
       "    </tr>\n",
       "    <tr>\n",
       "      <th>a3</th>\n",
       "    </tr>\n",
       "    <tr>\n",
       "      <th>a4</th>\n",
       "    </tr>\n",
       "    <tr>\n",
       "      <th>a5</th>\n",
       "    </tr>\n",
       "    <tr>\n",
       "      <th>a6</th>\n",
       "    </tr>\n",
       "    <tr>\n",
       "      <th>a8</th>\n",
       "    </tr>\n",
       "    <tr>\n",
       "      <th>other</th>\n",
       "    </tr>\n",
       "    <tr>\n",
       "      <th>q3</th>\n",
       "    </tr>\n",
       "    <tr>\n",
       "      <th>q5</th>\n",
       "    </tr>\n",
       "    <tr>\n",
       "      <th>q7</th>\n",
       "    </tr>\n",
       "    <tr>\n",
       "      <th>tt</th>\n",
       "    </tr>\n",
       "    <tr>\n",
       "      <th rowspan=\"10\" valign=\"top\">bmw</th>\n",
       "      <th>1er</th>\n",
       "    </tr>\n",
       "    <tr>\n",
       "      <th>3er</th>\n",
       "    </tr>\n",
       "    <tr>\n",
       "      <th>5er</th>\n",
       "    </tr>\n",
       "    <tr>\n",
       "      <th>6er</th>\n",
       "    </tr>\n",
       "    <tr>\n",
       "      <th>7er</th>\n",
       "    </tr>\n",
       "    <tr>\n",
       "      <th>i3</th>\n",
       "    </tr>\n",
       "    <tr>\n",
       "      <th>m_reihe</th>\n",
       "    </tr>\n",
       "    <tr>\n",
       "      <th>other</th>\n",
       "    </tr>\n",
       "    <tr>\n",
       "      <th>x_reihe</th>\n",
       "    </tr>\n",
       "    <tr>\n",
       "      <th>z_reihe</th>\n",
       "    </tr>\n",
       "    <tr>\n",
       "      <th rowspan=\"5\" valign=\"top\">chevrolet</th>\n",
       "      <th>aveo</th>\n",
       "    </tr>\n",
       "    <tr>\n",
       "      <th>captiva</th>\n",
       "    </tr>\n",
       "    <tr>\n",
       "      <th>matiz</th>\n",
       "    </tr>\n",
       "    <tr>\n",
       "      <th>other</th>\n",
       "    </tr>\n",
       "    <tr>\n",
       "      <th>spark</th>\n",
       "    </tr>\n",
       "    <tr>\n",
       "      <th rowspan=\"6\" valign=\"top\">chrysler</th>\n",
       "      <th>300c</th>\n",
       "    </tr>\n",
       "    <tr>\n",
       "      <th>crossfire</th>\n",
       "    </tr>\n",
       "    <tr>\n",
       "      <th>grand</th>\n",
       "    </tr>\n",
       "    <tr>\n",
       "      <th>other</th>\n",
       "    </tr>\n",
       "    <tr>\n",
       "      <th>ptcruiser</th>\n",
       "    </tr>\n",
       "    <tr>\n",
       "      <th>voyager</th>\n",
       "    </tr>\n",
       "    <tr>\n",
       "      <th rowspan=\"7\" valign=\"top\">citroen</th>\n",
       "      <th>berlingo</th>\n",
       "    </tr>\n",
       "    <tr>\n",
       "      <th>c1</th>\n",
       "    </tr>\n",
       "    <tr>\n",
       "      <th>c2</th>\n",
       "    </tr>\n",
       "    <tr>\n",
       "      <th>c3</th>\n",
       "    </tr>\n",
       "    <tr>\n",
       "      <th>c4</th>\n",
       "    </tr>\n",
       "    <tr>\n",
       "      <th>c5</th>\n",
       "    </tr>\n",
       "    <tr>\n",
       "      <th>other</th>\n",
       "    </tr>\n",
       "    <tr>\n",
       "      <th rowspan=\"5\" valign=\"top\">dacia</th>\n",
       "      <th>duster</th>\n",
       "    </tr>\n",
       "    <tr>\n",
       "      <th>lodgy</th>\n",
       "    </tr>\n",
       "    <tr>\n",
       "      <th>logan</th>\n",
       "    </tr>\n",
       "    <tr>\n",
       "      <th>other</th>\n",
       "    </tr>\n",
       "    <tr>\n",
       "      <th>sandero</th>\n",
       "    </tr>\n",
       "    <tr>\n",
       "      <th rowspan=\"5\" valign=\"top\">daewoo</th>\n",
       "      <th>kalos</th>\n",
       "    </tr>\n",
       "    <tr>\n",
       "      <th>lanos</th>\n",
       "    </tr>\n",
       "    <tr>\n",
       "      <th>matiz</th>\n",
       "    </tr>\n",
       "    <tr>\n",
       "      <th>nubira</th>\n",
       "    </tr>\n",
       "    <tr>\n",
       "      <th>other</th>\n",
       "    </tr>\n",
       "    <tr>\n",
       "      <th rowspan=\"7\" valign=\"top\">daihatsu</th>\n",
       "      <th>charade</th>\n",
       "    </tr>\n",
       "    <tr>\n",
       "      <th>cuore</th>\n",
       "    </tr>\n",
       "    <tr>\n",
       "      <th>materia</th>\n",
       "    </tr>\n",
       "    <tr>\n",
       "      <th>move</th>\n",
       "    </tr>\n",
       "    <tr>\n",
       "      <th>other</th>\n",
       "    </tr>\n",
       "    <tr>\n",
       "      <th>sirion</th>\n",
       "    </tr>\n",
       "    <tr>\n",
       "      <th>terios</th>\n",
       "    </tr>\n",
       "    <tr>\n",
       "      <th rowspan=\"10\" valign=\"top\">fiat</th>\n",
       "      <th>500</th>\n",
       "    </tr>\n",
       "    <tr>\n",
       "      <th>bravo</th>\n",
       "    </tr>\n",
       "    <tr>\n",
       "      <th>croma</th>\n",
       "    </tr>\n",
       "    <tr>\n",
       "      <th>doblo</th>\n",
       "    </tr>\n",
       "    <tr>\n",
       "      <th>ducato</th>\n",
       "    </tr>\n",
       "    <tr>\n",
       "      <th>other</th>\n",
       "    </tr>\n",
       "    <tr>\n",
       "      <th>panda</th>\n",
       "    </tr>\n",
       "    <tr>\n",
       "      <th>punto</th>\n",
       "    </tr>\n",
       "    <tr>\n",
       "      <th>seicento</th>\n",
       "    </tr>\n",
       "    <tr>\n",
       "      <th>stilo</th>\n",
       "    </tr>\n",
       "    <tr>\n",
       "      <th rowspan=\"14\" valign=\"top\">ford</th>\n",
       "      <th>b_max</th>\n",
       "    </tr>\n",
       "    <tr>\n",
       "      <th>c_max</th>\n",
       "    </tr>\n",
       "    <tr>\n",
       "      <th>escort</th>\n",
       "    </tr>\n",
       "    <tr>\n",
       "      <th>fiesta</th>\n",
       "    </tr>\n",
       "    <tr>\n",
       "      <th>focus</th>\n",
       "    </tr>\n",
       "    <tr>\n",
       "      <th>fusion</th>\n",
       "    </tr>\n",
       "    <tr>\n",
       "      <th>galaxy</th>\n",
       "    </tr>\n",
       "    <tr>\n",
       "      <th>ka</th>\n",
       "    </tr>\n",
       "    <tr>\n",
       "      <th>kuga</th>\n",
       "    </tr>\n",
       "    <tr>\n",
       "      <th>mondeo</th>\n",
       "    </tr>\n",
       "    <tr>\n",
       "      <th>mustang</th>\n",
       "    </tr>\n",
       "    <tr>\n",
       "      <th>other</th>\n",
       "    </tr>\n",
       "    <tr>\n",
       "      <th>s_max</th>\n",
       "    </tr>\n",
       "    <tr>\n",
       "      <th>transit</th>\n",
       "    </tr>\n",
       "    <tr>\n",
       "      <th rowspan=\"5\" valign=\"top\">honda</th>\n",
       "      <th>accord</th>\n",
       "    </tr>\n",
       "    <tr>\n",
       "      <th>civic</th>\n",
       "    </tr>\n",
       "    <tr>\n",
       "      <th>cr_reihe</th>\n",
       "    </tr>\n",
       "    <tr>\n",
       "      <th>jazz</th>\n",
       "    </tr>\n",
       "    <tr>\n",
       "      <th>other</th>\n",
       "    </tr>\n",
       "    <tr>\n",
       "      <th rowspan=\"5\" valign=\"top\">hyundai</th>\n",
       "      <th>getz</th>\n",
       "    </tr>\n",
       "    <tr>\n",
       "      <th>i_reihe</th>\n",
       "    </tr>\n",
       "    <tr>\n",
       "      <th>other</th>\n",
       "    </tr>\n",
       "    <tr>\n",
       "      <th>santa</th>\n",
       "    </tr>\n",
       "    <tr>\n",
       "      <th>tucson</th>\n",
       "    </tr>\n",
       "    <tr>\n",
       "      <th rowspan=\"3\" valign=\"top\">jaguar</th>\n",
       "      <th>other</th>\n",
       "    </tr>\n",
       "    <tr>\n",
       "      <th>s_type</th>\n",
       "    </tr>\n",
       "    <tr>\n",
       "      <th>x_type</th>\n",
       "    </tr>\n",
       "    <tr>\n",
       "      <th rowspan=\"4\" valign=\"top\">jeep</th>\n",
       "      <th>cherokee</th>\n",
       "    </tr>\n",
       "    <tr>\n",
       "      <th>grand</th>\n",
       "    </tr>\n",
       "    <tr>\n",
       "      <th>other</th>\n",
       "    </tr>\n",
       "    <tr>\n",
       "      <th>wrangler</th>\n",
       "    </tr>\n",
       "    <tr>\n",
       "      <th rowspan=\"7\" valign=\"top\">kia</th>\n",
       "      <th>carnival</th>\n",
       "    </tr>\n",
       "    <tr>\n",
       "      <th>ceed</th>\n",
       "    </tr>\n",
       "    <tr>\n",
       "      <th>other</th>\n",
       "    </tr>\n",
       "    <tr>\n",
       "      <th>picanto</th>\n",
       "    </tr>\n",
       "    <tr>\n",
       "      <th>rio</th>\n",
       "    </tr>\n",
       "    <tr>\n",
       "      <th>sorento</th>\n",
       "    </tr>\n",
       "    <tr>\n",
       "      <th>sportage</th>\n",
       "    </tr>\n",
       "    <tr>\n",
       "      <th rowspan=\"4\" valign=\"top\">lada</th>\n",
       "      <th>kalina</th>\n",
       "    </tr>\n",
       "    <tr>\n",
       "      <th>niva</th>\n",
       "    </tr>\n",
       "    <tr>\n",
       "      <th>other</th>\n",
       "    </tr>\n",
       "    <tr>\n",
       "      <th>samara</th>\n",
       "    </tr>\n",
       "    <tr>\n",
       "      <th rowspan=\"7\" valign=\"top\">lancia</th>\n",
       "      <th>delta</th>\n",
       "    </tr>\n",
       "    <tr>\n",
       "      <th>elefantino</th>\n",
       "    </tr>\n",
       "    <tr>\n",
       "      <th>kappa</th>\n",
       "    </tr>\n",
       "    <tr>\n",
       "      <th>lybra</th>\n",
       "    </tr>\n",
       "    <tr>\n",
       "      <th>musa</th>\n",
       "    </tr>\n",
       "    <tr>\n",
       "      <th>other</th>\n",
       "    </tr>\n",
       "    <tr>\n",
       "      <th>ypsilon</th>\n",
       "    </tr>\n",
       "    <tr>\n",
       "      <th rowspan=\"10\" valign=\"top\">land_rover</th>\n",
       "      <th>defender</th>\n",
       "    </tr>\n",
       "    <tr>\n",
       "      <th>discovery</th>\n",
       "    </tr>\n",
       "    <tr>\n",
       "      <th>freelander</th>\n",
       "    </tr>\n",
       "    <tr>\n",
       "      <th>other</th>\n",
       "    </tr>\n",
       "    <tr>\n",
       "      <th>range_rover</th>\n",
       "    </tr>\n",
       "    <tr>\n",
       "      <th>range_rover_evoque</th>\n",
       "    </tr>\n",
       "    <tr>\n",
       "      <th>range_rover_sport</th>\n",
       "    </tr>\n",
       "    <tr>\n",
       "      <th>serie_1</th>\n",
       "    </tr>\n",
       "    <tr>\n",
       "      <th>serie_2</th>\n",
       "    </tr>\n",
       "    <tr>\n",
       "      <th>serie_3</th>\n",
       "    </tr>\n",
       "    <tr>\n",
       "      <th rowspan=\"8\" valign=\"top\">mazda</th>\n",
       "      <th>1_reihe</th>\n",
       "    </tr>\n",
       "    <tr>\n",
       "      <th>3_reihe</th>\n",
       "    </tr>\n",
       "    <tr>\n",
       "      <th>5_reihe</th>\n",
       "    </tr>\n",
       "    <tr>\n",
       "      <th>6_reihe</th>\n",
       "    </tr>\n",
       "    <tr>\n",
       "      <th>cx_reihe</th>\n",
       "    </tr>\n",
       "    <tr>\n",
       "      <th>mx_reihe</th>\n",
       "    </tr>\n",
       "    <tr>\n",
       "      <th>other</th>\n",
       "    </tr>\n",
       "    <tr>\n",
       "      <th>rx_reihe</th>\n",
       "    </tr>\n",
       "    <tr>\n",
       "      <th rowspan=\"18\" valign=\"top\">mercedes_benz</th>\n",
       "      <th>a_klasse</th>\n",
       "    </tr>\n",
       "    <tr>\n",
       "      <th>b_klasse</th>\n",
       "    </tr>\n",
       "    <tr>\n",
       "      <th>c_klasse</th>\n",
       "    </tr>\n",
       "    <tr>\n",
       "      <th>cl</th>\n",
       "    </tr>\n",
       "    <tr>\n",
       "      <th>clk</th>\n",
       "    </tr>\n",
       "    <tr>\n",
       "      <th>e_klasse</th>\n",
       "    </tr>\n",
       "    <tr>\n",
       "      <th>g_klasse</th>\n",
       "    </tr>\n",
       "    <tr>\n",
       "      <th>gl</th>\n",
       "    </tr>\n",
       "    <tr>\n",
       "      <th>glk</th>\n",
       "    </tr>\n",
       "    <tr>\n",
       "      <th>m_klasse</th>\n",
       "    </tr>\n",
       "    <tr>\n",
       "      <th>other</th>\n",
       "    </tr>\n",
       "    <tr>\n",
       "      <th>s_klasse</th>\n",
       "    </tr>\n",
       "    <tr>\n",
       "      <th>sl</th>\n",
       "    </tr>\n",
       "    <tr>\n",
       "      <th>slk</th>\n",
       "    </tr>\n",
       "    <tr>\n",
       "      <th>sprinter</th>\n",
       "    </tr>\n",
       "    <tr>\n",
       "      <th>v_klasse</th>\n",
       "    </tr>\n",
       "    <tr>\n",
       "      <th>viano</th>\n",
       "    </tr>\n",
       "    <tr>\n",
       "      <th>vito</th>\n",
       "    </tr>\n",
       "    <tr>\n",
       "      <th rowspan=\"4\" valign=\"top\">mini</th>\n",
       "      <th>clubman</th>\n",
       "    </tr>\n",
       "    <tr>\n",
       "      <th>cooper</th>\n",
       "    </tr>\n",
       "    <tr>\n",
       "      <th>one</th>\n",
       "    </tr>\n",
       "    <tr>\n",
       "      <th>other</th>\n",
       "    </tr>\n",
       "    <tr>\n",
       "      <th rowspan=\"7\" valign=\"top\">mitsubishi</th>\n",
       "      <th>carisma</th>\n",
       "    </tr>\n",
       "    <tr>\n",
       "      <th>colt</th>\n",
       "    </tr>\n",
       "    <tr>\n",
       "      <th>galant</th>\n",
       "    </tr>\n",
       "    <tr>\n",
       "      <th>lancer</th>\n",
       "    </tr>\n",
       "    <tr>\n",
       "      <th>other</th>\n",
       "    </tr>\n",
       "    <tr>\n",
       "      <th>outlander</th>\n",
       "    </tr>\n",
       "    <tr>\n",
       "      <th>pajero</th>\n",
       "    </tr>\n",
       "    <tr>\n",
       "      <th rowspan=\"9\" valign=\"top\">nissan</th>\n",
       "      <th>almera</th>\n",
       "    </tr>\n",
       "    <tr>\n",
       "      <th>juke</th>\n",
       "    </tr>\n",
       "    <tr>\n",
       "      <th>micra</th>\n",
       "    </tr>\n",
       "    <tr>\n",
       "      <th>navara</th>\n",
       "    </tr>\n",
       "    <tr>\n",
       "      <th>note</th>\n",
       "    </tr>\n",
       "    <tr>\n",
       "      <th>other</th>\n",
       "    </tr>\n",
       "    <tr>\n",
       "      <th>primera</th>\n",
       "    </tr>\n",
       "    <tr>\n",
       "      <th>qashqai</th>\n",
       "    </tr>\n",
       "    <tr>\n",
       "      <th>x_trail</th>\n",
       "    </tr>\n",
       "    <tr>\n",
       "      <th rowspan=\"16\" valign=\"top\">opel</th>\n",
       "      <th>agila</th>\n",
       "    </tr>\n",
       "    <tr>\n",
       "      <th>antara</th>\n",
       "    </tr>\n",
       "    <tr>\n",
       "      <th>astra</th>\n",
       "    </tr>\n",
       "    <tr>\n",
       "      <th>calibra</th>\n",
       "    </tr>\n",
       "    <tr>\n",
       "      <th>combo</th>\n",
       "    </tr>\n",
       "    <tr>\n",
       "      <th>corsa</th>\n",
       "    </tr>\n",
       "    <tr>\n",
       "      <th>insignia</th>\n",
       "    </tr>\n",
       "    <tr>\n",
       "      <th>kadett</th>\n",
       "    </tr>\n",
       "    <tr>\n",
       "      <th>meriva</th>\n",
       "    </tr>\n",
       "    <tr>\n",
       "      <th>omega</th>\n",
       "    </tr>\n",
       "    <tr>\n",
       "      <th>other</th>\n",
       "    </tr>\n",
       "    <tr>\n",
       "      <th>signum</th>\n",
       "    </tr>\n",
       "    <tr>\n",
       "      <th>tigra</th>\n",
       "    </tr>\n",
       "    <tr>\n",
       "      <th>vectra</th>\n",
       "    </tr>\n",
       "    <tr>\n",
       "      <th>vivaro</th>\n",
       "    </tr>\n",
       "    <tr>\n",
       "      <th>zafira</th>\n",
       "    </tr>\n",
       "    <tr>\n",
       "      <th rowspan=\"6\" valign=\"top\">peugeot</th>\n",
       "      <th>1_reihe</th>\n",
       "    </tr>\n",
       "    <tr>\n",
       "      <th>2_reihe</th>\n",
       "    </tr>\n",
       "    <tr>\n",
       "      <th>3_reihe</th>\n",
       "    </tr>\n",
       "    <tr>\n",
       "      <th>4_reihe</th>\n",
       "    </tr>\n",
       "    <tr>\n",
       "      <th>5_reihe</th>\n",
       "    </tr>\n",
       "    <tr>\n",
       "      <th>other</th>\n",
       "    </tr>\n",
       "    <tr>\n",
       "      <th rowspan=\"4\" valign=\"top\">porsche</th>\n",
       "      <th>911</th>\n",
       "    </tr>\n",
       "    <tr>\n",
       "      <th>boxster</th>\n",
       "    </tr>\n",
       "    <tr>\n",
       "      <th>cayenne</th>\n",
       "    </tr>\n",
       "    <tr>\n",
       "      <th>other</th>\n",
       "    </tr>\n",
       "    <tr>\n",
       "      <th rowspan=\"10\" valign=\"top\">renault</th>\n",
       "      <th>clio</th>\n",
       "    </tr>\n",
       "    <tr>\n",
       "      <th>espace</th>\n",
       "    </tr>\n",
       "    <tr>\n",
       "      <th>kangoo</th>\n",
       "    </tr>\n",
       "    <tr>\n",
       "      <th>laguna</th>\n",
       "    </tr>\n",
       "    <tr>\n",
       "      <th>megane</th>\n",
       "    </tr>\n",
       "    <tr>\n",
       "      <th>modus</th>\n",
       "    </tr>\n",
       "    <tr>\n",
       "      <th>other</th>\n",
       "    </tr>\n",
       "    <tr>\n",
       "      <th>r19</th>\n",
       "    </tr>\n",
       "    <tr>\n",
       "      <th>scenic</th>\n",
       "    </tr>\n",
       "    <tr>\n",
       "      <th>twingo</th>\n",
       "    </tr>\n",
       "    <tr>\n",
       "      <th rowspan=\"5\" valign=\"top\">rover</th>\n",
       "      <th>defender</th>\n",
       "    </tr>\n",
       "    <tr>\n",
       "      <th>discovery</th>\n",
       "    </tr>\n",
       "    <tr>\n",
       "      <th>freelander</th>\n",
       "    </tr>\n",
       "    <tr>\n",
       "      <th>other</th>\n",
       "    </tr>\n",
       "    <tr>\n",
       "      <th>rangerover</th>\n",
       "    </tr>\n",
       "    <tr>\n",
       "      <th rowspan=\"3\" valign=\"top\">saab</th>\n",
       "      <th>900</th>\n",
       "    </tr>\n",
       "    <tr>\n",
       "      <th>9000</th>\n",
       "    </tr>\n",
       "    <tr>\n",
       "      <th>other</th>\n",
       "    </tr>\n",
       "    <tr>\n",
       "      <th rowspan=\"10\" valign=\"top\">seat</th>\n",
       "      <th>alhambra</th>\n",
       "    </tr>\n",
       "    <tr>\n",
       "      <th>altea</th>\n",
       "    </tr>\n",
       "    <tr>\n",
       "      <th>arosa</th>\n",
       "    </tr>\n",
       "    <tr>\n",
       "      <th>cordoba</th>\n",
       "    </tr>\n",
       "    <tr>\n",
       "      <th>exeo</th>\n",
       "    </tr>\n",
       "    <tr>\n",
       "      <th>ibiza</th>\n",
       "    </tr>\n",
       "    <tr>\n",
       "      <th>leon</th>\n",
       "    </tr>\n",
       "    <tr>\n",
       "      <th>mii</th>\n",
       "    </tr>\n",
       "    <tr>\n",
       "      <th>other</th>\n",
       "    </tr>\n",
       "    <tr>\n",
       "      <th>toledo</th>\n",
       "    </tr>\n",
       "    <tr>\n",
       "      <th rowspan=\"7\" valign=\"top\">skoda</th>\n",
       "      <th>citigo</th>\n",
       "    </tr>\n",
       "    <tr>\n",
       "      <th>fabia</th>\n",
       "    </tr>\n",
       "    <tr>\n",
       "      <th>octavia</th>\n",
       "    </tr>\n",
       "    <tr>\n",
       "      <th>other</th>\n",
       "    </tr>\n",
       "    <tr>\n",
       "      <th>roomster</th>\n",
       "    </tr>\n",
       "    <tr>\n",
       "      <th>superb</th>\n",
       "    </tr>\n",
       "    <tr>\n",
       "      <th>yeti</th>\n",
       "    </tr>\n",
       "    <tr>\n",
       "      <th rowspan=\"4\" valign=\"top\">smart</th>\n",
       "      <th>forfour</th>\n",
       "    </tr>\n",
       "    <tr>\n",
       "      <th>fortwo</th>\n",
       "    </tr>\n",
       "    <tr>\n",
       "      <th>other</th>\n",
       "    </tr>\n",
       "    <tr>\n",
       "      <th>roadster</th>\n",
       "    </tr>\n",
       "    <tr>\n",
       "      <th rowspan=\"5\" valign=\"top\">subaru</th>\n",
       "      <th>forester</th>\n",
       "    </tr>\n",
       "    <tr>\n",
       "      <th>impreza</th>\n",
       "    </tr>\n",
       "    <tr>\n",
       "      <th>justy</th>\n",
       "    </tr>\n",
       "    <tr>\n",
       "      <th>legacy</th>\n",
       "    </tr>\n",
       "    <tr>\n",
       "      <th>other</th>\n",
       "    </tr>\n",
       "    <tr>\n",
       "      <th rowspan=\"4\" valign=\"top\">suzuki</th>\n",
       "      <th>grand</th>\n",
       "    </tr>\n",
       "    <tr>\n",
       "      <th>jimny</th>\n",
       "    </tr>\n",
       "    <tr>\n",
       "      <th>other</th>\n",
       "    </tr>\n",
       "    <tr>\n",
       "      <th>swift</th>\n",
       "    </tr>\n",
       "    <tr>\n",
       "      <th rowspan=\"8\" valign=\"top\">toyota</th>\n",
       "      <th>auris</th>\n",
       "    </tr>\n",
       "    <tr>\n",
       "      <th>avensis</th>\n",
       "    </tr>\n",
       "    <tr>\n",
       "      <th>aygo</th>\n",
       "    </tr>\n",
       "    <tr>\n",
       "      <th>corolla</th>\n",
       "    </tr>\n",
       "    <tr>\n",
       "      <th>other</th>\n",
       "    </tr>\n",
       "    <tr>\n",
       "      <th>rav</th>\n",
       "    </tr>\n",
       "    <tr>\n",
       "      <th>verso</th>\n",
       "    </tr>\n",
       "    <tr>\n",
       "      <th>yaris</th>\n",
       "    </tr>\n",
       "    <tr>\n",
       "      <th rowspan=\"2\" valign=\"top\">trabant</th>\n",
       "      <th>601</th>\n",
       "    </tr>\n",
       "    <tr>\n",
       "      <th>other</th>\n",
       "    </tr>\n",
       "    <tr>\n",
       "      <th rowspan=\"22\" valign=\"top\">volkswagen</th>\n",
       "      <th>amarok</th>\n",
       "    </tr>\n",
       "    <tr>\n",
       "      <th>beetle</th>\n",
       "    </tr>\n",
       "    <tr>\n",
       "      <th>bora</th>\n",
       "    </tr>\n",
       "    <tr>\n",
       "      <th>caddy</th>\n",
       "    </tr>\n",
       "    <tr>\n",
       "      <th>cc</th>\n",
       "    </tr>\n",
       "    <tr>\n",
       "      <th>eos</th>\n",
       "    </tr>\n",
       "    <tr>\n",
       "      <th>fox</th>\n",
       "    </tr>\n",
       "    <tr>\n",
       "      <th>golf</th>\n",
       "    </tr>\n",
       "    <tr>\n",
       "      <th>jetta</th>\n",
       "    </tr>\n",
       "    <tr>\n",
       "      <th>kaefer</th>\n",
       "    </tr>\n",
       "    <tr>\n",
       "      <th>lupo</th>\n",
       "    </tr>\n",
       "    <tr>\n",
       "      <th>other</th>\n",
       "    </tr>\n",
       "    <tr>\n",
       "      <th>passat</th>\n",
       "    </tr>\n",
       "    <tr>\n",
       "      <th>phaeton</th>\n",
       "    </tr>\n",
       "    <tr>\n",
       "      <th>polo</th>\n",
       "    </tr>\n",
       "    <tr>\n",
       "      <th>scirocco</th>\n",
       "    </tr>\n",
       "    <tr>\n",
       "      <th>sharan</th>\n",
       "    </tr>\n",
       "    <tr>\n",
       "      <th>tiguan</th>\n",
       "    </tr>\n",
       "    <tr>\n",
       "      <th>touareg</th>\n",
       "    </tr>\n",
       "    <tr>\n",
       "      <th>touran</th>\n",
       "    </tr>\n",
       "    <tr>\n",
       "      <th>transporter</th>\n",
       "    </tr>\n",
       "    <tr>\n",
       "      <th>up</th>\n",
       "    </tr>\n",
       "    <tr>\n",
       "      <th rowspan=\"9\" valign=\"top\">volvo</th>\n",
       "      <th>850</th>\n",
       "    </tr>\n",
       "    <tr>\n",
       "      <th>c_reihe</th>\n",
       "    </tr>\n",
       "    <tr>\n",
       "      <th>other</th>\n",
       "    </tr>\n",
       "    <tr>\n",
       "      <th>s60</th>\n",
       "    </tr>\n",
       "    <tr>\n",
       "      <th>v40</th>\n",
       "    </tr>\n",
       "    <tr>\n",
       "      <th>v50</th>\n",
       "    </tr>\n",
       "    <tr>\n",
       "      <th>v60</th>\n",
       "    </tr>\n",
       "    <tr>\n",
       "      <th>v70</th>\n",
       "    </tr>\n",
       "    <tr>\n",
       "      <th>xc_reihe</th>\n",
       "    </tr>\n",
       "  </tbody>\n",
       "</table>\n",
       "</div>"
      ],
      "text/plain": [
       "Empty DataFrame\n",
       "Columns: []\n",
       "Index: [(alfa_romeo, 145), (alfa_romeo, 147), (alfa_romeo, 156), (alfa_romeo, 159), (alfa_romeo, other), (alfa_romeo, spider), (audi, 100), (audi, 200), (audi, 80), (audi, 90), (audi, a1), (audi, a2), (audi, a3), (audi, a4), (audi, a5), (audi, a6), (audi, a8), (audi, other), (audi, q3), (audi, q5), (audi, q7), (audi, tt), (bmw, 1er), (bmw, 3er), (bmw, 5er), (bmw, 6er), (bmw, 7er), (bmw, i3), (bmw, m_reihe), (bmw, other), (bmw, x_reihe), (bmw, z_reihe), (chevrolet, aveo), (chevrolet, captiva), (chevrolet, matiz), (chevrolet, other), (chevrolet, spark), (chrysler, 300c), (chrysler, crossfire), (chrysler, grand), (chrysler, other), (chrysler, ptcruiser), (chrysler, voyager), (citroen, berlingo), (citroen, c1), (citroen, c2), (citroen, c3), (citroen, c4), (citroen, c5), (citroen, other), (dacia, duster), (dacia, lodgy), (dacia, logan), (dacia, other), (dacia, sandero), (daewoo, kalos), (daewoo, lanos), (daewoo, matiz), (daewoo, nubira), (daewoo, other), (daihatsu, charade), (daihatsu, cuore), (daihatsu, materia), (daihatsu, move), (daihatsu, other), (daihatsu, sirion), (daihatsu, terios), (fiat, 500), (fiat, bravo), (fiat, croma), (fiat, doblo), (fiat, ducato), (fiat, other), (fiat, panda), (fiat, punto), (fiat, seicento), (fiat, stilo), (ford, b_max), (ford, c_max), (ford, escort), (ford, fiesta), (ford, focus), (ford, fusion), (ford, galaxy), (ford, ka), (ford, kuga), (ford, mondeo), (ford, mustang), (ford, other), (ford, s_max), (ford, transit), (honda, accord), (honda, civic), (honda, cr_reihe), (honda, jazz), (honda, other), (hyundai, getz), (hyundai, i_reihe), (hyundai, other), (hyundai, santa), ...]"
      ]
     },
     "metadata": {},
     "output_type": "display_data"
    }
   ],
   "source": [
    "pd.set_option('display.max_rows', None)\n",
    "display(d_auto[['brand','model']].pivot_table(index=['brand','model']))\n",
    "pd.reset_option('display.max_rows')"
   ]
  },
  {
   "cell_type": "markdown",
   "metadata": {},
   "source": [
    "#### 1.2.4 Формирование даты регистрации автомобиля"
   ]
  },
  {
   "cell_type": "markdown",
   "metadata": {},
   "source": [
    "1. Удалим значения 'registration_month', которые равны нулю\n",
    "2. Сольем 'registration_year' и 'registration_month', так как 'registration_month' как отдельная единица менее осмыслена в сравнении с объединенным значением, а если объединить, то получим вменяемую характеристику, которая в двенадцать раз уточняет возраст автомобиля по сравнению с годом\n",
    "3. Ограничим дату регистрации:\n",
    "    - Сверху --  датой публикации объявления\n",
    "    - Снизу -- датой выпуска первого серийного автомобиля\n",
    "4. Переименовываем 'registration_year' в 'registration_year_month'\n",
    "5. Сносим 'registration_month'"
   ]
  },
  {
   "cell_type": "code",
   "execution_count": 21,
   "metadata": {},
   "outputs": [
    {
     "data": {
      "text/html": [
       "<div>\n",
       "<style scoped>\n",
       "    .dataframe tbody tr th:only-of-type {\n",
       "        vertical-align: middle;\n",
       "    }\n",
       "\n",
       "    .dataframe tbody tr th {\n",
       "        vertical-align: top;\n",
       "    }\n",
       "\n",
       "    .dataframe thead th {\n",
       "        text-align: right;\n",
       "    }\n",
       "</style>\n",
       "<table border=\"1\" class=\"dataframe\">\n",
       "  <thead>\n",
       "    <tr style=\"text-align: right;\">\n",
       "      <th></th>\n",
       "      <th>date_crawled</th>\n",
       "      <th>price</th>\n",
       "      <th>vehicle_type</th>\n",
       "      <th>registration_year_month</th>\n",
       "      <th>gearbox</th>\n",
       "      <th>power</th>\n",
       "      <th>model</th>\n",
       "      <th>kilometer</th>\n",
       "      <th>fuel_type</th>\n",
       "      <th>brand</th>\n",
       "      <th>repaired</th>\n",
       "      <th>date_created</th>\n",
       "      <th>number_of_pictures</th>\n",
       "      <th>postal_code</th>\n",
       "      <th>last_seen</th>\n",
       "    </tr>\n",
       "  </thead>\n",
       "  <tbody>\n",
       "    <tr>\n",
       "      <th>1</th>\n",
       "      <td>2016-03-24 10:58:45</td>\n",
       "      <td>18300</td>\n",
       "      <td>coupe</td>\n",
       "      <td>201105</td>\n",
       "      <td>manual</td>\n",
       "      <td>190</td>\n",
       "      <td>NaN</td>\n",
       "      <td>125000</td>\n",
       "      <td>petrol</td>\n",
       "      <td>audi</td>\n",
       "      <td>yes</td>\n",
       "      <td>201603</td>\n",
       "      <td>0</td>\n",
       "      <td>66954</td>\n",
       "      <td>2016-04-07 01:46:50</td>\n",
       "    </tr>\n",
       "    <tr>\n",
       "      <th>2</th>\n",
       "      <td>2016-03-14 12:52:21</td>\n",
       "      <td>9800</td>\n",
       "      <td>suv</td>\n",
       "      <td>200408</td>\n",
       "      <td>auto</td>\n",
       "      <td>163</td>\n",
       "      <td>grand</td>\n",
       "      <td>125000</td>\n",
       "      <td>petrol</td>\n",
       "      <td>jeep</td>\n",
       "      <td>NaN</td>\n",
       "      <td>201603</td>\n",
       "      <td>0</td>\n",
       "      <td>90480</td>\n",
       "      <td>2016-04-05 12:47:46</td>\n",
       "    </tr>\n",
       "  </tbody>\n",
       "</table>\n",
       "</div>"
      ],
      "text/plain": [
       "          date_crawled  price vehicle_type  registration_year_month gearbox  \\\n",
       "1  2016-03-24 10:58:45  18300        coupe                   201105  manual   \n",
       "2  2016-03-14 12:52:21   9800          suv                   200408    auto   \n",
       "\n",
       "   power  model  kilometer fuel_type brand repaired  date_created  \\\n",
       "1    190    NaN     125000    petrol  audi      yes        201603   \n",
       "2    163  grand     125000    petrol  jeep      NaN        201603   \n",
       "\n",
       "   number_of_pictures  postal_code            last_seen  \n",
       "1                   0        66954  2016-04-07 01:46:50  \n",
       "2                   0        90480  2016-04-05 12:47:46  "
      ]
     },
     "metadata": {},
     "output_type": "display_data"
    },
    {
     "name": "stdout",
     "output_type": "stream",
     "text": [
      "<class 'pandas.core.frame.DataFrame'>\n",
      "Index: 300940 entries, 1 to 354368\n",
      "Data columns (total 15 columns):\n",
      " #   Column                   Non-Null Count   Dtype \n",
      "---  ------                   --------------   ----- \n",
      " 0   date_crawled             300940 non-null  object\n",
      " 1   price                    300940 non-null  int64 \n",
      " 2   vehicle_type             294394 non-null  object\n",
      " 3   registration_year_month  300940 non-null  int64 \n",
      " 4   gearbox                  292260 non-null  object\n",
      " 5   power                    300940 non-null  int64 \n",
      " 6   model                    289795 non-null  object\n",
      " 7   kilometer                300940 non-null  int64 \n",
      " 8   fuel_type                287967 non-null  object\n",
      " 9   brand                    300940 non-null  object\n",
      " 10  repaired                 258161 non-null  object\n",
      " 11  date_created             300940 non-null  int32 \n",
      " 12  number_of_pictures       300940 non-null  int64 \n",
      " 13  postal_code              300940 non-null  int64 \n",
      " 14  last_seen                300940 non-null  object\n",
      "dtypes: int32(1), int64(6), object(8)\n",
      "memory usage: 35.6+ MB\n"
     ]
    }
   ],
   "source": [
    "d_auto = d_auto.loc[d_auto['registration_month'] > 0, :]\n",
    "\n",
    "d_auto['registration_year'] = d_auto['registration_year'] * 100 + d_auto['registration_month']\n",
    "d_auto['date_created'] = (d_auto['date_created'].str[:4] + d_auto['date_created'].astype('str').str[5:7]).astype('int')\n",
    "\n",
    "d_auto = d_auto.loc[(d_auto['registration_year'] <= d_auto['date_created']) & \\\n",
    "                    (d_auto['registration_year'] >= 1885), :]\n",
    "\n",
    "d_auto = d_auto.rename(columns={'registration_year':'registration_year_month'})\n",
    "d_auto = d_auto.drop('registration_month', axis = 1)\n",
    "\n",
    "display(d_auto.head(2))\n",
    "d_auto.info()"
   ]
  },
  {
   "cell_type": "markdown",
   "metadata": {},
   "source": [
    "#### 1.2.5 Обработка пропусков"
   ]
  },
  {
   "cell_type": "markdown",
   "metadata": {},
   "source": [
    "Заполним пропуски в категориальных переменных 'vehicle_type', 'gearbox', 'model', 'fuel_type', 'repaired'.\n",
    "К сожалению, в рамках каждой марки одного года может быть разные типы кузова, трансмиссии и топлива, поэтому мы не сможем ни удалить эти столбцы, ни заполнить их.  \n",
    "Поэтому пропуски заполняем значением 'other', которое и так используется в исходном датасете."
   ]
  },
  {
   "cell_type": "code",
   "execution_count": 22,
   "metadata": {},
   "outputs": [],
   "source": [
    "d_auto[['vehicle_type', 'gearbox', 'model', 'fuel_type', 'repaired']] = \\\n",
    "d_auto[['vehicle_type', 'gearbox', 'model', 'fuel_type', 'repaired']].fillna('other')"
   ]
  },
  {
   "cell_type": "markdown",
   "metadata": {},
   "source": [
    "Ну и удалим совсем уж \"мусорные\" записи, где other во всех предзаполненных значениях"
   ]
  },
  {
   "cell_type": "code",
   "execution_count": 23,
   "metadata": {},
   "outputs": [
    {
     "data": {
      "text/plain": [
       "(300627, 15)"
      ]
     },
     "execution_count": 23,
     "metadata": {},
     "output_type": "execute_result"
    }
   ],
   "source": [
    "d_auto = d_auto.loc[~((d_auto['vehicle_type'] == 'other') & (d_auto['gearbox'] == 'other') & \\\n",
    "           (d_auto['model'] == 'other') & (d_auto['fuel_type'] == 'other') & (d_auto['repaired'] == 'other')), :]\n",
    "d_auto.shape"
   ]
  },
  {
   "cell_type": "markdown",
   "metadata": {},
   "source": [
    "#### 1.2.6 Обработка выбросов"
   ]
  },
  {
   "cell_type": "markdown",
   "metadata": {},
   "source": [
    "Выбросы замечены в переменных 'registration_year' (уже обработано), 'power' и 'price'.  \n",
    "В серийных автомобилях мощность двигателя не превышает 2 000 лошадиных сил, удалим значения больше.\n",
    "Ну и удалим нулевые значения."
   ]
  },
  {
   "cell_type": "code",
   "execution_count": 24,
   "metadata": {},
   "outputs": [
    {
     "data": {
      "text/plain": [
       "(279406, 15)"
      ]
     },
     "execution_count": 24,
     "metadata": {},
     "output_type": "execute_result"
    }
   ],
   "source": [
    "d_auto = d_auto.loc[(d_auto['power'] <= 2000) & (d_auto['power'] > 0), :]\n",
    "d_auto.shape"
   ]
  },
  {
   "cell_type": "markdown",
   "metadata": {},
   "source": [
    "Точно также поступим с автомобилями, которые дешевле 100 евро:"
   ]
  },
  {
   "cell_type": "code",
   "execution_count": 25,
   "metadata": {
    "scrolled": true
   },
   "outputs": [
    {
     "data": {
      "text/plain": [
       "(274163, 15)"
      ]
     },
     "execution_count": 25,
     "metadata": {},
     "output_type": "execute_result"
    }
   ],
   "source": [
    "d_auto = d_auto.loc[d_auto['price'] >= 100, :]\n",
    "d_auto.shape"
   ]
  },
  {
   "cell_type": "markdown",
   "metadata": {},
   "source": [
    "#### 1.2.7 Удаление признаков"
   ]
  },
  {
   "cell_type": "markdown",
   "metadata": {},
   "source": [
    "Как и планировали в П1.1, удаляем признаки, которые относятся к объявлению, а не автомобилю.\n",
    "\n",
    "Они нам понадобились на предобработке, на обучении будут мешать. Более того, столбец \"number_of_pictures\", например, явно поломан -- там только нули."
   ]
  },
  {
   "cell_type": "code",
   "execution_count": 26,
   "metadata": {
    "scrolled": true
   },
   "outputs": [
    {
     "data": {
      "text/html": [
       "<div>\n",
       "<style scoped>\n",
       "    .dataframe tbody tr th:only-of-type {\n",
       "        vertical-align: middle;\n",
       "    }\n",
       "\n",
       "    .dataframe tbody tr th {\n",
       "        vertical-align: top;\n",
       "    }\n",
       "\n",
       "    .dataframe thead th {\n",
       "        text-align: right;\n",
       "    }\n",
       "</style>\n",
       "<table border=\"1\" class=\"dataframe\">\n",
       "  <thead>\n",
       "    <tr style=\"text-align: right;\">\n",
       "      <th></th>\n",
       "      <th>price</th>\n",
       "      <th>vehicle_type</th>\n",
       "      <th>registration_year_month</th>\n",
       "      <th>gearbox</th>\n",
       "      <th>power</th>\n",
       "      <th>model</th>\n",
       "      <th>kilometer</th>\n",
       "      <th>fuel_type</th>\n",
       "      <th>brand</th>\n",
       "      <th>repaired</th>\n",
       "    </tr>\n",
       "  </thead>\n",
       "  <tbody>\n",
       "    <tr>\n",
       "      <th>0</th>\n",
       "      <td>18300</td>\n",
       "      <td>coupe</td>\n",
       "      <td>201105</td>\n",
       "      <td>manual</td>\n",
       "      <td>190</td>\n",
       "      <td>other</td>\n",
       "      <td>125000</td>\n",
       "      <td>petrol</td>\n",
       "      <td>audi</td>\n",
       "      <td>yes</td>\n",
       "    </tr>\n",
       "    <tr>\n",
       "      <th>1</th>\n",
       "      <td>9800</td>\n",
       "      <td>suv</td>\n",
       "      <td>200408</td>\n",
       "      <td>auto</td>\n",
       "      <td>163</td>\n",
       "      <td>grand</td>\n",
       "      <td>125000</td>\n",
       "      <td>petrol</td>\n",
       "      <td>jeep</td>\n",
       "      <td>other</td>\n",
       "    </tr>\n",
       "    <tr>\n",
       "      <th>2</th>\n",
       "      <td>1500</td>\n",
       "      <td>small</td>\n",
       "      <td>200106</td>\n",
       "      <td>manual</td>\n",
       "      <td>75</td>\n",
       "      <td>golf</td>\n",
       "      <td>150000</td>\n",
       "      <td>petrol</td>\n",
       "      <td>volkswagen</td>\n",
       "      <td>no</td>\n",
       "    </tr>\n",
       "    <tr>\n",
       "      <th>3</th>\n",
       "      <td>3600</td>\n",
       "      <td>small</td>\n",
       "      <td>200807</td>\n",
       "      <td>manual</td>\n",
       "      <td>69</td>\n",
       "      <td>fabia</td>\n",
       "      <td>90000</td>\n",
       "      <td>petrol</td>\n",
       "      <td>skoda</td>\n",
       "      <td>no</td>\n",
       "    </tr>\n",
       "    <tr>\n",
       "      <th>4</th>\n",
       "      <td>650</td>\n",
       "      <td>sedan</td>\n",
       "      <td>199510</td>\n",
       "      <td>manual</td>\n",
       "      <td>102</td>\n",
       "      <td>3er</td>\n",
       "      <td>150000</td>\n",
       "      <td>petrol</td>\n",
       "      <td>bmw</td>\n",
       "      <td>yes</td>\n",
       "    </tr>\n",
       "  </tbody>\n",
       "</table>\n",
       "</div>"
      ],
      "text/plain": [
       "   price vehicle_type  registration_year_month gearbox  power  model  \\\n",
       "0  18300        coupe                   201105  manual    190  other   \n",
       "1   9800          suv                   200408    auto    163  grand   \n",
       "2   1500        small                   200106  manual     75   golf   \n",
       "3   3600        small                   200807  manual     69  fabia   \n",
       "4    650        sedan                   199510  manual    102    3er   \n",
       "\n",
       "   kilometer fuel_type       brand repaired  \n",
       "0     125000    petrol        audi      yes  \n",
       "1     125000    petrol        jeep    other  \n",
       "2     150000    petrol  volkswagen       no  \n",
       "3      90000    petrol       skoda       no  \n",
       "4     150000    petrol         bmw      yes  "
      ]
     },
     "metadata": {},
     "output_type": "display_data"
    },
    {
     "name": "stdout",
     "output_type": "stream",
     "text": [
      "\n"
     ]
    },
    {
     "data": {
      "text/plain": [
       "(274163, 10)"
      ]
     },
     "metadata": {},
     "output_type": "display_data"
    },
    {
     "name": "stdout",
     "output_type": "stream",
     "text": [
      "<class 'pandas.core.frame.DataFrame'>\n",
      "RangeIndex: 274163 entries, 0 to 274162\n",
      "Data columns (total 10 columns):\n",
      " #   Column                   Non-Null Count   Dtype \n",
      "---  ------                   --------------   ----- \n",
      " 0   price                    274163 non-null  int64 \n",
      " 1   vehicle_type             274163 non-null  object\n",
      " 2   registration_year_month  274163 non-null  int64 \n",
      " 3   gearbox                  274163 non-null  object\n",
      " 4   power                    274163 non-null  int64 \n",
      " 5   model                    274163 non-null  object\n",
      " 6   kilometer                274163 non-null  int64 \n",
      " 7   fuel_type                274163 non-null  object\n",
      " 8   brand                    274163 non-null  object\n",
      " 9   repaired                 274163 non-null  object\n",
      "dtypes: int64(4), object(6)\n",
      "memory usage: 20.9+ MB\n"
     ]
    }
   ],
   "source": [
    "d_auto = \\\n",
    "d_auto.drop(['date_crawled', 'date_created', 'number_of_pictures', 'postal_code', 'last_seen'], axis = 1).reset_index(drop=True)\n",
    "\n",
    "display(d_auto.head(5))\n",
    "print()\n",
    "display(d_auto.shape)\n",
    "d_auto.info()"
   ]
  },
  {
   "cell_type": "markdown",
   "metadata": {},
   "source": [
    "#### 1.2.8 Проверка на дубликаты после удаления признаков\n"
   ]
  },
  {
   "cell_type": "code",
   "execution_count": 27,
   "metadata": {},
   "outputs": [
    {
     "data": {
      "text/html": [
       "<div>\n",
       "<style scoped>\n",
       "    .dataframe tbody tr th:only-of-type {\n",
       "        vertical-align: middle;\n",
       "    }\n",
       "\n",
       "    .dataframe tbody tr th {\n",
       "        vertical-align: top;\n",
       "    }\n",
       "\n",
       "    .dataframe thead th {\n",
       "        text-align: right;\n",
       "    }\n",
       "</style>\n",
       "<table border=\"1\" class=\"dataframe\">\n",
       "  <thead>\n",
       "    <tr style=\"text-align: right;\">\n",
       "      <th></th>\n",
       "      <th>price</th>\n",
       "      <th>vehicle_type</th>\n",
       "      <th>registration_year_month</th>\n",
       "      <th>gearbox</th>\n",
       "      <th>power</th>\n",
       "      <th>model</th>\n",
       "      <th>kilometer</th>\n",
       "      <th>fuel_type</th>\n",
       "      <th>brand</th>\n",
       "      <th>repaired</th>\n",
       "    </tr>\n",
       "  </thead>\n",
       "  <tbody>\n",
       "    <tr>\n",
       "      <th>2710</th>\n",
       "      <td>1670</td>\n",
       "      <td>sedan</td>\n",
       "      <td>199908</td>\n",
       "      <td>manual</td>\n",
       "      <td>75</td>\n",
       "      <td>golf</td>\n",
       "      <td>150000</td>\n",
       "      <td>petrol</td>\n",
       "      <td>volkswagen</td>\n",
       "      <td>no</td>\n",
       "    </tr>\n",
       "    <tr>\n",
       "      <th>2894</th>\n",
       "      <td>2999</td>\n",
       "      <td>sedan</td>\n",
       "      <td>200206</td>\n",
       "      <td>manual</td>\n",
       "      <td>101</td>\n",
       "      <td>golf</td>\n",
       "      <td>150000</td>\n",
       "      <td>petrol</td>\n",
       "      <td>volkswagen</td>\n",
       "      <td>no</td>\n",
       "    </tr>\n",
       "    <tr>\n",
       "      <th>2982</th>\n",
       "      <td>500</td>\n",
       "      <td>small</td>\n",
       "      <td>199912</td>\n",
       "      <td>manual</td>\n",
       "      <td>55</td>\n",
       "      <td>corsa</td>\n",
       "      <td>150000</td>\n",
       "      <td>petrol</td>\n",
       "      <td>opel</td>\n",
       "      <td>no</td>\n",
       "    </tr>\n",
       "    <tr>\n",
       "      <th>3154</th>\n",
       "      <td>18750</td>\n",
       "      <td>sedan</td>\n",
       "      <td>201409</td>\n",
       "      <td>manual</td>\n",
       "      <td>150</td>\n",
       "      <td>golf</td>\n",
       "      <td>20000</td>\n",
       "      <td>petrol</td>\n",
       "      <td>volkswagen</td>\n",
       "      <td>no</td>\n",
       "    </tr>\n",
       "    <tr>\n",
       "      <th>3223</th>\n",
       "      <td>14500</td>\n",
       "      <td>wagon</td>\n",
       "      <td>200703</td>\n",
       "      <td>manual</td>\n",
       "      <td>140</td>\n",
       "      <td>a6</td>\n",
       "      <td>100000</td>\n",
       "      <td>petrol</td>\n",
       "      <td>audi</td>\n",
       "      <td>no</td>\n",
       "    </tr>\n",
       "    <tr>\n",
       "      <th>...</th>\n",
       "      <td>...</td>\n",
       "      <td>...</td>\n",
       "      <td>...</td>\n",
       "      <td>...</td>\n",
       "      <td>...</td>\n",
       "      <td>...</td>\n",
       "      <td>...</td>\n",
       "      <td>...</td>\n",
       "      <td>...</td>\n",
       "      <td>...</td>\n",
       "    </tr>\n",
       "    <tr>\n",
       "      <th>274126</th>\n",
       "      <td>1500</td>\n",
       "      <td>sedan</td>\n",
       "      <td>199904</td>\n",
       "      <td>manual</td>\n",
       "      <td>75</td>\n",
       "      <td>golf</td>\n",
       "      <td>150000</td>\n",
       "      <td>petrol</td>\n",
       "      <td>volkswagen</td>\n",
       "      <td>other</td>\n",
       "    </tr>\n",
       "    <tr>\n",
       "      <th>274131</th>\n",
       "      <td>12800</td>\n",
       "      <td>convertible</td>\n",
       "      <td>199107</td>\n",
       "      <td>manual</td>\n",
       "      <td>211</td>\n",
       "      <td>other</td>\n",
       "      <td>150000</td>\n",
       "      <td>petrol</td>\n",
       "      <td>porsche</td>\n",
       "      <td>no</td>\n",
       "    </tr>\n",
       "    <tr>\n",
       "      <th>274136</th>\n",
       "      <td>13850</td>\n",
       "      <td>wagon</td>\n",
       "      <td>201210</td>\n",
       "      <td>manual</td>\n",
       "      <td>156</td>\n",
       "      <td>accord</td>\n",
       "      <td>125000</td>\n",
       "      <td>petrol</td>\n",
       "      <td>honda</td>\n",
       "      <td>no</td>\n",
       "    </tr>\n",
       "    <tr>\n",
       "      <th>274150</th>\n",
       "      <td>6500</td>\n",
       "      <td>sedan</td>\n",
       "      <td>200303</td>\n",
       "      <td>auto</td>\n",
       "      <td>145</td>\n",
       "      <td>e_klasse</td>\n",
       "      <td>150000</td>\n",
       "      <td>petrol</td>\n",
       "      <td>mercedes_benz</td>\n",
       "      <td>no</td>\n",
       "    </tr>\n",
       "    <tr>\n",
       "      <th>274153</th>\n",
       "      <td>4400</td>\n",
       "      <td>sedan</td>\n",
       "      <td>200807</td>\n",
       "      <td>manual</td>\n",
       "      <td>105</td>\n",
       "      <td>leon</td>\n",
       "      <td>150000</td>\n",
       "      <td>petrol</td>\n",
       "      <td>seat</td>\n",
       "      <td>no</td>\n",
       "    </tr>\n",
       "  </tbody>\n",
       "</table>\n",
       "<p>22440 rows × 10 columns</p>\n",
       "</div>"
      ],
      "text/plain": [
       "        price vehicle_type  registration_year_month gearbox  power     model  \\\n",
       "2710     1670        sedan                   199908  manual     75      golf   \n",
       "2894     2999        sedan                   200206  manual    101      golf   \n",
       "2982      500        small                   199912  manual     55     corsa   \n",
       "3154    18750        sedan                   201409  manual    150      golf   \n",
       "3223    14500        wagon                   200703  manual    140        a6   \n",
       "...       ...          ...                      ...     ...    ...       ...   \n",
       "274126   1500        sedan                   199904  manual     75      golf   \n",
       "274131  12800  convertible                   199107  manual    211     other   \n",
       "274136  13850        wagon                   201210  manual    156    accord   \n",
       "274150   6500        sedan                   200303    auto    145  e_klasse   \n",
       "274153   4400        sedan                   200807  manual    105      leon   \n",
       "\n",
       "        kilometer fuel_type          brand repaired  \n",
       "2710       150000    petrol     volkswagen       no  \n",
       "2894       150000    petrol     volkswagen       no  \n",
       "2982       150000    petrol           opel       no  \n",
       "3154        20000    petrol     volkswagen       no  \n",
       "3223       100000    petrol           audi       no  \n",
       "...           ...       ...            ...      ...  \n",
       "274126     150000    petrol     volkswagen    other  \n",
       "274131     150000    petrol        porsche       no  \n",
       "274136     125000    petrol          honda       no  \n",
       "274150     150000    petrol  mercedes_benz       no  \n",
       "274153     150000    petrol           seat       no  \n",
       "\n",
       "[22440 rows x 10 columns]"
      ]
     },
     "execution_count": 27,
     "metadata": {},
     "output_type": "execute_result"
    }
   ],
   "source": [
    "d_auto.loc[d_auto.duplicated() == 1, :]"
   ]
  },
  {
   "cell_type": "code",
   "execution_count": 28,
   "metadata": {
    "scrolled": true
   },
   "outputs": [
    {
     "data": {
      "text/plain": [
       "(251723, 10)"
      ]
     },
     "execution_count": 28,
     "metadata": {},
     "output_type": "execute_result"
    }
   ],
   "source": [
    "d_auto = d_auto.drop_duplicates()\n",
    "d_auto.shape"
   ]
  },
  {
   "cell_type": "markdown",
   "metadata": {},
   "source": [
    "<font color='blue'><b>Комментарий ревьюера 2: </b></font> ✔️\\\n",
    "<font color='green'> 👍</font>"
   ]
  },
  {
   "cell_type": "markdown",
   "metadata": {},
   "source": [
    "Выделим на будущее оставшиеся категориальные и числовые признаки:"
   ]
  },
  {
   "cell_type": "code",
   "execution_count": 29,
   "metadata": {},
   "outputs": [],
   "source": [
    "# Выделяем категориальные признаки:\n",
    "cat_features = []\n",
    "for col in d_auto.columns:\n",
    "    if str(d_auto[col].dtype) == 'object':\n",
    "        cat_features.append(col)\n",
    "        \n",
    "# Выделяем численные признаки:        \n",
    "num_features = list(set(list(d_auto.columns)) - set(cat_features) - set(['price']))"
   ]
  },
  {
   "cell_type": "markdown",
   "metadata": {},
   "source": [
    "**Промежуточные выводы.**\n",
    "\n",
    "На этапе предобработки:\n",
    " \n",
    "1. Переименовали колонки\n",
    "2. Удалены пять признаков, которые не влияют на стоимость автомобиля\n",
    "3. Удалены полные дубли (**4** записи удалено)\n",
    "4. Объединены значения синонимы в столбце \"FuelType\"\n",
    "5. Объединены дата и месяц регистрации автомобиля, строки с нулевыми годами и месяцами удалены (**53 425** записей удалено)\n",
    "6. Для категориальных переменных обработаны пропуски -- заменены на значение 'other' (**313** записей с практически пустыми категориальными признаками)\n",
    "7. Для количественых переменных обработаны выбросы:\n",
    "    * **21 221** запись удалена с выбросами по переменной power, остались значения 0 < power <= 2 000 лошадиных сил\n",
    "    * **5 243** записи удалены с выбросами по переменной price, остались значения price >= 100 евро\n",
    "8. После удаления признаков при повторной проверке были удалены еще **22 440** записей дубликатов\n",
    "\n",
    "В итоге размеры датафрейма уменьшились на 27% по строкам и на 37.% по столбцам:  \n",
    "**с (354 369 Х 16) на (251 723 Х 10)**"
   ]
  },
  {
   "cell_type": "markdown",
   "metadata": {},
   "source": [
    "## Шаг 2 Подготовка выборок"
   ]
  },
  {
   "cell_type": "markdown",
   "metadata": {},
   "source": [
    "Обучать будем четыре модели, каждая из которых требует свой подход к обработке категориальных переменных:  \n",
    "\n",
    "| Модель | One-Hot Encoding | Ordinal Encoding  | Category Data Type |\n",
    "| :--- | :---: | :---: | :---: |\n",
    "| **LinearRegression** | ✔ |  |  |\n",
    "| **DecisionTreeRegressor** |  | ✔ |  |\n",
    "| **CatBoostRegressor** |  |  | ✔ |\n",
    "| **LGBMRegressor** |  |  | ✔ |"
   ]
  },
  {
   "cell_type": "markdown",
   "metadata": {},
   "source": [
    "На текущий момент мне сложно принять решение, по какому пути пойти -- использовать перекрёстную проверку или нет.  \n",
    "С одной стороны, данных у нас достаточно, можно сократить время подбора гиперпараметров, с другой -- перекрестная проверка дает более точный результат.\n",
    "\n",
    "Решил посмотреть и так, и так.\n",
    "\n",
    "**NB!** Сравнивать результаты буду сугубо внутри подходов отдельно."
   ]
  },
  {
   "cell_type": "markdown",
   "metadata": {},
   "source": [
    "Выделим целевой признак:"
   ]
  },
  {
   "cell_type": "code",
   "execution_count": 30,
   "metadata": {},
   "outputs": [],
   "source": [
    "features = d_auto.drop('price', axis=1)\n",
    "target = d_auto['price']"
   ]
  },
  {
   "cell_type": "markdown",
   "metadata": {},
   "source": [
    "Определим функцию **features_split**, которая получает на вход features и target, возвращает набор тренировочных, валидационных (опционально) и тестовых выборок."
   ]
  },
  {
   "cell_type": "code",
   "execution_count": 31,
   "metadata": {},
   "outputs": [],
   "source": [
    "def features_split(f, t, mode='hold_out'):\n",
    "    \n",
    "#     Задаем поле для графиков\n",
    "    fig, ax = plt.subplots(figsize=(12,5))\n",
    "    \n",
    "#     Делим выборки в зависимости от режима\n",
    "#     hold_out -- без перекрестной проверки с зафиксированной валидационной выборкой (60-20-20)\n",
    "#     cross_validation -- с перекрестной проверкой (75-25)\n",
    "    if mode == 'hold_out':\n",
    "        \n",
    "        f_train, f_temp, t_train, t_temp = train_test_split(f, t, test_size=0.4,\\\n",
    "                                                                            random_state=RAND_FIX)\n",
    "        f_valid, f_test, t_valid, t_test = train_test_split(f_temp, t_temp, test_size=0.5,\\\n",
    "                                                                            random_state=RAND_FIX)\n",
    "        tribe = [f_train, t_train, f_valid, t_valid, f_test, t_test]\n",
    "        legend = ['Тренировочная выборка','Валидационная выборка', 'Тестовая выборка']\n",
    "                \n",
    "    elif mode == 'cross_validation':\n",
    "            \n",
    "        f_train, f_test, t_train, t_test = train_test_split(f, t, test_size=0.25,\\\n",
    "                                                                            random_state=RAND_FIX)\n",
    "        tribe = [f_train, t_train, f_test, t_test]\n",
    "        legend = ['Тренировочная выборка', 'Тестовая выборка']\n",
    "        \n",
    "    else:\n",
    "        print('Некорректные параметры')\n",
    "        return\n",
    "    \n",
    "#     Проверяем размеры выборок\n",
    "    print('Размеры выборок:')\n",
    "        \n",
    "    for i in range(len(tribe)):\n",
    "        tribe[i] = tribe[i].reset_index(drop=True)\n",
    "        print(tribe[i].shape)\n",
    "    \n",
    "    print()\n",
    "\n",
    "#     Считаем уникальные значения в категориальных переменных\n",
    "    for col in cat_features:\n",
    "        print('Количество уникальных данных в колонке', col)\n",
    "        for i in range(0, len(tribe), 2):\n",
    "            print(len(tribe[i][col].unique()), end = ' ')\n",
    "        print()\n",
    "    \n",
    "#     Отрисовываем графики распределения целевого признака (с нормализацией)\n",
    "    for i in range(1, len(tribe), 2):\n",
    "        tribe[i].plot.kde(bw_method=0.2)\n",
    "    \n",
    "    ax.set_title('Распределение целевого признака в выборках', fontsize=14)\n",
    "    ax.legend(legend, loc='upper right')\n",
    "    ax.set_xlabel('Стоимость автомобиля')\n",
    "    ax.set_ylabel('Плотность распределения')\n",
    "    \n",
    "    if mode == 'hold_out':\n",
    "        return tribe[0], tribe[1], tribe[2], tribe[3], tribe[4], tribe[5]\n",
    "                \n",
    "    elif mode == 'cross_validation':\n",
    "        return tribe[0], tribe[1], tribe[2], tribe[3]"
   ]
  },
  {
   "cell_type": "markdown",
   "metadata": {},
   "source": [
    "### 2.1 Подготовка выборок (с валидационной выборкой)"
   ]
  },
  {
   "cell_type": "markdown",
   "metadata": {},
   "source": [
    "#### 2.1.1 Разделение (с валидационной выборкой)"
   ]
  },
  {
   "cell_type": "code",
   "execution_count": 32,
   "metadata": {},
   "outputs": [
    {
     "name": "stdout",
     "output_type": "stream",
     "text": [
      "Размеры выборок:\n",
      "(151033, 9)\n",
      "(151033,)\n",
      "(50345, 9)\n",
      "(50345,)\n",
      "(50345, 9)\n",
      "(50345,)\n",
      "\n",
      "Количество уникальных данных в колонке vehicle_type\n",
      "8 8 8 \n",
      "Количество уникальных данных в колонке gearbox\n",
      "3 3 3 \n",
      "Количество уникальных данных в колонке model\n",
      "248 244 243 \n",
      "Количество уникальных данных в колонке fuel_type\n",
      "6 6 6 \n",
      "Количество уникальных данных в колонке brand\n",
      "40 40 40 \n",
      "Количество уникальных данных в колонке repaired\n",
      "3 3 3 \n"
     ]
    },
    {
     "data": {
      "image/png": "[encoded data removed]",
      "text/plain": [
       "<Figure size 1200x500 with 1 Axes>"
      ]
     },
     "metadata": {},
     "output_type": "display_data"
    }
   ],
   "source": [
    "features_train_ho, target_train_ho, features_valid_ho, target_valid_ho, features_test_ho, target_test_ho = \\\n",
    "features_split (features, target, mode='hold_out')"
   ]
  },
  {
   "cell_type": "markdown",
   "metadata": {},
   "source": [
    "1. Строки порезались корректно - в соотношении 60 : 20 : 20\n",
    "2. Категориальные признаки распределились неравномерно по столбцу \"model\". Следует предусмотреть это при обучении энкодеров -- использовать параметры handle_unknown и unknown_value\n",
    "3. Распределение значений целевого признака совпадает по выборкам"
   ]
  },
  {
   "cell_type": "markdown",
   "metadata": {},
   "source": [
    "#### 2.1.2 Кодирование категориальных признаков (с валидационной выборкой)"
   ]
  },
  {
   "cell_type": "markdown",
   "metadata": {},
   "source": [
    "Обучим энкодеры для One-Hot Encoding и Ordinal Encoding:"
   ]
  },
  {
   "cell_type": "code",
   "execution_count": 33,
   "metadata": {},
   "outputs": [],
   "source": [
    "o_encoder = OrdinalEncoder(handle_unknown='use_encoded_value', unknown_value=300) \n",
    "o_encoder.fit(features_train_ho[cat_features])\n",
    "\n",
    "o_h_encoder = OneHotEncoder(handle_unknown='ignore', drop='first')\n",
    "o_h_encoder.fit(features_train_ho[cat_features])\n",
    "display()"
   ]
  },
  {
   "cell_type": "markdown",
   "metadata": {},
   "source": [
    "Определим функцию **features_prep**, котрая получает на вход выборку с признаками, возвращает выборки с закодированными признаками:"
   ]
  },
  {
   "cell_type": "code",
   "execution_count": 34,
   "metadata": {},
   "outputs": [],
   "source": [
    "def features_prep (f):\n",
    "    \n",
    "# Готовим One-Hot Encoding\n",
    "    f_ohe = f.join(pd.DataFrame(o_h_encoder.transform(f[cat_features]).toarray(), \\\n",
    "                                                          columns=o_h_encoder.get_feature_names_out()))\n",
    "    f_ohe = f_ohe.drop(cat_features, axis=1)\n",
    "    print('OHE shape:', f_ohe.shape, '\\n')\n",
    "    display(f_ohe.head(2))\n",
    "\n",
    "# Готовим Ordinal Encoding\n",
    "    f_oe = f.copy()\n",
    "    f_oe[cat_features] = o_encoder.transform(f_oe[cat_features])\n",
    "    print('OE shape:', f_oe.shape)\n",
    "    display(f_oe.head(2))\n",
    "    \n",
    "# Готовим Category Data Type\n",
    "    f_cat = f.copy()\n",
    "    f_cat[cat_features] = f_cat[cat_features].astype('category')\n",
    "    print('\\nCat info:\\n')\n",
    "    f_cat.info()\n",
    "    \n",
    "    return f_ohe, f_oe, f_cat"
   ]
  },
  {
   "cell_type": "markdown",
   "metadata": {},
   "source": [
    "Закодируем признаки для features_train_ho:"
   ]
  },
  {
   "cell_type": "code",
   "execution_count": 35,
   "metadata": {},
   "outputs": [
    {
     "name": "stdout",
     "output_type": "stream",
     "text": [
      "OHE shape: (151033, 305) \n",
      "\n"
     ]
    },
    {
     "data": {
      "text/html": [
       "<div>\n",
       "<style scoped>\n",
       "    .dataframe tbody tr th:only-of-type {\n",
       "        vertical-align: middle;\n",
       "    }\n",
       "\n",
       "    .dataframe tbody tr th {\n",
       "        vertical-align: top;\n",
       "    }\n",
       "\n",
       "    .dataframe thead th {\n",
       "        text-align: right;\n",
       "    }\n",
       "</style>\n",
       "<table border=\"1\" class=\"dataframe\">\n",
       "  <thead>\n",
       "    <tr style=\"text-align: right;\">\n",
       "      <th></th>\n",
       "      <th>registration_year_month</th>\n",
       "      <th>power</th>\n",
       "      <th>kilometer</th>\n",
       "      <th>vehicle_type_convertible</th>\n",
       "      <th>vehicle_type_coupe</th>\n",
       "      <th>vehicle_type_other</th>\n",
       "      <th>vehicle_type_sedan</th>\n",
       "      <th>vehicle_type_small</th>\n",
       "      <th>vehicle_type_suv</th>\n",
       "      <th>vehicle_type_wagon</th>\n",
       "      <th>...</th>\n",
       "      <th>brand_skoda</th>\n",
       "      <th>brand_smart</th>\n",
       "      <th>brand_subaru</th>\n",
       "      <th>brand_suzuki</th>\n",
       "      <th>brand_toyota</th>\n",
       "      <th>brand_trabant</th>\n",
       "      <th>brand_volkswagen</th>\n",
       "      <th>brand_volvo</th>\n",
       "      <th>repaired_other</th>\n",
       "      <th>repaired_yes</th>\n",
       "    </tr>\n",
       "  </thead>\n",
       "  <tbody>\n",
       "    <tr>\n",
       "      <th>0</th>\n",
       "      <td>200201</td>\n",
       "      <td>143</td>\n",
       "      <td>150000</td>\n",
       "      <td>0.0</td>\n",
       "      <td>1.0</td>\n",
       "      <td>0.0</td>\n",
       "      <td>0.0</td>\n",
       "      <td>0.0</td>\n",
       "      <td>0.0</td>\n",
       "      <td>0.0</td>\n",
       "      <td>...</td>\n",
       "      <td>0.0</td>\n",
       "      <td>0.0</td>\n",
       "      <td>0.0</td>\n",
       "      <td>0.0</td>\n",
       "      <td>0.0</td>\n",
       "      <td>0.0</td>\n",
       "      <td>0.0</td>\n",
       "      <td>0.0</td>\n",
       "      <td>0.0</td>\n",
       "      <td>0.0</td>\n",
       "    </tr>\n",
       "    <tr>\n",
       "      <th>1</th>\n",
       "      <td>201102</td>\n",
       "      <td>235</td>\n",
       "      <td>70000</td>\n",
       "      <td>0.0</td>\n",
       "      <td>0.0</td>\n",
       "      <td>0.0</td>\n",
       "      <td>1.0</td>\n",
       "      <td>0.0</td>\n",
       "      <td>0.0</td>\n",
       "      <td>0.0</td>\n",
       "      <td>...</td>\n",
       "      <td>0.0</td>\n",
       "      <td>0.0</td>\n",
       "      <td>0.0</td>\n",
       "      <td>0.0</td>\n",
       "      <td>0.0</td>\n",
       "      <td>0.0</td>\n",
       "      <td>0.0</td>\n",
       "      <td>0.0</td>\n",
       "      <td>0.0</td>\n",
       "      <td>0.0</td>\n",
       "    </tr>\n",
       "  </tbody>\n",
       "</table>\n",
       "<p>2 rows × 305 columns</p>\n",
       "</div>"
      ],
      "text/plain": [
       "   registration_year_month  power  kilometer  vehicle_type_convertible  \\\n",
       "0                   200201    143     150000                       0.0   \n",
       "1                   201102    235      70000                       0.0   \n",
       "\n",
       "   vehicle_type_coupe  vehicle_type_other  vehicle_type_sedan  \\\n",
       "0                 1.0                 0.0                 0.0   \n",
       "1                 0.0                 0.0                 1.0   \n",
       "\n",
       "   vehicle_type_small  vehicle_type_suv  vehicle_type_wagon  ...  brand_skoda  \\\n",
       "0                 0.0               0.0                 0.0  ...          0.0   \n",
       "1                 0.0               0.0                 0.0  ...          0.0   \n",
       "\n",
       "   brand_smart  brand_subaru  brand_suzuki  brand_toyota  brand_trabant  \\\n",
       "0          0.0           0.0           0.0           0.0            0.0   \n",
       "1          0.0           0.0           0.0           0.0            0.0   \n",
       "\n",
       "   brand_volkswagen  brand_volvo  repaired_other  repaired_yes  \n",
       "0               0.0          0.0             0.0           0.0  \n",
       "1               0.0          0.0             0.0           0.0  \n",
       "\n",
       "[2 rows x 305 columns]"
      ]
     },
     "metadata": {},
     "output_type": "display_data"
    },
    {
     "name": "stdout",
     "output_type": "stream",
     "text": [
      "OE shape: (151033, 9)\n"
     ]
    },
    {
     "data": {
      "text/html": [
       "<div>\n",
       "<style scoped>\n",
       "    .dataframe tbody tr th:only-of-type {\n",
       "        vertical-align: middle;\n",
       "    }\n",
       "\n",
       "    .dataframe tbody tr th {\n",
       "        vertical-align: top;\n",
       "    }\n",
       "\n",
       "    .dataframe thead th {\n",
       "        text-align: right;\n",
       "    }\n",
       "</style>\n",
       "<table border=\"1\" class=\"dataframe\">\n",
       "  <thead>\n",
       "    <tr style=\"text-align: right;\">\n",
       "      <th></th>\n",
       "      <th>vehicle_type</th>\n",
       "      <th>registration_year_month</th>\n",
       "      <th>gearbox</th>\n",
       "      <th>power</th>\n",
       "      <th>model</th>\n",
       "      <th>kilometer</th>\n",
       "      <th>fuel_type</th>\n",
       "      <th>brand</th>\n",
       "      <th>repaired</th>\n",
       "    </tr>\n",
       "  </thead>\n",
       "  <tbody>\n",
       "    <tr>\n",
       "      <th>0</th>\n",
       "      <td>2.0</td>\n",
       "      <td>200201</td>\n",
       "      <td>1.0</td>\n",
       "      <td>143</td>\n",
       "      <td>11.0</td>\n",
       "      <td>150000</td>\n",
       "      <td>5.0</td>\n",
       "      <td>2.0</td>\n",
       "      <td>0.0</td>\n",
       "    </tr>\n",
       "    <tr>\n",
       "      <th>1</th>\n",
       "      <td>4.0</td>\n",
       "      <td>201102</td>\n",
       "      <td>1.0</td>\n",
       "      <td>235</td>\n",
       "      <td>10.0</td>\n",
       "      <td>70000</td>\n",
       "      <td>5.0</td>\n",
       "      <td>26.0</td>\n",
       "      <td>0.0</td>\n",
       "    </tr>\n",
       "  </tbody>\n",
       "</table>\n",
       "</div>"
      ],
      "text/plain": [
       "   vehicle_type  registration_year_month  gearbox  power  model  kilometer  \\\n",
       "0           2.0                   200201      1.0    143   11.0     150000   \n",
       "1           4.0                   201102      1.0    235   10.0      70000   \n",
       "\n",
       "   fuel_type  brand  repaired  \n",
       "0        5.0    2.0       0.0  \n",
       "1        5.0   26.0       0.0  "
      ]
     },
     "metadata": {},
     "output_type": "display_data"
    },
    {
     "name": "stdout",
     "output_type": "stream",
     "text": [
      "\n",
      "Cat info:\n",
      "\n",
      "<class 'pandas.core.frame.DataFrame'>\n",
      "RangeIndex: 151033 entries, 0 to 151032\n",
      "Data columns (total 9 columns):\n",
      " #   Column                   Non-Null Count   Dtype   \n",
      "---  ------                   --------------   -----   \n",
      " 0   vehicle_type             151033 non-null  category\n",
      " 1   registration_year_month  151033 non-null  int64   \n",
      " 2   gearbox                  151033 non-null  category\n",
      " 3   power                    151033 non-null  int64   \n",
      " 4   model                    151033 non-null  category\n",
      " 5   kilometer                151033 non-null  int64   \n",
      " 6   fuel_type                151033 non-null  category\n",
      " 7   brand                    151033 non-null  category\n",
      " 8   repaired                 151033 non-null  category\n",
      "dtypes: category(6), int64(3)\n",
      "memory usage: 4.5 MB\n"
     ]
    }
   ],
   "source": [
    "features_train_ho_ohe, features_train_ho_oe, features_train_ho_cat = features_prep(features_train_ho)"
   ]
  },
  {
   "cell_type": "markdown",
   "metadata": {},
   "source": [
    "Закодируем признаки для features_valid_ho:"
   ]
  },
  {
   "cell_type": "code",
   "execution_count": 36,
   "metadata": {},
   "outputs": [
    {
     "name": "stdout",
     "output_type": "stream",
     "text": [
      "OHE shape: (50345, 305) \n",
      "\n"
     ]
    },
    {
     "data": {
      "text/html": [
       "<div>\n",
       "<style scoped>\n",
       "    .dataframe tbody tr th:only-of-type {\n",
       "        vertical-align: middle;\n",
       "    }\n",
       "\n",
       "    .dataframe tbody tr th {\n",
       "        vertical-align: top;\n",
       "    }\n",
       "\n",
       "    .dataframe thead th {\n",
       "        text-align: right;\n",
       "    }\n",
       "</style>\n",
       "<table border=\"1\" class=\"dataframe\">\n",
       "  <thead>\n",
       "    <tr style=\"text-align: right;\">\n",
       "      <th></th>\n",
       "      <th>registration_year_month</th>\n",
       "      <th>power</th>\n",
       "      <th>kilometer</th>\n",
       "      <th>vehicle_type_convertible</th>\n",
       "      <th>vehicle_type_coupe</th>\n",
       "      <th>vehicle_type_other</th>\n",
       "      <th>vehicle_type_sedan</th>\n",
       "      <th>vehicle_type_small</th>\n",
       "      <th>vehicle_type_suv</th>\n",
       "      <th>vehicle_type_wagon</th>\n",
       "      <th>...</th>\n",
       "      <th>brand_skoda</th>\n",
       "      <th>brand_smart</th>\n",
       "      <th>brand_subaru</th>\n",
       "      <th>brand_suzuki</th>\n",
       "      <th>brand_toyota</th>\n",
       "      <th>brand_trabant</th>\n",
       "      <th>brand_volkswagen</th>\n",
       "      <th>brand_volvo</th>\n",
       "      <th>repaired_other</th>\n",
       "      <th>repaired_yes</th>\n",
       "    </tr>\n",
       "  </thead>\n",
       "  <tbody>\n",
       "    <tr>\n",
       "      <th>0</th>\n",
       "      <td>201009</td>\n",
       "      <td>136</td>\n",
       "      <td>100000</td>\n",
       "      <td>0.0</td>\n",
       "      <td>0.0</td>\n",
       "      <td>0.0</td>\n",
       "      <td>1.0</td>\n",
       "      <td>0.0</td>\n",
       "      <td>0.0</td>\n",
       "      <td>0.0</td>\n",
       "      <td>...</td>\n",
       "      <td>0.0</td>\n",
       "      <td>0.0</td>\n",
       "      <td>0.0</td>\n",
       "      <td>0.0</td>\n",
       "      <td>1.0</td>\n",
       "      <td>0.0</td>\n",
       "      <td>0.0</td>\n",
       "      <td>0.0</td>\n",
       "      <td>0.0</td>\n",
       "      <td>0.0</td>\n",
       "    </tr>\n",
       "    <tr>\n",
       "      <th>1</th>\n",
       "      <td>200707</td>\n",
       "      <td>200</td>\n",
       "      <td>125000</td>\n",
       "      <td>0.0</td>\n",
       "      <td>1.0</td>\n",
       "      <td>0.0</td>\n",
       "      <td>0.0</td>\n",
       "      <td>0.0</td>\n",
       "      <td>0.0</td>\n",
       "      <td>0.0</td>\n",
       "      <td>...</td>\n",
       "      <td>0.0</td>\n",
       "      <td>0.0</td>\n",
       "      <td>0.0</td>\n",
       "      <td>0.0</td>\n",
       "      <td>0.0</td>\n",
       "      <td>0.0</td>\n",
       "      <td>0.0</td>\n",
       "      <td>0.0</td>\n",
       "      <td>0.0</td>\n",
       "      <td>0.0</td>\n",
       "    </tr>\n",
       "  </tbody>\n",
       "</table>\n",
       "<p>2 rows × 305 columns</p>\n",
       "</div>"
      ],
      "text/plain": [
       "   registration_year_month  power  kilometer  vehicle_type_convertible  \\\n",
       "0                   201009    136     100000                       0.0   \n",
       "1                   200707    200     125000                       0.0   \n",
       "\n",
       "   vehicle_type_coupe  vehicle_type_other  vehicle_type_sedan  \\\n",
       "0                 0.0                 0.0                 1.0   \n",
       "1                 1.0                 0.0                 0.0   \n",
       "\n",
       "   vehicle_type_small  vehicle_type_suv  vehicle_type_wagon  ...  brand_skoda  \\\n",
       "0                 0.0               0.0                 0.0  ...          0.0   \n",
       "1                 0.0               0.0                 0.0  ...          0.0   \n",
       "\n",
       "   brand_smart  brand_subaru  brand_suzuki  brand_toyota  brand_trabant  \\\n",
       "0          0.0           0.0           0.0           1.0            0.0   \n",
       "1          0.0           0.0           0.0           0.0            0.0   \n",
       "\n",
       "   brand_volkswagen  brand_volvo  repaired_other  repaired_yes  \n",
       "0               0.0          0.0             0.0           0.0  \n",
       "1               0.0          0.0             0.0           0.0  \n",
       "\n",
       "[2 rows x 305 columns]"
      ]
     },
     "metadata": {},
     "output_type": "display_data"
    },
    {
     "name": "stdout",
     "output_type": "stream",
     "text": [
      "OE shape: (50345, 9)\n"
     ]
    },
    {
     "data": {
      "text/html": [
       "<div>\n",
       "<style scoped>\n",
       "    .dataframe tbody tr th:only-of-type {\n",
       "        vertical-align: middle;\n",
       "    }\n",
       "\n",
       "    .dataframe tbody tr th {\n",
       "        vertical-align: top;\n",
       "    }\n",
       "\n",
       "    .dataframe thead th {\n",
       "        text-align: right;\n",
       "    }\n",
       "</style>\n",
       "<table border=\"1\" class=\"dataframe\">\n",
       "  <thead>\n",
       "    <tr style=\"text-align: right;\">\n",
       "      <th></th>\n",
       "      <th>vehicle_type</th>\n",
       "      <th>registration_year_month</th>\n",
       "      <th>gearbox</th>\n",
       "      <th>power</th>\n",
       "      <th>model</th>\n",
       "      <th>kilometer</th>\n",
       "      <th>fuel_type</th>\n",
       "      <th>brand</th>\n",
       "      <th>repaired</th>\n",
       "    </tr>\n",
       "  </thead>\n",
       "  <tbody>\n",
       "    <tr>\n",
       "      <th>0</th>\n",
       "      <td>4.0</td>\n",
       "      <td>201009</td>\n",
       "      <td>0.0</td>\n",
       "      <td>136</td>\n",
       "      <td>43.0</td>\n",
       "      <td>100000</td>\n",
       "      <td>2.0</td>\n",
       "      <td>36.0</td>\n",
       "      <td>0.0</td>\n",
       "    </tr>\n",
       "    <tr>\n",
       "      <th>1</th>\n",
       "      <td>2.0</td>\n",
       "      <td>200707</td>\n",
       "      <td>1.0</td>\n",
       "      <td>200</td>\n",
       "      <td>223.0</td>\n",
       "      <td>125000</td>\n",
       "      <td>5.0</td>\n",
       "      <td>1.0</td>\n",
       "      <td>0.0</td>\n",
       "    </tr>\n",
       "  </tbody>\n",
       "</table>\n",
       "</div>"
      ],
      "text/plain": [
       "   vehicle_type  registration_year_month  gearbox  power  model  kilometer  \\\n",
       "0           4.0                   201009      0.0    136   43.0     100000   \n",
       "1           2.0                   200707      1.0    200  223.0     125000   \n",
       "\n",
       "   fuel_type  brand  repaired  \n",
       "0        2.0   36.0       0.0  \n",
       "1        5.0    1.0       0.0  "
      ]
     },
     "metadata": {},
     "output_type": "display_data"
    },
    {
     "name": "stdout",
     "output_type": "stream",
     "text": [
      "\n",
      "Cat info:\n",
      "\n",
      "<class 'pandas.core.frame.DataFrame'>\n",
      "RangeIndex: 50345 entries, 0 to 50344\n",
      "Data columns (total 9 columns):\n",
      " #   Column                   Non-Null Count  Dtype   \n",
      "---  ------                   --------------  -----   \n",
      " 0   vehicle_type             50345 non-null  category\n",
      " 1   registration_year_month  50345 non-null  int64   \n",
      " 2   gearbox                  50345 non-null  category\n",
      " 3   power                    50345 non-null  int64   \n",
      " 4   model                    50345 non-null  category\n",
      " 5   kilometer                50345 non-null  int64   \n",
      " 6   fuel_type                50345 non-null  category\n",
      " 7   brand                    50345 non-null  category\n",
      " 8   repaired                 50345 non-null  category\n",
      "dtypes: category(6), int64(3)\n",
      "memory usage: 1.5 MB\n"
     ]
    }
   ],
   "source": [
    "features_valid_ho_ohe, features_valid_ho_oe, features_valid_ho_cat = features_prep(features_valid_ho)"
   ]
  },
  {
   "cell_type": "markdown",
   "metadata": {},
   "source": [
    "Закодируем признаки для features_test_ho:"
   ]
  },
  {
   "cell_type": "code",
   "execution_count": 37,
   "metadata": {},
   "outputs": [
    {
     "name": "stdout",
     "output_type": "stream",
     "text": [
      "OHE shape: (50345, 305) \n",
      "\n"
     ]
    },
    {
     "data": {
      "text/html": [
       "<div>\n",
       "<style scoped>\n",
       "    .dataframe tbody tr th:only-of-type {\n",
       "        vertical-align: middle;\n",
       "    }\n",
       "\n",
       "    .dataframe tbody tr th {\n",
       "        vertical-align: top;\n",
       "    }\n",
       "\n",
       "    .dataframe thead th {\n",
       "        text-align: right;\n",
       "    }\n",
       "</style>\n",
       "<table border=\"1\" class=\"dataframe\">\n",
       "  <thead>\n",
       "    <tr style=\"text-align: right;\">\n",
       "      <th></th>\n",
       "      <th>registration_year_month</th>\n",
       "      <th>power</th>\n",
       "      <th>kilometer</th>\n",
       "      <th>vehicle_type_convertible</th>\n",
       "      <th>vehicle_type_coupe</th>\n",
       "      <th>vehicle_type_other</th>\n",
       "      <th>vehicle_type_sedan</th>\n",
       "      <th>vehicle_type_small</th>\n",
       "      <th>vehicle_type_suv</th>\n",
       "      <th>vehicle_type_wagon</th>\n",
       "      <th>...</th>\n",
       "      <th>brand_skoda</th>\n",
       "      <th>brand_smart</th>\n",
       "      <th>brand_subaru</th>\n",
       "      <th>brand_suzuki</th>\n",
       "      <th>brand_toyota</th>\n",
       "      <th>brand_trabant</th>\n",
       "      <th>brand_volkswagen</th>\n",
       "      <th>brand_volvo</th>\n",
       "      <th>repaired_other</th>\n",
       "      <th>repaired_yes</th>\n",
       "    </tr>\n",
       "  </thead>\n",
       "  <tbody>\n",
       "    <tr>\n",
       "      <th>0</th>\n",
       "      <td>199901</td>\n",
       "      <td>40</td>\n",
       "      <td>150000</td>\n",
       "      <td>0.0</td>\n",
       "      <td>0.0</td>\n",
       "      <td>0.0</td>\n",
       "      <td>0.0</td>\n",
       "      <td>1.0</td>\n",
       "      <td>0.0</td>\n",
       "      <td>0.0</td>\n",
       "      <td>...</td>\n",
       "      <td>0.0</td>\n",
       "      <td>0.0</td>\n",
       "      <td>0.0</td>\n",
       "      <td>0.0</td>\n",
       "      <td>0.0</td>\n",
       "      <td>0.0</td>\n",
       "      <td>0.0</td>\n",
       "      <td>0.0</td>\n",
       "      <td>0.0</td>\n",
       "      <td>0.0</td>\n",
       "    </tr>\n",
       "    <tr>\n",
       "      <th>1</th>\n",
       "      <td>201201</td>\n",
       "      <td>140</td>\n",
       "      <td>100000</td>\n",
       "      <td>0.0</td>\n",
       "      <td>0.0</td>\n",
       "      <td>0.0</td>\n",
       "      <td>1.0</td>\n",
       "      <td>0.0</td>\n",
       "      <td>0.0</td>\n",
       "      <td>0.0</td>\n",
       "      <td>...</td>\n",
       "      <td>0.0</td>\n",
       "      <td>0.0</td>\n",
       "      <td>0.0</td>\n",
       "      <td>0.0</td>\n",
       "      <td>0.0</td>\n",
       "      <td>0.0</td>\n",
       "      <td>1.0</td>\n",
       "      <td>0.0</td>\n",
       "      <td>0.0</td>\n",
       "      <td>0.0</td>\n",
       "    </tr>\n",
       "  </tbody>\n",
       "</table>\n",
       "<p>2 rows × 305 columns</p>\n",
       "</div>"
      ],
      "text/plain": [
       "   registration_year_month  power  kilometer  vehicle_type_convertible  \\\n",
       "0                   199901     40     150000                       0.0   \n",
       "1                   201201    140     100000                       0.0   \n",
       "\n",
       "   vehicle_type_coupe  vehicle_type_other  vehicle_type_sedan  \\\n",
       "0                 0.0                 0.0                 0.0   \n",
       "1                 0.0                 0.0                 1.0   \n",
       "\n",
       "   vehicle_type_small  vehicle_type_suv  vehicle_type_wagon  ...  brand_skoda  \\\n",
       "0                 1.0               0.0                 0.0  ...          0.0   \n",
       "1                 0.0               0.0                 0.0  ...          0.0   \n",
       "\n",
       "   brand_smart  brand_subaru  brand_suzuki  brand_toyota  brand_trabant  \\\n",
       "0          0.0           0.0           0.0           0.0            0.0   \n",
       "1          0.0           0.0           0.0           0.0            0.0   \n",
       "\n",
       "   brand_volkswagen  brand_volvo  repaired_other  repaired_yes  \n",
       "0               0.0          0.0             0.0           0.0  \n",
       "1               1.0          0.0             0.0           0.0  \n",
       "\n",
       "[2 rows x 305 columns]"
      ]
     },
     "metadata": {},
     "output_type": "display_data"
    },
    {
     "name": "stdout",
     "output_type": "stream",
     "text": [
      "OE shape: (50345, 9)\n"
     ]
    },
    {
     "data": {
      "text/html": [
       "<div>\n",
       "<style scoped>\n",
       "    .dataframe tbody tr th:only-of-type {\n",
       "        vertical-align: middle;\n",
       "    }\n",
       "\n",
       "    .dataframe tbody tr th {\n",
       "        vertical-align: top;\n",
       "    }\n",
       "\n",
       "    .dataframe thead th {\n",
       "        text-align: right;\n",
       "    }\n",
       "</style>\n",
       "<table border=\"1\" class=\"dataframe\">\n",
       "  <thead>\n",
       "    <tr style=\"text-align: right;\">\n",
       "      <th></th>\n",
       "      <th>vehicle_type</th>\n",
       "      <th>registration_year_month</th>\n",
       "      <th>gearbox</th>\n",
       "      <th>power</th>\n",
       "      <th>model</th>\n",
       "      <th>kilometer</th>\n",
       "      <th>fuel_type</th>\n",
       "      <th>brand</th>\n",
       "      <th>repaired</th>\n",
       "    </tr>\n",
       "  </thead>\n",
       "  <tbody>\n",
       "    <tr>\n",
       "      <th>0</th>\n",
       "      <td>5.0</td>\n",
       "      <td>199901</td>\n",
       "      <td>1.0</td>\n",
       "      <td>40</td>\n",
       "      <td>199.0</td>\n",
       "      <td>150000</td>\n",
       "      <td>5.0</td>\n",
       "      <td>9.0</td>\n",
       "      <td>0.0</td>\n",
       "    </tr>\n",
       "    <tr>\n",
       "      <th>1</th>\n",
       "      <td>4.0</td>\n",
       "      <td>201201</td>\n",
       "      <td>1.0</td>\n",
       "      <td>140</td>\n",
       "      <td>116.0</td>\n",
       "      <td>100000</td>\n",
       "      <td>5.0</td>\n",
       "      <td>38.0</td>\n",
       "      <td>0.0</td>\n",
       "    </tr>\n",
       "  </tbody>\n",
       "</table>\n",
       "</div>"
      ],
      "text/plain": [
       "   vehicle_type  registration_year_month  gearbox  power  model  kilometer  \\\n",
       "0           5.0                   199901      1.0     40  199.0     150000   \n",
       "1           4.0                   201201      1.0    140  116.0     100000   \n",
       "\n",
       "   fuel_type  brand  repaired  \n",
       "0        5.0    9.0       0.0  \n",
       "1        5.0   38.0       0.0  "
      ]
     },
     "metadata": {},
     "output_type": "display_data"
    },
    {
     "name": "stdout",
     "output_type": "stream",
     "text": [
      "\n",
      "Cat info:\n",
      "\n",
      "<class 'pandas.core.frame.DataFrame'>\n",
      "RangeIndex: 50345 entries, 0 to 50344\n",
      "Data columns (total 9 columns):\n",
      " #   Column                   Non-Null Count  Dtype   \n",
      "---  ------                   --------------  -----   \n",
      " 0   vehicle_type             50345 non-null  category\n",
      " 1   registration_year_month  50345 non-null  int64   \n",
      " 2   gearbox                  50345 non-null  category\n",
      " 3   power                    50345 non-null  int64   \n",
      " 4   model                    50345 non-null  category\n",
      " 5   kilometer                50345 non-null  int64   \n",
      " 6   fuel_type                50345 non-null  category\n",
      " 7   brand                    50345 non-null  category\n",
      " 8   repaired                 50345 non-null  category\n",
      "dtypes: category(6), int64(3)\n",
      "memory usage: 1.5 MB\n"
     ]
    }
   ],
   "source": [
    "features_test_ho_ohe, features_test_ho_oe, features_test_ho_cat = features_prep(features_test_ho)"
   ]
  },
  {
   "cell_type": "markdown",
   "metadata": {},
   "source": [
    "Размеры и значения такие, как и предполагалось.\n",
    "\n",
    "Теперь можем обучить скейлер."
   ]
  },
  {
   "cell_type": "markdown",
   "metadata": {},
   "source": [
    "#### 2.1.3 Масштабирование признаков (с валидационной выборкой)"
   ]
  },
  {
   "cell_type": "code",
   "execution_count": 38,
   "metadata": {},
   "outputs": [],
   "source": [
    "def features_scale (f_train, f_valid, f_test):\n",
    "    scaler = StandardScaler()\n",
    "    scaler.fit(f_train)\n",
    "    \n",
    "    return scaler.transform(f_train), scaler.transform(f_valid), scaler.transform(f_test)"
   ]
  },
  {
   "cell_type": "code",
   "execution_count": 39,
   "metadata": {},
   "outputs": [],
   "source": [
    "features_train_ho_ohe[num_features], features_valid_ho_ohe[num_features], features_test_ho_ohe[num_features] = \\\n",
    "features_scale(features_train_ho_ohe[num_features], features_valid_ho_ohe[num_features], features_test_ho_ohe[num_features])"
   ]
  },
  {
   "cell_type": "code",
   "execution_count": 40,
   "metadata": {},
   "outputs": [],
   "source": [
    "features_train_ho_oe[num_features], features_valid_ho_oe[num_features], features_test_ho_oe[num_features] = \\\n",
    "features_scale(features_train_ho_oe[num_features], features_valid_ho_oe[num_features], features_test_ho_oe[num_features])"
   ]
  },
  {
   "cell_type": "code",
   "execution_count": 41,
   "metadata": {},
   "outputs": [],
   "source": [
    "features_train_ho_cat[num_features], features_valid_ho_cat[num_features], features_test_ho_cat[num_features] = \\\n",
    "features_scale(features_train_ho_cat[num_features], features_valid_ho_cat[num_features], features_test_ho_cat[num_features])"
   ]
  },
  {
   "cell_type": "code",
   "execution_count": 42,
   "metadata": {},
   "outputs": [
    {
     "data": {
      "text/html": [
       "<div>\n",
       "<style scoped>\n",
       "    .dataframe tbody tr th:only-of-type {\n",
       "        vertical-align: middle;\n",
       "    }\n",
       "\n",
       "    .dataframe tbody tr th {\n",
       "        vertical-align: top;\n",
       "    }\n",
       "\n",
       "    .dataframe thead th {\n",
       "        text-align: right;\n",
       "    }\n",
       "</style>\n",
       "<table border=\"1\" class=\"dataframe\">\n",
       "  <thead>\n",
       "    <tr style=\"text-align: right;\">\n",
       "      <th></th>\n",
       "      <th>vehicle_type</th>\n",
       "      <th>registration_year_month</th>\n",
       "      <th>gearbox</th>\n",
       "      <th>power</th>\n",
       "      <th>model</th>\n",
       "      <th>kilometer</th>\n",
       "      <th>fuel_type</th>\n",
       "      <th>brand</th>\n",
       "      <th>repaired</th>\n",
       "    </tr>\n",
       "  </thead>\n",
       "  <tbody>\n",
       "    <tr>\n",
       "      <th>0</th>\n",
       "      <td>2.0</td>\n",
       "      <td>-0.112692</td>\n",
       "      <td>1.0</td>\n",
       "      <td>0.315669</td>\n",
       "      <td>11.0</td>\n",
       "      <td>0.605774</td>\n",
       "      <td>5.0</td>\n",
       "      <td>2.0</td>\n",
       "      <td>0.0</td>\n",
       "    </tr>\n",
       "    <tr>\n",
       "      <th>1</th>\n",
       "      <td>4.0</td>\n",
       "      <td>1.132137</td>\n",
       "      <td>1.0</td>\n",
       "      <td>1.739017</td>\n",
       "      <td>10.0</td>\n",
       "      <td>-1.557542</td>\n",
       "      <td>5.0</td>\n",
       "      <td>26.0</td>\n",
       "      <td>0.0</td>\n",
       "    </tr>\n",
       "    <tr>\n",
       "      <th>2</th>\n",
       "      <td>5.0</td>\n",
       "      <td>-0.104402</td>\n",
       "      <td>1.0</td>\n",
       "      <td>-0.968440</td>\n",
       "      <td>143.0</td>\n",
       "      <td>-0.070262</td>\n",
       "      <td>5.0</td>\n",
       "      <td>38.0</td>\n",
       "      <td>0.0</td>\n",
       "    </tr>\n",
       "    <tr>\n",
       "      <th>3</th>\n",
       "      <td>5.0</td>\n",
       "      <td>0.315607</td>\n",
       "      <td>1.0</td>\n",
       "      <td>-0.102053</td>\n",
       "      <td>101.0</td>\n",
       "      <td>-1.016713</td>\n",
       "      <td>5.0</td>\n",
       "      <td>32.0</td>\n",
       "      <td>0.0</td>\n",
       "    </tr>\n",
       "    <tr>\n",
       "      <th>4</th>\n",
       "      <td>0.0</td>\n",
       "      <td>1.139045</td>\n",
       "      <td>1.0</td>\n",
       "      <td>-0.906555</td>\n",
       "      <td>166.0</td>\n",
       "      <td>-1.557542</td>\n",
       "      <td>5.0</td>\n",
       "      <td>25.0</td>\n",
       "      <td>2.0</td>\n",
       "    </tr>\n",
       "  </tbody>\n",
       "</table>\n",
       "</div>"
      ],
      "text/plain": [
       "   vehicle_type  registration_year_month  gearbox     power  model  kilometer  \\\n",
       "0           2.0                -0.112692      1.0  0.315669   11.0   0.605774   \n",
       "1           4.0                 1.132137      1.0  1.739017   10.0  -1.557542   \n",
       "2           5.0                -0.104402      1.0 -0.968440  143.0  -0.070262   \n",
       "3           5.0                 0.315607      1.0 -0.102053  101.0  -1.016713   \n",
       "4           0.0                 1.139045      1.0 -0.906555  166.0  -1.557542   \n",
       "\n",
       "   fuel_type  brand  repaired  \n",
       "0        5.0    2.0       0.0  \n",
       "1        5.0   26.0       0.0  \n",
       "2        5.0   38.0       0.0  \n",
       "3        5.0   32.0       0.0  \n",
       "4        5.0   25.0       2.0  "
      ]
     },
     "execution_count": 42,
     "metadata": {},
     "output_type": "execute_result"
    }
   ],
   "source": [
    "features_train_ho_oe.head()"
   ]
  },
  {
   "cell_type": "markdown",
   "metadata": {},
   "source": [
    "### 2.2 Подготовка выборок (без валидационной выборки)"
   ]
  },
  {
   "cell_type": "markdown",
   "metadata": {},
   "source": [
    "#### 2.2.1 Разделение (без валидационной выборки)"
   ]
  },
  {
   "cell_type": "code",
   "execution_count": 43,
   "metadata": {},
   "outputs": [
    {
     "name": "stdout",
     "output_type": "stream",
     "text": [
      "Размеры выборок:\n",
      "(188792, 9)\n",
      "(188792,)\n",
      "(62931, 9)\n",
      "(62931,)\n",
      "\n",
      "Количество уникальных данных в колонке vehicle_type\n",
      "8 8 \n",
      "Количество уникальных данных в колонке gearbox\n",
      "3 3 \n",
      "Количество уникальных данных в колонке model\n",
      "249 246 \n",
      "Количество уникальных данных в колонке fuel_type\n",
      "6 6 \n",
      "Количество уникальных данных в колонке brand\n",
      "40 40 \n",
      "Количество уникальных данных в колонке repaired\n",
      "3 3 \n"
     ]
    },
    {
     "data": {
      "image/png": "[encoded data removed]",
      "text/plain": [
       "<Figure size 1200x500 with 1 Axes>"
      ]
     },
     "metadata": {},
     "output_type": "display_data"
    }
   ],
   "source": [
    "features_train_cv, target_train_cv, features_test_cv, target_test_cv = \\\n",
    "features_split (features, target, mode='cross_validation')"
   ]
  },
  {
   "cell_type": "markdown",
   "metadata": {},
   "source": [
    "1. Строки порезались корректно - в соотношении 75 : 25\n",
    "2. Категориальные признаки распределились неравномерно по столбцу \"model\". Следует предусмотреть это при обучении энкодеров -- использовать параметры handle_unknown и unknown_value\n",
    "3. Распределение значений целевого признака совпадает по выборкам"
   ]
  },
  {
   "cell_type": "markdown",
   "metadata": {},
   "source": [
    "#### 2.2.2 Кодирование категориальных признаков (без валидационной выборки)"
   ]
  },
  {
   "cell_type": "markdown",
   "metadata": {},
   "source": [
    "Обучим энкодеры для One-Hot Encoding и Ordinal Encoding:"
   ]
  },
  {
   "cell_type": "code",
   "execution_count": 44,
   "metadata": {},
   "outputs": [],
   "source": [
    "o_encoder.fit(features_train_cv[cat_features])\n",
    "\n",
    "o_h_encoder.fit(features_train_cv[cat_features]);"
   ]
  },
  {
   "cell_type": "markdown",
   "metadata": {},
   "source": [
    "Закодируем признаки для features_train_cv:"
   ]
  },
  {
   "cell_type": "code",
   "execution_count": 45,
   "metadata": {},
   "outputs": [
    {
     "name": "stdout",
     "output_type": "stream",
     "text": [
      "OHE shape: (188792, 306) \n",
      "\n"
     ]
    },
    {
     "data": {
      "text/html": [
       "<div>\n",
       "<style scoped>\n",
       "    .dataframe tbody tr th:only-of-type {\n",
       "        vertical-align: middle;\n",
       "    }\n",
       "\n",
       "    .dataframe tbody tr th {\n",
       "        vertical-align: top;\n",
       "    }\n",
       "\n",
       "    .dataframe thead th {\n",
       "        text-align: right;\n",
       "    }\n",
       "</style>\n",
       "<table border=\"1\" class=\"dataframe\">\n",
       "  <thead>\n",
       "    <tr style=\"text-align: right;\">\n",
       "      <th></th>\n",
       "      <th>registration_year_month</th>\n",
       "      <th>power</th>\n",
       "      <th>kilometer</th>\n",
       "      <th>vehicle_type_convertible</th>\n",
       "      <th>vehicle_type_coupe</th>\n",
       "      <th>vehicle_type_other</th>\n",
       "      <th>vehicle_type_sedan</th>\n",
       "      <th>vehicle_type_small</th>\n",
       "      <th>vehicle_type_suv</th>\n",
       "      <th>vehicle_type_wagon</th>\n",
       "      <th>...</th>\n",
       "      <th>brand_skoda</th>\n",
       "      <th>brand_smart</th>\n",
       "      <th>brand_subaru</th>\n",
       "      <th>brand_suzuki</th>\n",
       "      <th>brand_toyota</th>\n",
       "      <th>brand_trabant</th>\n",
       "      <th>brand_volkswagen</th>\n",
       "      <th>brand_volvo</th>\n",
       "      <th>repaired_other</th>\n",
       "      <th>repaired_yes</th>\n",
       "    </tr>\n",
       "  </thead>\n",
       "  <tbody>\n",
       "    <tr>\n",
       "      <th>0</th>\n",
       "      <td>200808</td>\n",
       "      <td>52</td>\n",
       "      <td>125000</td>\n",
       "      <td>0.0</td>\n",
       "      <td>0.0</td>\n",
       "      <td>0.0</td>\n",
       "      <td>0.0</td>\n",
       "      <td>1.0</td>\n",
       "      <td>0.0</td>\n",
       "      <td>0.0</td>\n",
       "      <td>...</td>\n",
       "      <td>0.0</td>\n",
       "      <td>0.0</td>\n",
       "      <td>0.0</td>\n",
       "      <td>0.0</td>\n",
       "      <td>0.0</td>\n",
       "      <td>0.0</td>\n",
       "      <td>0.0</td>\n",
       "      <td>0.0</td>\n",
       "      <td>0.0</td>\n",
       "      <td>0.0</td>\n",
       "    </tr>\n",
       "    <tr>\n",
       "      <th>1</th>\n",
       "      <td>200608</td>\n",
       "      <td>163</td>\n",
       "      <td>60000</td>\n",
       "      <td>0.0</td>\n",
       "      <td>1.0</td>\n",
       "      <td>0.0</td>\n",
       "      <td>0.0</td>\n",
       "      <td>0.0</td>\n",
       "      <td>0.0</td>\n",
       "      <td>0.0</td>\n",
       "      <td>...</td>\n",
       "      <td>0.0</td>\n",
       "      <td>0.0</td>\n",
       "      <td>0.0</td>\n",
       "      <td>0.0</td>\n",
       "      <td>0.0</td>\n",
       "      <td>0.0</td>\n",
       "      <td>0.0</td>\n",
       "      <td>0.0</td>\n",
       "      <td>0.0</td>\n",
       "      <td>0.0</td>\n",
       "    </tr>\n",
       "  </tbody>\n",
       "</table>\n",
       "<p>2 rows × 306 columns</p>\n",
       "</div>"
      ],
      "text/plain": [
       "   registration_year_month  power  kilometer  vehicle_type_convertible  \\\n",
       "0                   200808     52     125000                       0.0   \n",
       "1                   200608    163      60000                       0.0   \n",
       "\n",
       "   vehicle_type_coupe  vehicle_type_other  vehicle_type_sedan  \\\n",
       "0                 0.0                 0.0                 0.0   \n",
       "1                 1.0                 0.0                 0.0   \n",
       "\n",
       "   vehicle_type_small  vehicle_type_suv  vehicle_type_wagon  ...  brand_skoda  \\\n",
       "0                 1.0               0.0                 0.0  ...          0.0   \n",
       "1                 0.0               0.0                 0.0  ...          0.0   \n",
       "\n",
       "   brand_smart  brand_subaru  brand_suzuki  brand_toyota  brand_trabant  \\\n",
       "0          0.0           0.0           0.0           0.0            0.0   \n",
       "1          0.0           0.0           0.0           0.0            0.0   \n",
       "\n",
       "   brand_volkswagen  brand_volvo  repaired_other  repaired_yes  \n",
       "0               0.0          0.0             0.0           0.0  \n",
       "1               0.0          0.0             0.0           0.0  \n",
       "\n",
       "[2 rows x 306 columns]"
      ]
     },
     "metadata": {},
     "output_type": "display_data"
    },
    {
     "name": "stdout",
     "output_type": "stream",
     "text": [
      "OE shape: (188792, 9)\n"
     ]
    },
    {
     "data": {
      "text/html": [
       "<div>\n",
       "<style scoped>\n",
       "    .dataframe tbody tr th:only-of-type {\n",
       "        vertical-align: middle;\n",
       "    }\n",
       "\n",
       "    .dataframe tbody tr th {\n",
       "        vertical-align: top;\n",
       "    }\n",
       "\n",
       "    .dataframe thead th {\n",
       "        text-align: right;\n",
       "    }\n",
       "</style>\n",
       "<table border=\"1\" class=\"dataframe\">\n",
       "  <thead>\n",
       "    <tr style=\"text-align: right;\">\n",
       "      <th></th>\n",
       "      <th>vehicle_type</th>\n",
       "      <th>registration_year_month</th>\n",
       "      <th>gearbox</th>\n",
       "      <th>power</th>\n",
       "      <th>model</th>\n",
       "      <th>kilometer</th>\n",
       "      <th>fuel_type</th>\n",
       "      <th>brand</th>\n",
       "      <th>repaired</th>\n",
       "    </tr>\n",
       "  </thead>\n",
       "  <tbody>\n",
       "    <tr>\n",
       "      <th>0</th>\n",
       "      <td>5.0</td>\n",
       "      <td>200808</td>\n",
       "      <td>0.0</td>\n",
       "      <td>52</td>\n",
       "      <td>148.0</td>\n",
       "      <td>125000</td>\n",
       "      <td>0.0</td>\n",
       "      <td>3.0</td>\n",
       "      <td>0.0</td>\n",
       "    </tr>\n",
       "    <tr>\n",
       "      <th>1</th>\n",
       "      <td>2.0</td>\n",
       "      <td>200608</td>\n",
       "      <td>1.0</td>\n",
       "      <td>163</td>\n",
       "      <td>59.0</td>\n",
       "      <td>60000</td>\n",
       "      <td>5.0</td>\n",
       "      <td>20.0</td>\n",
       "      <td>0.0</td>\n",
       "    </tr>\n",
       "  </tbody>\n",
       "</table>\n",
       "</div>"
      ],
      "text/plain": [
       "   vehicle_type  registration_year_month  gearbox  power  model  kilometer  \\\n",
       "0           5.0                   200808      0.0     52  148.0     125000   \n",
       "1           2.0                   200608      1.0    163   59.0      60000   \n",
       "\n",
       "   fuel_type  brand  repaired  \n",
       "0        0.0    3.0       0.0  \n",
       "1        5.0   20.0       0.0  "
      ]
     },
     "metadata": {},
     "output_type": "display_data"
    },
    {
     "name": "stdout",
     "output_type": "stream",
     "text": [
      "\n",
      "Cat info:\n",
      "\n",
      "<class 'pandas.core.frame.DataFrame'>\n",
      "RangeIndex: 188792 entries, 0 to 188791\n",
      "Data columns (total 9 columns):\n",
      " #   Column                   Non-Null Count   Dtype   \n",
      "---  ------                   --------------   -----   \n",
      " 0   vehicle_type             188792 non-null  category\n",
      " 1   registration_year_month  188792 non-null  int64   \n",
      " 2   gearbox                  188792 non-null  category\n",
      " 3   power                    188792 non-null  int64   \n",
      " 4   model                    188792 non-null  category\n",
      " 5   kilometer                188792 non-null  int64   \n",
      " 6   fuel_type                188792 non-null  category\n",
      " 7   brand                    188792 non-null  category\n",
      " 8   repaired                 188792 non-null  category\n",
      "dtypes: category(6), int64(3)\n",
      "memory usage: 5.6 MB\n"
     ]
    }
   ],
   "source": [
    "features_train_cv_ohe, features_train_cv_oe, features_train_cv_cat = features_prep(features_train_cv)"
   ]
  },
  {
   "cell_type": "markdown",
   "metadata": {},
   "source": [
    "Закодируем признаки для features_test_cv:"
   ]
  },
  {
   "cell_type": "code",
   "execution_count": 46,
   "metadata": {},
   "outputs": [
    {
     "name": "stdout",
     "output_type": "stream",
     "text": [
      "OHE shape: (62931, 306) \n",
      "\n"
     ]
    },
    {
     "data": {
      "text/html": [
       "<div>\n",
       "<style scoped>\n",
       "    .dataframe tbody tr th:only-of-type {\n",
       "        vertical-align: middle;\n",
       "    }\n",
       "\n",
       "    .dataframe tbody tr th {\n",
       "        vertical-align: top;\n",
       "    }\n",
       "\n",
       "    .dataframe thead th {\n",
       "        text-align: right;\n",
       "    }\n",
       "</style>\n",
       "<table border=\"1\" class=\"dataframe\">\n",
       "  <thead>\n",
       "    <tr style=\"text-align: right;\">\n",
       "      <th></th>\n",
       "      <th>registration_year_month</th>\n",
       "      <th>power</th>\n",
       "      <th>kilometer</th>\n",
       "      <th>vehicle_type_convertible</th>\n",
       "      <th>vehicle_type_coupe</th>\n",
       "      <th>vehicle_type_other</th>\n",
       "      <th>vehicle_type_sedan</th>\n",
       "      <th>vehicle_type_small</th>\n",
       "      <th>vehicle_type_suv</th>\n",
       "      <th>vehicle_type_wagon</th>\n",
       "      <th>...</th>\n",
       "      <th>brand_skoda</th>\n",
       "      <th>brand_smart</th>\n",
       "      <th>brand_subaru</th>\n",
       "      <th>brand_suzuki</th>\n",
       "      <th>brand_toyota</th>\n",
       "      <th>brand_trabant</th>\n",
       "      <th>brand_volkswagen</th>\n",
       "      <th>brand_volvo</th>\n",
       "      <th>repaired_other</th>\n",
       "      <th>repaired_yes</th>\n",
       "    </tr>\n",
       "  </thead>\n",
       "  <tbody>\n",
       "    <tr>\n",
       "      <th>0</th>\n",
       "      <td>199505</td>\n",
       "      <td>150</td>\n",
       "      <td>150000</td>\n",
       "      <td>0.0</td>\n",
       "      <td>0.0</td>\n",
       "      <td>0.0</td>\n",
       "      <td>0.0</td>\n",
       "      <td>0.0</td>\n",
       "      <td>0.0</td>\n",
       "      <td>1.0</td>\n",
       "      <td>...</td>\n",
       "      <td>0.0</td>\n",
       "      <td>0.0</td>\n",
       "      <td>0.0</td>\n",
       "      <td>0.0</td>\n",
       "      <td>0.0</td>\n",
       "      <td>0.0</td>\n",
       "      <td>0.0</td>\n",
       "      <td>0.0</td>\n",
       "      <td>0.0</td>\n",
       "      <td>0.0</td>\n",
       "    </tr>\n",
       "    <tr>\n",
       "      <th>1</th>\n",
       "      <td>200103</td>\n",
       "      <td>60</td>\n",
       "      <td>150000</td>\n",
       "      <td>0.0</td>\n",
       "      <td>0.0</td>\n",
       "      <td>0.0</td>\n",
       "      <td>0.0</td>\n",
       "      <td>1.0</td>\n",
       "      <td>0.0</td>\n",
       "      <td>0.0</td>\n",
       "      <td>...</td>\n",
       "      <td>0.0</td>\n",
       "      <td>0.0</td>\n",
       "      <td>0.0</td>\n",
       "      <td>0.0</td>\n",
       "      <td>0.0</td>\n",
       "      <td>0.0</td>\n",
       "      <td>1.0</td>\n",
       "      <td>0.0</td>\n",
       "      <td>0.0</td>\n",
       "      <td>0.0</td>\n",
       "    </tr>\n",
       "  </tbody>\n",
       "</table>\n",
       "<p>2 rows × 306 columns</p>\n",
       "</div>"
      ],
      "text/plain": [
       "   registration_year_month  power  kilometer  vehicle_type_convertible  \\\n",
       "0                   199505    150     150000                       0.0   \n",
       "1                   200103     60     150000                       0.0   \n",
       "\n",
       "   vehicle_type_coupe  vehicle_type_other  vehicle_type_sedan  \\\n",
       "0                 0.0                 0.0                 0.0   \n",
       "1                 0.0                 0.0                 0.0   \n",
       "\n",
       "   vehicle_type_small  vehicle_type_suv  vehicle_type_wagon  ...  brand_skoda  \\\n",
       "0                 0.0               0.0                 1.0  ...          0.0   \n",
       "1                 1.0               0.0                 0.0  ...          0.0   \n",
       "\n",
       "   brand_smart  brand_subaru  brand_suzuki  brand_toyota  brand_trabant  \\\n",
       "0          0.0           0.0           0.0           0.0            0.0   \n",
       "1          0.0           0.0           0.0           0.0            0.0   \n",
       "\n",
       "   brand_volkswagen  brand_volvo  repaired_other  repaired_yes  \n",
       "0               0.0          0.0             0.0           0.0  \n",
       "1               1.0          0.0             0.0           0.0  \n",
       "\n",
       "[2 rows x 306 columns]"
      ]
     },
     "metadata": {},
     "output_type": "display_data"
    },
    {
     "name": "stdout",
     "output_type": "stream",
     "text": [
      "OE shape: (62931, 9)\n"
     ]
    },
    {
     "data": {
      "text/html": [
       "<div>\n",
       "<style scoped>\n",
       "    .dataframe tbody tr th:only-of-type {\n",
       "        vertical-align: middle;\n",
       "    }\n",
       "\n",
       "    .dataframe tbody tr th {\n",
       "        vertical-align: top;\n",
       "    }\n",
       "\n",
       "    .dataframe thead th {\n",
       "        text-align: right;\n",
       "    }\n",
       "</style>\n",
       "<table border=\"1\" class=\"dataframe\">\n",
       "  <thead>\n",
       "    <tr style=\"text-align: right;\">\n",
       "      <th></th>\n",
       "      <th>vehicle_type</th>\n",
       "      <th>registration_year_month</th>\n",
       "      <th>gearbox</th>\n",
       "      <th>power</th>\n",
       "      <th>model</th>\n",
       "      <th>kilometer</th>\n",
       "      <th>fuel_type</th>\n",
       "      <th>brand</th>\n",
       "      <th>repaired</th>\n",
       "    </tr>\n",
       "  </thead>\n",
       "  <tbody>\n",
       "    <tr>\n",
       "      <th>0</th>\n",
       "      <td>7.0</td>\n",
       "      <td>199505</td>\n",
       "      <td>1.0</td>\n",
       "      <td>150</td>\n",
       "      <td>11.0</td>\n",
       "      <td>150000</td>\n",
       "      <td>5.0</td>\n",
       "      <td>2.0</td>\n",
       "      <td>0.0</td>\n",
       "    </tr>\n",
       "    <tr>\n",
       "      <th>1</th>\n",
       "      <td>5.0</td>\n",
       "      <td>200103</td>\n",
       "      <td>1.0</td>\n",
       "      <td>60</td>\n",
       "      <td>173.0</td>\n",
       "      <td>150000</td>\n",
       "      <td>5.0</td>\n",
       "      <td>38.0</td>\n",
       "      <td>0.0</td>\n",
       "    </tr>\n",
       "  </tbody>\n",
       "</table>\n",
       "</div>"
      ],
      "text/plain": [
       "   vehicle_type  registration_year_month  gearbox  power  model  kilometer  \\\n",
       "0           7.0                   199505      1.0    150   11.0     150000   \n",
       "1           5.0                   200103      1.0     60  173.0     150000   \n",
       "\n",
       "   fuel_type  brand  repaired  \n",
       "0        5.0    2.0       0.0  \n",
       "1        5.0   38.0       0.0  "
      ]
     },
     "metadata": {},
     "output_type": "display_data"
    },
    {
     "name": "stdout",
     "output_type": "stream",
     "text": [
      "\n",
      "Cat info:\n",
      "\n",
      "<class 'pandas.core.frame.DataFrame'>\n",
      "RangeIndex: 62931 entries, 0 to 62930\n",
      "Data columns (total 9 columns):\n",
      " #   Column                   Non-Null Count  Dtype   \n",
      "---  ------                   --------------  -----   \n",
      " 0   vehicle_type             62931 non-null  category\n",
      " 1   registration_year_month  62931 non-null  int64   \n",
      " 2   gearbox                  62931 non-null  category\n",
      " 3   power                    62931 non-null  int64   \n",
      " 4   model                    62931 non-null  category\n",
      " 5   kilometer                62931 non-null  int64   \n",
      " 6   fuel_type                62931 non-null  category\n",
      " 7   brand                    62931 non-null  category\n",
      " 8   repaired                 62931 non-null  category\n",
      "dtypes: category(6), int64(3)\n",
      "memory usage: 1.9 MB\n"
     ]
    }
   ],
   "source": [
    "features_test_cv_ohe, features_test_cv_oe, features_test_cv_cat = features_prep(features_test_cv)"
   ]
  },
  {
   "cell_type": "markdown",
   "metadata": {},
   "source": [
    "Размеры и значения такие, как и предполагалось.\n",
    "\n",
    "Теперь можем обучить скейлер."
   ]
  },
  {
   "cell_type": "markdown",
   "metadata": {},
   "source": [
    "#### 2.2.3 Масштабирование признаков (без валидационной выборки)"
   ]
  },
  {
   "cell_type": "code",
   "execution_count": 47,
   "metadata": {},
   "outputs": [],
   "source": [
    "features_train_cv_ohe[num_features], features_test_cv_ohe[num_features], features_test_cv_ohe[num_features] = \\\n",
    "features_scale(features_train_cv_ohe[num_features], features_test_cv_ohe[num_features], features_test_cv_ohe[num_features])"
   ]
  },
  {
   "cell_type": "code",
   "execution_count": 48,
   "metadata": {},
   "outputs": [],
   "source": [
    "features_train_cv_oe[num_features], features_test_cv_oe[num_features], features_test_cv_oe[num_features] = \\\n",
    "features_scale(features_train_cv_oe[num_features], features_test_cv_oe[num_features], features_test_cv_oe[num_features])"
   ]
  },
  {
   "cell_type": "code",
   "execution_count": 49,
   "metadata": {},
   "outputs": [],
   "source": [
    "features_train_cv_cat[num_features], features_test_cv_cat[num_features], features_test_cv_cat[num_features] = \\\n",
    "features_scale(features_train_cv_cat[num_features], features_test_cv_cat[num_features], features_test_cv_cat[num_features])"
   ]
  },
  {
   "cell_type": "markdown",
   "metadata": {},
   "source": [
    "Все выборки подготовлены для обучения моделей."
   ]
  },
  {
   "cell_type": "markdown",
   "metadata": {},
   "source": [
    "## Шаг 3 Обучение моделей "
   ]
  },
  {
   "cell_type": "markdown",
   "metadata": {},
   "source": [
    "### 3.1 Обучение с валидационной выборкой"
   ]
  },
  {
   "cell_type": "markdown",
   "metadata": {},
   "source": [
    "Для начала -- костыль с предзаполнением параметров для проверки работы:"
   ]
  },
  {
   "cell_type": "code",
   "execution_count": 50,
   "metadata": {},
   "outputs": [],
   "source": [
    "if MODE == 'check':\n",
    "    \n",
    "    tree_depth_min, tree_depth_max = 14, 15\n",
    "    \n",
    "    cat_iter_min, cat_iter_max = 900, 901\n",
    "    cat_depth_min, cat_depth_max = 13, 14\n",
    "    \n",
    "    lgb_iter_min, lgb_iter_max = 850, 851\n",
    "    lgb_depth_min, lgb_depth_max = 30, 31\n",
    "    lgb_leaves_min, lgb_leaves_max = 120, 121\n",
    "    \n",
    "    verb = 0\n",
    "    \n",
    "else:\n",
    "    \n",
    "    tree_depth_min, tree_depth_max = 3, 30\n",
    "      \n",
    "    cat_iter_min, cat_iter_max = 100, 901\n",
    "    cat_depth_min, cat_depth_max = 4, 15\n",
    "    \n",
    "    lgb_iter_min, lgb_iter_max = 50, 851\n",
    "    lgb_depth_min, lgb_depth_max = 30, 121\n",
    "    lgb_leaves_min, lgb_leaves_max = 20, 321\n",
    "    \n",
    "    verb = 10"
   ]
  },
  {
   "cell_type": "markdown",
   "metadata": {},
   "source": [
    "Подберем гиперпараметры моделей и измерим время на обучение и предсказание:"
   ]
  },
  {
   "cell_type": "code",
   "execution_count": 51,
   "metadata": {},
   "outputs": [
    {
     "data": {
      "text/html": [
       "<div>\n",
       "<style scoped>\n",
       "    .dataframe tbody tr th:only-of-type {\n",
       "        vertical-align: middle;\n",
       "    }\n",
       "\n",
       "    .dataframe tbody tr th {\n",
       "        vertical-align: top;\n",
       "    }\n",
       "\n",
       "    .dataframe thead th {\n",
       "        text-align: right;\n",
       "    }\n",
       "</style>\n",
       "<table border=\"1\" class=\"dataframe\">\n",
       "  <thead>\n",
       "    <tr style=\"text-align: right;\">\n",
       "      <th></th>\n",
       "      <th>depth/max_depth</th>\n",
       "      <th>iterations</th>\n",
       "      <th>leaves</th>\n",
       "      <th>fit_time</th>\n",
       "      <th>pred_time</th>\n",
       "      <th>RMSE score</th>\n",
       "    </tr>\n",
       "  </thead>\n",
       "  <tbody>\n",
       "    <tr>\n",
       "      <th>LinearRegression</th>\n",
       "      <td>NaN</td>\n",
       "      <td>NaN</td>\n",
       "      <td>NaN</td>\n",
       "      <td>1.445089</td>\n",
       "      <td>0.043000</td>\n",
       "      <td>2745.270673</td>\n",
       "    </tr>\n",
       "    <tr>\n",
       "      <th>DecisionTree</th>\n",
       "      <td>14.0</td>\n",
       "      <td>NaN</td>\n",
       "      <td>NaN</td>\n",
       "      <td>0.324617</td>\n",
       "      <td>0.009000</td>\n",
       "      <td>1922.172709</td>\n",
       "    </tr>\n",
       "    <tr>\n",
       "      <th>CatBoost</th>\n",
       "      <td>13.0</td>\n",
       "      <td>900.0</td>\n",
       "      <td>NaN</td>\n",
       "      <td>432.650452</td>\n",
       "      <td>0.168922</td>\n",
       "      <td>1552.867939</td>\n",
       "    </tr>\n",
       "    <tr>\n",
       "      <th>LightGBM</th>\n",
       "      <td>30.0</td>\n",
       "      <td>850.0</td>\n",
       "      <td>120.0</td>\n",
       "      <td>2.819193</td>\n",
       "      <td>0.513475</td>\n",
       "      <td>1541.832191</td>\n",
       "    </tr>\n",
       "  </tbody>\n",
       "</table>\n",
       "</div>"
      ],
      "text/plain": [
       "                  depth/max_depth  iterations  leaves    fit_time  pred_time  \\\n",
       "LinearRegression              NaN         NaN     NaN    1.445089   0.043000   \n",
       "DecisionTree                 14.0         NaN     NaN    0.324617   0.009000   \n",
       "CatBoost                     13.0       900.0     NaN  432.650452   0.168922   \n",
       "LightGBM                     30.0       850.0   120.0    2.819193   0.513475   \n",
       "\n",
       "                   RMSE score  \n",
       "LinearRegression  2745.270673  \n",
       "DecisionTree      1922.172709  \n",
       "CatBoost          1552.867939  \n",
       "LightGBM          1541.832191  "
      ]
     },
     "metadata": {},
     "output_type": "display_data"
    }
   ],
   "source": [
    "best_model_for_l_oh = None\n",
    "best_result_for_l_oh = 5000\n",
    "best_fit_time_for_l_oh = 0\n",
    "best_prep_time_for_l_oh = 0\n",
    "\n",
    "best_model_for_t_oh = None\n",
    "best_result_for_t_oh = 5000\n",
    "best_depth_for_t_oh = 0\n",
    "best_fit_time_for_t_oh = 0\n",
    "best_prep_time_for_t_oh = 0\n",
    "\n",
    "best_model_for_c_oh = None\n",
    "best_result_for_c_oh = 5000\n",
    "best_iterations_for_c_oh = 0\n",
    "best_depth_for_c_oh = 0\n",
    "best_fit_time_for_c_oh = 0\n",
    "best_prep_time_for_c_oh = 0\n",
    "\n",
    "best_model_for_gbm_oh = None\n",
    "best_result_for_gbm_oh = 5000\n",
    "best_num_iterations_for_gbm_oh = 0\n",
    "best_max_depth_for_gbm_oh = 0\n",
    "best_num_leaves_for_gbm_oh = 0\n",
    "best_fit_time_for_gbm_oh = 0\n",
    "best_prep_time_for_gbm_oh = 0\n",
    "\n",
    "# Обучение для LinearRegression\n",
    "best_model_for_l_oh = LinearRegression() \n",
    "start_time = time.time()\n",
    "best_model_for_l_oh.fit(features_train_ho_ohe, target_train_ho)\n",
    "end_time = time.time()\n",
    "best_fit_time_for_l_oh = end_time - start_time\n",
    "start_time = time.time()\n",
    "pred = best_model_for_l_oh.predict(features_valid_ho_ohe)\n",
    "end_time = time.time()\n",
    "best_prep_time_for_l_oh = end_time - start_time\n",
    "best_result_for_l_oh = np.sqrt(mean_squared_error(target_valid_ho, pred))\n",
    "\n",
    "\n",
    "# Подбор гиперпараметров и обучение для DecisionTreeRegressor\n",
    "for depth in range(tree_depth_min, tree_depth_max):\n",
    "    model = DecisionTreeRegressor(max_depth=depth, random_state=RAND_FIX)\n",
    "    start_time = time.time()\n",
    "    model.fit(features_train_ho_oe, target_train_ho)\n",
    "    end_time = time.time()\n",
    "    fit_time = end_time - start_time\n",
    "    start_time = time.time()\n",
    "    pred = model.predict(features_valid_ho_oe)\n",
    "    end_time = time.time()\n",
    "    prep_time = end_time - start_time\n",
    "    result = np.sqrt(mean_squared_error(target_valid_ho, pred))\n",
    "    if result < best_result_for_t_oh:\n",
    "            best_result_for_t_oh = result\n",
    "            best_depth_for_t_oh = depth\n",
    "            best_model_for_t_oh = model\n",
    "            best_fit_time_for_t_oh = fit_time\n",
    "            best_prep_time_for_t_oh = prep_time\n",
    "\n",
    "# Подбор гиперпараметров и обучение для CatBoostRegressor\n",
    "for iterations in range(cat_iter_min, cat_iter_max, 200):\n",
    "    for depth in range(cat_depth_min, cat_depth_max):\n",
    "        model = CatBoostRegressor(learning_rate=0.1, iterations=iterations, depth=depth,\\\n",
    "                                  loss_function='RMSE', random_state=RAND_FIX)\n",
    "        start_time = time.time()\n",
    "        model.fit(features_train_ho_cat, target_train_ho, cat_features=cat_features, verbose=verb)\n",
    "        end_time = time.time()\n",
    "        fit_time = end_time - start_time\n",
    "        start_time = time.time()\n",
    "        pred = model.predict(features_valid_ho_cat)\n",
    "        end_time = time.time()\n",
    "        prep_time = end_time - start_time\n",
    "        result = np.sqrt(mean_squared_error(target_valid_ho, pred))\n",
    "        if result < best_result_for_c_oh:\n",
    "            best_result_for_c_oh = result\n",
    "            best_iterations_for_c_oh = iterations\n",
    "            best_depth_for_c_oh = depth\n",
    "            best_model_for_c_oh = model\n",
    "            best_fit_time_for_c_oh = fit_time\n",
    "            best_prep_time_for_c_oh = prep_time\n",
    "                \n",
    "# Подбор гиперпараметров и обучение для LGBMRegressor\n",
    "for iterations in range(lgb_iter_min, lgb_iter_max, 400):\n",
    "    for depth in range(lgb_depth_min, lgb_depth_max, 30):\n",
    "        for leaves in range(lgb_leaves_min, lgb_leaves_max, 50):\n",
    "            model = LGBMRegressor(learning_rate=0.1, num_iterations=iterations, max_depth=depth, num_leaves=leaves, \\\n",
    "                                 metric='rmse', verbosity=verb, random_state=RAND_FIX)\n",
    "            start_time = time.time()\n",
    "            model.fit(features_train_ho_cat, target_train_ho, categorical_feature=cat_features)\n",
    "            end_time = time.time()\n",
    "            fit_time = end_time - start_time\n",
    "            start_time = time.time()\n",
    "            pred = model.predict(features_valid_ho_cat)\n",
    "            end_time = time.time()\n",
    "            prep_time = end_time - start_time\n",
    "            result = np.sqrt(mean_squared_error(target_valid_ho, pred))\n",
    "            if result < best_result_for_gbm_oh:\n",
    "                best_result_for_gbm_oh = result\n",
    "                best_num_iterations_for_gbm_oh = iterations\n",
    "                best_max_depth_for_gbm_oh = depth\n",
    "                best_num_leaves_for_gbm_oh = leaves\n",
    "                best_model_for_gbm_oh = model\n",
    "                best_fit_time_for_gbm_oh = fit_time\n",
    "                best_prep_time_for_gbm_oh = prep_time            \n",
    "\n",
    "                \n",
    "# Публикация результатов\n",
    "d_res = {'depth/max_depth':[np.nan, best_depth_for_t_oh, best_depth_for_c_oh, best_max_depth_for_gbm_oh],\\\n",
    "         'iterations':[np.nan, np.nan, best_iterations_for_c_oh, best_num_iterations_for_gbm_oh],\\\n",
    "         'leaves':[np.nan, np.nan, np.nan, best_num_leaves_for_gbm_oh],\\\n",
    "         'fit_time':[best_fit_time_for_l_oh, best_fit_time_for_t_oh, best_fit_time_for_c_oh, best_fit_time_for_gbm_oh],\\\n",
    "         'pred_time':[best_prep_time_for_l_oh, best_prep_time_for_t_oh, best_prep_time_for_c_oh, best_prep_time_for_gbm_oh],\\\n",
    "         'RMSE score':[best_result_for_l_oh, best_result_for_t_oh, best_result_for_c_oh, best_result_for_gbm_oh]}\n",
    "df_res = pd.DataFrame(index=['LinearRegression', 'DecisionTree', 'CatBoost', 'LightGBM'], data=d_res) \n",
    "\n",
    "display(df_res)"
   ]
  },
  {
   "cell_type": "markdown",
   "metadata": {},
   "source": [
    "Лучшими моделями в рамках этого исследования оказались **CatBoost с RMSE == 1552** и **LightGBM с RMSE == 1541**.  \n",
    "Однако **LightGBM** заметно быстрее учится. На мой взгляд, следует отдать ей предпочтение."
   ]
  },
  {
   "cell_type": "markdown",
   "metadata": {},
   "source": [
    "### 3.2 Обучение с кросс-валидацией"
   ]
  },
  {
   "cell_type": "markdown",
   "metadata": {},
   "source": [
    "Определим скорер:"
   ]
  },
  {
   "cell_type": "code",
   "execution_count": 52,
   "metadata": {},
   "outputs": [],
   "source": [
    "def rmse_calc(true, pred):\n",
    "    return np.sqrt(mean_squared_error(true, pred))"
   ]
  },
  {
   "cell_type": "code",
   "execution_count": 53,
   "metadata": {},
   "outputs": [],
   "source": [
    "rmse_scoring = make_scorer(rmse_calc, greater_is_better=False)"
   ]
  },
  {
   "cell_type": "markdown",
   "metadata": {},
   "source": [
    "Еще один костыль для проверки работы:"
   ]
  },
  {
   "cell_type": "code",
   "execution_count": 54,
   "metadata": {},
   "outputs": [],
   "source": [
    "if MODE == 'check':\n",
    "    \n",
    "    tree_depth_min, tree_depth_max = 13, 14\n",
    "    tree_iter = 1\n",
    "    \n",
    "    cat_iter_min, cat_iter_max = 900, 901\n",
    "    cat_depth_min, cat_depth_max = 12, 13\n",
    "    cat_iter = 1\n",
    "    \n",
    "    lgb_iter_min, lgb_iter_max = 450, 451\n",
    "    lgb_depth_min, lgb_depth_max = 90, 91\n",
    "    lgb_leaves_min, lgb_leaves_max = 220, 221\n",
    "    lgb_iter = 1\n",
    "    \n",
    "    verb = 0\n",
    "    \n",
    "else:\n",
    "    \n",
    "    tree_depth_min, tree_depth_max = 3, 30\n",
    "    tree_iter = 10\n",
    "    \n",
    "    cat_iter_min, cat_iter_max = 100, 901\n",
    "    cat_depth_min, cat_depth_max = 4, 15\n",
    "    cat_iter = 30\n",
    "    \n",
    "    lgb_iter_min, lgb_iter_max = 50, 851\n",
    "    lgb_depth_min, lgb_depth_max = 30, 121\n",
    "    lgb_leaves_min, lgb_leaves_max = 20, 321\n",
    "    lgb_iter = 30\n",
    "    \n",
    "    verb = 10"
   ]
  },
  {
   "cell_type": "markdown",
   "metadata": {},
   "source": [
    "Подберем гиперпараметры моделей и измерим время на обучение:"
   ]
  },
  {
   "cell_type": "code",
   "execution_count": 55,
   "metadata": {},
   "outputs": [
    {
     "data": {
      "text/html": [
       "<div>\n",
       "<style scoped>\n",
       "    .dataframe tbody tr th:only-of-type {\n",
       "        vertical-align: middle;\n",
       "    }\n",
       "\n",
       "    .dataframe tbody tr th {\n",
       "        vertical-align: top;\n",
       "    }\n",
       "\n",
       "    .dataframe thead th {\n",
       "        text-align: right;\n",
       "    }\n",
       "</style>\n",
       "<table border=\"1\" class=\"dataframe\">\n",
       "  <thead>\n",
       "    <tr style=\"text-align: right;\">\n",
       "      <th></th>\n",
       "      <th>depth/max_depth</th>\n",
       "      <th>iterations</th>\n",
       "      <th>leaves</th>\n",
       "      <th>fit_time</th>\n",
       "      <th>RMSE score</th>\n",
       "    </tr>\n",
       "  </thead>\n",
       "  <tbody>\n",
       "    <tr>\n",
       "      <th>LinearRegression</th>\n",
       "      <td>NaN</td>\n",
       "      <td>NaN</td>\n",
       "      <td>NaN</td>\n",
       "      <td>1.884435</td>\n",
       "      <td>2838.412011</td>\n",
       "    </tr>\n",
       "    <tr>\n",
       "      <th>DecisionTree</th>\n",
       "      <td>13.0</td>\n",
       "      <td>NaN</td>\n",
       "      <td>NaN</td>\n",
       "      <td>0.389287</td>\n",
       "      <td>1919.749172</td>\n",
       "    </tr>\n",
       "    <tr>\n",
       "      <th>CatBoost</th>\n",
       "      <td>12.0</td>\n",
       "      <td>900.0</td>\n",
       "      <td>NaN</td>\n",
       "      <td>326.826630</td>\n",
       "      <td>1547.231806</td>\n",
       "    </tr>\n",
       "    <tr>\n",
       "      <th>LightGBM</th>\n",
       "      <td>90.0</td>\n",
       "      <td>450.0</td>\n",
       "      <td>220.0</td>\n",
       "      <td>2.790910</td>\n",
       "      <td>1530.241090</td>\n",
       "    </tr>\n",
       "  </tbody>\n",
       "</table>\n",
       "</div>"
      ],
      "text/plain": [
       "                  depth/max_depth  iterations  leaves    fit_time   RMSE score\n",
       "LinearRegression              NaN         NaN     NaN    1.884435  2838.412011\n",
       "DecisionTree                 13.0         NaN     NaN    0.389287  1919.749172\n",
       "CatBoost                     12.0       900.0     NaN  326.826630  1547.231806\n",
       "LightGBM                     90.0       450.0   220.0    2.790910  1530.241090"
      ]
     },
     "metadata": {},
     "output_type": "display_data"
    }
   ],
   "source": [
    "# Задаем параметры\n",
    "param_for_l = {}\n",
    "param_for_t = {'max_depth' : range(tree_depth_min, tree_depth_max)}\n",
    "param_for_cat = {'learning_rate' : [0.1], \\\n",
    "                 'iterations' : range(cat_iter_min, cat_iter_max, 200), \\\n",
    "                 'depth' : range(cat_depth_min, cat_depth_max), \\\n",
    "                 'loss_function' : ['RMSE']}\n",
    "param_for_gbm = {'num_iterations' : range(lgb_iter_min, lgb_iter_max, 400), \\\n",
    "                 'max_depth' : range(lgb_depth_min, lgb_depth_max, 30), \\\n",
    "                 'num_leaves' : range(lgb_leaves_min, lgb_leaves_max, 50), \\\n",
    "                 'metric' : ['rmse'], 'verbosity' : [verb]}\n",
    "\n",
    "# Подбираем и обучаем модели\n",
    "grid_model_l = RandomizedSearchCV(LinearRegression(), param_distributions = param_for_l, \\\n",
    "                                    n_iter=1, cv=5, scoring=rmse_scoring, random_state=RAND_FIX, verbose=verb)\n",
    "grid_model_t = RandomizedSearchCV(DecisionTreeRegressor(), param_distributions = param_for_t, \\\n",
    "                                    n_iter=tree_iter, cv=5, scoring=rmse_scoring, random_state=RAND_FIX, verbose=verb)\n",
    "grid_model_cat = RandomizedSearchCV(CatBoostRegressor(), param_distributions = param_for_cat, \\\n",
    "                                    n_iter=cat_iter, cv=5,  scoring=rmse_scoring, random_state=RAND_FIX, verbose=verb)\n",
    "grid_model_gbm = RandomizedSearchCV(LGBMRegressor(), param_distributions = param_for_gbm, \\\n",
    "                                    n_iter=lgb_iter, cv=5, scoring=rmse_scoring, random_state=RAND_FIX, verbose=verb)\n",
    "\n",
    "grid_model_l.fit(features_train_cv_ohe, target_train_cv)\n",
    "grid_model_t.fit(features_train_cv_oe, target_train_cv)\n",
    "grid_model_cat.fit(features_train_cv_cat, target_train_cv, cat_features=cat_features, verbose=verb)\n",
    "grid_model_gbm.fit(features_train_cv_cat, target_train_cv, categorical_feature=cat_features)\n",
    "\n",
    "# Публикуем результаты\n",
    "d_res = {'depth/max_depth':[np.nan, grid_model_t.best_params_['max_depth'], \\\n",
    "                            grid_model_cat.best_params_['depth'], grid_model_gbm.best_params_['max_depth']],\\\n",
    "         'iterations':[np.nan, np.nan, \\\n",
    "                       grid_model_cat.best_params_['iterations'], grid_model_gbm.best_params_['num_iterations']],\\\n",
    "         'leaves':[np.nan, np.nan, np.nan, grid_model_gbm.best_params_['num_leaves']],\\\n",
    "         'fit_time':[grid_model_l.refit_time_, grid_model_t.refit_time_, \\\n",
    "                     grid_model_cat.refit_time_, grid_model_gbm.refit_time_],\\\n",
    "         'RMSE score':[abs(grid_model_l.best_score_), abs(grid_model_t.best_score_), \\\n",
    "                       abs(grid_model_cat.best_score_), abs(grid_model_gbm.best_score_)]}\n",
    "df_res = pd.DataFrame(index=['LinearRegression', 'DecisionTree', 'CatBoost', 'LightGBM'], data=d_res) \n",
    "\n",
    "display(df_res)"
   ]
  },
  {
   "cell_type": "markdown",
   "metadata": {},
   "source": [
    "Лучшими моделями в рамках этого исследования оказались CatBoost с **RMSE == 1547** и **LightGBM с RMSE == 1530**.  \n",
    "Однако **LightGBM** в сто двадцать раз быстрее учится. На мой взгляд, следует отдать ей предпочтение.\n",
    "\n",
    "Но, так или, иначе проведем отдельный анализ, где сравним скорость предсказаний по всем моделям с лучшими параметрами на тестовой выборке.\n",
    "\n",
    "Скорость обучения и RMSE score у нас уже есть."
   ]
  },
  {
   "cell_type": "markdown",
   "metadata": {},
   "source": [
    "## Шаг 4 Анализ моделей"
   ]
  },
  {
   "cell_type": "markdown",
   "metadata": {},
   "source": [
    "Я не стал тут использовать %time, так как не нашел, как сохранять выводимые данные в переменную.\n",
    "Поэтому в этом исследовании использую time.time() из time."
   ]
  },
  {
   "cell_type": "code",
   "execution_count": 56,
   "metadata": {},
   "outputs": [],
   "source": [
    "def prep_time(model, test_f):\n",
    "    start_time = time.time()\n",
    "    model.predict(test_f)\n",
    "    end_time = time.time()\n",
    "    \n",
    "    return end_time - start_time"
   ]
  },
  {
   "cell_type": "code",
   "execution_count": 57,
   "metadata": {},
   "outputs": [
    {
     "data": {
      "text/html": [
       "<div>\n",
       "<style scoped>\n",
       "    .dataframe tbody tr th:only-of-type {\n",
       "        vertical-align: middle;\n",
       "    }\n",
       "\n",
       "    .dataframe tbody tr th {\n",
       "        vertical-align: top;\n",
       "    }\n",
       "\n",
       "    .dataframe thead th {\n",
       "        text-align: right;\n",
       "    }\n",
       "</style>\n",
       "<table border=\"1\" class=\"dataframe\">\n",
       "  <thead>\n",
       "    <tr style=\"text-align: right;\">\n",
       "      <th></th>\n",
       "      <th>fit_time_oh</th>\n",
       "      <th>pred_time_oh</th>\n",
       "      <th>RMSE score_oh</th>\n",
       "      <th>******</th>\n",
       "      <th>fit_time_cv</th>\n",
       "      <th>pred_time_cv</th>\n",
       "      <th>RMSE score_cv</th>\n",
       "    </tr>\n",
       "  </thead>\n",
       "  <tbody>\n",
       "    <tr>\n",
       "      <th>LinearRegression</th>\n",
       "      <td>1.45</td>\n",
       "      <td>0.05</td>\n",
       "      <td>2745.27</td>\n",
       "      <td>******</td>\n",
       "      <td>1.88</td>\n",
       "      <td>0.07</td>\n",
       "      <td>2838.41</td>\n",
       "    </tr>\n",
       "    <tr>\n",
       "      <th>DecisionTree</th>\n",
       "      <td>0.32</td>\n",
       "      <td>0.01</td>\n",
       "      <td>1922.17</td>\n",
       "      <td>******</td>\n",
       "      <td>0.39</td>\n",
       "      <td>0.01</td>\n",
       "      <td>1919.75</td>\n",
       "    </tr>\n",
       "    <tr>\n",
       "      <th>CatBoost</th>\n",
       "      <td>432.65</td>\n",
       "      <td>0.16</td>\n",
       "      <td>1552.87</td>\n",
       "      <td>******</td>\n",
       "      <td>326.83</td>\n",
       "      <td>0.16</td>\n",
       "      <td>1547.23</td>\n",
       "    </tr>\n",
       "    <tr>\n",
       "      <th>LightGBM</th>\n",
       "      <td>2.82</td>\n",
       "      <td>0.59</td>\n",
       "      <td>1541.83</td>\n",
       "      <td>******</td>\n",
       "      <td>2.79</td>\n",
       "      <td>0.54</td>\n",
       "      <td>1530.24</td>\n",
       "    </tr>\n",
       "  </tbody>\n",
       "</table>\n",
       "</div>"
      ],
      "text/plain": [
       "                  fit_time_oh  pred_time_oh  RMSE score_oh   ******   \\\n",
       "LinearRegression         1.45          0.05        2745.27   ******    \n",
       "DecisionTree             0.32          0.01        1922.17   ******    \n",
       "CatBoost               432.65          0.16        1552.87   ******    \n",
       "LightGBM                 2.82          0.59        1541.83   ******    \n",
       "\n",
       "                  fit_time_cv  pred_time_cv  RMSE score_cv  \n",
       "LinearRegression         1.88          0.07        2838.41  \n",
       "DecisionTree             0.39          0.01        1919.75  \n",
       "CatBoost               326.83          0.16        1547.23  \n",
       "LightGBM                 2.79          0.54        1530.24  "
      ]
     },
     "metadata": {},
     "output_type": "display_data"
    }
   ],
   "source": [
    "d_res = {'fit_time_oh':[best_fit_time_for_l_oh, best_fit_time_for_t_oh, \\\n",
    "                        best_fit_time_for_c_oh, best_fit_time_for_gbm_oh], \\\n",
    "         'pred_time_oh':[prep_time(best_model_for_l_oh, features_test_ho_ohe), \\\n",
    "                     prep_time(best_model_for_t_oh, features_test_ho_oe), \\\n",
    "                     prep_time(best_model_for_c_oh, features_test_ho_cat), \\\n",
    "                     prep_time(best_model_for_gbm_oh, features_test_ho_cat)],\n",
    "         'RMSE score_oh':[best_result_for_l_oh, best_result_for_t_oh, \\\n",
    "                          best_result_for_c_oh, best_result_for_gbm_oh], \\\n",
    "         ' ****** ':[' ****** ', ' ****** ', ' ****** ', ' ****** '], \\\n",
    "         'fit_time_cv':[grid_model_l.refit_time_, grid_model_t.refit_time_, \\\n",
    "                     grid_model_cat.refit_time_, grid_model_gbm.refit_time_], \\\n",
    "         'pred_time_cv':[prep_time(grid_model_l, features_test_cv_ohe), \\\n",
    "                     prep_time(grid_model_t, features_test_cv_oe), \\\n",
    "                     prep_time(grid_model_cat, features_test_cv_cat), \\\n",
    "                     prep_time(grid_model_gbm, features_test_cv_cat)],\n",
    "         'RMSE score_cv':[abs(grid_model_l.best_score_), abs(grid_model_t.best_score_), \\\n",
    "                       abs(grid_model_cat.best_score_), abs(grid_model_gbm.best_score_)]}\n",
    "df_res = pd.DataFrame(index=['LinearRegression', 'DecisionTree', 'CatBoost', 'LightGBM'], data=d_res) \n",
    "\n",
    "display(df_res.round(2))"
   ]
  },
  {
   "cell_type": "markdown",
   "metadata": {},
   "source": [
    "Выводы не изменились с предыдущего пункта. Да, у CatBoost примерно в три раза меньше время предсказания, но на два порядка медленнее обучение и хоть и ненамного, но хуже значение RMSE. Опять же, все значения времени прдсказания не превышают половины секунды.\n",
    "\n",
    "1. Для варианта с фиксированной валидационной выборкой лучшей является модель **LightGBMregressor** с параметрами:\n",
    "    * num_iterations = 850\n",
    "    * max_depth = 30\n",
    "    * num_leaves = 120\n",
    "    \n",
    "2. Для варианта с кросс-валидацией лучшей является модель **LightGBMregressor** с параметрами:\n",
    "    * num_iterations = 450\n",
    "    * max_depth = 90\n",
    "    * num_leaves = 220\n",
    "    \n",
    "Поэтому тестирование модели будем проводить на выбранных моделях."
   ]
  },
  {
   "cell_type": "markdown",
   "metadata": {},
   "source": [
    "## Шаг 5 Тестирование моделей и проверка их на адекватность"
   ]
  },
  {
   "cell_type": "markdown",
   "metadata": {},
   "source": [
    "Посчитаем для выбранных моделей метрики $RMSE$ и $R^2$ на соответствующих тестовых выборках."
   ]
  },
  {
   "cell_type": "code",
   "execution_count": 58,
   "metadata": {},
   "outputs": [],
   "source": [
    "def final_test(model, test_f, test_t):\n",
    "    pred = model.predict(test_f)\n",
    "    return np.sqrt(mean_squared_error(test_t, pred)), r2_score(test_t, pred)"
   ]
  },
  {
   "cell_type": "code",
   "execution_count": 59,
   "metadata": {
    "scrolled": true
   },
   "outputs": [
    {
     "data": {
      "text/html": [
       "<div>\n",
       "<style scoped>\n",
       "    .dataframe tbody tr th:only-of-type {\n",
       "        vertical-align: middle;\n",
       "    }\n",
       "\n",
       "    .dataframe tbody tr th {\n",
       "        vertical-align: top;\n",
       "    }\n",
       "\n",
       "    .dataframe thead th {\n",
       "        text-align: right;\n",
       "    }\n",
       "</style>\n",
       "<table border=\"1\" class=\"dataframe\">\n",
       "  <thead>\n",
       "    <tr style=\"text-align: right;\">\n",
       "      <th></th>\n",
       "      <th>RMSE score</th>\n",
       "      <th>R^2 score</th>\n",
       "    </tr>\n",
       "  </thead>\n",
       "  <tbody>\n",
       "    <tr>\n",
       "      <th>Фиксированная валид. выборка</th>\n",
       "      <td>1541.00</td>\n",
       "      <td>0.89</td>\n",
       "    </tr>\n",
       "    <tr>\n",
       "      <th>Кросс-валидация</th>\n",
       "      <td>1544.96</td>\n",
       "      <td>0.89</td>\n",
       "    </tr>\n",
       "  </tbody>\n",
       "</table>\n",
       "</div>"
      ],
      "text/plain": [
       "                              RMSE score  R^2 score\n",
       "Фиксированная валид. выборка     1541.00       0.89\n",
       "Кросс-валидация                  1544.96       0.89"
      ]
     },
     "metadata": {},
     "output_type": "display_data"
    }
   ],
   "source": [
    "d_res = {'RMSE score':[final_test(best_model_for_gbm_oh, features_test_ho_cat, target_test_ho)[0], \\\n",
    "                        final_test(grid_model_gbm, features_test_cv_cat, target_test_cv)[0]], \\\n",
    "         'R^2 score':[final_test(best_model_for_gbm_oh, features_test_ho_cat, target_test_ho)[1], \\\n",
    "                     final_test(grid_model_gbm, features_test_cv_cat, target_test_cv)[1]]}\n",
    "\n",
    "df_res = pd.DataFrame(index=['Фиксированная валид. выборка', 'Кросс-валидация'], data=d_res) \n",
    "\n",
    "display(df_res.round(2))"
   ]
  },
  {
   "cell_type": "markdown",
   "metadata": {},
   "source": [
    "### 5.1 Сравнение с константной моделью"
   ]
  },
  {
   "cell_type": "markdown",
   "metadata": {},
   "source": [
    "Для наглядности расчитаем RMSE на константной моедели и сравним с нашими результатами:"
   ]
  },
  {
   "cell_type": "code",
   "execution_count": 60,
   "metadata": {},
   "outputs": [
    {
     "name": "stdout",
     "output_type": "stream",
     "text": [
      "RMSE score на тесте для варианта с фиксированной валидационной выборки для константной модели: 4685.77\n",
      "RMSE score на тесте для варианта с применением кросс-валидации для константной модели: 4661.36\n"
     ]
    }
   ],
   "source": [
    "dummy_model_ho = DummyRegressor() #Инициация(ho)\n",
    "dummy_model_ho.fit(features_train_ho_cat, target_train_ho) # Обучение на тренировочной выборке (ho)\n",
    "dummy_model_ho_pred = dummy_model_ho.predict(features_test_ho_cat) \n",
    "dummy_model_ho_rmse = np.sqrt(mean_squared_error(target_test_ho, dummy_model_ho_pred))\n",
    "\n",
    "dummy_model_cv = DummyRegressor() #Инициация(cv)\n",
    "dummy_model_cv.fit(features_train_cv_cat, target_train_cv) # Обучение на тренировочной выборке (cv)\n",
    "dummy_model_cv_pred = dummy_model_cv.predict(features_test_cv_cat)\n",
    "dummy_model_cv_rmse = np.sqrt(mean_squared_error(target_test_cv, dummy_model_cv_pred))\n",
    "\n",
    "print('RMSE score на тесте для варианта с фиксированной валидационной выборки для константной модели: {:.2f}'\\\n",
    "      .format(dummy_model_ho_rmse))\n",
    "print('RMSE score на тесте для варианта с применением кросс-валидации для константной модели: {:.2f}'\\\n",
    "      .format(dummy_model_cv_rmse))"
   ]
  },
  {
   "cell_type": "markdown",
   "metadata": {},
   "source": [
    "## Общий вывод"
   ]
  },
  {
   "cell_type": "markdown",
   "metadata": {},
   "source": [
    "В ходе исследования построена модель, которая с достаточной точностью предсказывала бы для клиентов стоимость автомобиля по предложенным параметрам.\n",
    "\n",
    "Дополнительно были учтены:\n",
    "* качество предсказания\n",
    "* скорость предсказания\n",
    "* время обучения\n",
    "\n",
    "Таким образом, исследование состояло из следующих этапов, на каждом из которых формировались выводы, которые попали в итоги работы:  \n",
    "1. Загрузка, обзор и предобработка данных\n",
    "2. Подготовка выборок под различные модели\n",
    "3. Обучение моделей и подбор гиперпараметров\n",
    "4. Выбор модели исходя из значения RMSE и скорости обучения и предсказания\n",
    "5. Тестирование выбранной модели и проверка ее на адекватность\n",
    "\n",
    "### Результаты исследования\n",
    "\n",
    "Для прогнозирования стоимости автомобиля предлагаю использовать модель:\n",
    "\n",
    "1. Вариант с фиксированной валидационной выборкой\n",
    "    * **LightGBM** regressor с параметрами:\n",
    "        * num_iterations = 850\n",
    "        * max_depth = 30\n",
    "        * num_leaves = 120    \n",
    "    * Результаты работы модели на тестовой выборке:\n",
    "        * $RMSE$ = 1 541.00\n",
    "        * $R^2$ = 0.9\n",
    "2. Вариант с кросс-валидацией\n",
    "    * **LightGBM** regressor с параметрами:\n",
    "        * num_iterations = 450\n",
    "        * max_depth = 90\n",
    "        * num_leaves = 220    \n",
    "    * Результаты работы модели на тестовой выборке:\n",
    "        * $RMSE$ = 1 544.96\t\n",
    "        * $R^2$ = 0.9"
   ]
  }
 ],
 "metadata": {
  "ExecuteTimeLog": [
   {
    "duration": 3,
    "start_time": "2024-02-09T07:43:03.835Z"
   },
   {
    "duration": 187,
    "start_time": "2024-02-09T07:43:03.840Z"
   },
   {
    "duration": 4829,
    "start_time": "2024-02-09T07:43:04.028Z"
   },
   {
    "duration": 1347,
    "start_time": "2024-02-09T07:43:08.859Z"
   },
   {
    "duration": 2,
    "start_time": "2024-02-09T07:43:10.208Z"
   },
   {
    "duration": 43,
    "start_time": "2024-02-09T07:43:10.211Z"
   },
   {
    "duration": 1920,
    "start_time": "2024-02-09T07:43:10.255Z"
   },
   {
    "duration": 1573,
    "start_time": "2024-02-09T07:43:12.176Z"
   },
   {
    "duration": 81,
    "start_time": "2024-02-09T07:43:13.750Z"
   },
   {
    "duration": 399,
    "start_time": "2024-02-09T07:43:13.833Z"
   },
   {
    "duration": 1612,
    "start_time": "2024-02-09T07:43:14.233Z"
   },
   {
    "duration": 1019,
    "start_time": "2024-02-09T07:43:15.846Z"
   },
   {
    "duration": 4,
    "start_time": "2024-02-09T07:43:16.867Z"
   },
   {
    "duration": 435,
    "start_time": "2024-02-09T07:43:16.872Z"
   },
   {
    "duration": 50,
    "start_time": "2024-02-09T07:43:17.309Z"
   },
   {
    "duration": 40,
    "start_time": "2024-02-09T07:43:17.360Z"
   },
   {
    "duration": 59,
    "start_time": "2024-02-09T07:43:17.402Z"
   },
   {
    "duration": 52,
    "start_time": "2024-02-09T07:43:17.463Z"
   },
   {
    "duration": 76,
    "start_time": "2024-02-09T07:43:17.516Z"
   },
   {
    "duration": 544,
    "start_time": "2024-02-09T07:43:17.593Z"
   },
   {
    "duration": 102,
    "start_time": "2024-02-09T07:43:18.146Z"
   },
   {
    "duration": 117,
    "start_time": "2024-02-09T07:43:18.249Z"
   },
   {
    "duration": 33,
    "start_time": "2024-02-09T07:43:18.367Z"
   },
   {
    "duration": 44,
    "start_time": "2024-02-09T07:43:18.401Z"
   },
   {
    "duration": 124,
    "start_time": "2024-02-09T07:43:18.446Z"
   },
   {
    "duration": 4,
    "start_time": "2024-02-09T07:43:18.571Z"
   },
   {
    "duration": 48,
    "start_time": "2024-02-09T07:43:18.576Z"
   },
   {
    "duration": 8,
    "start_time": "2024-02-09T07:43:18.627Z"
   },
   {
    "duration": 3781,
    "start_time": "2024-02-09T07:43:18.636Z"
   },
   {
    "duration": 77,
    "start_time": "2024-02-09T07:43:22.418Z"
   },
   {
    "duration": 5,
    "start_time": "2024-02-09T07:43:22.496Z"
   },
   {
    "duration": 1950,
    "start_time": "2024-02-09T07:43:22.502Z"
   },
   {
    "duration": 662,
    "start_time": "2024-02-09T07:43:24.453Z"
   },
   {
    "duration": 667,
    "start_time": "2024-02-09T07:43:25.117Z"
   },
   {
    "duration": 3,
    "start_time": "2024-02-09T07:43:25.785Z"
   },
   {
    "duration": 140,
    "start_time": "2024-02-09T07:43:25.789Z"
   },
   {
    "duration": 353,
    "start_time": "2024-02-09T07:43:25.931Z"
   },
   {
    "duration": 184,
    "start_time": "2024-02-09T07:43:26.286Z"
   },
   {
    "duration": 11,
    "start_time": "2024-02-09T07:43:26.471Z"
   },
   {
    "duration": 4,
    "start_time": "2024-02-09T16:33:21.536Z"
   },
   {
    "duration": 15,
    "start_time": "2024-02-09T16:33:21.542Z"
   },
   {
    "duration": 10316,
    "start_time": "2024-02-09T16:33:21.559Z"
   },
   {
    "duration": 2001,
    "start_time": "2024-02-09T16:33:31.877Z"
   },
   {
    "duration": 3,
    "start_time": "2024-02-09T16:33:33.880Z"
   },
   {
    "duration": 40,
    "start_time": "2024-02-09T16:33:33.885Z"
   },
   {
    "duration": 2054,
    "start_time": "2024-02-09T16:33:33.926Z"
   },
   {
    "duration": 1434,
    "start_time": "2024-02-09T16:33:35.982Z"
   },
   {
    "duration": 1914,
    "start_time": "2024-02-09T16:33:37.418Z"
   },
   {
    "duration": 502,
    "start_time": "2024-02-09T16:33:39.334Z"
   },
   {
    "duration": 1903,
    "start_time": "2024-02-09T16:33:39.837Z"
   },
   {
    "duration": 679,
    "start_time": "2024-02-09T16:33:41.742Z"
   },
   {
    "duration": 5,
    "start_time": "2024-02-09T16:33:42.424Z"
   },
   {
    "duration": 598,
    "start_time": "2024-02-09T16:33:42.430Z"
   },
   {
    "duration": 50,
    "start_time": "2024-02-09T16:33:43.030Z"
   },
   {
    "duration": 38,
    "start_time": "2024-02-09T16:33:43.082Z"
   },
   {
    "duration": 57,
    "start_time": "2024-02-09T16:33:43.122Z"
   },
   {
    "duration": 57,
    "start_time": "2024-02-09T16:33:43.180Z"
   },
   {
    "duration": 88,
    "start_time": "2024-02-09T16:33:43.238Z"
   },
   {
    "duration": 141,
    "start_time": "2024-02-09T16:33:43.328Z"
   },
   {
    "duration": 0,
    "start_time": "2024-02-09T16:33:43.471Z"
   },
   {
    "duration": 4,
    "start_time": "2024-02-09T16:34:12.937Z"
   },
   {
    "duration": 132,
    "start_time": "2024-02-09T16:39:13.661Z"
   },
   {
    "duration": 154,
    "start_time": "2024-02-09T16:39:14.851Z"
   },
   {
    "duration": 52,
    "start_time": "2024-02-09T16:39:17.244Z"
   },
   {
    "duration": 40,
    "start_time": "2024-02-09T16:39:18.490Z"
   },
   {
    "duration": 158,
    "start_time": "2024-02-09T16:39:20.892Z"
   },
   {
    "duration": 143,
    "start_time": "2024-02-09T16:39:26.054Z"
   },
   {
    "duration": 4732,
    "start_time": "2024-02-09T16:39:28.024Z"
   },
   {
    "duration": 49,
    "start_time": "2024-02-09T16:46:33.743Z"
   },
   {
    "duration": 3,
    "start_time": "2024-02-09T16:46:39.833Z"
   },
   {
    "duration": 3,
    "start_time": "2024-02-09T16:46:39.840Z"
   },
   {
    "duration": 10397,
    "start_time": "2024-02-09T16:46:39.845Z"
   },
   {
    "duration": 1683,
    "start_time": "2024-02-09T16:46:50.245Z"
   },
   {
    "duration": 3,
    "start_time": "2024-02-09T16:46:51.930Z"
   },
   {
    "duration": 9,
    "start_time": "2024-02-09T16:46:51.935Z"
   },
   {
    "duration": 1968,
    "start_time": "2024-02-09T16:46:51.945Z"
   },
   {
    "duration": 1400,
    "start_time": "2024-02-09T16:46:53.915Z"
   },
   {
    "duration": 1664,
    "start_time": "2024-02-09T16:46:55.317Z"
   },
   {
    "duration": 510,
    "start_time": "2024-02-09T16:46:56.983Z"
   },
   {
    "duration": 1909,
    "start_time": "2024-02-09T16:46:57.495Z"
   },
   {
    "duration": 639,
    "start_time": "2024-02-09T16:46:59.407Z"
   },
   {
    "duration": 5,
    "start_time": "2024-02-09T16:47:00.048Z"
   },
   {
    "duration": 591,
    "start_time": "2024-02-09T16:47:00.055Z"
   },
   {
    "duration": 56,
    "start_time": "2024-02-09T16:47:00.648Z"
   },
   {
    "duration": 92,
    "start_time": "2024-02-09T16:47:00.706Z"
   },
   {
    "duration": 70,
    "start_time": "2024-02-09T16:47:00.800Z"
   },
   {
    "duration": 98,
    "start_time": "2024-02-09T16:47:00.872Z"
   },
   {
    "duration": 94,
    "start_time": "2024-02-09T16:47:00.971Z"
   },
   {
    "duration": 137,
    "start_time": "2024-02-09T16:47:01.066Z"
   },
   {
    "duration": 0,
    "start_time": "2024-02-09T16:47:01.206Z"
   },
   {
    "duration": 0,
    "start_time": "2024-02-09T16:47:01.208Z"
   },
   {
    "duration": 0,
    "start_time": "2024-02-09T16:47:01.209Z"
   },
   {
    "duration": 0,
    "start_time": "2024-02-09T16:47:01.211Z"
   },
   {
    "duration": 0,
    "start_time": "2024-02-09T16:47:01.213Z"
   },
   {
    "duration": 0,
    "start_time": "2024-02-09T16:47:01.214Z"
   },
   {
    "duration": 0,
    "start_time": "2024-02-09T16:47:01.215Z"
   },
   {
    "duration": 0,
    "start_time": "2024-02-09T16:47:01.217Z"
   },
   {
    "duration": 0,
    "start_time": "2024-02-09T16:47:01.219Z"
   },
   {
    "duration": 0,
    "start_time": "2024-02-09T16:47:01.220Z"
   },
   {
    "duration": 0,
    "start_time": "2024-02-09T16:47:01.222Z"
   },
   {
    "duration": 0,
    "start_time": "2024-02-09T16:47:01.223Z"
   },
   {
    "duration": 0,
    "start_time": "2024-02-09T16:47:01.225Z"
   },
   {
    "duration": 0,
    "start_time": "2024-02-09T16:47:01.227Z"
   },
   {
    "duration": 0,
    "start_time": "2024-02-09T16:47:01.228Z"
   },
   {
    "duration": 0,
    "start_time": "2024-02-09T16:47:01.230Z"
   },
   {
    "duration": 0,
    "start_time": "2024-02-09T16:47:01.231Z"
   },
   {
    "duration": 0,
    "start_time": "2024-02-09T16:47:01.233Z"
   },
   {
    "duration": 0,
    "start_time": "2024-02-09T16:47:01.235Z"
   },
   {
    "duration": 0,
    "start_time": "2024-02-09T16:47:01.236Z"
   },
   {
    "duration": 0,
    "start_time": "2024-02-09T16:47:01.281Z"
   },
   {
    "duration": 0,
    "start_time": "2024-02-09T16:47:01.282Z"
   },
   {
    "duration": 0,
    "start_time": "2024-02-09T16:47:01.284Z"
   },
   {
    "duration": 0,
    "start_time": "2024-02-09T16:47:01.285Z"
   },
   {
    "duration": 0,
    "start_time": "2024-02-09T16:47:01.287Z"
   },
   {
    "duration": 0,
    "start_time": "2024-02-09T16:47:01.288Z"
   },
   {
    "duration": 0,
    "start_time": "2024-02-09T16:47:01.290Z"
   },
   {
    "duration": 0,
    "start_time": "2024-02-09T16:47:01.291Z"
   },
   {
    "duration": 0,
    "start_time": "2024-02-09T16:47:01.293Z"
   },
   {
    "duration": 0,
    "start_time": "2024-02-09T16:47:01.294Z"
   },
   {
    "duration": 0,
    "start_time": "2024-02-09T16:47:01.295Z"
   },
   {
    "duration": 0,
    "start_time": "2024-02-09T16:47:01.297Z"
   },
   {
    "duration": 0,
    "start_time": "2024-02-09T16:47:01.298Z"
   },
   {
    "duration": 0,
    "start_time": "2024-02-09T16:47:01.300Z"
   },
   {
    "duration": 0,
    "start_time": "2024-02-09T16:47:01.301Z"
   },
   {
    "duration": 0,
    "start_time": "2024-02-09T16:47:01.303Z"
   },
   {
    "duration": 0,
    "start_time": "2024-02-09T16:47:01.304Z"
   },
   {
    "duration": 0,
    "start_time": "2024-02-09T16:47:01.306Z"
   },
   {
    "duration": 0,
    "start_time": "2024-02-09T16:47:01.307Z"
   },
   {
    "duration": 0,
    "start_time": "2024-02-09T16:47:01.308Z"
   }
  ],
  "kernelspec": {
   "display_name": "Python 3 (ipykernel)",
   "language": "python",
   "name": "python3"
  },
  "language_info": {
   "codemirror_mode": {
    "name": "ipython",
    "version": 3
   },
   "file_extension": ".py",
   "mimetype": "text/x-python",
   "name": "python",
   "nbconvert_exporter": "python",
   "pygments_lexer": "ipython3",
   "version": "3.11.5"
  },
  "toc": {
   "base_numbering": 1,
   "nav_menu": {},
   "number_sections": true,
   "sideBar": true,
   "skip_h1_title": true,
   "title_cell": "Table of Contents",
   "title_sidebar": "Contents",
   "toc_cell": false,
   "toc_position": {},
   "toc_section_display": true,
   "toc_window_display": false
  }
 },
 "nbformat": 4,
 "nbformat_minor": 2
}
